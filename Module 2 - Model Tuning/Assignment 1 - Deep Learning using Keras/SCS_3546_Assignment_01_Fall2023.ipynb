{
  "cells": [
    {
      "cell_type": "markdown",
      "metadata": {
        "id": "C6OQBFpIHP30"
      },
      "source": [
        "# SCS 3546: Deep Learning\n",
        "> Assignment 1: Deep Learning Using Keras"
      ]
    },
    {
      "cell_type": "markdown",
      "metadata": {
        "id": "hzRpIFXzolmz"
      },
      "source": [
        "### Your name & student number:\n",
        "\n",
        "<pre> Assal Nekoufar </pre>\n",
        "\n",
        "<pre> Student Number: X589579 </pre>"
      ]
    },
    {
      "cell_type": "markdown",
      "metadata": {
        "id": "9aHEi-CRlKBb"
      },
      "source": [
        "## Assignment Description\n",
        "\n",
        "In this assignment you will demonstrate your ability to:\n",
        "\n",
        "- Train a neural network using Keras to solve a regression problem.\n",
        "\n",
        "- Perform sensible data preprocessing.\n",
        "\n",
        "- Experiment with hyperparemter tuning and different model architectures to achieve best performance.\n",
        "\n"
      ]
    },
    {
      "cell_type": "markdown",
      "metadata": {
        "id": "-OKLV1eJ12dy"
      },
      "source": [
        "### Grade Allocation\n",
        "\n",
        "**15 points total**\n",
        "\n",
        "- Part 1: 4 Marks\n",
        "- Part 2: 9 Marks\n",
        "- Clarity: 2 Marks\n",
        "\n",
        "The marks for clarity are awarded for code documentation and how well you explained/supported your answers, including the use of visualizations where appropriate."
      ]
    },
    {
      "cell_type": "code",
      "source": [
        "# OPTIONAL : For model evaluation and for those who choose to use the KerasRegressor from keras.wrappers, you would need to install tensorflow 2.12 or 2.11.another option is to use the scikeras.\n",
        "# please note that you may have many options and the below libraries are just meant to help you and to provide options\n",
        "\n",
        "# !pip install tensorflow==2.12\n",
        "# from keras.wrappers.scikit_learn import KerasRegressor\n",
        "\n",
        "## !pip install scikeras\n",
        "## from scikeras.wrappers import KerasClassifier, KerasRegressor\n"
      ],
      "metadata": {
        "id": "LUd8H6Ji_w16",
        "colab": {
          "base_uri": "https://localhost:8080/"
        },
        "outputId": "f54a29db-3ea4-4dc6-c762-fb2342a661e5"
      },
      "execution_count": null,
      "outputs": [
        {
          "output_type": "stream",
          "name": "stdout",
          "text": [
            "Requirement already satisfied: scikeras in /usr/local/lib/python3.12/dist-packages (0.13.0)\n",
            "Requirement already satisfied: keras>=3.2.0 in /usr/local/lib/python3.12/dist-packages (from scikeras) (3.10.0)\n",
            "Requirement already satisfied: scikit-learn>=1.4.2 in /usr/local/lib/python3.12/dist-packages (from scikeras) (1.6.1)\n",
            "Requirement already satisfied: absl-py in /usr/local/lib/python3.12/dist-packages (from keras>=3.2.0->scikeras) (1.4.0)\n",
            "Requirement already satisfied: numpy in /usr/local/lib/python3.12/dist-packages (from keras>=3.2.0->scikeras) (2.0.2)\n",
            "Requirement already satisfied: rich in /usr/local/lib/python3.12/dist-packages (from keras>=3.2.0->scikeras) (13.9.4)\n",
            "Requirement already satisfied: namex in /usr/local/lib/python3.12/dist-packages (from keras>=3.2.0->scikeras) (0.1.0)\n",
            "Requirement already satisfied: h5py in /usr/local/lib/python3.12/dist-packages (from keras>=3.2.0->scikeras) (3.14.0)\n",
            "Requirement already satisfied: optree in /usr/local/lib/python3.12/dist-packages (from keras>=3.2.0->scikeras) (0.17.0)\n",
            "Requirement already satisfied: ml-dtypes in /usr/local/lib/python3.12/dist-packages (from keras>=3.2.0->scikeras) (0.5.3)\n",
            "Requirement already satisfied: packaging in /usr/local/lib/python3.12/dist-packages (from keras>=3.2.0->scikeras) (25.0)\n",
            "Requirement already satisfied: scipy>=1.6.0 in /usr/local/lib/python3.12/dist-packages (from scikit-learn>=1.4.2->scikeras) (1.16.2)\n",
            "Requirement already satisfied: joblib>=1.2.0 in /usr/local/lib/python3.12/dist-packages (from scikit-learn>=1.4.2->scikeras) (1.5.2)\n",
            "Requirement already satisfied: threadpoolctl>=3.1.0 in /usr/local/lib/python3.12/dist-packages (from scikit-learn>=1.4.2->scikeras) (3.6.0)\n",
            "Requirement already satisfied: typing-extensions>=4.6.0 in /usr/local/lib/python3.12/dist-packages (from optree->keras>=3.2.0->scikeras) (4.15.0)\n",
            "Requirement already satisfied: markdown-it-py>=2.2.0 in /usr/local/lib/python3.12/dist-packages (from rich->keras>=3.2.0->scikeras) (4.0.0)\n",
            "Requirement already satisfied: pygments<3.0.0,>=2.13.0 in /usr/local/lib/python3.12/dist-packages (from rich->keras>=3.2.0->scikeras) (2.19.2)\n",
            "Requirement already satisfied: mdurl~=0.1 in /usr/local/lib/python3.12/dist-packages (from markdown-it-py>=2.2.0->rich->keras>=3.2.0->scikeras) (0.1.2)\n"
          ]
        }
      ]
    },
    {
      "cell_type": "code",
      "execution_count": 39,
      "metadata": {
        "id": "ruXPP1zUT_B6"
      },
      "outputs": [],
      "source": [
        "# setting up the notebook with important libraries\n",
        "random_state = 42\n",
        "import tensorflow as tf\n",
        "import matplotlib.pyplot as plt\n",
        "from tensorflow import keras\n",
        "from keras.models import Sequential\n",
        "from keras.layers import Dense\n",
        "from sklearn.model_selection import train_test_split\n",
        "from sklearn.model_selection import cross_val_score\n",
        "from sklearn.model_selection import KFold\n",
        "from sklearn.preprocessing import StandardScaler\n",
        "from sklearn.pipeline import Pipeline"
      ]
    },
    {
      "cell_type": "markdown",
      "metadata": {
        "id": "Qn-eYs8MfGAQ"
      },
      "source": [
        "# Preamble\n",
        "\n",
        "### Hyperparameters\n",
        "\n",
        "A hyperparameter is a parameter whose value is set before the learning process begins.\n",
        "\n",
        "Some important Neural Networks hyperparameters include:\n",
        "\n",
        "- number of hidden layers\n",
        "- number of neurons\n",
        "- learning rate\n",
        "- activation function\n",
        "- optimizer settings\n",
        "\n",
        "Hyperparameters are crucial to the performance, speed, and quality of the machine learning models.\n",
        "\n",
        "Through Hyper parameter optimization, we find a tuple (best combination) of hyperparameters that yields an optimal model which minimizes a predefined loss function on given test data.\n",
        "\n",
        "Important hyperparameters that could be tuned include:\n",
        "\n",
        "- num_hidden_layers\n",
        "- neurons_per_layer\n",
        "- dropout_rate\n",
        "- activation\n",
        "- optimizer\n",
        "- learning_rate\n",
        "- batch_size\n",
        "\n",
        "### Loss Function\n",
        "\n",
        "- MSE (Mean Squared Error) is used as the score/loss function that will be minimized for hyperparameter optimization.\n",
        "- In this assignment, we are going to use Cross-Validation to calculate the score (MSE) for a given set of hyperparameter values\n",
        "\n",
        "- MSE is a desirable metric because by taking the square root gives us an error value we can directly understand in the context of the problem; for example, in this assignment it translates to thousands of dollars\n",
        "\n",
        "- Note: Your results may vary given the stochastic nature of the algorithm, evaluation procedure, or differences in numerical precision"
      ]
    },
    {
      "cell_type": "markdown",
      "metadata": {
        "id": "qs0FlcDeaSpi"
      },
      "source": [
        "## Dataset\n",
        "\n",
        "We will be using mock data for this assignment. the outcome is the sale price for some products. we have created 13 features to predict the sale price.\n",
        "\n",
        "- import provided mock data into your notebook.\n",
        "\n",
        "- You are **not** expected to perform Exploratory Data Analysis (EDA) on this dataset.\n",
        "\n",
        "- For the purpose of this assignment, your model's performance is not an important factor by itself - that is how far your sale price prediction is. The important factor is the changes that you observe when changing model architectures.\n",
        "\n",
        "- The information that follow are meant to be optional and to help you get familiar with the data. Your efforts on this assignment should focus on **model training and hyperparameter tuning**, not on EDA.\n"
      ]
    },
    {
      "cell_type": "markdown",
      "metadata": {
        "id": "iHL_GkQPoJE9"
      },
      "source": [
        "# Assignment Start\n",
        "***\n",
        "\n",
        "- Please follow all instructions carefully.\n",
        "\n",
        "- Use MSE (Mean Squared Error) as the score/loss function that will be minimized during optimization.\n",
        "\n",
        "\n",
        "\n",
        "\n",
        "\n",
        "\n"
      ]
    },
    {
      "cell_type": "markdown",
      "metadata": {
        "id": "Ar6TpPmfeoDy"
      },
      "source": [
        "#Data Import\n",
        "\n",
        "The code below imports the data for you as dataframe, then you may need to convert it to numpy arrays.  "
      ]
    },
    {
      "cell_type": "code",
      "source": [
        "# You can use the code below to import the data\n",
        "# Option 3 - from local using the files that are available\n",
        "## Imports pandas, which you’ll use to load and manipulate CSV data.\n",
        "import pandas as pd\n",
        "\n",
        "# mount the colab\n",
        "from google.colab import drive\n",
        "drive.mount('/content/drive')\n",
        "\n",
        "# Next, You need to upload tables to your G drive -  then you may need to update paths below\n",
        "# load the  data into a pandas dataframe for easy viewing and manipulation\n",
        "df_train_y = pd.read_csv(\"/content/drive/MyDrive/Colab_Notebooks/Deep_Learning_Assignments/y_train.csv\", index_col=0)\n",
        "df_test_y = pd.read_csv(\"/content/drive/MyDrive/Colab_Notebooks/Deep_Learning_Assignments/y_test.csv\", index_col=0)\n",
        "df_train_x = pd.read_csv(\"/content/drive/MyDrive/Colab_Notebooks/Deep_Learning_Assignments/X_train.csv\", index_col=0)\n",
        "df_test_x = pd.read_csv(\"/content/drive/MyDrive/Colab_Notebooks/Deep_Learning_Assignments/X_test.csv\", index_col=0)"
      ],
      "metadata": {
        "colab": {
          "base_uri": "https://localhost:8080/"
        },
        "id": "DuK-rb0uwqw0",
        "outputId": "0dca9e9d-f693-418f-8bc8-8a51969c14d7"
      },
      "execution_count": 60,
      "outputs": [
        {
          "output_type": "stream",
          "name": "stdout",
          "text": [
            "Drive already mounted at /content/drive; to attempt to forcibly remount, call drive.mount(\"/content/drive\", force_remount=True).\n"
          ]
        }
      ]
    },
    {
      "cell_type": "code",
      "source": [
        "## Let's look at data\n",
        "df_train_x.head()"
      ],
      "metadata": {
        "id": "k__LvYjJJgUP",
        "outputId": "a389305e-4f20-4460-d546-f3a126f844a9",
        "colab": {
          "base_uri": "https://localhost:8080/",
          "height": 206
        }
      },
      "execution_count": 61,
      "outputs": [
        {
          "output_type": "execute_result",
          "data": {
            "text/plain": [
              "         0     1      2    3      4      5      6       7     8      9    10  \\\n",
              "0  1.23247   0.0   8.14  0.0  0.538  6.142   91.7  3.9769   4.0  307.0  21.0   \n",
              "1  0.02177  82.5   2.03  0.0  0.415  7.610   15.7  6.2700   2.0  348.0  14.7   \n",
              "2  4.89822   0.0  18.10  0.0  0.631  4.970  100.0  1.3325  24.0  666.0  20.2   \n",
              "3  0.03961   0.0   5.19  0.0  0.515  6.037   34.5  5.9853   5.0  224.0  20.2   \n",
              "4  3.69311   0.0  18.10  0.0  0.713  6.376   88.4  2.5671  24.0  666.0  20.2   \n",
              "\n",
              "       11     12  \n",
              "0  396.90  18.72  \n",
              "1  395.38   3.11  \n",
              "2  375.52   3.26  \n",
              "3  396.90   8.01  \n",
              "4  391.43  14.65  "
            ],
            "text/html": [
              "\n",
              "  <div id=\"df-dada0dbe-118e-4db2-9ab0-d4aa9e1a7f4e\" class=\"colab-df-container\">\n",
              "    <div>\n",
              "<style scoped>\n",
              "    .dataframe tbody tr th:only-of-type {\n",
              "        vertical-align: middle;\n",
              "    }\n",
              "\n",
              "    .dataframe tbody tr th {\n",
              "        vertical-align: top;\n",
              "    }\n",
              "\n",
              "    .dataframe thead th {\n",
              "        text-align: right;\n",
              "    }\n",
              "</style>\n",
              "<table border=\"1\" class=\"dataframe\">\n",
              "  <thead>\n",
              "    <tr style=\"text-align: right;\">\n",
              "      <th></th>\n",
              "      <th>0</th>\n",
              "      <th>1</th>\n",
              "      <th>2</th>\n",
              "      <th>3</th>\n",
              "      <th>4</th>\n",
              "      <th>5</th>\n",
              "      <th>6</th>\n",
              "      <th>7</th>\n",
              "      <th>8</th>\n",
              "      <th>9</th>\n",
              "      <th>10</th>\n",
              "      <th>11</th>\n",
              "      <th>12</th>\n",
              "    </tr>\n",
              "  </thead>\n",
              "  <tbody>\n",
              "    <tr>\n",
              "      <th>0</th>\n",
              "      <td>1.23247</td>\n",
              "      <td>0.0</td>\n",
              "      <td>8.14</td>\n",
              "      <td>0.0</td>\n",
              "      <td>0.538</td>\n",
              "      <td>6.142</td>\n",
              "      <td>91.7</td>\n",
              "      <td>3.9769</td>\n",
              "      <td>4.0</td>\n",
              "      <td>307.0</td>\n",
              "      <td>21.0</td>\n",
              "      <td>396.90</td>\n",
              "      <td>18.72</td>\n",
              "    </tr>\n",
              "    <tr>\n",
              "      <th>1</th>\n",
              "      <td>0.02177</td>\n",
              "      <td>82.5</td>\n",
              "      <td>2.03</td>\n",
              "      <td>0.0</td>\n",
              "      <td>0.415</td>\n",
              "      <td>7.610</td>\n",
              "      <td>15.7</td>\n",
              "      <td>6.2700</td>\n",
              "      <td>2.0</td>\n",
              "      <td>348.0</td>\n",
              "      <td>14.7</td>\n",
              "      <td>395.38</td>\n",
              "      <td>3.11</td>\n",
              "    </tr>\n",
              "    <tr>\n",
              "      <th>2</th>\n",
              "      <td>4.89822</td>\n",
              "      <td>0.0</td>\n",
              "      <td>18.10</td>\n",
              "      <td>0.0</td>\n",
              "      <td>0.631</td>\n",
              "      <td>4.970</td>\n",
              "      <td>100.0</td>\n",
              "      <td>1.3325</td>\n",
              "      <td>24.0</td>\n",
              "      <td>666.0</td>\n",
              "      <td>20.2</td>\n",
              "      <td>375.52</td>\n",
              "      <td>3.26</td>\n",
              "    </tr>\n",
              "    <tr>\n",
              "      <th>3</th>\n",
              "      <td>0.03961</td>\n",
              "      <td>0.0</td>\n",
              "      <td>5.19</td>\n",
              "      <td>0.0</td>\n",
              "      <td>0.515</td>\n",
              "      <td>6.037</td>\n",
              "      <td>34.5</td>\n",
              "      <td>5.9853</td>\n",
              "      <td>5.0</td>\n",
              "      <td>224.0</td>\n",
              "      <td>20.2</td>\n",
              "      <td>396.90</td>\n",
              "      <td>8.01</td>\n",
              "    </tr>\n",
              "    <tr>\n",
              "      <th>4</th>\n",
              "      <td>3.69311</td>\n",
              "      <td>0.0</td>\n",
              "      <td>18.10</td>\n",
              "      <td>0.0</td>\n",
              "      <td>0.713</td>\n",
              "      <td>6.376</td>\n",
              "      <td>88.4</td>\n",
              "      <td>2.5671</td>\n",
              "      <td>24.0</td>\n",
              "      <td>666.0</td>\n",
              "      <td>20.2</td>\n",
              "      <td>391.43</td>\n",
              "      <td>14.65</td>\n",
              "    </tr>\n",
              "  </tbody>\n",
              "</table>\n",
              "</div>\n",
              "    <div class=\"colab-df-buttons\">\n",
              "\n",
              "  <div class=\"colab-df-container\">\n",
              "    <button class=\"colab-df-convert\" onclick=\"convertToInteractive('df-dada0dbe-118e-4db2-9ab0-d4aa9e1a7f4e')\"\n",
              "            title=\"Convert this dataframe to an interactive table.\"\n",
              "            style=\"display:none;\">\n",
              "\n",
              "  <svg xmlns=\"http://www.w3.org/2000/svg\" height=\"24px\" viewBox=\"0 -960 960 960\">\n",
              "    <path d=\"M120-120v-720h720v720H120Zm60-500h600v-160H180v160Zm220 220h160v-160H400v160Zm0 220h160v-160H400v160ZM180-400h160v-160H180v160Zm440 0h160v-160H620v160ZM180-180h160v-160H180v160Zm440 0h160v-160H620v160Z\"/>\n",
              "  </svg>\n",
              "    </button>\n",
              "\n",
              "  <style>\n",
              "    .colab-df-container {\n",
              "      display:flex;\n",
              "      gap: 12px;\n",
              "    }\n",
              "\n",
              "    .colab-df-convert {\n",
              "      background-color: #E8F0FE;\n",
              "      border: none;\n",
              "      border-radius: 50%;\n",
              "      cursor: pointer;\n",
              "      display: none;\n",
              "      fill: #1967D2;\n",
              "      height: 32px;\n",
              "      padding: 0 0 0 0;\n",
              "      width: 32px;\n",
              "    }\n",
              "\n",
              "    .colab-df-convert:hover {\n",
              "      background-color: #E2EBFA;\n",
              "      box-shadow: 0px 1px 2px rgba(60, 64, 67, 0.3), 0px 1px 3px 1px rgba(60, 64, 67, 0.15);\n",
              "      fill: #174EA6;\n",
              "    }\n",
              "\n",
              "    .colab-df-buttons div {\n",
              "      margin-bottom: 4px;\n",
              "    }\n",
              "\n",
              "    [theme=dark] .colab-df-convert {\n",
              "      background-color: #3B4455;\n",
              "      fill: #D2E3FC;\n",
              "    }\n",
              "\n",
              "    [theme=dark] .colab-df-convert:hover {\n",
              "      background-color: #434B5C;\n",
              "      box-shadow: 0px 1px 3px 1px rgba(0, 0, 0, 0.15);\n",
              "      filter: drop-shadow(0px 1px 2px rgba(0, 0, 0, 0.3));\n",
              "      fill: #FFFFFF;\n",
              "    }\n",
              "  </style>\n",
              "\n",
              "    <script>\n",
              "      const buttonEl =\n",
              "        document.querySelector('#df-dada0dbe-118e-4db2-9ab0-d4aa9e1a7f4e button.colab-df-convert');\n",
              "      buttonEl.style.display =\n",
              "        google.colab.kernel.accessAllowed ? 'block' : 'none';\n",
              "\n",
              "      async function convertToInteractive(key) {\n",
              "        const element = document.querySelector('#df-dada0dbe-118e-4db2-9ab0-d4aa9e1a7f4e');\n",
              "        const dataTable =\n",
              "          await google.colab.kernel.invokeFunction('convertToInteractive',\n",
              "                                                    [key], {});\n",
              "        if (!dataTable) return;\n",
              "\n",
              "        const docLinkHtml = 'Like what you see? Visit the ' +\n",
              "          '<a target=\"_blank\" href=https://colab.research.google.com/notebooks/data_table.ipynb>data table notebook</a>'\n",
              "          + ' to learn more about interactive tables.';\n",
              "        element.innerHTML = '';\n",
              "        dataTable['output_type'] = 'display_data';\n",
              "        await google.colab.output.renderOutput(dataTable, element);\n",
              "        const docLink = document.createElement('div');\n",
              "        docLink.innerHTML = docLinkHtml;\n",
              "        element.appendChild(docLink);\n",
              "      }\n",
              "    </script>\n",
              "  </div>\n",
              "\n",
              "\n",
              "    <div id=\"df-da9e41f8-7069-4f72-91b1-912a4fc17ade\">\n",
              "      <button class=\"colab-df-quickchart\" onclick=\"quickchart('df-da9e41f8-7069-4f72-91b1-912a4fc17ade')\"\n",
              "                title=\"Suggest charts\"\n",
              "                style=\"display:none;\">\n",
              "\n",
              "<svg xmlns=\"http://www.w3.org/2000/svg\" height=\"24px\"viewBox=\"0 0 24 24\"\n",
              "     width=\"24px\">\n",
              "    <g>\n",
              "        <path d=\"M19 3H5c-1.1 0-2 .9-2 2v14c0 1.1.9 2 2 2h14c1.1 0 2-.9 2-2V5c0-1.1-.9-2-2-2zM9 17H7v-7h2v7zm4 0h-2V7h2v10zm4 0h-2v-4h2v4z\"/>\n",
              "    </g>\n",
              "</svg>\n",
              "      </button>\n",
              "\n",
              "<style>\n",
              "  .colab-df-quickchart {\n",
              "      --bg-color: #E8F0FE;\n",
              "      --fill-color: #1967D2;\n",
              "      --hover-bg-color: #E2EBFA;\n",
              "      --hover-fill-color: #174EA6;\n",
              "      --disabled-fill-color: #AAA;\n",
              "      --disabled-bg-color: #DDD;\n",
              "  }\n",
              "\n",
              "  [theme=dark] .colab-df-quickchart {\n",
              "      --bg-color: #3B4455;\n",
              "      --fill-color: #D2E3FC;\n",
              "      --hover-bg-color: #434B5C;\n",
              "      --hover-fill-color: #FFFFFF;\n",
              "      --disabled-bg-color: #3B4455;\n",
              "      --disabled-fill-color: #666;\n",
              "  }\n",
              "\n",
              "  .colab-df-quickchart {\n",
              "    background-color: var(--bg-color);\n",
              "    border: none;\n",
              "    border-radius: 50%;\n",
              "    cursor: pointer;\n",
              "    display: none;\n",
              "    fill: var(--fill-color);\n",
              "    height: 32px;\n",
              "    padding: 0;\n",
              "    width: 32px;\n",
              "  }\n",
              "\n",
              "  .colab-df-quickchart:hover {\n",
              "    background-color: var(--hover-bg-color);\n",
              "    box-shadow: 0 1px 2px rgba(60, 64, 67, 0.3), 0 1px 3px 1px rgba(60, 64, 67, 0.15);\n",
              "    fill: var(--button-hover-fill-color);\n",
              "  }\n",
              "\n",
              "  .colab-df-quickchart-complete:disabled,\n",
              "  .colab-df-quickchart-complete:disabled:hover {\n",
              "    background-color: var(--disabled-bg-color);\n",
              "    fill: var(--disabled-fill-color);\n",
              "    box-shadow: none;\n",
              "  }\n",
              "\n",
              "  .colab-df-spinner {\n",
              "    border: 2px solid var(--fill-color);\n",
              "    border-color: transparent;\n",
              "    border-bottom-color: var(--fill-color);\n",
              "    animation:\n",
              "      spin 1s steps(1) infinite;\n",
              "  }\n",
              "\n",
              "  @keyframes spin {\n",
              "    0% {\n",
              "      border-color: transparent;\n",
              "      border-bottom-color: var(--fill-color);\n",
              "      border-left-color: var(--fill-color);\n",
              "    }\n",
              "    20% {\n",
              "      border-color: transparent;\n",
              "      border-left-color: var(--fill-color);\n",
              "      border-top-color: var(--fill-color);\n",
              "    }\n",
              "    30% {\n",
              "      border-color: transparent;\n",
              "      border-left-color: var(--fill-color);\n",
              "      border-top-color: var(--fill-color);\n",
              "      border-right-color: var(--fill-color);\n",
              "    }\n",
              "    40% {\n",
              "      border-color: transparent;\n",
              "      border-right-color: var(--fill-color);\n",
              "      border-top-color: var(--fill-color);\n",
              "    }\n",
              "    60% {\n",
              "      border-color: transparent;\n",
              "      border-right-color: var(--fill-color);\n",
              "    }\n",
              "    80% {\n",
              "      border-color: transparent;\n",
              "      border-right-color: var(--fill-color);\n",
              "      border-bottom-color: var(--fill-color);\n",
              "    }\n",
              "    90% {\n",
              "      border-color: transparent;\n",
              "      border-bottom-color: var(--fill-color);\n",
              "    }\n",
              "  }\n",
              "</style>\n",
              "\n",
              "      <script>\n",
              "        async function quickchart(key) {\n",
              "          const quickchartButtonEl =\n",
              "            document.querySelector('#' + key + ' button');\n",
              "          quickchartButtonEl.disabled = true;  // To prevent multiple clicks.\n",
              "          quickchartButtonEl.classList.add('colab-df-spinner');\n",
              "          try {\n",
              "            const charts = await google.colab.kernel.invokeFunction(\n",
              "                'suggestCharts', [key], {});\n",
              "          } catch (error) {\n",
              "            console.error('Error during call to suggestCharts:', error);\n",
              "          }\n",
              "          quickchartButtonEl.classList.remove('colab-df-spinner');\n",
              "          quickchartButtonEl.classList.add('colab-df-quickchart-complete');\n",
              "        }\n",
              "        (() => {\n",
              "          let quickchartButtonEl =\n",
              "            document.querySelector('#df-da9e41f8-7069-4f72-91b1-912a4fc17ade button');\n",
              "          quickchartButtonEl.style.display =\n",
              "            google.colab.kernel.accessAllowed ? 'block' : 'none';\n",
              "        })();\n",
              "      </script>\n",
              "    </div>\n",
              "\n",
              "    </div>\n",
              "  </div>\n"
            ],
            "application/vnd.google.colaboratory.intrinsic+json": {
              "type": "dataframe",
              "variable_name": "df_train_x",
              "summary": "{\n  \"name\": \"df_train_x\",\n  \"rows\": 404,\n  \"fields\": [\n    {\n      \"column\": \"0\",\n      \"properties\": {\n        \"dtype\": \"number\",\n        \"std\": 9.240734365476433,\n        \"min\": 0.00632,\n        \"max\": 88.9762,\n        \"num_unique_values\": 404,\n        \"samples\": [\n          0.17142,\n          1.42502,\n          0.03113\n        ],\n        \"semantic_type\": \"\",\n        \"description\": \"\"\n      }\n    },\n    {\n      \"column\": \"1\",\n      \"properties\": {\n        \"dtype\": \"number\",\n        \"std\": 23.767710731364645,\n        \"min\": 0.0,\n        \"max\": 100.0,\n        \"num_unique_values\": 25,\n        \"samples\": [\n          20.0,\n          85.0,\n          0.0\n        ],\n        \"semantic_type\": \"\",\n        \"description\": \"\"\n      }\n    },\n    {\n      \"column\": \"2\",\n      \"properties\": {\n        \"dtype\": \"number\",\n        \"std\": 6.811307590285245,\n        \"min\": 0.46,\n        \"max\": 27.74,\n        \"num_unique_values\": 71,\n        \"samples\": [\n          6.2,\n          8.14,\n          13.89\n        ],\n        \"semantic_type\": \"\",\n        \"description\": \"\"\n      }\n    },\n    {\n      \"column\": \"3\",\n      \"properties\": {\n        \"dtype\": \"number\",\n        \"std\": 0.24123838018034013,\n        \"min\": 0.0,\n        \"max\": 1.0,\n        \"num_unique_values\": 2,\n        \"samples\": [\n          1.0,\n          0.0\n        ],\n        \"semantic_type\": \"\",\n        \"description\": \"\"\n      }\n    },\n    {\n      \"column\": \"4\",\n      \"properties\": {\n        \"dtype\": \"number\",\n        \"std\": 0.11729310146793247,\n        \"min\": 0.385,\n        \"max\": 0.871,\n        \"num_unique_values\": 79,\n        \"samples\": [\n          0.507,\n          0.538\n        ],\n        \"semantic_type\": \"\",\n        \"description\": \"\"\n      }\n    },\n    {\n      \"column\": \"5\",\n      \"properties\": {\n        \"dtype\": \"number\",\n        \"std\": 0.709787621233784,\n        \"min\": 3.561,\n        \"max\": 8.725,\n        \"num_unique_values\": 374,\n        \"samples\": [\n          6.14,\n          5.935\n        ],\n        \"semantic_type\": \"\",\n        \"description\": \"\"\n      }\n    },\n    {\n      \"column\": \"6\",\n      \"properties\": {\n        \"dtype\": \"number\",\n        \"std\": 27.940664897596555,\n        \"min\": 2.9,\n        \"max\": 100.0,\n        \"num_unique_values\": 296,\n        \"samples\": [\n          37.8,\n          88.8\n        ],\n        \"semantic_type\": \"\",\n        \"description\": \"\"\n      }\n    },\n    {\n      \"column\": \"7\",\n      \"properties\": {\n        \"dtype\": \"number\",\n        \"std\": 2.030214697771033,\n        \"min\": 1.1296,\n        \"max\": 10.7103,\n        \"num_unique_values\": 338,\n        \"samples\": [\n          1.9142,\n          1.6582\n        ],\n        \"semantic_type\": \"\",\n        \"description\": \"\"\n      }\n    },\n    {\n      \"column\": \"8\",\n      \"properties\": {\n        \"dtype\": \"number\",\n        \"std\": 8.698360453797207,\n        \"min\": 1.0,\n        \"max\": 24.0,\n        \"num_unique_values\": 9,\n        \"samples\": [\n          8.0,\n          2.0\n        ],\n        \"semantic_type\": \"\",\n        \"description\": \"\"\n      }\n    },\n    {\n      \"column\": \"9\",\n      \"properties\": {\n        \"dtype\": \"number\",\n        \"std\": 166.37454262751075,\n        \"min\": 188.0,\n        \"max\": 711.0,\n        \"num_unique_values\": 62,\n        \"samples\": [\n          329.0,\n          337.0\n        ],\n        \"semantic_type\": \"\",\n        \"description\": \"\"\n      }\n    },\n    {\n      \"column\": \"10\",\n      \"properties\": {\n        \"dtype\": \"number\",\n        \"std\": 2.2003818211189334,\n        \"min\": 12.6,\n        \"max\": 22.0,\n        \"num_unique_values\": 46,\n        \"samples\": [\n          21.1,\n          18.0\n        ],\n        \"semantic_type\": \"\",\n        \"description\": \"\"\n      }\n    },\n    {\n      \"column\": \"11\",\n      \"properties\": {\n        \"dtype\": \"number\",\n        \"std\": 94.11114780831178,\n        \"min\": 0.32,\n        \"max\": 396.9,\n        \"num_unique_values\": 286,\n        \"samples\": [\n          359.29,\n          392.18\n        ],\n        \"semantic_type\": \"\",\n        \"description\": \"\"\n      }\n    },\n    {\n      \"column\": \"12\",\n      \"properties\": {\n        \"dtype\": \"number\",\n        \"std\": 7.254544811560666,\n        \"min\": 1.73,\n        \"max\": 37.97,\n        \"num_unique_values\": 371,\n        \"samples\": [\n          11.64,\n          6.58\n        ],\n        \"semantic_type\": \"\",\n        \"description\": \"\"\n      }\n    }\n  ]\n}"
            }
          },
          "metadata": {},
          "execution_count": 61
        }
      ]
    },
    {
      "cell_type": "code",
      "source": [
        "## Let's look at shape of the data\n",
        "df_train_x.shape"
      ],
      "metadata": {
        "colab": {
          "base_uri": "https://localhost:8080/"
        },
        "id": "YHQkHSrnshGn",
        "outputId": "c269bf2d-c25e-47eb-e265-de8194ec6a1a"
      },
      "execution_count": 62,
      "outputs": [
        {
          "output_type": "execute_result",
          "data": {
            "text/plain": [
              "(404, 13)"
            ]
          },
          "metadata": {},
          "execution_count": 62
        }
      ]
    },
    {
      "cell_type": "markdown",
      "metadata": {
        "id": "sDl1bkKjbbGw"
      },
      "source": [
        "# Part 1: Impact of Changing Model Architecture\n",
        "\n",
        "In this section, we will be comparing a simple single-layer baseline model with two other models having a different network topology."
      ]
    },
    {
      "cell_type": "markdown",
      "metadata": {
        "id": "z82OOouVaVrt"
      },
      "source": [
        "## a) Baseline model [2 points]\n",
        "\n",
        "Use Keras to develop a baseline neural network model that has **one single fully-connected hidden layer with the same number of neurons as input features (i.e. 13 neurons).**\n",
        "\n",
        "Make sure to **standardize** your features (i.e. subtract mean and divide by standard deviation) before training your model. You can also perform any other data-preprocessing that you deem necessary.\n",
        "\n",
        "- Note: No activation function is used for the output layer because it is a regression problem and we are interested in predicting numerical values directly without transformation.\n",
        "\n",
        "- The ADAM optimization algorithm should be used to optimize mean squared error loss function.\n",
        "\n",
        "- Plot learning curves and report on both training and validation performance."
      ]
    },
    {
      "cell_type": "markdown",
      "source": [
        "Baseline Model Architecture:\n",
        "Input(13 features)-->Dense(13, activation=\"relu\")-->Dense(1)"
      ],
      "metadata": {
        "id": "lgqMWRETwzAY"
      }
    },
    {
      "cell_type": "markdown",
      "source": [
        "Summary of Steps:\n",
        "\n",
        "1- Load dataset.\n",
        "\n",
        "2- Split into train/val/test.\n",
        "\n",
        "3- Standardize features.\n",
        "\n",
        "4- Build model: Input → Dense(13, relu) → Dense(1).\n",
        "\n",
        "5- Compile with Adam + MSE.\n",
        "\n",
        "6- Train model with training data.\n",
        "\n",
        "7- Plot learning curves.\n",
        "\n",
        "8- Report train/validation MSE.\n",
        "\n",
        "9- Evaluate the model on the test set."
      ],
      "metadata": {
        "id": "mJ4ObH5Fi5Tp"
      }
    },
    {
      "cell_type": "code",
      "source": [
        "# Additional Data preprocessing\n",
        "# Convert y to 1D array\n",
        "train_y = df_train_y.iloc[:,0]\n",
        "test_y = df_test_y.iloc[:,0]\n",
        "\n",
        "# Split the training sets to training + validation\n",
        "train_X, val_X, train_y, val_y = train_test_split(df_train_x, train_y, test_size=0.2, random_state=42)"
      ],
      "metadata": {
        "id": "GDTmReBCa0bu"
      },
      "execution_count": 63,
      "outputs": []
    },
    {
      "cell_type": "code",
      "source": [
        "# Hint : to make it easier, you may try to standardize your data upfront\n",
        "## Neural networks train better when input data is standardized. This ensures each feature has mean 0 and std 1. We have to make sure split happens before standardization.\n",
        "from sklearn.preprocessing import StandardScaler\n",
        "scaler = StandardScaler()\n",
        "X_train_scaled = scaler.fit_transform(train_X)\n",
        "X_val_scaled = scaler.transform(val_X)\n",
        "X_test_scaled = scaler.transform(df_test_x)"
      ],
      "metadata": {
        "id": "6PgAwae1wxpM"
      },
      "execution_count": 64,
      "outputs": []
    },
    {
      "cell_type": "code",
      "source": [
        "# be sure to comment on your results for each and every question, describing not just\n",
        "# the what, but the 'how' and 'why' where possible, to demonstrate your understanding of course content"
      ],
      "metadata": {
        "id": "RsGSwgc-a1kb"
      },
      "execution_count": 13,
      "outputs": []
    },
    {
      "cell_type": "code",
      "source": [
        "# Let's Build the Baseline Keras Model\n",
        "model = Sequential([\n",
        "    Dense(13, activation = \"relu\", input_shape=(13,)),\n",
        "    Dense(1) #as this is a regression model we don't need any activation functions\n",
        "])"
      ],
      "metadata": {
        "colab": {
          "base_uri": "https://localhost:8080/"
        },
        "id": "gWIaPxnmpMz-",
        "outputId": "93d8c6e0-e9b8-448b-97e0-cf8c2144abe7"
      },
      "execution_count": 65,
      "outputs": [
        {
          "output_type": "stream",
          "name": "stderr",
          "text": [
            "/usr/local/lib/python3.12/dist-packages/keras/src/layers/core/dense.py:93: UserWarning: Do not pass an `input_shape`/`input_dim` argument to a layer. When using Sequential models, prefer using an `Input(shape)` object as the first layer in the model instead.\n",
            "  super().__init__(activity_regularizer=activity_regularizer, **kwargs)\n"
          ]
        }
      ]
    },
    {
      "cell_type": "code",
      "source": [
        "# Compile the keras Model\n",
        "model.compile(optimizer = \"adam\", loss = \"mse\", metrics = [\"mse\"])"
      ],
      "metadata": {
        "id": "rnuICZoYrq2F"
      },
      "execution_count": 66,
      "outputs": []
    },
    {
      "cell_type": "code",
      "source": [
        "# Let's train the model\n",
        "history = model.fit(\n",
        "    X_train_scaled, train_y,\n",
        "    validation_data = (X_val_scaled, val_y),\n",
        "    epochs = 100,\n",
        "    batch_size=32,\n",
        "    verbose = 1\n",
        ")"
      ],
      "metadata": {
        "colab": {
          "base_uri": "https://localhost:8080/"
        },
        "id": "Phg5SP32s44L",
        "outputId": "7ad2227c-000a-415d-8eff-3a889c735c17"
      },
      "execution_count": 67,
      "outputs": [
        {
          "output_type": "stream",
          "name": "stdout",
          "text": [
            "Epoch 1/100\n",
            "\u001b[1m11/11\u001b[0m \u001b[32m━━━━━━━━━━━━━━━━━━━━\u001b[0m\u001b[37m\u001b[0m \u001b[1m1s\u001b[0m 23ms/step - loss: 633.3987 - mse: 633.3987 - val_loss: 489.4673 - val_mse: 489.4673\n",
            "Epoch 2/100\n",
            "\u001b[1m11/11\u001b[0m \u001b[32m━━━━━━━━━━━━━━━━━━━━\u001b[0m\u001b[37m\u001b[0m \u001b[1m0s\u001b[0m 9ms/step - loss: 639.4337 - mse: 639.4337 - val_loss: 483.5779 - val_mse: 483.5779\n",
            "Epoch 3/100\n",
            "\u001b[1m11/11\u001b[0m \u001b[32m━━━━━━━━━━━━━━━━━━━━\u001b[0m\u001b[37m\u001b[0m \u001b[1m0s\u001b[0m 10ms/step - loss: 655.3358 - mse: 655.3358 - val_loss: 477.7538 - val_mse: 477.7538\n",
            "Epoch 4/100\n",
            "\u001b[1m11/11\u001b[0m \u001b[32m━━━━━━━━━━━━━━━━━━━━\u001b[0m\u001b[37m\u001b[0m \u001b[1m0s\u001b[0m 9ms/step - loss: 617.1135 - mse: 617.1135 - val_loss: 471.8219 - val_mse: 471.8219\n",
            "Epoch 5/100\n",
            "\u001b[1m11/11\u001b[0m \u001b[32m━━━━━━━━━━━━━━━━━━━━\u001b[0m\u001b[37m\u001b[0m \u001b[1m0s\u001b[0m 9ms/step - loss: 607.3583 - mse: 607.3583 - val_loss: 465.6930 - val_mse: 465.6930\n",
            "Epoch 6/100\n",
            "\u001b[1m11/11\u001b[0m \u001b[32m━━━━━━━━━━━━━━━━━━━━\u001b[0m\u001b[37m\u001b[0m \u001b[1m0s\u001b[0m 8ms/step - loss: 585.0337 - mse: 585.0337 - val_loss: 459.3794 - val_mse: 459.3794\n",
            "Epoch 7/100\n",
            "\u001b[1m11/11\u001b[0m \u001b[32m━━━━━━━━━━━━━━━━━━━━\u001b[0m\u001b[37m\u001b[0m \u001b[1m0s\u001b[0m 9ms/step - loss: 605.7178 - mse: 605.7178 - val_loss: 452.8969 - val_mse: 452.8969\n",
            "Epoch 8/100\n",
            "\u001b[1m11/11\u001b[0m \u001b[32m━━━━━━━━━━━━━━━━━━━━\u001b[0m\u001b[37m\u001b[0m \u001b[1m0s\u001b[0m 9ms/step - loss: 568.9727 - mse: 568.9727 - val_loss: 446.3247 - val_mse: 446.3247\n",
            "Epoch 9/100\n",
            "\u001b[1m11/11\u001b[0m \u001b[32m━━━━━━━━━━━━━━━━━━━━\u001b[0m\u001b[37m\u001b[0m \u001b[1m0s\u001b[0m 9ms/step - loss: 539.2048 - mse: 539.2048 - val_loss: 439.4546 - val_mse: 439.4546\n",
            "Epoch 10/100\n",
            "\u001b[1m11/11\u001b[0m \u001b[32m━━━━━━━━━━━━━━━━━━━━\u001b[0m\u001b[37m\u001b[0m \u001b[1m0s\u001b[0m 9ms/step - loss: 558.6907 - mse: 558.6907 - val_loss: 432.3743 - val_mse: 432.3743\n",
            "Epoch 11/100\n",
            "\u001b[1m11/11\u001b[0m \u001b[32m━━━━━━━━━━━━━━━━━━━━\u001b[0m\u001b[37m\u001b[0m \u001b[1m0s\u001b[0m 8ms/step - loss: 540.8848 - mse: 540.8848 - val_loss: 425.5078 - val_mse: 425.5078\n",
            "Epoch 12/100\n",
            "\u001b[1m11/11\u001b[0m \u001b[32m━━━━━━━━━━━━━━━━━━━━\u001b[0m\u001b[37m\u001b[0m \u001b[1m0s\u001b[0m 11ms/step - loss: 505.6585 - mse: 505.6585 - val_loss: 418.4070 - val_mse: 418.4070\n",
            "Epoch 13/100\n",
            "\u001b[1m11/11\u001b[0m \u001b[32m━━━━━━━━━━━━━━━━━━━━\u001b[0m\u001b[37m\u001b[0m \u001b[1m0s\u001b[0m 9ms/step - loss: 513.1392 - mse: 513.1392 - val_loss: 410.9314 - val_mse: 410.9314\n",
            "Epoch 14/100\n",
            "\u001b[1m11/11\u001b[0m \u001b[32m━━━━━━━━━━━━━━━━━━━━\u001b[0m\u001b[37m\u001b[0m \u001b[1m0s\u001b[0m 9ms/step - loss: 514.4114 - mse: 514.4114 - val_loss: 403.3772 - val_mse: 403.3772\n",
            "Epoch 15/100\n",
            "\u001b[1m11/11\u001b[0m \u001b[32m━━━━━━━━━━━━━━━━━━━━\u001b[0m\u001b[37m\u001b[0m \u001b[1m0s\u001b[0m 9ms/step - loss: 512.5978 - mse: 512.5978 - val_loss: 395.6856 - val_mse: 395.6856\n",
            "Epoch 16/100\n",
            "\u001b[1m11/11\u001b[0m \u001b[32m━━━━━━━━━━━━━━━━━━━━\u001b[0m\u001b[37m\u001b[0m \u001b[1m0s\u001b[0m 9ms/step - loss: 533.4274 - mse: 533.4274 - val_loss: 387.9044 - val_mse: 387.9044\n",
            "Epoch 17/100\n",
            "\u001b[1m11/11\u001b[0m \u001b[32m━━━━━━━━━━━━━━━━━━━━\u001b[0m\u001b[37m\u001b[0m \u001b[1m0s\u001b[0m 8ms/step - loss: 513.3007 - mse: 513.3007 - val_loss: 379.8795 - val_mse: 379.8795\n",
            "Epoch 18/100\n",
            "\u001b[1m11/11\u001b[0m \u001b[32m━━━━━━━━━━━━━━━━━━━━\u001b[0m\u001b[37m\u001b[0m \u001b[1m0s\u001b[0m 9ms/step - loss: 460.9821 - mse: 460.9821 - val_loss: 371.6515 - val_mse: 371.6515\n",
            "Epoch 19/100\n",
            "\u001b[1m11/11\u001b[0m \u001b[32m━━━━━━━━━━━━━━━━━━━━\u001b[0m\u001b[37m\u001b[0m \u001b[1m0s\u001b[0m 9ms/step - loss: 476.4352 - mse: 476.4352 - val_loss: 363.2857 - val_mse: 363.2857\n",
            "Epoch 20/100\n",
            "\u001b[1m11/11\u001b[0m \u001b[32m━━━━━━━━━━━━━━━━━━━━\u001b[0m\u001b[37m\u001b[0m \u001b[1m0s\u001b[0m 12ms/step - loss: 444.3489 - mse: 444.3489 - val_loss: 354.9450 - val_mse: 354.9450\n",
            "Epoch 21/100\n",
            "\u001b[1m11/11\u001b[0m \u001b[32m━━━━━━━━━━━━━━━━━━━━\u001b[0m\u001b[37m\u001b[0m \u001b[1m0s\u001b[0m 9ms/step - loss: 453.9205 - mse: 453.9205 - val_loss: 346.3230 - val_mse: 346.3230\n",
            "Epoch 22/100\n",
            "\u001b[1m11/11\u001b[0m \u001b[32m━━━━━━━━━━━━━━━━━━━━\u001b[0m\u001b[37m\u001b[0m \u001b[1m0s\u001b[0m 9ms/step - loss: 474.6119 - mse: 474.6119 - val_loss: 337.6143 - val_mse: 337.6143\n",
            "Epoch 23/100\n",
            "\u001b[1m11/11\u001b[0m \u001b[32m━━━━━━━━━━━━━━━━━━━━\u001b[0m\u001b[37m\u001b[0m \u001b[1m0s\u001b[0m 10ms/step - loss: 406.8434 - mse: 406.8434 - val_loss: 329.0263 - val_mse: 329.0263\n",
            "Epoch 24/100\n",
            "\u001b[1m11/11\u001b[0m \u001b[32m━━━━━━━━━━━━━━━━━━━━\u001b[0m\u001b[37m\u001b[0m \u001b[1m0s\u001b[0m 9ms/step - loss: 417.2096 - mse: 417.2096 - val_loss: 320.2758 - val_mse: 320.2758\n",
            "Epoch 25/100\n",
            "\u001b[1m11/11\u001b[0m \u001b[32m━━━━━━━━━━━━━━━━━━━━\u001b[0m\u001b[37m\u001b[0m \u001b[1m0s\u001b[0m 9ms/step - loss: 412.8291 - mse: 412.8291 - val_loss: 311.4678 - val_mse: 311.4678\n",
            "Epoch 26/100\n",
            "\u001b[1m11/11\u001b[0m \u001b[32m━━━━━━━━━━━━━━━━━━━━\u001b[0m\u001b[37m\u001b[0m \u001b[1m0s\u001b[0m 9ms/step - loss: 372.8387 - mse: 372.8387 - val_loss: 302.8686 - val_mse: 302.8686\n",
            "Epoch 27/100\n",
            "\u001b[1m11/11\u001b[0m \u001b[32m━━━━━━━━━━━━━━━━━━━━\u001b[0m\u001b[37m\u001b[0m \u001b[1m0s\u001b[0m 8ms/step - loss: 358.3871 - mse: 358.3871 - val_loss: 294.2127 - val_mse: 294.2127\n",
            "Epoch 28/100\n",
            "\u001b[1m11/11\u001b[0m \u001b[32m━━━━━━━━━━━━━━━━━━━━\u001b[0m\u001b[37m\u001b[0m \u001b[1m0s\u001b[0m 9ms/step - loss: 353.1118 - mse: 353.1118 - val_loss: 285.3839 - val_mse: 285.3839\n",
            "Epoch 29/100\n",
            "\u001b[1m11/11\u001b[0m \u001b[32m━━━━━━━━━━━━━━━━━━━━\u001b[0m\u001b[37m\u001b[0m \u001b[1m0s\u001b[0m 9ms/step - loss: 350.4384 - mse: 350.4384 - val_loss: 276.2220 - val_mse: 276.2220\n",
            "Epoch 30/100\n",
            "\u001b[1m11/11\u001b[0m \u001b[32m━━━━━━━━━━━━━━━━━━━━\u001b[0m\u001b[37m\u001b[0m \u001b[1m0s\u001b[0m 9ms/step - loss: 325.8995 - mse: 325.8995 - val_loss: 267.4667 - val_mse: 267.4667\n",
            "Epoch 31/100\n",
            "\u001b[1m11/11\u001b[0m \u001b[32m━━━━━━━━━━━━━━━━━━━━\u001b[0m\u001b[37m\u001b[0m \u001b[1m0s\u001b[0m 9ms/step - loss: 339.7237 - mse: 339.7237 - val_loss: 258.9625 - val_mse: 258.9625\n",
            "Epoch 32/100\n",
            "\u001b[1m11/11\u001b[0m \u001b[32m━━━━━━━━━━━━━━━━━━━━\u001b[0m\u001b[37m\u001b[0m \u001b[1m0s\u001b[0m 10ms/step - loss: 296.8133 - mse: 296.8133 - val_loss: 250.7332 - val_mse: 250.7332\n",
            "Epoch 33/100\n",
            "\u001b[1m11/11\u001b[0m \u001b[32m━━━━━━━━━━━━━━━━━━━━\u001b[0m\u001b[37m\u001b[0m \u001b[1m0s\u001b[0m 10ms/step - loss: 289.0326 - mse: 289.0326 - val_loss: 242.7760 - val_mse: 242.7760\n",
            "Epoch 34/100\n",
            "\u001b[1m11/11\u001b[0m \u001b[32m━━━━━━━━━━━━━━━━━━━━\u001b[0m\u001b[37m\u001b[0m \u001b[1m0s\u001b[0m 10ms/step - loss: 276.9080 - mse: 276.9080 - val_loss: 235.0871 - val_mse: 235.0871\n",
            "Epoch 35/100\n",
            "\u001b[1m11/11\u001b[0m \u001b[32m━━━━━━━━━━━━━━━━━━━━\u001b[0m\u001b[37m\u001b[0m \u001b[1m0s\u001b[0m 9ms/step - loss: 273.9845 - mse: 273.9845 - val_loss: 227.5285 - val_mse: 227.5285\n",
            "Epoch 36/100\n",
            "\u001b[1m11/11\u001b[0m \u001b[32m━━━━━━━━━━━━━━━━━━━━\u001b[0m\u001b[37m\u001b[0m \u001b[1m0s\u001b[0m 11ms/step - loss: 276.6327 - mse: 276.6327 - val_loss: 220.2769 - val_mse: 220.2769\n",
            "Epoch 37/100\n",
            "\u001b[1m11/11\u001b[0m \u001b[32m━━━━━━━━━━━━━━━━━━━━\u001b[0m\u001b[37m\u001b[0m \u001b[1m0s\u001b[0m 10ms/step - loss: 250.3152 - mse: 250.3152 - val_loss: 213.2097 - val_mse: 213.2097\n",
            "Epoch 38/100\n",
            "\u001b[1m11/11\u001b[0m \u001b[32m━━━━━━━━━━━━━━━━━━━━\u001b[0m\u001b[37m\u001b[0m \u001b[1m0s\u001b[0m 9ms/step - loss: 238.6793 - mse: 238.6793 - val_loss: 206.2087 - val_mse: 206.2087\n",
            "Epoch 39/100\n",
            "\u001b[1m11/11\u001b[0m \u001b[32m━━━━━━━━━━━━━━━━━━━━\u001b[0m\u001b[37m\u001b[0m \u001b[1m0s\u001b[0m 10ms/step - loss: 239.6480 - mse: 239.6480 - val_loss: 199.3392 - val_mse: 199.3392\n",
            "Epoch 40/100\n",
            "\u001b[1m11/11\u001b[0m \u001b[32m━━━━━━━━━━━━━━━━━━━━\u001b[0m\u001b[37m\u001b[0m \u001b[1m0s\u001b[0m 10ms/step - loss: 216.1910 - mse: 216.1910 - val_loss: 192.7714 - val_mse: 192.7714\n",
            "Epoch 41/100\n",
            "\u001b[1m11/11\u001b[0m \u001b[32m━━━━━━━━━━━━━━━━━━━━\u001b[0m\u001b[37m\u001b[0m \u001b[1m0s\u001b[0m 10ms/step - loss: 192.0360 - mse: 192.0360 - val_loss: 186.5171 - val_mse: 186.5171\n",
            "Epoch 42/100\n",
            "\u001b[1m11/11\u001b[0m \u001b[32m━━━━━━━━━━━━━━━━━━━━\u001b[0m\u001b[37m\u001b[0m \u001b[1m0s\u001b[0m 10ms/step - loss: 225.6612 - mse: 225.6612 - val_loss: 180.4520 - val_mse: 180.4520\n",
            "Epoch 43/100\n",
            "\u001b[1m11/11\u001b[0m \u001b[32m━━━━━━━━━━━━━━━━━━━━\u001b[0m\u001b[37m\u001b[0m \u001b[1m0s\u001b[0m 11ms/step - loss: 208.0525 - mse: 208.0525 - val_loss: 174.2169 - val_mse: 174.2169\n",
            "Epoch 44/100\n",
            "\u001b[1m11/11\u001b[0m \u001b[32m━━━━━━━━━━━━━━━━━━━━\u001b[0m\u001b[37m\u001b[0m \u001b[1m0s\u001b[0m 19ms/step - loss: 214.3052 - mse: 214.3052 - val_loss: 168.5267 - val_mse: 168.5267\n",
            "Epoch 45/100\n",
            "\u001b[1m11/11\u001b[0m \u001b[32m━━━━━━━━━━━━━━━━━━━━\u001b[0m\u001b[37m\u001b[0m \u001b[1m0s\u001b[0m 16ms/step - loss: 164.4264 - mse: 164.4264 - val_loss: 163.3101 - val_mse: 163.3101\n",
            "Epoch 46/100\n",
            "\u001b[1m11/11\u001b[0m \u001b[32m━━━━━━━━━━━━━━━━━━━━\u001b[0m\u001b[37m\u001b[0m \u001b[1m0s\u001b[0m 14ms/step - loss: 187.0066 - mse: 187.0066 - val_loss: 158.3964 - val_mse: 158.3964\n",
            "Epoch 47/100\n",
            "\u001b[1m11/11\u001b[0m \u001b[32m━━━━━━━━━━━━━━━━━━━━\u001b[0m\u001b[37m\u001b[0m \u001b[1m0s\u001b[0m 14ms/step - loss: 174.9633 - mse: 174.9633 - val_loss: 153.4435 - val_mse: 153.4435\n",
            "Epoch 48/100\n",
            "\u001b[1m11/11\u001b[0m \u001b[32m━━━━━━━━━━━━━━━━━━━━\u001b[0m\u001b[37m\u001b[0m \u001b[1m0s\u001b[0m 17ms/step - loss: 144.9082 - mse: 144.9082 - val_loss: 148.8508 - val_mse: 148.8508\n",
            "Epoch 49/100\n",
            "\u001b[1m11/11\u001b[0m \u001b[32m━━━━━━━━━━━━━━━━━━━━\u001b[0m\u001b[37m\u001b[0m \u001b[1m0s\u001b[0m 16ms/step - loss: 155.0657 - mse: 155.0657 - val_loss: 144.2647 - val_mse: 144.2647\n",
            "Epoch 50/100\n",
            "\u001b[1m11/11\u001b[0m \u001b[32m━━━━━━━━━━━━━━━━━━━━\u001b[0m\u001b[37m\u001b[0m \u001b[1m0s\u001b[0m 18ms/step - loss: 164.6894 - mse: 164.6894 - val_loss: 140.0981 - val_mse: 140.0981\n",
            "Epoch 51/100\n",
            "\u001b[1m11/11\u001b[0m \u001b[32m━━━━━━━━━━━━━━━━━━━━\u001b[0m\u001b[37m\u001b[0m \u001b[1m0s\u001b[0m 17ms/step - loss: 130.9998 - mse: 130.9998 - val_loss: 136.0356 - val_mse: 136.0356\n",
            "Epoch 52/100\n",
            "\u001b[1m11/11\u001b[0m \u001b[32m━━━━━━━━━━━━━━━━━━━━\u001b[0m\u001b[37m\u001b[0m \u001b[1m0s\u001b[0m 16ms/step - loss: 142.0094 - mse: 142.0094 - val_loss: 132.2502 - val_mse: 132.2502\n",
            "Epoch 53/100\n",
            "\u001b[1m11/11\u001b[0m \u001b[32m━━━━━━━━━━━━━━━━━━━━\u001b[0m\u001b[37m\u001b[0m \u001b[1m0s\u001b[0m 18ms/step - loss: 143.1386 - mse: 143.1386 - val_loss: 128.5779 - val_mse: 128.5779\n",
            "Epoch 54/100\n",
            "\u001b[1m11/11\u001b[0m \u001b[32m━━━━━━━━━━━━━━━━━━━━\u001b[0m\u001b[37m\u001b[0m \u001b[1m0s\u001b[0m 14ms/step - loss: 130.2258 - mse: 130.2258 - val_loss: 124.9555 - val_mse: 124.9555\n",
            "Epoch 55/100\n",
            "\u001b[1m11/11\u001b[0m \u001b[32m━━━━━━━━━━━━━━━━━━━━\u001b[0m\u001b[37m\u001b[0m \u001b[1m0s\u001b[0m 13ms/step - loss: 143.5381 - mse: 143.5381 - val_loss: 121.2965 - val_mse: 121.2965\n",
            "Epoch 56/100\n",
            "\u001b[1m11/11\u001b[0m \u001b[32m━━━━━━━━━━━━━━━━━━━━\u001b[0m\u001b[37m\u001b[0m \u001b[1m0s\u001b[0m 14ms/step - loss: 131.6075 - mse: 131.6075 - val_loss: 118.1271 - val_mse: 118.1271\n",
            "Epoch 57/100\n",
            "\u001b[1m11/11\u001b[0m \u001b[32m━━━━━━━━━━━━━━━━━━━━\u001b[0m\u001b[37m\u001b[0m \u001b[1m0s\u001b[0m 15ms/step - loss: 112.1575 - mse: 112.1575 - val_loss: 115.1468 - val_mse: 115.1468\n",
            "Epoch 58/100\n",
            "\u001b[1m11/11\u001b[0m \u001b[32m━━━━━━━━━━━━━━━━━━━━\u001b[0m\u001b[37m\u001b[0m \u001b[1m0s\u001b[0m 12ms/step - loss: 132.0612 - mse: 132.0612 - val_loss: 111.9460 - val_mse: 111.9460\n",
            "Epoch 59/100\n",
            "\u001b[1m11/11\u001b[0m \u001b[32m━━━━━━━━━━━━━━━━━━━━\u001b[0m\u001b[37m\u001b[0m \u001b[1m0s\u001b[0m 8ms/step - loss: 129.7537 - mse: 129.7537 - val_loss: 108.9258 - val_mse: 108.9258\n",
            "Epoch 60/100\n",
            "\u001b[1m11/11\u001b[0m \u001b[32m━━━━━━━━━━━━━━━━━━━━\u001b[0m\u001b[37m\u001b[0m \u001b[1m0s\u001b[0m 9ms/step - loss: 122.7721 - mse: 122.7721 - val_loss: 106.0338 - val_mse: 106.0338\n",
            "Epoch 61/100\n",
            "\u001b[1m11/11\u001b[0m \u001b[32m━━━━━━━━━━━━━━━━━━━━\u001b[0m\u001b[37m\u001b[0m \u001b[1m0s\u001b[0m 8ms/step - loss: 121.6565 - mse: 121.6565 - val_loss: 103.2430 - val_mse: 103.2430\n",
            "Epoch 62/100\n",
            "\u001b[1m11/11\u001b[0m \u001b[32m━━━━━━━━━━━━━━━━━━━━\u001b[0m\u001b[37m\u001b[0m \u001b[1m0s\u001b[0m 9ms/step - loss: 120.2000 - mse: 120.2000 - val_loss: 100.5303 - val_mse: 100.5303\n",
            "Epoch 63/100\n",
            "\u001b[1m11/11\u001b[0m \u001b[32m━━━━━━━━━━━━━━━━━━━━\u001b[0m\u001b[37m\u001b[0m \u001b[1m0s\u001b[0m 9ms/step - loss: 103.3848 - mse: 103.3848 - val_loss: 98.1549 - val_mse: 98.1549\n",
            "Epoch 64/100\n",
            "\u001b[1m11/11\u001b[0m \u001b[32m━━━━━━━━━━━━━━━━━━━━\u001b[0m\u001b[37m\u001b[0m \u001b[1m0s\u001b[0m 9ms/step - loss: 107.2298 - mse: 107.2298 - val_loss: 95.6943 - val_mse: 95.6943\n",
            "Epoch 65/100\n",
            "\u001b[1m11/11\u001b[0m \u001b[32m━━━━━━━━━━━━━━━━━━━━\u001b[0m\u001b[37m\u001b[0m \u001b[1m0s\u001b[0m 9ms/step - loss: 103.7221 - mse: 103.7221 - val_loss: 93.2540 - val_mse: 93.2540\n",
            "Epoch 66/100\n",
            "\u001b[1m11/11\u001b[0m \u001b[32m━━━━━━━━━━━━━━━━━━━━\u001b[0m\u001b[37m\u001b[0m \u001b[1m0s\u001b[0m 10ms/step - loss: 102.4974 - mse: 102.4974 - val_loss: 90.9865 - val_mse: 90.9865\n",
            "Epoch 67/100\n",
            "\u001b[1m11/11\u001b[0m \u001b[32m━━━━━━━━━━━━━━━━━━━━\u001b[0m\u001b[37m\u001b[0m \u001b[1m0s\u001b[0m 10ms/step - loss: 106.1933 - mse: 106.1933 - val_loss: 88.7489 - val_mse: 88.7489\n",
            "Epoch 68/100\n",
            "\u001b[1m11/11\u001b[0m \u001b[32m━━━━━━━━━━━━━━━━━━━━\u001b[0m\u001b[37m\u001b[0m \u001b[1m0s\u001b[0m 11ms/step - loss: 105.7553 - mse: 105.7553 - val_loss: 86.3961 - val_mse: 86.3961\n",
            "Epoch 69/100\n",
            "\u001b[1m11/11\u001b[0m \u001b[32m━━━━━━━━━━━━━━━━━━━━\u001b[0m\u001b[37m\u001b[0m \u001b[1m0s\u001b[0m 10ms/step - loss: 103.7351 - mse: 103.7351 - val_loss: 84.2331 - val_mse: 84.2331\n",
            "Epoch 70/100\n",
            "\u001b[1m11/11\u001b[0m \u001b[32m━━━━━━━━━━━━━━━━━━━━\u001b[0m\u001b[37m\u001b[0m \u001b[1m0s\u001b[0m 11ms/step - loss: 99.7506 - mse: 99.7506 - val_loss: 82.3020 - val_mse: 82.3020\n",
            "Epoch 71/100\n",
            "\u001b[1m11/11\u001b[0m \u001b[32m━━━━━━━━━━━━━━━━━━━━\u001b[0m\u001b[37m\u001b[0m \u001b[1m0s\u001b[0m 11ms/step - loss: 83.5858 - mse: 83.5858 - val_loss: 80.2306 - val_mse: 80.2306\n",
            "Epoch 72/100\n",
            "\u001b[1m11/11\u001b[0m \u001b[32m━━━━━━━━━━━━━━━━━━━━\u001b[0m\u001b[37m\u001b[0m \u001b[1m0s\u001b[0m 11ms/step - loss: 101.1576 - mse: 101.1576 - val_loss: 78.2357 - val_mse: 78.2357\n",
            "Epoch 73/100\n",
            "\u001b[1m11/11\u001b[0m \u001b[32m━━━━━━━━━━━━━━━━━━━━\u001b[0m\u001b[37m\u001b[0m \u001b[1m0s\u001b[0m 10ms/step - loss: 97.4494 - mse: 97.4494 - val_loss: 76.2781 - val_mse: 76.2781\n",
            "Epoch 74/100\n",
            "\u001b[1m11/11\u001b[0m \u001b[32m━━━━━━━━━━━━━━━━━━━━\u001b[0m\u001b[37m\u001b[0m \u001b[1m0s\u001b[0m 10ms/step - loss: 89.1838 - mse: 89.1838 - val_loss: 74.2811 - val_mse: 74.2811\n",
            "Epoch 75/100\n",
            "\u001b[1m11/11\u001b[0m \u001b[32m━━━━━━━━━━━━━━━━━━━━\u001b[0m\u001b[37m\u001b[0m \u001b[1m0s\u001b[0m 10ms/step - loss: 88.3770 - mse: 88.3770 - val_loss: 72.4443 - val_mse: 72.4443\n",
            "Epoch 76/100\n",
            "\u001b[1m11/11\u001b[0m \u001b[32m━━━━━━━━━━━━━━━━━━━━\u001b[0m\u001b[37m\u001b[0m \u001b[1m0s\u001b[0m 10ms/step - loss: 83.1335 - mse: 83.1335 - val_loss: 70.7142 - val_mse: 70.7142\n",
            "Epoch 77/100\n",
            "\u001b[1m11/11\u001b[0m \u001b[32m━━━━━━━━━━━━━━━━━━━━\u001b[0m\u001b[37m\u001b[0m \u001b[1m0s\u001b[0m 10ms/step - loss: 89.8726 - mse: 89.8726 - val_loss: 68.9272 - val_mse: 68.9272\n",
            "Epoch 78/100\n",
            "\u001b[1m11/11\u001b[0m \u001b[32m━━━━━━━━━━━━━━━━━━━━\u001b[0m\u001b[37m\u001b[0m \u001b[1m0s\u001b[0m 10ms/step - loss: 72.8629 - mse: 72.8629 - val_loss: 67.2490 - val_mse: 67.2490\n",
            "Epoch 79/100\n",
            "\u001b[1m11/11\u001b[0m \u001b[32m━━━━━━━━━━━━━━━━━━━━\u001b[0m\u001b[37m\u001b[0m \u001b[1m0s\u001b[0m 10ms/step - loss: 82.3207 - mse: 82.3207 - val_loss: 65.5688 - val_mse: 65.5688\n",
            "Epoch 80/100\n",
            "\u001b[1m11/11\u001b[0m \u001b[32m━━━━━━━━━━━━━━━━━━━━\u001b[0m\u001b[37m\u001b[0m \u001b[1m0s\u001b[0m 13ms/step - loss: 71.6253 - mse: 71.6253 - val_loss: 64.1215 - val_mse: 64.1215\n",
            "Epoch 81/100\n",
            "\u001b[1m11/11\u001b[0m \u001b[32m━━━━━━━━━━━━━━━━━━━━\u001b[0m\u001b[37m\u001b[0m \u001b[1m0s\u001b[0m 9ms/step - loss: 66.3568 - mse: 66.3568 - val_loss: 62.7744 - val_mse: 62.7744\n",
            "Epoch 82/100\n",
            "\u001b[1m11/11\u001b[0m \u001b[32m━━━━━━━━━━━━━━━━━━━━\u001b[0m\u001b[37m\u001b[0m \u001b[1m0s\u001b[0m 9ms/step - loss: 72.1676 - mse: 72.1676 - val_loss: 61.4156 - val_mse: 61.4156\n",
            "Epoch 83/100\n",
            "\u001b[1m11/11\u001b[0m \u001b[32m━━━━━━━━━━━━━━━━━━━━\u001b[0m\u001b[37m\u001b[0m \u001b[1m0s\u001b[0m 9ms/step - loss: 62.2578 - mse: 62.2578 - val_loss: 60.0302 - val_mse: 60.0302\n",
            "Epoch 84/100\n",
            "\u001b[1m11/11\u001b[0m \u001b[32m━━━━━━━━━━━━━━━━━━━━\u001b[0m\u001b[37m\u001b[0m \u001b[1m0s\u001b[0m 9ms/step - loss: 81.0751 - mse: 81.0751 - val_loss: 58.6239 - val_mse: 58.6239\n",
            "Epoch 85/100\n",
            "\u001b[1m11/11\u001b[0m \u001b[32m━━━━━━━━━━━━━━━━━━━━\u001b[0m\u001b[37m\u001b[0m \u001b[1m0s\u001b[0m 9ms/step - loss: 61.0389 - mse: 61.0389 - val_loss: 57.3540 - val_mse: 57.3540\n",
            "Epoch 86/100\n",
            "\u001b[1m11/11\u001b[0m \u001b[32m━━━━━━━━━━━━━━━━━━━━\u001b[0m\u001b[37m\u001b[0m \u001b[1m0s\u001b[0m 9ms/step - loss: 72.5723 - mse: 72.5723 - val_loss: 56.1455 - val_mse: 56.1455\n",
            "Epoch 87/100\n",
            "\u001b[1m11/11\u001b[0m \u001b[32m━━━━━━━━━━━━━━━━━━━━\u001b[0m\u001b[37m\u001b[0m \u001b[1m0s\u001b[0m 9ms/step - loss: 57.8110 - mse: 57.8110 - val_loss: 55.1661 - val_mse: 55.1661\n",
            "Epoch 88/100\n",
            "\u001b[1m11/11\u001b[0m \u001b[32m━━━━━━━━━━━━━━━━━━━━\u001b[0m\u001b[37m\u001b[0m \u001b[1m0s\u001b[0m 10ms/step - loss: 63.6124 - mse: 63.6124 - val_loss: 54.0858 - val_mse: 54.0858\n",
            "Epoch 89/100\n",
            "\u001b[1m11/11\u001b[0m \u001b[32m━━━━━━━━━━━━━━━━━━━━\u001b[0m\u001b[37m\u001b[0m \u001b[1m0s\u001b[0m 9ms/step - loss: 67.3016 - mse: 67.3016 - val_loss: 53.0927 - val_mse: 53.0927\n",
            "Epoch 90/100\n",
            "\u001b[1m11/11\u001b[0m \u001b[32m━━━━━━━━━━━━━━━━━━━━\u001b[0m\u001b[37m\u001b[0m \u001b[1m0s\u001b[0m 8ms/step - loss: 62.6993 - mse: 62.6993 - val_loss: 52.0789 - val_mse: 52.0789\n",
            "Epoch 91/100\n",
            "\u001b[1m11/11\u001b[0m \u001b[32m━━━━━━━━━━━━━━━━━━━━\u001b[0m\u001b[37m\u001b[0m \u001b[1m0s\u001b[0m 9ms/step - loss: 64.4453 - mse: 64.4453 - val_loss: 51.0616 - val_mse: 51.0616\n",
            "Epoch 92/100\n",
            "\u001b[1m11/11\u001b[0m \u001b[32m━━━━━━━━━━━━━━━━━━━━\u001b[0m\u001b[37m\u001b[0m \u001b[1m0s\u001b[0m 9ms/step - loss: 55.2183 - mse: 55.2183 - val_loss: 50.1276 - val_mse: 50.1276\n",
            "Epoch 93/100\n",
            "\u001b[1m11/11\u001b[0m \u001b[32m━━━━━━━━━━━━━━━━━━━━\u001b[0m\u001b[37m\u001b[0m \u001b[1m0s\u001b[0m 8ms/step - loss: 67.8643 - mse: 67.8643 - val_loss: 49.1518 - val_mse: 49.1518\n",
            "Epoch 94/100\n",
            "\u001b[1m11/11\u001b[0m \u001b[32m━━━━━━━━━━━━━━━━━━━━\u001b[0m\u001b[37m\u001b[0m \u001b[1m0s\u001b[0m 8ms/step - loss: 53.6044 - mse: 53.6044 - val_loss: 48.2997 - val_mse: 48.2997\n",
            "Epoch 95/100\n",
            "\u001b[1m11/11\u001b[0m \u001b[32m━━━━━━━━━━━━━━━━━━━━\u001b[0m\u001b[37m\u001b[0m \u001b[1m0s\u001b[0m 8ms/step - loss: 66.5821 - mse: 66.5821 - val_loss: 47.4475 - val_mse: 47.4475\n",
            "Epoch 96/100\n",
            "\u001b[1m11/11\u001b[0m \u001b[32m━━━━━━━━━━━━━━━━━━━━\u001b[0m\u001b[37m\u001b[0m \u001b[1m0s\u001b[0m 9ms/step - loss: 45.9633 - mse: 45.9633 - val_loss: 46.5816 - val_mse: 46.5816\n",
            "Epoch 97/100\n",
            "\u001b[1m11/11\u001b[0m \u001b[32m━━━━━━━━━━━━━━━━━━━━\u001b[0m\u001b[37m\u001b[0m \u001b[1m0s\u001b[0m 10ms/step - loss: 55.4504 - mse: 55.4504 - val_loss: 45.6339 - val_mse: 45.6339\n",
            "Epoch 98/100\n",
            "\u001b[1m11/11\u001b[0m \u001b[32m━━━━━━━━━━━━━━━━━━━━\u001b[0m\u001b[37m\u001b[0m \u001b[1m0s\u001b[0m 9ms/step - loss: 61.7818 - mse: 61.7818 - val_loss: 44.7824 - val_mse: 44.7824\n",
            "Epoch 99/100\n",
            "\u001b[1m11/11\u001b[0m \u001b[32m━━━━━━━━━━━━━━━━━━━━\u001b[0m\u001b[37m\u001b[0m \u001b[1m0s\u001b[0m 9ms/step - loss: 56.3534 - mse: 56.3534 - val_loss: 44.0158 - val_mse: 44.0158\n",
            "Epoch 100/100\n",
            "\u001b[1m11/11\u001b[0m \u001b[32m━━━━━━━━━━━━━━━━━━━━\u001b[0m\u001b[37m\u001b[0m \u001b[1m0s\u001b[0m 10ms/step - loss: 49.8153 - mse: 49.8153 - val_loss: 43.3533 - val_mse: 43.3533\n"
          ]
        }
      ]
    },
    {
      "cell_type": "code",
      "source": [
        "# Let's plot the learning curve\n",
        "plt.plot(history.history['loss'], label='Training Loss')\n",
        "plt.plot(history.history['val_loss'], label='Validation Loss')\n",
        "plt.xlabel('Epochs')\n",
        "plt.ylabel('MSE')\n",
        "plt.title('Learning Curve')\n",
        "plt.legend()\n",
        "plt.show()\n"
      ],
      "metadata": {
        "colab": {
          "base_uri": "https://localhost:8080/",
          "height": 472
        },
        "id": "wyuTnSsEwZ0r",
        "outputId": "c0669ca1-a9fe-4c00-f762-1044cfeafbe4"
      },
      "execution_count": 68,
      "outputs": [
        {
          "output_type": "display_data",
          "data": {
            "text/plain": [
              "<Figure size 640x480 with 1 Axes>"
            ],
            "image/png": "[encoded data removed]"
          },
          "metadata": {}
        }
      ]
    },
    {
      "cell_type": "code",
      "source": [
        "# Let's evaluate the model\n",
        "test_mse = model.evaluate(X_test_scaled,test_y, verbose = 0)\n",
        "print(test_mse)"
      ],
      "metadata": {
        "colab": {
          "base_uri": "https://localhost:8080/"
        },
        "id": "qI3Faeh-wZYE",
        "outputId": "b2adb1c4-542b-41c1-fd90-93311fc0c7cf"
      },
      "execution_count": 71,
      "outputs": [
        {
          "output_type": "stream",
          "name": "stdout",
          "text": [
            "[57.22772979736328, 57.22772979736328]\n"
          ]
        }
      ]
    },
    {
      "cell_type": "code",
      "source": [],
      "metadata": {
        "id": "x4oxRyb61HRM"
      },
      "execution_count": null,
      "outputs": []
    },
    {
      "cell_type": "code",
      "source": [],
      "metadata": {
        "id": "lNMapXlQ1G5g"
      },
      "execution_count": null,
      "outputs": []
    },
    {
      "cell_type": "markdown",
      "metadata": {
        "id": "2JimscX-Zb7T"
      },
      "source": [
        "## b) Deeper Network [1 point]\n",
        "\n",
        "Construct and evaluate a model with 2 dense layers having a smaller number of neurons (e.g. 16, 8)."
      ]
    },
    {
      "cell_type": "code",
      "execution_count": null,
      "metadata": {
        "id": "ha6iU4_WKjJE"
      },
      "outputs": [],
      "source": [
        "# your code here, use as many cells as you need\n",
        "\n",
        "# be sure to comment on your results for each and every question, describing not just\n",
        "# the what, but the 'how' and 'why' where possible, to demonstrate your understanding of\n",
        "# course content\n"
      ]
    },
    {
      "cell_type": "markdown",
      "metadata": {
        "id": "2f0v_F7DZoAx"
      },
      "source": [
        "## c) Wider Network [1 point]\n",
        "\n",
        "Construct and evaluate a wider model with more neurons (e.g. 32, 16)."
      ]
    },
    {
      "cell_type": "code",
      "execution_count": null,
      "metadata": {
        "id": "B9W6c2mxKhWA"
      },
      "outputs": [],
      "source": [
        "# your code here, use as many cells as you need\n",
        "\n",
        "# be sure to comment on your results for each and every question, describing not just\n",
        "# the what, but the 'how' and 'why' where possible, to demonstrate your understanding of\n",
        "# course content"
      ]
    },
    {
      "cell_type": "markdown",
      "metadata": {
        "id": "UfdE-QPBrOpl"
      },
      "source": [
        "# Part 2: Hyperparameter Tuning Experiments\n",
        "\n",
        "In the following experiments, you will evaluate and compare models trained with different hyperparameters. Please follow the specifications given for each model."
      ]
    },
    {
      "cell_type": "markdown",
      "metadata": {
        "id": "zXsONE-iwyEZ"
      },
      "source": [
        "## a) Model 1 [2 points]\n",
        "\n",
        "- 2 Dense layers:\n",
        "  - The first with 64 neurons using a ReLU activation function.\n",
        "  - The second with 64 neurons using a ReLU activation function.\n",
        "- Choose an appropriate output layer and activation.\n",
        "- Train model with 100 epochs and obtain cross-validated performance (e.g. with 3 cross-folds).\n",
        "- Plot both loss and mean absolute error (i.e. learning curves) for both training and validation.\n",
        "- Report MAE from CV with standard deviation."
      ]
    },
    {
      "cell_type": "code",
      "execution_count": null,
      "metadata": {
        "id": "dE-0BhtjM6Fn"
      },
      "outputs": [],
      "source": [
        "# your code here, use as many cells as you need\n",
        "\n",
        "# be sure to comment on your results for each and every question, describing not just\n",
        "# the what, but the 'how' and 'why' where possible, to demonstrate your understanding of\n",
        "# course content"
      ]
    },
    {
      "cell_type": "markdown",
      "metadata": {
        "id": "zYsP54_x2ixg"
      },
      "source": [
        "## b) Model 2 [2 points]\n",
        "\n",
        "- 2 Dense layers:\n",
        "  - The first with 128 neurons using a ReLU activation function.\n",
        "  - The second with 64 neurons using a ReLU activation function.\n",
        "- Choose an appropriate output layer and activation.\n",
        "- Train model with 100 epochs and obtain cross-validated performance (e.g. with 3 cross-folds).\n",
        "- Plot both loss and mean absolute error (i.e. learning curves) for both training and validation.\n",
        "- Report MAE from CV with standard deviation."
      ]
    },
    {
      "cell_type": "code",
      "execution_count": null,
      "metadata": {
        "id": "XklV0uGENLsw"
      },
      "outputs": [],
      "source": [
        "# your code here, use as many cells as you need\n",
        "\n",
        "# be sure to comment on your results for each and every question, describing not just\n",
        "# the what, but the 'how' and 'why' where possible, to demonstrate your understanding of\n",
        "# course content"
      ]
    },
    {
      "cell_type": "markdown",
      "metadata": {
        "id": "30A0lCy74RKe"
      },
      "source": [
        "## c) Model 3 [2 points]\n",
        "\n",
        "- Same as Model 2, but use tanh activation functions instead of relu."
      ]
    },
    {
      "cell_type": "code",
      "execution_count": null,
      "metadata": {
        "id": "UNpDFL2FNi1C"
      },
      "outputs": [],
      "source": [
        "# your code here, use as many cells as you need\n",
        "\n",
        "# be sure to comment on your results for each and every question, describing not just\n",
        "# the what, but the 'how' and 'why' where possible, to demonstrate your understanding of\n",
        "# course content"
      ]
    },
    {
      "cell_type": "markdown",
      "metadata": {
        "id": "hWXgQ1RzzPf7"
      },
      "source": [
        "## d) Model 4 [2 points]\n",
        "\n",
        "- Same as Model 2, but use the rmsprop optimizer when training."
      ]
    },
    {
      "cell_type": "code",
      "execution_count": null,
      "metadata": {
        "id": "KgtE3hhxN2oj"
      },
      "outputs": [],
      "source": [
        "# your code here, use as many cells as you need\n",
        "\n",
        "# be sure to comment on your results for each and every question, describing not just\n",
        "# the what, but the 'how' and 'why' where possible, to demonstrate your understanding of\n",
        "# course content"
      ]
    },
    {
      "cell_type": "markdown",
      "metadata": {
        "id": "8_d0KCd-zdcb"
      },
      "source": [
        "## e) Model Comparison [1 point]\n",
        "\n",
        "Which model performed best? Offer your thoughts on why the particular choice of hyperparameters led to improved performance for this model."
      ]
    },
    {
      "cell_type": "code",
      "execution_count": null,
      "metadata": {
        "id": "LBKbdEwR0EcD"
      },
      "outputs": [],
      "source": [
        "# explain WHY you think the best model was better than the rest, in terms\n",
        "# of how those hyperparameters theoretically impact the model\n",
        "\n",
        "# provide visualizations (e.g. tables or comparison plot) to support your response where possible"
      ]
    },
    {
      "cell_type": "markdown",
      "metadata": {
        "id": "7U2qAmO01FtC"
      },
      "source": [
        "NOTE: 2 additional points are awarded based on code documentation and overall clarity of work."
      ]
    },
    {
      "cell_type": "code",
      "execution_count": null,
      "metadata": {
        "id": "a25KyERpPjC0"
      },
      "outputs": [],
      "source": [
        "# We are looking for a clear explanation of results with each response. We want you to attempt to\n",
        "# explain the _how_ and _why_ behind your answers, and not just the what, do demonstrate\n",
        "# your knowledge of the concepts discussed in class. Answers should be backed up with\n",
        "# visualizations (e.g. plots, charts).\n",
        "\n",
        "# Code should be easy to follow by using sensical naming conventions for function and variable\n",
        "# names, providing useful code comments, and refactoring repeated code into re-usable functions."
      ]
    }
  ],
  "metadata": {
    "colab": {
      "provenance": []
    },
    "kernelspec": {
      "display_name": "Python 3",
      "name": "python3"
    },
    "language_info": {
      "name": "python"
    }
  },
  "nbformat": 4,
  "nbformat_minor": 0
}