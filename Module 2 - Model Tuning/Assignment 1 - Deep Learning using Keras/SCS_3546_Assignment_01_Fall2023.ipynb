{
  "cells": [
    {
      "cell_type": "markdown",
      "metadata": {
        "id": "C6OQBFpIHP30"
      },
      "source": [
        "# SCS 3546: Deep Learning\n",
        "> Assignment 1: Deep Learning Using Keras"
      ]
    },
    {
      "cell_type": "markdown",
      "metadata": {
        "id": "hzRpIFXzolmz"
      },
      "source": [
        "### Your name & student number:\n",
        "\n",
        "<pre> Assal Nekoufar </pre>\n",
        "\n",
        "<pre> Student Number: X589579 </pre>"
      ]
    },
    {
      "cell_type": "markdown",
      "metadata": {
        "id": "9aHEi-CRlKBb"
      },
      "source": [
        "## Assignment Description\n",
        "\n",
        "In this assignment you will demonstrate your ability to:\n",
        "\n",
        "- Train a neural network using Keras to solve a regression problem.\n",
        "\n",
        "- Perform sensible data preprocessing.\n",
        "\n",
        "- Experiment with hyperparemter tuning and different model architectures to achieve best performance.\n",
        "\n"
      ]
    },
    {
      "cell_type": "markdown",
      "metadata": {
        "id": "-OKLV1eJ12dy"
      },
      "source": [
        "### Grade Allocation\n",
        "\n",
        "**15 points total**\n",
        "\n",
        "- Part 1: 4 Marks\n",
        "- Part 2: 9 Marks\n",
        "- Clarity: 2 Marks\n",
        "\n",
        "The marks for clarity are awarded for code documentation and how well you explained/supported your answers, including the use of visualizations where appropriate."
      ]
    },
    {
      "cell_type": "code",
      "source": [
        "# OPTIONAL : For model evaluation and for those who choose to use the KerasRegressor from keras.wrappers, you would need to install tensorflow 2.12 or 2.11.another option is to use the scikeras.\n",
        "# please note that you may have many options and the below libraries are just meant to help you and to provide options\n",
        "\n",
        "# !pip install tensorflow==2.12\n",
        "# from keras.wrappers.scikit_learn import KerasRegressor\n",
        "\n",
        "## !pip install scikeras\n",
        "## from scikeras.wrappers import KerasClassifier, KerasRegressor\n"
      ],
      "metadata": {
        "id": "LUd8H6Ji_w16",
        "colab": {
          "base_uri": "https://localhost:8080/"
        },
        "outputId": "f54a29db-3ea4-4dc6-c762-fb2342a661e5"
      },
      "execution_count": null,
      "outputs": [
        {
          "output_type": "stream",
          "name": "stdout",
          "text": [
            "Requirement already satisfied: scikeras in /usr/local/lib/python3.12/dist-packages (0.13.0)\n",
            "Requirement already satisfied: keras>=3.2.0 in /usr/local/lib/python3.12/dist-packages (from scikeras) (3.10.0)\n",
            "Requirement already satisfied: scikit-learn>=1.4.2 in /usr/local/lib/python3.12/dist-packages (from scikeras) (1.6.1)\n",
            "Requirement already satisfied: absl-py in /usr/local/lib/python3.12/dist-packages (from keras>=3.2.0->scikeras) (1.4.0)\n",
            "Requirement already satisfied: numpy in /usr/local/lib/python3.12/dist-packages (from keras>=3.2.0->scikeras) (2.0.2)\n",
            "Requirement already satisfied: rich in /usr/local/lib/python3.12/dist-packages (from keras>=3.2.0->scikeras) (13.9.4)\n",
            "Requirement already satisfied: namex in /usr/local/lib/python3.12/dist-packages (from keras>=3.2.0->scikeras) (0.1.0)\n",
            "Requirement already satisfied: h5py in /usr/local/lib/python3.12/dist-packages (from keras>=3.2.0->scikeras) (3.14.0)\n",
            "Requirement already satisfied: optree in /usr/local/lib/python3.12/dist-packages (from keras>=3.2.0->scikeras) (0.17.0)\n",
            "Requirement already satisfied: ml-dtypes in /usr/local/lib/python3.12/dist-packages (from keras>=3.2.0->scikeras) (0.5.3)\n",
            "Requirement already satisfied: packaging in /usr/local/lib/python3.12/dist-packages (from keras>=3.2.0->scikeras) (25.0)\n",
            "Requirement already satisfied: scipy>=1.6.0 in /usr/local/lib/python3.12/dist-packages (from scikit-learn>=1.4.2->scikeras) (1.16.2)\n",
            "Requirement already satisfied: joblib>=1.2.0 in /usr/local/lib/python3.12/dist-packages (from scikit-learn>=1.4.2->scikeras) (1.5.2)\n",
            "Requirement already satisfied: threadpoolctl>=3.1.0 in /usr/local/lib/python3.12/dist-packages (from scikit-learn>=1.4.2->scikeras) (3.6.0)\n",
            "Requirement already satisfied: typing-extensions>=4.6.0 in /usr/local/lib/python3.12/dist-packages (from optree->keras>=3.2.0->scikeras) (4.15.0)\n",
            "Requirement already satisfied: markdown-it-py>=2.2.0 in /usr/local/lib/python3.12/dist-packages (from rich->keras>=3.2.0->scikeras) (4.0.0)\n",
            "Requirement already satisfied: pygments<3.0.0,>=2.13.0 in /usr/local/lib/python3.12/dist-packages (from rich->keras>=3.2.0->scikeras) (2.19.2)\n",
            "Requirement already satisfied: mdurl~=0.1 in /usr/local/lib/python3.12/dist-packages (from markdown-it-py>=2.2.0->rich->keras>=3.2.0->scikeras) (0.1.2)\n"
          ]
        }
      ]
    },
    {
      "cell_type": "code",
      "execution_count": 14,
      "metadata": {
        "id": "ruXPP1zUT_B6"
      },
      "outputs": [],
      "source": [
        "# setting up the notebook with important libraries\n",
        "random_state = 42\n",
        "import tensorflow as tf\n",
        "from tensorflow import keras\n",
        "from keras.models import Sequential\n",
        "from keras.layers import Dense\n",
        "from sklearn.model_selection import train_test_split\n",
        "from sklearn.model_selection import cross_val_score\n",
        "from sklearn.model_selection import KFold\n",
        "from sklearn.preprocessing import StandardScaler\n",
        "from sklearn.pipeline import Pipeline"
      ]
    },
    {
      "cell_type": "markdown",
      "metadata": {
        "id": "Qn-eYs8MfGAQ"
      },
      "source": [
        "# Preamble\n",
        "\n",
        "### Hyperparameters\n",
        "\n",
        "A hyperparameter is a parameter whose value is set before the learning process begins.\n",
        "\n",
        "Some important Neural Networks hyperparameters include:\n",
        "\n",
        "- number of hidden layers\n",
        "- number of neurons\n",
        "- learning rate\n",
        "- activation function\n",
        "- optimizer settings\n",
        "\n",
        "Hyperparameters are crucial to the performance, speed, and quality of the machine learning models.\n",
        "\n",
        "Through Hyper parameter optimization, we find a tuple (best combination) of hyperparameters that yields an optimal model which minimizes a predefined loss function on given test data.\n",
        "\n",
        "Important hyperparameters that could be tuned include:\n",
        "\n",
        "- num_hidden_layers\n",
        "- neurons_per_layer\n",
        "- dropout_rate\n",
        "- activation\n",
        "- optimizer\n",
        "- learning_rate\n",
        "- batch_size\n",
        "\n",
        "### Loss Function\n",
        "\n",
        "- MSE (Mean Squared Error) is used as the score/loss function that will be minimized for hyperparameter optimization.\n",
        "- In this assignment, we are going to use Cross-Validation to calculate the score (MSE) for a given set of hyperparameter values\n",
        "\n",
        "- MSE is a desirable metric because by taking the square root gives us an error value we can directly understand in the context of the problem; for example, in this assignment it translates to thousands of dollars\n",
        "\n",
        "- Note: Your results may vary given the stochastic nature of the algorithm, evaluation procedure, or differences in numerical precision"
      ]
    },
    {
      "cell_type": "markdown",
      "metadata": {
        "id": "qs0FlcDeaSpi"
      },
      "source": [
        "## Dataset\n",
        "\n",
        "We will be using mock data for this assignment. the outcome is the sale price for some products. we have created 13 features to predict the sale price.\n",
        "\n",
        "- import provided mock data into your notebook.\n",
        "\n",
        "- You are **not** expected to perform Exploratory Data Analysis (EDA) on this dataset.\n",
        "\n",
        "- For the purpose of this assignment, your model's performance is not an important factor by itself - that is how far your sale price prediction is. The important factor is the changes that you observe when changing model architectures.\n",
        "\n",
        "- The information that follow are meant to be optional and to help you get familiar with the data. Your efforts on this assignment should focus on **model training and hyperparameter tuning**, not on EDA.\n"
      ]
    },
    {
      "cell_type": "markdown",
      "metadata": {
        "id": "iHL_GkQPoJE9"
      },
      "source": [
        "# Assignment Start\n",
        "***\n",
        "\n",
        "- Please follow all instructions carefully.\n",
        "\n",
        "- Use MSE (Mean Squared Error) as the score/loss function that will be minimized during optimization.\n",
        "\n",
        "\n",
        "\n",
        "\n",
        "\n",
        "\n"
      ]
    },
    {
      "cell_type": "markdown",
      "metadata": {
        "id": "Ar6TpPmfeoDy"
      },
      "source": [
        "#Data Import\n",
        "\n",
        "The code below imports the data for you as dataframe, then you may need to convert it to numpy arrays.  "
      ]
    },
    {
      "cell_type": "code",
      "source": [
        "# You can use the code below to import the data\n",
        "# Option 3 - from local using the files that are available\n",
        "## Imports pandas, which you’ll use to load and manipulate CSV data.\n",
        "import pandas as pd\n",
        "\n",
        "# mount the colab\n",
        "from google.colab import drive\n",
        "drive.mount('/content/drive')\n",
        "\n",
        "# Next, You need to upload tables to your G drive -  then you may need to update paths below\n",
        "# load the  data into a pandas dataframe for easy viewing and manipulation\n",
        "df_train_y = pd.read_csv(\"/content/drive/MyDrive/Colab_Notebooks/Deep_Learning_Assignments/y_train.csv\", index_col=0)\n",
        "df_test_y = pd.read_csv(\"/content/drive/MyDrive/Colab_Notebooks/Deep_Learning_Assignments/y_test.csv\", index_col=0)\n",
        "df_train_x = pd.read_csv(\"/content/drive/MyDrive/Colab_Notebooks/Deep_Learning_Assignments/X_train.csv\", index_col=0)\n",
        "df_test_x = pd.read_csv(\"/content/drive/MyDrive/Colab_Notebooks/Deep_Learning_Assignments/X_test.csv\", index_col=0)"
      ],
      "metadata": {
        "colab": {
          "base_uri": "https://localhost:8080/"
        },
        "id": "DuK-rb0uwqw0",
        "outputId": "32bcf64c-53aa-4a1f-a7bb-9d52423a0905"
      },
      "execution_count": 8,
      "outputs": [
        {
          "output_type": "stream",
          "name": "stdout",
          "text": [
            "Drive already mounted at /content/drive; to attempt to forcibly remount, call drive.mount(\"/content/drive\", force_remount=True).\n"
          ]
        }
      ]
    },
    {
      "cell_type": "code",
      "source": [
        "## Let's look at data\n",
        "df_train_x.head()"
      ],
      "metadata": {
        "id": "k__LvYjJJgUP",
        "outputId": "3b22bd93-aeeb-42bb-9312-873216afb245",
        "colab": {
          "base_uri": "https://localhost:8080/",
          "height": 206
        }
      },
      "execution_count": 9,
      "outputs": [
        {
          "output_type": "execute_result",
          "data": {
            "text/plain": [
              "         0     1      2    3      4      5      6       7     8      9    10  \\\n",
              "0  1.23247   0.0   8.14  0.0  0.538  6.142   91.7  3.9769   4.0  307.0  21.0   \n",
              "1  0.02177  82.5   2.03  0.0  0.415  7.610   15.7  6.2700   2.0  348.0  14.7   \n",
              "2  4.89822   0.0  18.10  0.0  0.631  4.970  100.0  1.3325  24.0  666.0  20.2   \n",
              "3  0.03961   0.0   5.19  0.0  0.515  6.037   34.5  5.9853   5.0  224.0  20.2   \n",
              "4  3.69311   0.0  18.10  0.0  0.713  6.376   88.4  2.5671  24.0  666.0  20.2   \n",
              "\n",
              "       11     12  \n",
              "0  396.90  18.72  \n",
              "1  395.38   3.11  \n",
              "2  375.52   3.26  \n",
              "3  396.90   8.01  \n",
              "4  391.43  14.65  "
            ],
            "text/html": [
              "\n",
              "  <div id=\"df-44da67c6-de12-40e7-a08b-7b8f84e1e3b2\" class=\"colab-df-container\">\n",
              "    <div>\n",
              "<style scoped>\n",
              "    .dataframe tbody tr th:only-of-type {\n",
              "        vertical-align: middle;\n",
              "    }\n",
              "\n",
              "    .dataframe tbody tr th {\n",
              "        vertical-align: top;\n",
              "    }\n",
              "\n",
              "    .dataframe thead th {\n",
              "        text-align: right;\n",
              "    }\n",
              "</style>\n",
              "<table border=\"1\" class=\"dataframe\">\n",
              "  <thead>\n",
              "    <tr style=\"text-align: right;\">\n",
              "      <th></th>\n",
              "      <th>0</th>\n",
              "      <th>1</th>\n",
              "      <th>2</th>\n",
              "      <th>3</th>\n",
              "      <th>4</th>\n",
              "      <th>5</th>\n",
              "      <th>6</th>\n",
              "      <th>7</th>\n",
              "      <th>8</th>\n",
              "      <th>9</th>\n",
              "      <th>10</th>\n",
              "      <th>11</th>\n",
              "      <th>12</th>\n",
              "    </tr>\n",
              "  </thead>\n",
              "  <tbody>\n",
              "    <tr>\n",
              "      <th>0</th>\n",
              "      <td>1.23247</td>\n",
              "      <td>0.0</td>\n",
              "      <td>8.14</td>\n",
              "      <td>0.0</td>\n",
              "      <td>0.538</td>\n",
              "      <td>6.142</td>\n",
              "      <td>91.7</td>\n",
              "      <td>3.9769</td>\n",
              "      <td>4.0</td>\n",
              "      <td>307.0</td>\n",
              "      <td>21.0</td>\n",
              "      <td>396.90</td>\n",
              "      <td>18.72</td>\n",
              "    </tr>\n",
              "    <tr>\n",
              "      <th>1</th>\n",
              "      <td>0.02177</td>\n",
              "      <td>82.5</td>\n",
              "      <td>2.03</td>\n",
              "      <td>0.0</td>\n",
              "      <td>0.415</td>\n",
              "      <td>7.610</td>\n",
              "      <td>15.7</td>\n",
              "      <td>6.2700</td>\n",
              "      <td>2.0</td>\n",
              "      <td>348.0</td>\n",
              "      <td>14.7</td>\n",
              "      <td>395.38</td>\n",
              "      <td>3.11</td>\n",
              "    </tr>\n",
              "    <tr>\n",
              "      <th>2</th>\n",
              "      <td>4.89822</td>\n",
              "      <td>0.0</td>\n",
              "      <td>18.10</td>\n",
              "      <td>0.0</td>\n",
              "      <td>0.631</td>\n",
              "      <td>4.970</td>\n",
              "      <td>100.0</td>\n",
              "      <td>1.3325</td>\n",
              "      <td>24.0</td>\n",
              "      <td>666.0</td>\n",
              "      <td>20.2</td>\n",
              "      <td>375.52</td>\n",
              "      <td>3.26</td>\n",
              "    </tr>\n",
              "    <tr>\n",
              "      <th>3</th>\n",
              "      <td>0.03961</td>\n",
              "      <td>0.0</td>\n",
              "      <td>5.19</td>\n",
              "      <td>0.0</td>\n",
              "      <td>0.515</td>\n",
              "      <td>6.037</td>\n",
              "      <td>34.5</td>\n",
              "      <td>5.9853</td>\n",
              "      <td>5.0</td>\n",
              "      <td>224.0</td>\n",
              "      <td>20.2</td>\n",
              "      <td>396.90</td>\n",
              "      <td>8.01</td>\n",
              "    </tr>\n",
              "    <tr>\n",
              "      <th>4</th>\n",
              "      <td>3.69311</td>\n",
              "      <td>0.0</td>\n",
              "      <td>18.10</td>\n",
              "      <td>0.0</td>\n",
              "      <td>0.713</td>\n",
              "      <td>6.376</td>\n",
              "      <td>88.4</td>\n",
              "      <td>2.5671</td>\n",
              "      <td>24.0</td>\n",
              "      <td>666.0</td>\n",
              "      <td>20.2</td>\n",
              "      <td>391.43</td>\n",
              "      <td>14.65</td>\n",
              "    </tr>\n",
              "  </tbody>\n",
              "</table>\n",
              "</div>\n",
              "    <div class=\"colab-df-buttons\">\n",
              "\n",
              "  <div class=\"colab-df-container\">\n",
              "    <button class=\"colab-df-convert\" onclick=\"convertToInteractive('df-44da67c6-de12-40e7-a08b-7b8f84e1e3b2')\"\n",
              "            title=\"Convert this dataframe to an interactive table.\"\n",
              "            style=\"display:none;\">\n",
              "\n",
              "  <svg xmlns=\"http://www.w3.org/2000/svg\" height=\"24px\" viewBox=\"0 -960 960 960\">\n",
              "    <path d=\"M120-120v-720h720v720H120Zm60-500h600v-160H180v160Zm220 220h160v-160H400v160Zm0 220h160v-160H400v160ZM180-400h160v-160H180v160Zm440 0h160v-160H620v160ZM180-180h160v-160H180v160Zm440 0h160v-160H620v160Z\"/>\n",
              "  </svg>\n",
              "    </button>\n",
              "\n",
              "  <style>\n",
              "    .colab-df-container {\n",
              "      display:flex;\n",
              "      gap: 12px;\n",
              "    }\n",
              "\n",
              "    .colab-df-convert {\n",
              "      background-color: #E8F0FE;\n",
              "      border: none;\n",
              "      border-radius: 50%;\n",
              "      cursor: pointer;\n",
              "      display: none;\n",
              "      fill: #1967D2;\n",
              "      height: 32px;\n",
              "      padding: 0 0 0 0;\n",
              "      width: 32px;\n",
              "    }\n",
              "\n",
              "    .colab-df-convert:hover {\n",
              "      background-color: #E2EBFA;\n",
              "      box-shadow: 0px 1px 2px rgba(60, 64, 67, 0.3), 0px 1px 3px 1px rgba(60, 64, 67, 0.15);\n",
              "      fill: #174EA6;\n",
              "    }\n",
              "\n",
              "    .colab-df-buttons div {\n",
              "      margin-bottom: 4px;\n",
              "    }\n",
              "\n",
              "    [theme=dark] .colab-df-convert {\n",
              "      background-color: #3B4455;\n",
              "      fill: #D2E3FC;\n",
              "    }\n",
              "\n",
              "    [theme=dark] .colab-df-convert:hover {\n",
              "      background-color: #434B5C;\n",
              "      box-shadow: 0px 1px 3px 1px rgba(0, 0, 0, 0.15);\n",
              "      filter: drop-shadow(0px 1px 2px rgba(0, 0, 0, 0.3));\n",
              "      fill: #FFFFFF;\n",
              "    }\n",
              "  </style>\n",
              "\n",
              "    <script>\n",
              "      const buttonEl =\n",
              "        document.querySelector('#df-44da67c6-de12-40e7-a08b-7b8f84e1e3b2 button.colab-df-convert');\n",
              "      buttonEl.style.display =\n",
              "        google.colab.kernel.accessAllowed ? 'block' : 'none';\n",
              "\n",
              "      async function convertToInteractive(key) {\n",
              "        const element = document.querySelector('#df-44da67c6-de12-40e7-a08b-7b8f84e1e3b2');\n",
              "        const dataTable =\n",
              "          await google.colab.kernel.invokeFunction('convertToInteractive',\n",
              "                                                    [key], {});\n",
              "        if (!dataTable) return;\n",
              "\n",
              "        const docLinkHtml = 'Like what you see? Visit the ' +\n",
              "          '<a target=\"_blank\" href=https://colab.research.google.com/notebooks/data_table.ipynb>data table notebook</a>'\n",
              "          + ' to learn more about interactive tables.';\n",
              "        element.innerHTML = '';\n",
              "        dataTable['output_type'] = 'display_data';\n",
              "        await google.colab.output.renderOutput(dataTable, element);\n",
              "        const docLink = document.createElement('div');\n",
              "        docLink.innerHTML = docLinkHtml;\n",
              "        element.appendChild(docLink);\n",
              "      }\n",
              "    </script>\n",
              "  </div>\n",
              "\n",
              "\n",
              "    <div id=\"df-e6b8b5e1-b619-4d10-9a10-f5627cdf6908\">\n",
              "      <button class=\"colab-df-quickchart\" onclick=\"quickchart('df-e6b8b5e1-b619-4d10-9a10-f5627cdf6908')\"\n",
              "                title=\"Suggest charts\"\n",
              "                style=\"display:none;\">\n",
              "\n",
              "<svg xmlns=\"http://www.w3.org/2000/svg\" height=\"24px\"viewBox=\"0 0 24 24\"\n",
              "     width=\"24px\">\n",
              "    <g>\n",
              "        <path d=\"M19 3H5c-1.1 0-2 .9-2 2v14c0 1.1.9 2 2 2h14c1.1 0 2-.9 2-2V5c0-1.1-.9-2-2-2zM9 17H7v-7h2v7zm4 0h-2V7h2v10zm4 0h-2v-4h2v4z\"/>\n",
              "    </g>\n",
              "</svg>\n",
              "      </button>\n",
              "\n",
              "<style>\n",
              "  .colab-df-quickchart {\n",
              "      --bg-color: #E8F0FE;\n",
              "      --fill-color: #1967D2;\n",
              "      --hover-bg-color: #E2EBFA;\n",
              "      --hover-fill-color: #174EA6;\n",
              "      --disabled-fill-color: #AAA;\n",
              "      --disabled-bg-color: #DDD;\n",
              "  }\n",
              "\n",
              "  [theme=dark] .colab-df-quickchart {\n",
              "      --bg-color: #3B4455;\n",
              "      --fill-color: #D2E3FC;\n",
              "      --hover-bg-color: #434B5C;\n",
              "      --hover-fill-color: #FFFFFF;\n",
              "      --disabled-bg-color: #3B4455;\n",
              "      --disabled-fill-color: #666;\n",
              "  }\n",
              "\n",
              "  .colab-df-quickchart {\n",
              "    background-color: var(--bg-color);\n",
              "    border: none;\n",
              "    border-radius: 50%;\n",
              "    cursor: pointer;\n",
              "    display: none;\n",
              "    fill: var(--fill-color);\n",
              "    height: 32px;\n",
              "    padding: 0;\n",
              "    width: 32px;\n",
              "  }\n",
              "\n",
              "  .colab-df-quickchart:hover {\n",
              "    background-color: var(--hover-bg-color);\n",
              "    box-shadow: 0 1px 2px rgba(60, 64, 67, 0.3), 0 1px 3px 1px rgba(60, 64, 67, 0.15);\n",
              "    fill: var(--button-hover-fill-color);\n",
              "  }\n",
              "\n",
              "  .colab-df-quickchart-complete:disabled,\n",
              "  .colab-df-quickchart-complete:disabled:hover {\n",
              "    background-color: var(--disabled-bg-color);\n",
              "    fill: var(--disabled-fill-color);\n",
              "    box-shadow: none;\n",
              "  }\n",
              "\n",
              "  .colab-df-spinner {\n",
              "    border: 2px solid var(--fill-color);\n",
              "    border-color: transparent;\n",
              "    border-bottom-color: var(--fill-color);\n",
              "    animation:\n",
              "      spin 1s steps(1) infinite;\n",
              "  }\n",
              "\n",
              "  @keyframes spin {\n",
              "    0% {\n",
              "      border-color: transparent;\n",
              "      border-bottom-color: var(--fill-color);\n",
              "      border-left-color: var(--fill-color);\n",
              "    }\n",
              "    20% {\n",
              "      border-color: transparent;\n",
              "      border-left-color: var(--fill-color);\n",
              "      border-top-color: var(--fill-color);\n",
              "    }\n",
              "    30% {\n",
              "      border-color: transparent;\n",
              "      border-left-color: var(--fill-color);\n",
              "      border-top-color: var(--fill-color);\n",
              "      border-right-color: var(--fill-color);\n",
              "    }\n",
              "    40% {\n",
              "      border-color: transparent;\n",
              "      border-right-color: var(--fill-color);\n",
              "      border-top-color: var(--fill-color);\n",
              "    }\n",
              "    60% {\n",
              "      border-color: transparent;\n",
              "      border-right-color: var(--fill-color);\n",
              "    }\n",
              "    80% {\n",
              "      border-color: transparent;\n",
              "      border-right-color: var(--fill-color);\n",
              "      border-bottom-color: var(--fill-color);\n",
              "    }\n",
              "    90% {\n",
              "      border-color: transparent;\n",
              "      border-bottom-color: var(--fill-color);\n",
              "    }\n",
              "  }\n",
              "</style>\n",
              "\n",
              "      <script>\n",
              "        async function quickchart(key) {\n",
              "          const quickchartButtonEl =\n",
              "            document.querySelector('#' + key + ' button');\n",
              "          quickchartButtonEl.disabled = true;  // To prevent multiple clicks.\n",
              "          quickchartButtonEl.classList.add('colab-df-spinner');\n",
              "          try {\n",
              "            const charts = await google.colab.kernel.invokeFunction(\n",
              "                'suggestCharts', [key], {});\n",
              "          } catch (error) {\n",
              "            console.error('Error during call to suggestCharts:', error);\n",
              "          }\n",
              "          quickchartButtonEl.classList.remove('colab-df-spinner');\n",
              "          quickchartButtonEl.classList.add('colab-df-quickchart-complete');\n",
              "        }\n",
              "        (() => {\n",
              "          let quickchartButtonEl =\n",
              "            document.querySelector('#df-e6b8b5e1-b619-4d10-9a10-f5627cdf6908 button');\n",
              "          quickchartButtonEl.style.display =\n",
              "            google.colab.kernel.accessAllowed ? 'block' : 'none';\n",
              "        })();\n",
              "      </script>\n",
              "    </div>\n",
              "\n",
              "    </div>\n",
              "  </div>\n"
            ],
            "application/vnd.google.colaboratory.intrinsic+json": {
              "type": "dataframe",
              "variable_name": "df_train_x",
              "summary": "{\n  \"name\": \"df_train_x\",\n  \"rows\": 404,\n  \"fields\": [\n    {\n      \"column\": \"0\",\n      \"properties\": {\n        \"dtype\": \"number\",\n        \"std\": 9.240734365476433,\n        \"min\": 0.00632,\n        \"max\": 88.9762,\n        \"num_unique_values\": 404,\n        \"samples\": [\n          0.17142,\n          1.42502,\n          0.03113\n        ],\n        \"semantic_type\": \"\",\n        \"description\": \"\"\n      }\n    },\n    {\n      \"column\": \"1\",\n      \"properties\": {\n        \"dtype\": \"number\",\n        \"std\": 23.767710731364645,\n        \"min\": 0.0,\n        \"max\": 100.0,\n        \"num_unique_values\": 25,\n        \"samples\": [\n          20.0,\n          85.0,\n          0.0\n        ],\n        \"semantic_type\": \"\",\n        \"description\": \"\"\n      }\n    },\n    {\n      \"column\": \"2\",\n      \"properties\": {\n        \"dtype\": \"number\",\n        \"std\": 6.811307590285245,\n        \"min\": 0.46,\n        \"max\": 27.74,\n        \"num_unique_values\": 71,\n        \"samples\": [\n          6.2,\n          8.14,\n          13.89\n        ],\n        \"semantic_type\": \"\",\n        \"description\": \"\"\n      }\n    },\n    {\n      \"column\": \"3\",\n      \"properties\": {\n        \"dtype\": \"number\",\n        \"std\": 0.24123838018034013,\n        \"min\": 0.0,\n        \"max\": 1.0,\n        \"num_unique_values\": 2,\n        \"samples\": [\n          1.0,\n          0.0\n        ],\n        \"semantic_type\": \"\",\n        \"description\": \"\"\n      }\n    },\n    {\n      \"column\": \"4\",\n      \"properties\": {\n        \"dtype\": \"number\",\n        \"std\": 0.11729310146793247,\n        \"min\": 0.385,\n        \"max\": 0.871,\n        \"num_unique_values\": 79,\n        \"samples\": [\n          0.507,\n          0.538\n        ],\n        \"semantic_type\": \"\",\n        \"description\": \"\"\n      }\n    },\n    {\n      \"column\": \"5\",\n      \"properties\": {\n        \"dtype\": \"number\",\n        \"std\": 0.709787621233784,\n        \"min\": 3.561,\n        \"max\": 8.725,\n        \"num_unique_values\": 374,\n        \"samples\": [\n          6.14,\n          5.935\n        ],\n        \"semantic_type\": \"\",\n        \"description\": \"\"\n      }\n    },\n    {\n      \"column\": \"6\",\n      \"properties\": {\n        \"dtype\": \"number\",\n        \"std\": 27.940664897596555,\n        \"min\": 2.9,\n        \"max\": 100.0,\n        \"num_unique_values\": 296,\n        \"samples\": [\n          37.8,\n          88.8\n        ],\n        \"semantic_type\": \"\",\n        \"description\": \"\"\n      }\n    },\n    {\n      \"column\": \"7\",\n      \"properties\": {\n        \"dtype\": \"number\",\n        \"std\": 2.030214697771033,\n        \"min\": 1.1296,\n        \"max\": 10.7103,\n        \"num_unique_values\": 338,\n        \"samples\": [\n          1.9142,\n          1.6582\n        ],\n        \"semantic_type\": \"\",\n        \"description\": \"\"\n      }\n    },\n    {\n      \"column\": \"8\",\n      \"properties\": {\n        \"dtype\": \"number\",\n        \"std\": 8.698360453797207,\n        \"min\": 1.0,\n        \"max\": 24.0,\n        \"num_unique_values\": 9,\n        \"samples\": [\n          8.0,\n          2.0\n        ],\n        \"semantic_type\": \"\",\n        \"description\": \"\"\n      }\n    },\n    {\n      \"column\": \"9\",\n      \"properties\": {\n        \"dtype\": \"number\",\n        \"std\": 166.37454262751075,\n        \"min\": 188.0,\n        \"max\": 711.0,\n        \"num_unique_values\": 62,\n        \"samples\": [\n          329.0,\n          337.0\n        ],\n        \"semantic_type\": \"\",\n        \"description\": \"\"\n      }\n    },\n    {\n      \"column\": \"10\",\n      \"properties\": {\n        \"dtype\": \"number\",\n        \"std\": 2.2003818211189334,\n        \"min\": 12.6,\n        \"max\": 22.0,\n        \"num_unique_values\": 46,\n        \"samples\": [\n          21.1,\n          18.0\n        ],\n        \"semantic_type\": \"\",\n        \"description\": \"\"\n      }\n    },\n    {\n      \"column\": \"11\",\n      \"properties\": {\n        \"dtype\": \"number\",\n        \"std\": 94.11114780831178,\n        \"min\": 0.32,\n        \"max\": 396.9,\n        \"num_unique_values\": 286,\n        \"samples\": [\n          359.29,\n          392.18\n        ],\n        \"semantic_type\": \"\",\n        \"description\": \"\"\n      }\n    },\n    {\n      \"column\": \"12\",\n      \"properties\": {\n        \"dtype\": \"number\",\n        \"std\": 7.254544811560666,\n        \"min\": 1.73,\n        \"max\": 37.97,\n        \"num_unique_values\": 371,\n        \"samples\": [\n          11.64,\n          6.58\n        ],\n        \"semantic_type\": \"\",\n        \"description\": \"\"\n      }\n    }\n  ]\n}"
            }
          },
          "metadata": {},
          "execution_count": 9
        }
      ]
    },
    {
      "cell_type": "code",
      "source": [
        "## Let's look at shape of the data\n",
        "df_train_x.shape"
      ],
      "metadata": {
        "colab": {
          "base_uri": "https://localhost:8080/"
        },
        "id": "YHQkHSrnshGn",
        "outputId": "2b023fa8-299f-4465-fa76-d19b8fc46e7f"
      },
      "execution_count": 10,
      "outputs": [
        {
          "output_type": "execute_result",
          "data": {
            "text/plain": [
              "(404, 13)"
            ]
          },
          "metadata": {},
          "execution_count": 10
        }
      ]
    },
    {
      "cell_type": "markdown",
      "metadata": {
        "id": "sDl1bkKjbbGw"
      },
      "source": [
        "# Part 1: Impact of Changing Model Architecture\n",
        "\n",
        "In this section, we will be comparing a simple single-layer baseline model with two other models having a different network topology."
      ]
    },
    {
      "cell_type": "markdown",
      "metadata": {
        "id": "z82OOouVaVrt"
      },
      "source": [
        "## a) Baseline model [2 points]\n",
        "\n",
        "Use Keras to develop a baseline neural network model that has **one single fully-connected hidden layer with the same number of neurons as input features (i.e. 13 neurons).**\n",
        "\n",
        "Make sure to **standardize** your features (i.e. subtract mean and divide by standard deviation) before training your model. You can also perform any other data-preprocessing that you deem necessary.\n",
        "\n",
        "- Note: No activation function is used for the output layer because it is a regression problem and we are interested in predicting numerical values directly without transformation.\n",
        "\n",
        "- The ADAM optimization algorithm should be used to optimize mean squared error loss function.\n",
        "\n",
        "- Plot learning curves and report on both training and validation performance."
      ]
    },
    {
      "cell_type": "markdown",
      "source": [
        "Baseline Model Architecture:\n",
        "Input(13 features)-->Dense(13, activation=\"relu\")-->Dense(1)"
      ],
      "metadata": {
        "id": "lgqMWRETwzAY"
      }
    },
    {
      "cell_type": "markdown",
      "source": [
        "Summary of Steps:\n",
        "\n",
        "1- Load dataset.\n",
        "\n",
        "2- Split into train/val/test.\n",
        "\n",
        "3- Standardize features.\n",
        "\n",
        "4- Build model: Input → Dense(13, relu) → Dense(1).\n",
        "\n",
        "5- Compile with Adam + MSE.\n",
        "\n",
        "6- Train model with training data.\n",
        "\n",
        "7- Plot learning curves.\n",
        "\n",
        "8- Report train/validation MSE."
      ],
      "metadata": {
        "id": "mJ4ObH5Fi5Tp"
      }
    },
    {
      "cell_type": "code",
      "source": [
        "# Additional Data preprocessing\n",
        "# Convert y to 1D array\n",
        "train_y = df_train_y.iloc[:,0]\n",
        "test_y = df_test_y.iloc[:,0]\n",
        "\n",
        "# Split the training sets to training + validation\n",
        "train_X, val_X, train_y, val_y = train_test_split(df_train_x, train_y, test_size=0.2, random_state=42)"
      ],
      "metadata": {
        "id": "GDTmReBCa0bu"
      },
      "execution_count": 11,
      "outputs": []
    },
    {
      "cell_type": "code",
      "source": [
        "# Hint : to make it easier, you may try to standardize your data upfront\n",
        "## Neural networks train better when input data is standardized. This ensures each feature has mean 0 and std 1. We have to make sure split happens before standardization.\n",
        "from sklearn.preprocessing import StandardScaler\n",
        "scaler = StandardScaler()\n",
        "X_train_scaled = scaler.fit_transform(train_X)\n",
        "X_val_scaled = scaler.transform(val_X)\n",
        "X_test_scaled = scaler.transform(df_test_x)"
      ],
      "metadata": {
        "id": "6PgAwae1wxpM"
      },
      "execution_count": 12,
      "outputs": []
    },
    {
      "cell_type": "code",
      "source": [
        "# be sure to comment on your results for each and every question, describing not just\n",
        "# the what, but the 'how' and 'why' where possible, to demonstrate your understanding of course content"
      ],
      "metadata": {
        "id": "RsGSwgc-a1kb"
      },
      "execution_count": 13,
      "outputs": []
    },
    {
      "cell_type": "code",
      "source": [
        "# Let's Build the Baseline Keras Model\n",
        "model = Sequential([\n",
        "    Dense(13, activation = \"relu\", input_shape=(13,)),\n",
        "    Dense(1) #as this is a regression model we don't need any activation functions\n",
        "])"
      ],
      "metadata": {
        "colab": {
          "base_uri": "https://localhost:8080/"
        },
        "id": "gWIaPxnmpMz-",
        "outputId": "bb57d689-a3e9-44fc-d8fd-5aeab8ad884b"
      },
      "execution_count": 18,
      "outputs": [
        {
          "output_type": "stream",
          "name": "stderr",
          "text": [
            "/usr/local/lib/python3.12/dist-packages/keras/src/layers/core/dense.py:93: UserWarning: Do not pass an `input_shape`/`input_dim` argument to a layer. When using Sequential models, prefer using an `Input(shape)` object as the first layer in the model instead.\n",
            "  super().__init__(activity_regularizer=activity_regularizer, **kwargs)\n"
          ]
        }
      ]
    },
    {
      "cell_type": "code",
      "source": [
        "# Compile the keras Model\n",
        "model.compile(optimizer = \"adam\", loss = \"mse\", metrics = [\"mse\"])"
      ],
      "metadata": {
        "id": "rnuICZoYrq2F"
      },
      "execution_count": 21,
      "outputs": []
    },
    {
      "cell_type": "code",
      "source": [
        "# Let's train the model\n",
        "history = model.fit(\n",
        "    X_train_scaled, train_y,\n",
        "    validation_data = (val_X, val_y),\n",
        "    epochs = 100,\n",
        "    batch_size=32,\n",
        "    verbose = 1\n",
        ")"
      ],
      "metadata": {
        "id": "Phg5SP32s44L",
        "outputId": "aceed30e-4af5-43de-e054-00d06b088dc6",
        "colab": {
          "base_uri": "https://localhost:8080/"
        }
      },
      "execution_count": 22,
      "outputs": [
        {
          "output_type": "stream",
          "name": "stdout",
          "text": [
            "Epoch 1/100\n",
            "\u001b[1m11/11\u001b[0m \u001b[32m━━━━━━━━━━━━━━━━━━━━\u001b[0m\u001b[37m\u001b[0m \u001b[1m2s\u001b[0m 32ms/step - loss: 568.4567 - mse: 568.4567 - val_loss: 26494.7383 - val_mse: 26494.7383\n",
            "Epoch 2/100\n",
            "\u001b[1m11/11\u001b[0m \u001b[32m━━━━━━━━━━━━━━━━━━━━\u001b[0m\u001b[37m\u001b[0m \u001b[1m0s\u001b[0m 11ms/step - loss: 558.5764 - mse: 558.5764 - val_loss: 32020.5312 - val_mse: 32020.5312\n",
            "Epoch 3/100\n",
            "\u001b[1m11/11\u001b[0m \u001b[32m━━━━━━━━━━━━━━━━━━━━\u001b[0m\u001b[37m\u001b[0m \u001b[1m0s\u001b[0m 12ms/step - loss: 539.1396 - mse: 539.1396 - val_loss: 38472.7969 - val_mse: 38472.7969\n",
            "Epoch 4/100\n",
            "\u001b[1m11/11\u001b[0m \u001b[32m━━━━━━━━━━━━━━━━━━━━\u001b[0m\u001b[37m\u001b[0m \u001b[1m0s\u001b[0m 12ms/step - loss: 542.9214 - mse: 542.9214 - val_loss: 45385.8008 - val_mse: 45385.8008\n",
            "Epoch 5/100\n",
            "\u001b[1m11/11\u001b[0m \u001b[32m━━━━━━━━━━━━━━━━━━━━\u001b[0m\u001b[37m\u001b[0m \u001b[1m0s\u001b[0m 13ms/step - loss: 553.8478 - mse: 553.8478 - val_loss: 53408.1836 - val_mse: 53408.1836\n",
            "Epoch 6/100\n",
            "\u001b[1m11/11\u001b[0m \u001b[32m━━━━━━━━━━━━━━━━━━━━\u001b[0m\u001b[37m\u001b[0m \u001b[1m0s\u001b[0m 13ms/step - loss: 527.3271 - mse: 527.3271 - val_loss: 62058.7852 - val_mse: 62058.7852\n",
            "Epoch 7/100\n",
            "\u001b[1m11/11\u001b[0m \u001b[32m━━━━━━━━━━━━━━━━━━━━\u001b[0m\u001b[37m\u001b[0m \u001b[1m0s\u001b[0m 11ms/step - loss: 525.1887 - mse: 525.1887 - val_loss: 71644.7500 - val_mse: 71644.7500\n",
            "Epoch 8/100\n",
            "\u001b[1m11/11\u001b[0m \u001b[32m━━━━━━━━━━━━━━━━━━━━\u001b[0m\u001b[37m\u001b[0m \u001b[1m0s\u001b[0m 11ms/step - loss: 512.3700 - mse: 512.3700 - val_loss: 80933.0781 - val_mse: 80933.0781\n",
            "Epoch 9/100\n",
            "\u001b[1m11/11\u001b[0m \u001b[32m━━━━━━━━━━━━━━━━━━━━\u001b[0m\u001b[37m\u001b[0m \u001b[1m0s\u001b[0m 12ms/step - loss: 518.3888 - mse: 518.3888 - val_loss: 91469.8438 - val_mse: 91469.8438\n",
            "Epoch 10/100\n",
            "\u001b[1m11/11\u001b[0m \u001b[32m━━━━━━━━━━━━━━━━━━━━\u001b[0m\u001b[37m\u001b[0m \u001b[1m0s\u001b[0m 12ms/step - loss: 493.0933 - mse: 493.0933 - val_loss: 104593.7266 - val_mse: 104593.7266\n",
            "Epoch 11/100\n",
            "\u001b[1m11/11\u001b[0m \u001b[32m━━━━━━━━━━━━━━━━━━━━\u001b[0m\u001b[37m\u001b[0m \u001b[1m0s\u001b[0m 15ms/step - loss: 473.0573 - mse: 473.0573 - val_loss: 118053.0859 - val_mse: 118053.0859\n",
            "Epoch 12/100\n",
            "\u001b[1m11/11\u001b[0m \u001b[32m━━━━━━━━━━━━━━━━━━━━\u001b[0m\u001b[37m\u001b[0m \u001b[1m0s\u001b[0m 13ms/step - loss: 461.2003 - mse: 461.2003 - val_loss: 131565.1406 - val_mse: 131565.1406\n",
            "Epoch 13/100\n",
            "\u001b[1m11/11\u001b[0m \u001b[32m━━━━━━━━━━━━━━━━━━━━\u001b[0m\u001b[37m\u001b[0m \u001b[1m0s\u001b[0m 13ms/step - loss: 450.9870 - mse: 450.9870 - val_loss: 146671.9062 - val_mse: 146671.9062\n",
            "Epoch 14/100\n",
            "\u001b[1m11/11\u001b[0m \u001b[32m━━━━━━━━━━━━━━━━━━━━\u001b[0m\u001b[37m\u001b[0m \u001b[1m0s\u001b[0m 13ms/step - loss: 460.5707 - mse: 460.5707 - val_loss: 161391.0156 - val_mse: 161391.0312\n",
            "Epoch 15/100\n",
            "\u001b[1m11/11\u001b[0m \u001b[32m━━━━━━━━━━━━━━━━━━━━\u001b[0m\u001b[37m\u001b[0m \u001b[1m0s\u001b[0m 12ms/step - loss: 471.9573 - mse: 471.9573 - val_loss: 176190.8750 - val_mse: 176190.8750\n",
            "Epoch 16/100\n",
            "\u001b[1m11/11\u001b[0m \u001b[32m━━━━━━━━━━━━━━━━━━━━\u001b[0m\u001b[37m\u001b[0m \u001b[1m0s\u001b[0m 12ms/step - loss: 394.8772 - mse: 394.8772 - val_loss: 191017.1406 - val_mse: 191017.1406\n",
            "Epoch 17/100\n",
            "\u001b[1m11/11\u001b[0m \u001b[32m━━━━━━━━━━━━━━━━━━━━\u001b[0m\u001b[37m\u001b[0m \u001b[1m0s\u001b[0m 11ms/step - loss: 382.6613 - mse: 382.6613 - val_loss: 207360.8438 - val_mse: 207360.8438\n",
            "Epoch 18/100\n",
            "\u001b[1m11/11\u001b[0m \u001b[32m━━━━━━━━━━━━━━━━━━━━\u001b[0m\u001b[37m\u001b[0m \u001b[1m0s\u001b[0m 10ms/step - loss: 396.3127 - mse: 396.3127 - val_loss: 223161.8281 - val_mse: 223161.8281\n",
            "Epoch 19/100\n",
            "\u001b[1m11/11\u001b[0m \u001b[32m━━━━━━━━━━━━━━━━━━━━\u001b[0m\u001b[37m\u001b[0m \u001b[1m0s\u001b[0m 11ms/step - loss: 366.7977 - mse: 366.7977 - val_loss: 239477.5312 - val_mse: 239477.5312\n",
            "Epoch 20/100\n",
            "\u001b[1m11/11\u001b[0m \u001b[32m━━━━━━━━━━━━━━━━━━━━\u001b[0m\u001b[37m\u001b[0m \u001b[1m0s\u001b[0m 10ms/step - loss: 370.1173 - mse: 370.1173 - val_loss: 254803.2656 - val_mse: 254803.2656\n",
            "Epoch 21/100\n",
            "\u001b[1m11/11\u001b[0m \u001b[32m━━━━━━━━━━━━━━━━━━━━\u001b[0m\u001b[37m\u001b[0m \u001b[1m0s\u001b[0m 11ms/step - loss: 360.7048 - mse: 360.7048 - val_loss: 273404.9375 - val_mse: 273404.9375\n",
            "Epoch 22/100\n",
            "\u001b[1m11/11\u001b[0m \u001b[32m━━━━━━━━━━━━━━━━━━━━\u001b[0m\u001b[37m\u001b[0m \u001b[1m0s\u001b[0m 11ms/step - loss: 354.1157 - mse: 354.1157 - val_loss: 293465.3438 - val_mse: 293465.3438\n",
            "Epoch 23/100\n",
            "\u001b[1m11/11\u001b[0m \u001b[32m━━━━━━━━━━━━━━━━━━━━\u001b[0m\u001b[37m\u001b[0m \u001b[1m0s\u001b[0m 9ms/step - loss: 345.3088 - mse: 345.3088 - val_loss: 312768.6250 - val_mse: 312768.6250\n",
            "Epoch 24/100\n",
            "\u001b[1m11/11\u001b[0m \u001b[32m━━━━━━━━━━━━━━━━━━━━\u001b[0m\u001b[37m\u001b[0m \u001b[1m0s\u001b[0m 15ms/step - loss: 312.2007 - mse: 312.2007 - val_loss: 334200.0625 - val_mse: 334200.0625\n",
            "Epoch 25/100\n",
            "\u001b[1m11/11\u001b[0m \u001b[32m━━━━━━━━━━━━━━━━━━━━\u001b[0m\u001b[37m\u001b[0m \u001b[1m0s\u001b[0m 12ms/step - loss: 313.8795 - mse: 313.8795 - val_loss: 356807.2188 - val_mse: 356807.2188\n",
            "Epoch 26/100\n",
            "\u001b[1m11/11\u001b[0m \u001b[32m━━━━━━━━━━━━━━━━━━━━\u001b[0m\u001b[37m\u001b[0m \u001b[1m0s\u001b[0m 13ms/step - loss: 297.2982 - mse: 297.2982 - val_loss: 375981.6875 - val_mse: 375981.6875\n",
            "Epoch 27/100\n",
            "\u001b[1m11/11\u001b[0m \u001b[32m━━━━━━━━━━━━━━━━━━━━\u001b[0m\u001b[37m\u001b[0m \u001b[1m0s\u001b[0m 11ms/step - loss: 283.0080 - mse: 283.0080 - val_loss: 396370.6562 - val_mse: 396370.6562\n",
            "Epoch 28/100\n",
            "\u001b[1m11/11\u001b[0m \u001b[32m━━━━━━━━━━━━━━━━━━━━\u001b[0m\u001b[37m\u001b[0m \u001b[1m0s\u001b[0m 15ms/step - loss: 276.5735 - mse: 276.5735 - val_loss: 426074.5312 - val_mse: 426074.5312\n",
            "Epoch 29/100\n",
            "\u001b[1m11/11\u001b[0m \u001b[32m━━━━━━━━━━━━━━━━━━━━\u001b[0m\u001b[37m\u001b[0m \u001b[1m0s\u001b[0m 13ms/step - loss: 243.8243 - mse: 243.8243 - val_loss: 450180.2812 - val_mse: 450180.2812\n",
            "Epoch 30/100\n",
            "\u001b[1m11/11\u001b[0m \u001b[32m━━━━━━━━━━━━━━━━━━━━\u001b[0m\u001b[37m\u001b[0m \u001b[1m0s\u001b[0m 15ms/step - loss: 266.6898 - mse: 266.6898 - val_loss: 472763.2500 - val_mse: 472763.2500\n",
            "Epoch 31/100\n",
            "\u001b[1m11/11\u001b[0m \u001b[32m━━━━━━━━━━━━━━━━━━━━\u001b[0m\u001b[37m\u001b[0m \u001b[1m0s\u001b[0m 13ms/step - loss: 228.1414 - mse: 228.1414 - val_loss: 492263.2500 - val_mse: 492263.2500\n",
            "Epoch 32/100\n",
            "\u001b[1m11/11\u001b[0m \u001b[32m━━━━━━━━━━━━━━━━━━━━\u001b[0m\u001b[37m\u001b[0m \u001b[1m0s\u001b[0m 35ms/step - loss: 211.6448 - mse: 211.6448 - val_loss: 513117.1250 - val_mse: 513117.1250\n",
            "Epoch 33/100\n",
            "\u001b[1m11/11\u001b[0m \u001b[32m━━━━━━━━━━━━━━━━━━━━\u001b[0m\u001b[37m\u001b[0m \u001b[1m0s\u001b[0m 21ms/step - loss: 223.9139 - mse: 223.9139 - val_loss: 535026.0000 - val_mse: 535026.0000\n",
            "Epoch 34/100\n",
            "\u001b[1m11/11\u001b[0m \u001b[32m━━━━━━━━━━━━━━━━━━━━\u001b[0m\u001b[37m\u001b[0m \u001b[1m0s\u001b[0m 19ms/step - loss: 211.4687 - mse: 211.4687 - val_loss: 557781.0625 - val_mse: 557781.0625\n",
            "Epoch 35/100\n",
            "\u001b[1m11/11\u001b[0m \u001b[32m━━━━━━━━━━━━━━━━━━━━\u001b[0m\u001b[37m\u001b[0m \u001b[1m0s\u001b[0m 14ms/step - loss: 172.6295 - mse: 172.6295 - val_loss: 580998.5000 - val_mse: 580998.5000\n",
            "Epoch 36/100\n",
            "\u001b[1m11/11\u001b[0m \u001b[32m━━━━━━━━━━━━━━━━━━━━\u001b[0m\u001b[37m\u001b[0m \u001b[1m0s\u001b[0m 18ms/step - loss: 181.7753 - mse: 181.7753 - val_loss: 604843.6250 - val_mse: 604843.6250\n",
            "Epoch 37/100\n",
            "\u001b[1m11/11\u001b[0m \u001b[32m━━━━━━━━━━━━━━━━━━━━\u001b[0m\u001b[37m\u001b[0m \u001b[1m0s\u001b[0m 16ms/step - loss: 206.9833 - mse: 206.9833 - val_loss: 630493.3125 - val_mse: 630493.3125\n",
            "Epoch 38/100\n",
            "\u001b[1m11/11\u001b[0m \u001b[32m━━━━━━━━━━━━━━━━━━━━\u001b[0m\u001b[37m\u001b[0m \u001b[1m0s\u001b[0m 13ms/step - loss: 183.2946 - mse: 183.2946 - val_loss: 655527.6875 - val_mse: 655527.6875\n",
            "Epoch 39/100\n",
            "\u001b[1m11/11\u001b[0m \u001b[32m━━━━━━━━━━━━━━━━━━━━\u001b[0m\u001b[37m\u001b[0m \u001b[1m0s\u001b[0m 18ms/step - loss: 166.6148 - mse: 166.6148 - val_loss: 680794.6250 - val_mse: 680794.6250\n",
            "Epoch 40/100\n",
            "\u001b[1m11/11\u001b[0m \u001b[32m━━━━━━━━━━━━━━━━━━━━\u001b[0m\u001b[37m\u001b[0m \u001b[1m0s\u001b[0m 13ms/step - loss: 139.4694 - mse: 139.4694 - val_loss: 701259.1875 - val_mse: 701259.1875\n",
            "Epoch 41/100\n",
            "\u001b[1m11/11\u001b[0m \u001b[32m━━━━━━━━━━━━━━━━━━━━\u001b[0m\u001b[37m\u001b[0m \u001b[1m0s\u001b[0m 14ms/step - loss: 146.2980 - mse: 146.2980 - val_loss: 729166.0000 - val_mse: 729166.0000\n",
            "Epoch 42/100\n",
            "\u001b[1m11/11\u001b[0m \u001b[32m━━━━━━━━━━━━━━━━━━━━\u001b[0m\u001b[37m\u001b[0m \u001b[1m0s\u001b[0m 14ms/step - loss: 146.3805 - mse: 146.3805 - val_loss: 753639.6250 - val_mse: 753639.6250\n",
            "Epoch 43/100\n",
            "\u001b[1m11/11\u001b[0m \u001b[32m━━━━━━━━━━━━━━━━━━━━\u001b[0m\u001b[37m\u001b[0m \u001b[1m0s\u001b[0m 16ms/step - loss: 131.4899 - mse: 131.4899 - val_loss: 780426.6875 - val_mse: 780426.6875\n",
            "Epoch 44/100\n",
            "\u001b[1m11/11\u001b[0m \u001b[32m━━━━━━━━━━━━━━━━━━━━\u001b[0m\u001b[37m\u001b[0m \u001b[1m0s\u001b[0m 18ms/step - loss: 115.3339 - mse: 115.3339 - val_loss: 807665.5625 - val_mse: 807665.5625\n",
            "Epoch 45/100\n",
            "\u001b[1m11/11\u001b[0m \u001b[32m━━━━━━━━━━━━━━━━━━━━\u001b[0m\u001b[37m\u001b[0m \u001b[1m0s\u001b[0m 15ms/step - loss: 135.7066 - mse: 135.7066 - val_loss: 840583.5000 - val_mse: 840583.5000\n",
            "Epoch 46/100\n",
            "\u001b[1m11/11\u001b[0m \u001b[32m━━━━━━━━━━━━━━━━━━━━\u001b[0m\u001b[37m\u001b[0m \u001b[1m0s\u001b[0m 9ms/step - loss: 116.6843 - mse: 116.6843 - val_loss: 874766.9375 - val_mse: 874766.9375\n",
            "Epoch 47/100\n",
            "\u001b[1m11/11\u001b[0m \u001b[32m━━━━━━━━━━━━━━━━━━━━\u001b[0m\u001b[37m\u001b[0m \u001b[1m0s\u001b[0m 9ms/step - loss: 121.5032 - mse: 121.5032 - val_loss: 899157.6250 - val_mse: 899157.6250\n",
            "Epoch 48/100\n",
            "\u001b[1m11/11\u001b[0m \u001b[32m━━━━━━━━━━━━━━━━━━━━\u001b[0m\u001b[37m\u001b[0m \u001b[1m0s\u001b[0m 10ms/step - loss: 110.4419 - mse: 110.4419 - val_loss: 925532.9375 - val_mse: 925532.9375\n",
            "Epoch 49/100\n",
            "\u001b[1m11/11\u001b[0m \u001b[32m━━━━━━━━━━━━━━━━━━━━\u001b[0m\u001b[37m\u001b[0m \u001b[1m0s\u001b[0m 11ms/step - loss: 105.6191 - mse: 105.6191 - val_loss: 952918.5000 - val_mse: 952918.5000\n",
            "Epoch 50/100\n",
            "\u001b[1m11/11\u001b[0m \u001b[32m━━━━━━━━━━━━━━━━━━━━\u001b[0m\u001b[37m\u001b[0m \u001b[1m0s\u001b[0m 12ms/step - loss: 98.5959 - mse: 98.5959 - val_loss: 995409.5625 - val_mse: 995409.5625\n",
            "Epoch 51/100\n",
            "\u001b[1m11/11\u001b[0m \u001b[32m━━━━━━━━━━━━━━━━━━━━\u001b[0m\u001b[37m\u001b[0m \u001b[1m0s\u001b[0m 12ms/step - loss: 99.7140 - mse: 99.7140 - val_loss: 1022130.3750 - val_mse: 1022130.3750\n",
            "Epoch 52/100\n",
            "\u001b[1m11/11\u001b[0m \u001b[32m━━━━━━━━━━━━━━━━━━━━\u001b[0m\u001b[37m\u001b[0m \u001b[1m0s\u001b[0m 11ms/step - loss: 105.5820 - mse: 105.5820 - val_loss: 1049920.5000 - val_mse: 1049920.5000\n",
            "Epoch 53/100\n",
            "\u001b[1m11/11\u001b[0m \u001b[32m━━━━━━━━━━━━━━━━━━━━\u001b[0m\u001b[37m\u001b[0m \u001b[1m0s\u001b[0m 11ms/step - loss: 92.0138 - mse: 92.0138 - val_loss: 1077940.3750 - val_mse: 1077940.3750\n",
            "Epoch 54/100\n",
            "\u001b[1m11/11\u001b[0m \u001b[32m━━━━━━━━━━━━━━━━━━━━\u001b[0m\u001b[37m\u001b[0m \u001b[1m0s\u001b[0m 11ms/step - loss: 85.2376 - mse: 85.2376 - val_loss: 1093343.2500 - val_mse: 1093343.2500\n",
            "Epoch 55/100\n",
            "\u001b[1m11/11\u001b[0m \u001b[32m━━━━━━━━━━━━━━━━━━━━\u001b[0m\u001b[37m\u001b[0m \u001b[1m0s\u001b[0m 10ms/step - loss: 80.2560 - mse: 80.2560 - val_loss: 1113195.7500 - val_mse: 1113195.7500\n",
            "Epoch 56/100\n",
            "\u001b[1m11/11\u001b[0m \u001b[32m━━━━━━━━━━━━━━━━━━━━\u001b[0m\u001b[37m\u001b[0m \u001b[1m0s\u001b[0m 10ms/step - loss: 72.9002 - mse: 72.9002 - val_loss: 1133026.6250 - val_mse: 1133026.6250\n",
            "Epoch 57/100\n",
            "\u001b[1m11/11\u001b[0m \u001b[32m━━━━━━━━━━━━━━━━━━━━\u001b[0m\u001b[37m\u001b[0m \u001b[1m0s\u001b[0m 11ms/step - loss: 80.4698 - mse: 80.4698 - val_loss: 1159340.0000 - val_mse: 1159340.0000\n",
            "Epoch 58/100\n",
            "\u001b[1m11/11\u001b[0m \u001b[32m━━━━━━━━━━━━━━━━━━━━\u001b[0m\u001b[37m\u001b[0m \u001b[1m0s\u001b[0m 10ms/step - loss: 69.9598 - mse: 69.9598 - val_loss: 1202162.6250 - val_mse: 1202162.6250\n",
            "Epoch 59/100\n",
            "\u001b[1m11/11\u001b[0m \u001b[32m━━━━━━━━━━━━━━━━━━━━\u001b[0m\u001b[37m\u001b[0m \u001b[1m0s\u001b[0m 10ms/step - loss: 83.8925 - mse: 83.8925 - val_loss: 1232621.0000 - val_mse: 1232621.0000\n",
            "Epoch 60/100\n",
            "\u001b[1m11/11\u001b[0m \u001b[32m━━━━━━━━━━━━━━━━━━━━\u001b[0m\u001b[37m\u001b[0m \u001b[1m0s\u001b[0m 10ms/step - loss: 76.1082 - mse: 76.1082 - val_loss: 1253372.1250 - val_mse: 1253372.1250\n",
            "Epoch 61/100\n",
            "\u001b[1m11/11\u001b[0m \u001b[32m━━━━━━━━━━━━━━━━━━━━\u001b[0m\u001b[37m\u001b[0m \u001b[1m0s\u001b[0m 9ms/step - loss: 61.7552 - mse: 61.7552 - val_loss: 1266974.7500 - val_mse: 1266974.7500\n",
            "Epoch 62/100\n",
            "\u001b[1m11/11\u001b[0m \u001b[32m━━━━━━━━━━━━━━━━━━━━\u001b[0m\u001b[37m\u001b[0m \u001b[1m0s\u001b[0m 9ms/step - loss: 77.0726 - mse: 77.0726 - val_loss: 1288455.6250 - val_mse: 1288455.6250\n",
            "Epoch 63/100\n",
            "\u001b[1m11/11\u001b[0m \u001b[32m━━━━━━━━━━━━━━━━━━━━\u001b[0m\u001b[37m\u001b[0m \u001b[1m0s\u001b[0m 11ms/step - loss: 52.1891 - mse: 52.1891 - val_loss: 1305856.2500 - val_mse: 1305856.2500\n",
            "Epoch 64/100\n",
            "\u001b[1m11/11\u001b[0m \u001b[32m━━━━━━━━━━━━━━━━━━━━\u001b[0m\u001b[37m\u001b[0m \u001b[1m0s\u001b[0m 11ms/step - loss: 65.1834 - mse: 65.1834 - val_loss: 1335396.3750 - val_mse: 1335396.3750\n",
            "Epoch 65/100\n",
            "\u001b[1m11/11\u001b[0m \u001b[32m━━━━━━━━━━━━━━━━━━━━\u001b[0m\u001b[37m\u001b[0m \u001b[1m0s\u001b[0m 10ms/step - loss: 74.2479 - mse: 74.2479 - val_loss: 1349723.0000 - val_mse: 1349723.0000\n",
            "Epoch 66/100\n",
            "\u001b[1m11/11\u001b[0m \u001b[32m━━━━━━━━━━━━━━━━━━━━\u001b[0m\u001b[37m\u001b[0m \u001b[1m0s\u001b[0m 11ms/step - loss: 52.0745 - mse: 52.0745 - val_loss: 1368419.0000 - val_mse: 1368419.0000\n",
            "Epoch 67/100\n",
            "\u001b[1m11/11\u001b[0m \u001b[32m━━━━━━━━━━━━━━━━━━━━\u001b[0m\u001b[37m\u001b[0m \u001b[1m0s\u001b[0m 10ms/step - loss: 55.5706 - mse: 55.5706 - val_loss: 1386114.6250 - val_mse: 1386114.6250\n",
            "Epoch 68/100\n",
            "\u001b[1m11/11\u001b[0m \u001b[32m━━━━━━━━━━━━━━━━━━━━\u001b[0m\u001b[37m\u001b[0m \u001b[1m0s\u001b[0m 10ms/step - loss: 52.1213 - mse: 52.1213 - val_loss: 1403355.5000 - val_mse: 1403355.5000\n",
            "Epoch 69/100\n",
            "\u001b[1m11/11\u001b[0m \u001b[32m━━━━━━━━━━━━━━━━━━━━\u001b[0m\u001b[37m\u001b[0m \u001b[1m0s\u001b[0m 9ms/step - loss: 58.7370 - mse: 58.7370 - val_loss: 1422921.2500 - val_mse: 1422921.2500\n",
            "Epoch 70/100\n",
            "\u001b[1m11/11\u001b[0m \u001b[32m━━━━━━━━━━━━━━━━━━━━\u001b[0m\u001b[37m\u001b[0m \u001b[1m0s\u001b[0m 9ms/step - loss: 43.6511 - mse: 43.6511 - val_loss: 1436078.7500 - val_mse: 1436078.7500\n",
            "Epoch 71/100\n",
            "\u001b[1m11/11\u001b[0m \u001b[32m━━━━━━━━━━━━━━━━━━━━\u001b[0m\u001b[37m\u001b[0m \u001b[1m0s\u001b[0m 11ms/step - loss: 48.4344 - mse: 48.4344 - val_loss: 1443636.0000 - val_mse: 1443636.0000\n",
            "Epoch 72/100\n",
            "\u001b[1m11/11\u001b[0m \u001b[32m━━━━━━━━━━━━━━━━━━━━\u001b[0m\u001b[37m\u001b[0m \u001b[1m0s\u001b[0m 9ms/step - loss: 56.3924 - mse: 56.3924 - val_loss: 1464083.0000 - val_mse: 1464083.0000\n",
            "Epoch 73/100\n",
            "\u001b[1m11/11\u001b[0m \u001b[32m━━━━━━━━━━━━━━━━━━━━\u001b[0m\u001b[37m\u001b[0m \u001b[1m0s\u001b[0m 9ms/step - loss: 46.3033 - mse: 46.3033 - val_loss: 1479433.7500 - val_mse: 1479433.7500\n",
            "Epoch 74/100\n",
            "\u001b[1m11/11\u001b[0m \u001b[32m━━━━━━━━━━━━━━━━━━━━\u001b[0m\u001b[37m\u001b[0m \u001b[1m0s\u001b[0m 9ms/step - loss: 50.1481 - mse: 50.1481 - val_loss: 1496561.0000 - val_mse: 1496561.0000\n",
            "Epoch 75/100\n",
            "\u001b[1m11/11\u001b[0m \u001b[32m━━━━━━━━━━━━━━━━━━━━\u001b[0m\u001b[37m\u001b[0m \u001b[1m0s\u001b[0m 9ms/step - loss: 46.5621 - mse: 46.5621 - val_loss: 1530644.1250 - val_mse: 1530644.1250\n",
            "Epoch 76/100\n",
            "\u001b[1m11/11\u001b[0m \u001b[32m━━━━━━━━━━━━━━━━━━━━\u001b[0m\u001b[37m\u001b[0m \u001b[1m0s\u001b[0m 9ms/step - loss: 43.4144 - mse: 43.4144 - val_loss: 1548672.7500 - val_mse: 1548672.7500\n",
            "Epoch 77/100\n",
            "\u001b[1m11/11\u001b[0m \u001b[32m━━━━━━━━━━━━━━━━━━━━\u001b[0m\u001b[37m\u001b[0m \u001b[1m0s\u001b[0m 10ms/step - loss: 44.0668 - mse: 44.0668 - val_loss: 1563543.3750 - val_mse: 1563543.3750\n",
            "Epoch 78/100\n",
            "\u001b[1m11/11\u001b[0m \u001b[32m━━━━━━━━━━━━━━━━━━━━\u001b[0m\u001b[37m\u001b[0m \u001b[1m0s\u001b[0m 9ms/step - loss: 41.5382 - mse: 41.5382 - val_loss: 1573856.2500 - val_mse: 1573856.2500\n",
            "Epoch 79/100\n",
            "\u001b[1m11/11\u001b[0m \u001b[32m━━━━━━━━━━━━━━━━━━━━\u001b[0m\u001b[37m\u001b[0m \u001b[1m0s\u001b[0m 9ms/step - loss: 36.5713 - mse: 36.5713 - val_loss: 1588473.1250 - val_mse: 1588473.1250\n",
            "Epoch 80/100\n",
            "\u001b[1m11/11\u001b[0m \u001b[32m━━━━━━━━━━━━━━━━━━━━\u001b[0m\u001b[37m\u001b[0m \u001b[1m0s\u001b[0m 10ms/step - loss: 30.3103 - mse: 30.3103 - val_loss: 1589653.8750 - val_mse: 1589653.8750\n",
            "Epoch 81/100\n",
            "\u001b[1m11/11\u001b[0m \u001b[32m━━━━━━━━━━━━━━━━━━━━\u001b[0m\u001b[37m\u001b[0m \u001b[1m0s\u001b[0m 10ms/step - loss: 34.5563 - mse: 34.5563 - val_loss: 1598649.8750 - val_mse: 1598649.8750\n",
            "Epoch 82/100\n",
            "\u001b[1m11/11\u001b[0m \u001b[32m━━━━━━━━━━━━━━━━━━━━\u001b[0m\u001b[37m\u001b[0m \u001b[1m0s\u001b[0m 9ms/step - loss: 32.8850 - mse: 32.8850 - val_loss: 1605528.5000 - val_mse: 1605528.5000\n",
            "Epoch 83/100\n",
            "\u001b[1m11/11\u001b[0m \u001b[32m━━━━━━━━━━━━━━━━━━━━\u001b[0m\u001b[37m\u001b[0m \u001b[1m0s\u001b[0m 9ms/step - loss: 36.8347 - mse: 36.8347 - val_loss: 1624046.2500 - val_mse: 1624046.2500\n",
            "Epoch 84/100\n",
            "\u001b[1m11/11\u001b[0m \u001b[32m━━━━━━━━━━━━━━━━━━━━\u001b[0m\u001b[37m\u001b[0m \u001b[1m0s\u001b[0m 10ms/step - loss: 36.1887 - mse: 36.1887 - val_loss: 1632464.7500 - val_mse: 1632464.7500\n",
            "Epoch 85/100\n",
            "\u001b[1m11/11\u001b[0m \u001b[32m━━━━━━━━━━━━━━━━━━━━\u001b[0m\u001b[37m\u001b[0m \u001b[1m0s\u001b[0m 10ms/step - loss: 32.9745 - mse: 32.9745 - val_loss: 1631205.5000 - val_mse: 1631205.5000\n",
            "Epoch 86/100\n",
            "\u001b[1m11/11\u001b[0m \u001b[32m━━━━━━━━━━━━━━━━━━━━\u001b[0m\u001b[37m\u001b[0m \u001b[1m0s\u001b[0m 9ms/step - loss: 32.1671 - mse: 32.1671 - val_loss: 1637350.8750 - val_mse: 1637350.8750\n",
            "Epoch 87/100\n",
            "\u001b[1m11/11\u001b[0m \u001b[32m━━━━━━━━━━━━━━━━━━━━\u001b[0m\u001b[37m\u001b[0m \u001b[1m0s\u001b[0m 9ms/step - loss: 43.3634 - mse: 43.3634 - val_loss: 1642771.6250 - val_mse: 1642771.6250\n",
            "Epoch 88/100\n",
            "\u001b[1m11/11\u001b[0m \u001b[32m━━━━━━━━━━━━━━━━━━━━\u001b[0m\u001b[37m\u001b[0m \u001b[1m0s\u001b[0m 11ms/step - loss: 37.2800 - mse: 37.2800 - val_loss: 1630957.2500 - val_mse: 1630957.2500\n",
            "Epoch 89/100\n",
            "\u001b[1m11/11\u001b[0m \u001b[32m━━━━━━━━━━━━━━━━━━━━\u001b[0m\u001b[37m\u001b[0m \u001b[1m0s\u001b[0m 10ms/step - loss: 33.5889 - mse: 33.5889 - val_loss: 1630453.8750 - val_mse: 1630453.8750\n",
            "Epoch 90/100\n",
            "\u001b[1m11/11\u001b[0m \u001b[32m━━━━━━━━━━━━━━━━━━━━\u001b[0m\u001b[37m\u001b[0m \u001b[1m0s\u001b[0m 9ms/step - loss: 36.9859 - mse: 36.9859 - val_loss: 1636821.0000 - val_mse: 1636821.0000\n",
            "Epoch 91/100\n",
            "\u001b[1m11/11\u001b[0m \u001b[32m━━━━━━━━━━━━━━━━━━━━\u001b[0m\u001b[37m\u001b[0m \u001b[1m0s\u001b[0m 9ms/step - loss: 33.3650 - mse: 33.3650 - val_loss: 1632093.8750 - val_mse: 1632093.8750\n",
            "Epoch 92/100\n",
            "\u001b[1m11/11\u001b[0m \u001b[32m━━━━━━━━━━━━━━━━━━━━\u001b[0m\u001b[37m\u001b[0m \u001b[1m0s\u001b[0m 9ms/step - loss: 31.1093 - mse: 31.1093 - val_loss: 1631650.3750 - val_mse: 1631650.3750\n",
            "Epoch 93/100\n",
            "\u001b[1m11/11\u001b[0m \u001b[32m━━━━━━━━━━━━━━━━━━━━\u001b[0m\u001b[37m\u001b[0m \u001b[1m0s\u001b[0m 9ms/step - loss: 29.7336 - mse: 29.7336 - val_loss: 1622873.1250 - val_mse: 1622873.1250\n",
            "Epoch 94/100\n",
            "\u001b[1m11/11\u001b[0m \u001b[32m━━━━━━━━━━━━━━━━━━━━\u001b[0m\u001b[37m\u001b[0m \u001b[1m0s\u001b[0m 10ms/step - loss: 26.5763 - mse: 26.5763 - val_loss: 1619388.8750 - val_mse: 1619388.8750\n",
            "Epoch 95/100\n",
            "\u001b[1m11/11\u001b[0m \u001b[32m━━━━━━━━━━━━━━━━━━━━\u001b[0m\u001b[37m\u001b[0m \u001b[1m0s\u001b[0m 12ms/step - loss: 24.6304 - mse: 24.6304 - val_loss: 1616921.0000 - val_mse: 1616921.0000\n",
            "Epoch 96/100\n",
            "\u001b[1m11/11\u001b[0m \u001b[32m━━━━━━━━━━━━━━━━━━━━\u001b[0m\u001b[37m\u001b[0m \u001b[1m0s\u001b[0m 9ms/step - loss: 30.9529 - mse: 30.9529 - val_loss: 1620893.5000 - val_mse: 1620893.5000\n",
            "Epoch 97/100\n",
            "\u001b[1m11/11\u001b[0m \u001b[32m━━━━━━━━━━━━━━━━━━━━\u001b[0m\u001b[37m\u001b[0m \u001b[1m0s\u001b[0m 10ms/step - loss: 32.8091 - mse: 32.8091 - val_loss: 1630343.5000 - val_mse: 1630343.5000\n",
            "Epoch 98/100\n",
            "\u001b[1m11/11\u001b[0m \u001b[32m━━━━━━━━━━━━━━━━━━━━\u001b[0m\u001b[37m\u001b[0m \u001b[1m0s\u001b[0m 10ms/step - loss: 24.0221 - mse: 24.0221 - val_loss: 1631529.1250 - val_mse: 1631529.1250\n",
            "Epoch 99/100\n",
            "\u001b[1m11/11\u001b[0m \u001b[32m━━━━━━━━━━━━━━━━━━━━\u001b[0m\u001b[37m\u001b[0m \u001b[1m0s\u001b[0m 9ms/step - loss: 29.7915 - mse: 29.7915 - val_loss: 1639662.0000 - val_mse: 1639662.0000\n",
            "Epoch 100/100\n",
            "\u001b[1m11/11\u001b[0m \u001b[32m━━━━━━━━━━━━━━━━━━━━\u001b[0m\u001b[37m\u001b[0m \u001b[1m0s\u001b[0m 9ms/step - loss: 30.2225 - mse: 30.2225 - val_loss: 1640899.3750 - val_mse: 1640899.3750\n"
          ]
        }
      ]
    },
    {
      "cell_type": "code",
      "source": [],
      "metadata": {
        "id": "wyuTnSsEwZ0r"
      },
      "execution_count": null,
      "outputs": []
    },
    {
      "cell_type": "code",
      "source": [],
      "metadata": {
        "id": "qI3Faeh-wZYE"
      },
      "execution_count": null,
      "outputs": []
    },
    {
      "cell_type": "markdown",
      "metadata": {
        "id": "2JimscX-Zb7T"
      },
      "source": [
        "## b) Deeper Network [1 point]\n",
        "\n",
        "Construct and evaluate a model with 2 dense layers having a smaller number of neurons (e.g. 16, 8)."
      ]
    },
    {
      "cell_type": "code",
      "execution_count": null,
      "metadata": {
        "id": "ha6iU4_WKjJE"
      },
      "outputs": [],
      "source": [
        "# your code here, use as many cells as you need\n",
        "\n",
        "# be sure to comment on your results for each and every question, describing not just\n",
        "# the what, but the 'how' and 'why' where possible, to demonstrate your understanding of\n",
        "# course content\n"
      ]
    },
    {
      "cell_type": "markdown",
      "metadata": {
        "id": "2f0v_F7DZoAx"
      },
      "source": [
        "## c) Wider Network [1 point]\n",
        "\n",
        "Construct and evaluate a wider model with more neurons (e.g. 32, 16)."
      ]
    },
    {
      "cell_type": "code",
      "execution_count": null,
      "metadata": {
        "id": "B9W6c2mxKhWA"
      },
      "outputs": [],
      "source": [
        "# your code here, use as many cells as you need\n",
        "\n",
        "# be sure to comment on your results for each and every question, describing not just\n",
        "# the what, but the 'how' and 'why' where possible, to demonstrate your understanding of\n",
        "# course content"
      ]
    },
    {
      "cell_type": "markdown",
      "metadata": {
        "id": "UfdE-QPBrOpl"
      },
      "source": [
        "# Part 2: Hyperparameter Tuning Experiments\n",
        "\n",
        "In the following experiments, you will evaluate and compare models trained with different hyperparameters. Please follow the specifications given for each model."
      ]
    },
    {
      "cell_type": "markdown",
      "metadata": {
        "id": "zXsONE-iwyEZ"
      },
      "source": [
        "## a) Model 1 [2 points]\n",
        "\n",
        "- 2 Dense layers:\n",
        "  - The first with 64 neurons using a ReLU activation function.\n",
        "  - The second with 64 neurons using a ReLU activation function.\n",
        "- Choose an appropriate output layer and activation.\n",
        "- Train model with 100 epochs and obtain cross-validated performance (e.g. with 3 cross-folds).\n",
        "- Plot both loss and mean absolute error (i.e. learning curves) for both training and validation.\n",
        "- Report MAE from CV with standard deviation."
      ]
    },
    {
      "cell_type": "code",
      "execution_count": null,
      "metadata": {
        "id": "dE-0BhtjM6Fn"
      },
      "outputs": [],
      "source": [
        "# your code here, use as many cells as you need\n",
        "\n",
        "# be sure to comment on your results for each and every question, describing not just\n",
        "# the what, but the 'how' and 'why' where possible, to demonstrate your understanding of\n",
        "# course content"
      ]
    },
    {
      "cell_type": "markdown",
      "metadata": {
        "id": "zYsP54_x2ixg"
      },
      "source": [
        "## b) Model 2 [2 points]\n",
        "\n",
        "- 2 Dense layers:\n",
        "  - The first with 128 neurons using a ReLU activation function.\n",
        "  - The second with 64 neurons using a ReLU activation function.\n",
        "- Choose an appropriate output layer and activation.\n",
        "- Train model with 100 epochs and obtain cross-validated performance (e.g. with 3 cross-folds).\n",
        "- Plot both loss and mean absolute error (i.e. learning curves) for both training and validation.\n",
        "- Report MAE from CV with standard deviation."
      ]
    },
    {
      "cell_type": "code",
      "execution_count": null,
      "metadata": {
        "id": "XklV0uGENLsw"
      },
      "outputs": [],
      "source": [
        "# your code here, use as many cells as you need\n",
        "\n",
        "# be sure to comment on your results for each and every question, describing not just\n",
        "# the what, but the 'how' and 'why' where possible, to demonstrate your understanding of\n",
        "# course content"
      ]
    },
    {
      "cell_type": "markdown",
      "metadata": {
        "id": "30A0lCy74RKe"
      },
      "source": [
        "## c) Model 3 [2 points]\n",
        "\n",
        "- Same as Model 2, but use tanh activation functions instead of relu."
      ]
    },
    {
      "cell_type": "code",
      "execution_count": null,
      "metadata": {
        "id": "UNpDFL2FNi1C"
      },
      "outputs": [],
      "source": [
        "# your code here, use as many cells as you need\n",
        "\n",
        "# be sure to comment on your results for each and every question, describing not just\n",
        "# the what, but the 'how' and 'why' where possible, to demonstrate your understanding of\n",
        "# course content"
      ]
    },
    {
      "cell_type": "markdown",
      "metadata": {
        "id": "hWXgQ1RzzPf7"
      },
      "source": [
        "## d) Model 4 [2 points]\n",
        "\n",
        "- Same as Model 2, but use the rmsprop optimizer when training."
      ]
    },
    {
      "cell_type": "code",
      "execution_count": null,
      "metadata": {
        "id": "KgtE3hhxN2oj"
      },
      "outputs": [],
      "source": [
        "# your code here, use as many cells as you need\n",
        "\n",
        "# be sure to comment on your results for each and every question, describing not just\n",
        "# the what, but the 'how' and 'why' where possible, to demonstrate your understanding of\n",
        "# course content"
      ]
    },
    {
      "cell_type": "markdown",
      "metadata": {
        "id": "8_d0KCd-zdcb"
      },
      "source": [
        "## e) Model Comparison [1 point]\n",
        "\n",
        "Which model performed best? Offer your thoughts on why the particular choice of hyperparameters led to improved performance for this model."
      ]
    },
    {
      "cell_type": "code",
      "execution_count": null,
      "metadata": {
        "id": "LBKbdEwR0EcD"
      },
      "outputs": [],
      "source": [
        "# explain WHY you think the best model was better than the rest, in terms\n",
        "# of how those hyperparameters theoretically impact the model\n",
        "\n",
        "# provide visualizations (e.g. tables or comparison plot) to support your response where possible"
      ]
    },
    {
      "cell_type": "markdown",
      "metadata": {
        "id": "7U2qAmO01FtC"
      },
      "source": [
        "NOTE: 2 additional points are awarded based on code documentation and overall clarity of work."
      ]
    },
    {
      "cell_type": "code",
      "execution_count": null,
      "metadata": {
        "id": "a25KyERpPjC0"
      },
      "outputs": [],
      "source": [
        "# We are looking for a clear explanation of results with each response. We want you to attempt to\n",
        "# explain the _how_ and _why_ behind your answers, and not just the what, do demonstrate\n",
        "# your knowledge of the concepts discussed in class. Answers should be backed up with\n",
        "# visualizations (e.g. plots, charts).\n",
        "\n",
        "# Code should be easy to follow by using sensical naming conventions for function and variable\n",
        "# names, providing useful code comments, and refactoring repeated code into re-usable functions."
      ]
    }
  ],
  "metadata": {
    "colab": {
      "provenance": []
    },
    "kernelspec": {
      "display_name": "Python 3",
      "name": "python3"
    },
    "language_info": {
      "name": "python"
    }
  },
  "nbformat": 4,
  "nbformat_minor": 0
}