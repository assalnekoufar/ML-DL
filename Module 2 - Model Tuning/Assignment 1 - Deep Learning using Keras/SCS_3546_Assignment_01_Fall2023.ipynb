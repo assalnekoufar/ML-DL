{
  "cells": [
    {
      "cell_type": "markdown",
      "metadata": {
        "id": "C6OQBFpIHP30"
      },
      "source": [
        "# SCS 3546: Deep Learning\n",
        "> Assignment 1: Deep Learning Using Keras"
      ]
    },
    {
      "cell_type": "markdown",
      "metadata": {
        "id": "hzRpIFXzolmz"
      },
      "source": [
        "### Your name & student number:\n",
        "\n",
        "<pre> Assal Nekoufar </pre>\n",
        "\n",
        "<pre> Student Number: X589579 </pre>"
      ]
    },
    {
      "cell_type": "markdown",
      "metadata": {
        "id": "9aHEi-CRlKBb"
      },
      "source": [
        "## Assignment Description\n",
        "\n",
        "In this assignment you will demonstrate your ability to:\n",
        "\n",
        "- Train a neural network using Keras to solve a regression problem.\n",
        "\n",
        "- Perform sensible data preprocessing.\n",
        "\n",
        "- Experiment with hyperparemter tuning and different model architectures to achieve best performance.\n",
        "\n"
      ]
    },
    {
      "cell_type": "markdown",
      "metadata": {
        "id": "-OKLV1eJ12dy"
      },
      "source": [
        "### Grade Allocation\n",
        "\n",
        "**15 points total**\n",
        "\n",
        "- Part 1: 4 Marks\n",
        "- Part 2: 9 Marks\n",
        "- Clarity: 2 Marks\n",
        "\n",
        "The marks for clarity are awarded for code documentation and how well you explained/supported your answers, including the use of visualizations where appropriate."
      ]
    },
    {
      "cell_type": "code",
      "source": [
        "# OPTIONAL : For model evaluation and for those who choose to use the KerasRegressor from keras.wrappers, you would need to install tensorflow 2.12 or 2.11.another option is to use the scikeras.\n",
        "# please note that you may have many options and the below libraries are just meant to help you and to provide options\n",
        "\n",
        "# !pip install tensorflow==2.12\n",
        "# from keras.wrappers.scikit_learn import KerasRegressor\n",
        "\n",
        "## !pip install scikeras\n",
        "## from scikeras.wrappers import KerasClassifier, KerasRegressor\n"
      ],
      "metadata": {
        "id": "LUd8H6Ji_w16",
        "colab": {
          "base_uri": "https://localhost:8080/"
        },
        "outputId": "f54a29db-3ea4-4dc6-c762-fb2342a661e5"
      },
      "execution_count": null,
      "outputs": [
        {
          "output_type": "stream",
          "name": "stdout",
          "text": [
            "Requirement already satisfied: scikeras in /usr/local/lib/python3.12/dist-packages (0.13.0)\n",
            "Requirement already satisfied: keras>=3.2.0 in /usr/local/lib/python3.12/dist-packages (from scikeras) (3.10.0)\n",
            "Requirement already satisfied: scikit-learn>=1.4.2 in /usr/local/lib/python3.12/dist-packages (from scikeras) (1.6.1)\n",
            "Requirement already satisfied: absl-py in /usr/local/lib/python3.12/dist-packages (from keras>=3.2.0->scikeras) (1.4.0)\n",
            "Requirement already satisfied: numpy in /usr/local/lib/python3.12/dist-packages (from keras>=3.2.0->scikeras) (2.0.2)\n",
            "Requirement already satisfied: rich in /usr/local/lib/python3.12/dist-packages (from keras>=3.2.0->scikeras) (13.9.4)\n",
            "Requirement already satisfied: namex in /usr/local/lib/python3.12/dist-packages (from keras>=3.2.0->scikeras) (0.1.0)\n",
            "Requirement already satisfied: h5py in /usr/local/lib/python3.12/dist-packages (from keras>=3.2.0->scikeras) (3.14.0)\n",
            "Requirement already satisfied: optree in /usr/local/lib/python3.12/dist-packages (from keras>=3.2.0->scikeras) (0.17.0)\n",
            "Requirement already satisfied: ml-dtypes in /usr/local/lib/python3.12/dist-packages (from keras>=3.2.0->scikeras) (0.5.3)\n",
            "Requirement already satisfied: packaging in /usr/local/lib/python3.12/dist-packages (from keras>=3.2.0->scikeras) (25.0)\n",
            "Requirement already satisfied: scipy>=1.6.0 in /usr/local/lib/python3.12/dist-packages (from scikit-learn>=1.4.2->scikeras) (1.16.2)\n",
            "Requirement already satisfied: joblib>=1.2.0 in /usr/local/lib/python3.12/dist-packages (from scikit-learn>=1.4.2->scikeras) (1.5.2)\n",
            "Requirement already satisfied: threadpoolctl>=3.1.0 in /usr/local/lib/python3.12/dist-packages (from scikit-learn>=1.4.2->scikeras) (3.6.0)\n",
            "Requirement already satisfied: typing-extensions>=4.6.0 in /usr/local/lib/python3.12/dist-packages (from optree->keras>=3.2.0->scikeras) (4.15.0)\n",
            "Requirement already satisfied: markdown-it-py>=2.2.0 in /usr/local/lib/python3.12/dist-packages (from rich->keras>=3.2.0->scikeras) (4.0.0)\n",
            "Requirement already satisfied: pygments<3.0.0,>=2.13.0 in /usr/local/lib/python3.12/dist-packages (from rich->keras>=3.2.0->scikeras) (2.19.2)\n",
            "Requirement already satisfied: mdurl~=0.1 in /usr/local/lib/python3.12/dist-packages (from markdown-it-py>=2.2.0->rich->keras>=3.2.0->scikeras) (0.1.2)\n"
          ]
        }
      ]
    },
    {
      "cell_type": "code",
      "execution_count": 1,
      "metadata": {
        "id": "ruXPP1zUT_B6"
      },
      "outputs": [],
      "source": [
        "# setting up the notebook with important libraries\n",
        "random_state = 42\n",
        "import tensorflow as tf\n",
        "import numpy as np\n",
        "import matplotlib.pyplot as plt\n",
        "from tensorflow import keras\n",
        "from keras.models import Sequential\n",
        "from keras.layers import Dense\n",
        "from sklearn.model_selection import train_test_split\n",
        "from sklearn.model_selection import cross_val_score\n",
        "from sklearn.model_selection import KFold\n",
        "from sklearn.preprocessing import StandardScaler\n",
        "from sklearn.pipeline import Pipeline\n",
        "from tensorflow.keras.callbacks import EarlyStopping"
      ]
    },
    {
      "cell_type": "markdown",
      "metadata": {
        "id": "Qn-eYs8MfGAQ"
      },
      "source": [
        "# Preamble\n",
        "\n",
        "### Hyperparameters\n",
        "\n",
        "A hyperparameter is a parameter whose value is set before the learning process begins.\n",
        "\n",
        "Some important Neural Networks hyperparameters include:\n",
        "\n",
        "- number of hidden layers\n",
        "- number of neurons\n",
        "- learning rate\n",
        "- activation function\n",
        "- optimizer settings\n",
        "\n",
        "Hyperparameters are crucial to the performance, speed, and quality of the machine learning models.\n",
        "\n",
        "Through Hyper parameter optimization, we find a tuple (best combination) of hyperparameters that yields an optimal model which minimizes a predefined loss function on given test data.\n",
        "\n",
        "Important hyperparameters that could be tuned include:\n",
        "\n",
        "- num_hidden_layers\n",
        "- neurons_per_layer\n",
        "- dropout_rate\n",
        "- activation\n",
        "- optimizer\n",
        "- learning_rate\n",
        "- batch_size\n",
        "\n",
        "### Loss Function\n",
        "\n",
        "- MSE (Mean Squared Error) is used as the score/loss function that will be minimized for hyperparameter optimization.\n",
        "- In this assignment, we are going to use Cross-Validation to calculate the score (MSE) for a given set of hyperparameter values\n",
        "\n",
        "- MSE is a desirable metric because by taking the square root gives us an error value we can directly understand in the context of the problem; for example, in this assignment it translates to thousands of dollars\n",
        "\n",
        "- Note: Your results may vary given the stochastic nature of the algorithm, evaluation procedure, or differences in numerical precision"
      ]
    },
    {
      "cell_type": "markdown",
      "metadata": {
        "id": "qs0FlcDeaSpi"
      },
      "source": [
        "## Dataset\n",
        "\n",
        "We will be using mock data for this assignment. the outcome is the sale price for some products. we have created 13 features to predict the sale price.\n",
        "\n",
        "- import provided mock data into your notebook.\n",
        "\n",
        "- You are **not** expected to perform Exploratory Data Analysis (EDA) on this dataset.\n",
        "\n",
        "- For the purpose of this assignment, your model's performance is not an important factor by itself - that is how far your sale price prediction is. The important factor is the changes that you observe when changing model architectures.\n",
        "\n",
        "- The information that follow are meant to be optional and to help you get familiar with the data. Your efforts on this assignment should focus on **model training and hyperparameter tuning**, not on EDA.\n"
      ]
    },
    {
      "cell_type": "markdown",
      "metadata": {
        "id": "iHL_GkQPoJE9"
      },
      "source": [
        "# Assignment Start\n",
        "***\n",
        "\n",
        "- Please follow all instructions carefully.\n",
        "\n",
        "- Use MSE (Mean Squared Error) as the score/loss function that will be minimized during optimization.\n",
        "\n",
        "\n",
        "\n",
        "\n",
        "\n",
        "\n"
      ]
    },
    {
      "cell_type": "markdown",
      "metadata": {
        "id": "Ar6TpPmfeoDy"
      },
      "source": [
        "#Data Import\n",
        "\n",
        "The code below imports the data for you as dataframe, then you may need to convert it to numpy arrays.  "
      ]
    },
    {
      "cell_type": "code",
      "source": [
        "# You can use the code below to import the data\n",
        "# Option 3 - from local using the files that are available\n",
        "## Imports pandas, which you’ll use to load and manipulate CSV data.\n",
        "import pandas as pd\n",
        "\n",
        "# mount the colab\n",
        "from google.colab import drive\n",
        "drive.mount('/content/drive')\n",
        "\n",
        "# Next, You need to upload tables to your G drive -  then you may need to update paths below\n",
        "# load the  data into a pandas dataframe for easy viewing and manipulation\n",
        "df_train_y = pd.read_csv(\"/content/drive/MyDrive/Colab_Notebooks/Deep_Learning_Assignments/y_train.csv\", index_col=0)\n",
        "df_test_y = pd.read_csv(\"/content/drive/MyDrive/Colab_Notebooks/Deep_Learning_Assignments/y_test.csv\", index_col=0)\n",
        "df_train_x = pd.read_csv(\"/content/drive/MyDrive/Colab_Notebooks/Deep_Learning_Assignments/X_train.csv\", index_col=0)\n",
        "df_test_x = pd.read_csv(\"/content/drive/MyDrive/Colab_Notebooks/Deep_Learning_Assignments/X_test.csv\", index_col=0)"
      ],
      "metadata": {
        "colab": {
          "base_uri": "https://localhost:8080/"
        },
        "id": "DuK-rb0uwqw0",
        "outputId": "91431488-f535-43d8-cc70-ddd97dac44a2"
      },
      "execution_count": 28,
      "outputs": [
        {
          "output_type": "stream",
          "name": "stdout",
          "text": [
            "Drive already mounted at /content/drive; to attempt to forcibly remount, call drive.mount(\"/content/drive\", force_remount=True).\n"
          ]
        }
      ]
    },
    {
      "cell_type": "code",
      "source": [
        "## Let's look at data\n",
        "df_train_x.head()"
      ],
      "metadata": {
        "id": "k__LvYjJJgUP",
        "outputId": "5a053577-ff06-4700-a50b-435c66e54ad8",
        "colab": {
          "base_uri": "https://localhost:8080/",
          "height": 206
        }
      },
      "execution_count": 3,
      "outputs": [
        {
          "output_type": "execute_result",
          "data": {
            "text/plain": [
              "         0     1      2    3      4      5      6       7     8      9    10  \\\n",
              "0  1.23247   0.0   8.14  0.0  0.538  6.142   91.7  3.9769   4.0  307.0  21.0   \n",
              "1  0.02177  82.5   2.03  0.0  0.415  7.610   15.7  6.2700   2.0  348.0  14.7   \n",
              "2  4.89822   0.0  18.10  0.0  0.631  4.970  100.0  1.3325  24.0  666.0  20.2   \n",
              "3  0.03961   0.0   5.19  0.0  0.515  6.037   34.5  5.9853   5.0  224.0  20.2   \n",
              "4  3.69311   0.0  18.10  0.0  0.713  6.376   88.4  2.5671  24.0  666.0  20.2   \n",
              "\n",
              "       11     12  \n",
              "0  396.90  18.72  \n",
              "1  395.38   3.11  \n",
              "2  375.52   3.26  \n",
              "3  396.90   8.01  \n",
              "4  391.43  14.65  "
            ],
            "text/html": [
              "\n",
              "  <div id=\"df-6fcf8d9e-5108-46fb-9f2a-446aa8275f7b\" class=\"colab-df-container\">\n",
              "    <div>\n",
              "<style scoped>\n",
              "    .dataframe tbody tr th:only-of-type {\n",
              "        vertical-align: middle;\n",
              "    }\n",
              "\n",
              "    .dataframe tbody tr th {\n",
              "        vertical-align: top;\n",
              "    }\n",
              "\n",
              "    .dataframe thead th {\n",
              "        text-align: right;\n",
              "    }\n",
              "</style>\n",
              "<table border=\"1\" class=\"dataframe\">\n",
              "  <thead>\n",
              "    <tr style=\"text-align: right;\">\n",
              "      <th></th>\n",
              "      <th>0</th>\n",
              "      <th>1</th>\n",
              "      <th>2</th>\n",
              "      <th>3</th>\n",
              "      <th>4</th>\n",
              "      <th>5</th>\n",
              "      <th>6</th>\n",
              "      <th>7</th>\n",
              "      <th>8</th>\n",
              "      <th>9</th>\n",
              "      <th>10</th>\n",
              "      <th>11</th>\n",
              "      <th>12</th>\n",
              "    </tr>\n",
              "  </thead>\n",
              "  <tbody>\n",
              "    <tr>\n",
              "      <th>0</th>\n",
              "      <td>1.23247</td>\n",
              "      <td>0.0</td>\n",
              "      <td>8.14</td>\n",
              "      <td>0.0</td>\n",
              "      <td>0.538</td>\n",
              "      <td>6.142</td>\n",
              "      <td>91.7</td>\n",
              "      <td>3.9769</td>\n",
              "      <td>4.0</td>\n",
              "      <td>307.0</td>\n",
              "      <td>21.0</td>\n",
              "      <td>396.90</td>\n",
              "      <td>18.72</td>\n",
              "    </tr>\n",
              "    <tr>\n",
              "      <th>1</th>\n",
              "      <td>0.02177</td>\n",
              "      <td>82.5</td>\n",
              "      <td>2.03</td>\n",
              "      <td>0.0</td>\n",
              "      <td>0.415</td>\n",
              "      <td>7.610</td>\n",
              "      <td>15.7</td>\n",
              "      <td>6.2700</td>\n",
              "      <td>2.0</td>\n",
              "      <td>348.0</td>\n",
              "      <td>14.7</td>\n",
              "      <td>395.38</td>\n",
              "      <td>3.11</td>\n",
              "    </tr>\n",
              "    <tr>\n",
              "      <th>2</th>\n",
              "      <td>4.89822</td>\n",
              "      <td>0.0</td>\n",
              "      <td>18.10</td>\n",
              "      <td>0.0</td>\n",
              "      <td>0.631</td>\n",
              "      <td>4.970</td>\n",
              "      <td>100.0</td>\n",
              "      <td>1.3325</td>\n",
              "      <td>24.0</td>\n",
              "      <td>666.0</td>\n",
              "      <td>20.2</td>\n",
              "      <td>375.52</td>\n",
              "      <td>3.26</td>\n",
              "    </tr>\n",
              "    <tr>\n",
              "      <th>3</th>\n",
              "      <td>0.03961</td>\n",
              "      <td>0.0</td>\n",
              "      <td>5.19</td>\n",
              "      <td>0.0</td>\n",
              "      <td>0.515</td>\n",
              "      <td>6.037</td>\n",
              "      <td>34.5</td>\n",
              "      <td>5.9853</td>\n",
              "      <td>5.0</td>\n",
              "      <td>224.0</td>\n",
              "      <td>20.2</td>\n",
              "      <td>396.90</td>\n",
              "      <td>8.01</td>\n",
              "    </tr>\n",
              "    <tr>\n",
              "      <th>4</th>\n",
              "      <td>3.69311</td>\n",
              "      <td>0.0</td>\n",
              "      <td>18.10</td>\n",
              "      <td>0.0</td>\n",
              "      <td>0.713</td>\n",
              "      <td>6.376</td>\n",
              "      <td>88.4</td>\n",
              "      <td>2.5671</td>\n",
              "      <td>24.0</td>\n",
              "      <td>666.0</td>\n",
              "      <td>20.2</td>\n",
              "      <td>391.43</td>\n",
              "      <td>14.65</td>\n",
              "    </tr>\n",
              "  </tbody>\n",
              "</table>\n",
              "</div>\n",
              "    <div class=\"colab-df-buttons\">\n",
              "\n",
              "  <div class=\"colab-df-container\">\n",
              "    <button class=\"colab-df-convert\" onclick=\"convertToInteractive('df-6fcf8d9e-5108-46fb-9f2a-446aa8275f7b')\"\n",
              "            title=\"Convert this dataframe to an interactive table.\"\n",
              "            style=\"display:none;\">\n",
              "\n",
              "  <svg xmlns=\"http://www.w3.org/2000/svg\" height=\"24px\" viewBox=\"0 -960 960 960\">\n",
              "    <path d=\"M120-120v-720h720v720H120Zm60-500h600v-160H180v160Zm220 220h160v-160H400v160Zm0 220h160v-160H400v160ZM180-400h160v-160H180v160Zm440 0h160v-160H620v160ZM180-180h160v-160H180v160Zm440 0h160v-160H620v160Z\"/>\n",
              "  </svg>\n",
              "    </button>\n",
              "\n",
              "  <style>\n",
              "    .colab-df-container {\n",
              "      display:flex;\n",
              "      gap: 12px;\n",
              "    }\n",
              "\n",
              "    .colab-df-convert {\n",
              "      background-color: #E8F0FE;\n",
              "      border: none;\n",
              "      border-radius: 50%;\n",
              "      cursor: pointer;\n",
              "      display: none;\n",
              "      fill: #1967D2;\n",
              "      height: 32px;\n",
              "      padding: 0 0 0 0;\n",
              "      width: 32px;\n",
              "    }\n",
              "\n",
              "    .colab-df-convert:hover {\n",
              "      background-color: #E2EBFA;\n",
              "      box-shadow: 0px 1px 2px rgba(60, 64, 67, 0.3), 0px 1px 3px 1px rgba(60, 64, 67, 0.15);\n",
              "      fill: #174EA6;\n",
              "    }\n",
              "\n",
              "    .colab-df-buttons div {\n",
              "      margin-bottom: 4px;\n",
              "    }\n",
              "\n",
              "    [theme=dark] .colab-df-convert {\n",
              "      background-color: #3B4455;\n",
              "      fill: #D2E3FC;\n",
              "    }\n",
              "\n",
              "    [theme=dark] .colab-df-convert:hover {\n",
              "      background-color: #434B5C;\n",
              "      box-shadow: 0px 1px 3px 1px rgba(0, 0, 0, 0.15);\n",
              "      filter: drop-shadow(0px 1px 2px rgba(0, 0, 0, 0.3));\n",
              "      fill: #FFFFFF;\n",
              "    }\n",
              "  </style>\n",
              "\n",
              "    <script>\n",
              "      const buttonEl =\n",
              "        document.querySelector('#df-6fcf8d9e-5108-46fb-9f2a-446aa8275f7b button.colab-df-convert');\n",
              "      buttonEl.style.display =\n",
              "        google.colab.kernel.accessAllowed ? 'block' : 'none';\n",
              "\n",
              "      async function convertToInteractive(key) {\n",
              "        const element = document.querySelector('#df-6fcf8d9e-5108-46fb-9f2a-446aa8275f7b');\n",
              "        const dataTable =\n",
              "          await google.colab.kernel.invokeFunction('convertToInteractive',\n",
              "                                                    [key], {});\n",
              "        if (!dataTable) return;\n",
              "\n",
              "        const docLinkHtml = 'Like what you see? Visit the ' +\n",
              "          '<a target=\"_blank\" href=https://colab.research.google.com/notebooks/data_table.ipynb>data table notebook</a>'\n",
              "          + ' to learn more about interactive tables.';\n",
              "        element.innerHTML = '';\n",
              "        dataTable['output_type'] = 'display_data';\n",
              "        await google.colab.output.renderOutput(dataTable, element);\n",
              "        const docLink = document.createElement('div');\n",
              "        docLink.innerHTML = docLinkHtml;\n",
              "        element.appendChild(docLink);\n",
              "      }\n",
              "    </script>\n",
              "  </div>\n",
              "\n",
              "\n",
              "    <div id=\"df-d274663c-b4e6-4ecf-9037-03734c9d1683\">\n",
              "      <button class=\"colab-df-quickchart\" onclick=\"quickchart('df-d274663c-b4e6-4ecf-9037-03734c9d1683')\"\n",
              "                title=\"Suggest charts\"\n",
              "                style=\"display:none;\">\n",
              "\n",
              "<svg xmlns=\"http://www.w3.org/2000/svg\" height=\"24px\"viewBox=\"0 0 24 24\"\n",
              "     width=\"24px\">\n",
              "    <g>\n",
              "        <path d=\"M19 3H5c-1.1 0-2 .9-2 2v14c0 1.1.9 2 2 2h14c1.1 0 2-.9 2-2V5c0-1.1-.9-2-2-2zM9 17H7v-7h2v7zm4 0h-2V7h2v10zm4 0h-2v-4h2v4z\"/>\n",
              "    </g>\n",
              "</svg>\n",
              "      </button>\n",
              "\n",
              "<style>\n",
              "  .colab-df-quickchart {\n",
              "      --bg-color: #E8F0FE;\n",
              "      --fill-color: #1967D2;\n",
              "      --hover-bg-color: #E2EBFA;\n",
              "      --hover-fill-color: #174EA6;\n",
              "      --disabled-fill-color: #AAA;\n",
              "      --disabled-bg-color: #DDD;\n",
              "  }\n",
              "\n",
              "  [theme=dark] .colab-df-quickchart {\n",
              "      --bg-color: #3B4455;\n",
              "      --fill-color: #D2E3FC;\n",
              "      --hover-bg-color: #434B5C;\n",
              "      --hover-fill-color: #FFFFFF;\n",
              "      --disabled-bg-color: #3B4455;\n",
              "      --disabled-fill-color: #666;\n",
              "  }\n",
              "\n",
              "  .colab-df-quickchart {\n",
              "    background-color: var(--bg-color);\n",
              "    border: none;\n",
              "    border-radius: 50%;\n",
              "    cursor: pointer;\n",
              "    display: none;\n",
              "    fill: var(--fill-color);\n",
              "    height: 32px;\n",
              "    padding: 0;\n",
              "    width: 32px;\n",
              "  }\n",
              "\n",
              "  .colab-df-quickchart:hover {\n",
              "    background-color: var(--hover-bg-color);\n",
              "    box-shadow: 0 1px 2px rgba(60, 64, 67, 0.3), 0 1px 3px 1px rgba(60, 64, 67, 0.15);\n",
              "    fill: var(--button-hover-fill-color);\n",
              "  }\n",
              "\n",
              "  .colab-df-quickchart-complete:disabled,\n",
              "  .colab-df-quickchart-complete:disabled:hover {\n",
              "    background-color: var(--disabled-bg-color);\n",
              "    fill: var(--disabled-fill-color);\n",
              "    box-shadow: none;\n",
              "  }\n",
              "\n",
              "  .colab-df-spinner {\n",
              "    border: 2px solid var(--fill-color);\n",
              "    border-color: transparent;\n",
              "    border-bottom-color: var(--fill-color);\n",
              "    animation:\n",
              "      spin 1s steps(1) infinite;\n",
              "  }\n",
              "\n",
              "  @keyframes spin {\n",
              "    0% {\n",
              "      border-color: transparent;\n",
              "      border-bottom-color: var(--fill-color);\n",
              "      border-left-color: var(--fill-color);\n",
              "    }\n",
              "    20% {\n",
              "      border-color: transparent;\n",
              "      border-left-color: var(--fill-color);\n",
              "      border-top-color: var(--fill-color);\n",
              "    }\n",
              "    30% {\n",
              "      border-color: transparent;\n",
              "      border-left-color: var(--fill-color);\n",
              "      border-top-color: var(--fill-color);\n",
              "      border-right-color: var(--fill-color);\n",
              "    }\n",
              "    40% {\n",
              "      border-color: transparent;\n",
              "      border-right-color: var(--fill-color);\n",
              "      border-top-color: var(--fill-color);\n",
              "    }\n",
              "    60% {\n",
              "      border-color: transparent;\n",
              "      border-right-color: var(--fill-color);\n",
              "    }\n",
              "    80% {\n",
              "      border-color: transparent;\n",
              "      border-right-color: var(--fill-color);\n",
              "      border-bottom-color: var(--fill-color);\n",
              "    }\n",
              "    90% {\n",
              "      border-color: transparent;\n",
              "      border-bottom-color: var(--fill-color);\n",
              "    }\n",
              "  }\n",
              "</style>\n",
              "\n",
              "      <script>\n",
              "        async function quickchart(key) {\n",
              "          const quickchartButtonEl =\n",
              "            document.querySelector('#' + key + ' button');\n",
              "          quickchartButtonEl.disabled = true;  // To prevent multiple clicks.\n",
              "          quickchartButtonEl.classList.add('colab-df-spinner');\n",
              "          try {\n",
              "            const charts = await google.colab.kernel.invokeFunction(\n",
              "                'suggestCharts', [key], {});\n",
              "          } catch (error) {\n",
              "            console.error('Error during call to suggestCharts:', error);\n",
              "          }\n",
              "          quickchartButtonEl.classList.remove('colab-df-spinner');\n",
              "          quickchartButtonEl.classList.add('colab-df-quickchart-complete');\n",
              "        }\n",
              "        (() => {\n",
              "          let quickchartButtonEl =\n",
              "            document.querySelector('#df-d274663c-b4e6-4ecf-9037-03734c9d1683 button');\n",
              "          quickchartButtonEl.style.display =\n",
              "            google.colab.kernel.accessAllowed ? 'block' : 'none';\n",
              "        })();\n",
              "      </script>\n",
              "    </div>\n",
              "\n",
              "    </div>\n",
              "  </div>\n"
            ],
            "application/vnd.google.colaboratory.intrinsic+json": {
              "type": "dataframe",
              "variable_name": "df_train_x",
              "summary": "{\n  \"name\": \"df_train_x\",\n  \"rows\": 404,\n  \"fields\": [\n    {\n      \"column\": \"0\",\n      \"properties\": {\n        \"dtype\": \"number\",\n        \"std\": 9.240734365476433,\n        \"min\": 0.00632,\n        \"max\": 88.9762,\n        \"num_unique_values\": 404,\n        \"samples\": [\n          0.17142,\n          1.42502,\n          0.03113\n        ],\n        \"semantic_type\": \"\",\n        \"description\": \"\"\n      }\n    },\n    {\n      \"column\": \"1\",\n      \"properties\": {\n        \"dtype\": \"number\",\n        \"std\": 23.767710731364645,\n        \"min\": 0.0,\n        \"max\": 100.0,\n        \"num_unique_values\": 25,\n        \"samples\": [\n          20.0,\n          85.0,\n          0.0\n        ],\n        \"semantic_type\": \"\",\n        \"description\": \"\"\n      }\n    },\n    {\n      \"column\": \"2\",\n      \"properties\": {\n        \"dtype\": \"number\",\n        \"std\": 6.811307590285245,\n        \"min\": 0.46,\n        \"max\": 27.74,\n        \"num_unique_values\": 71,\n        \"samples\": [\n          6.2,\n          8.14,\n          13.89\n        ],\n        \"semantic_type\": \"\",\n        \"description\": \"\"\n      }\n    },\n    {\n      \"column\": \"3\",\n      \"properties\": {\n        \"dtype\": \"number\",\n        \"std\": 0.24123838018034013,\n        \"min\": 0.0,\n        \"max\": 1.0,\n        \"num_unique_values\": 2,\n        \"samples\": [\n          1.0,\n          0.0\n        ],\n        \"semantic_type\": \"\",\n        \"description\": \"\"\n      }\n    },\n    {\n      \"column\": \"4\",\n      \"properties\": {\n        \"dtype\": \"number\",\n        \"std\": 0.11729310146793247,\n        \"min\": 0.385,\n        \"max\": 0.871,\n        \"num_unique_values\": 79,\n        \"samples\": [\n          0.507,\n          0.538\n        ],\n        \"semantic_type\": \"\",\n        \"description\": \"\"\n      }\n    },\n    {\n      \"column\": \"5\",\n      \"properties\": {\n        \"dtype\": \"number\",\n        \"std\": 0.709787621233784,\n        \"min\": 3.561,\n        \"max\": 8.725,\n        \"num_unique_values\": 374,\n        \"samples\": [\n          6.14,\n          5.935\n        ],\n        \"semantic_type\": \"\",\n        \"description\": \"\"\n      }\n    },\n    {\n      \"column\": \"6\",\n      \"properties\": {\n        \"dtype\": \"number\",\n        \"std\": 27.940664897596555,\n        \"min\": 2.9,\n        \"max\": 100.0,\n        \"num_unique_values\": 296,\n        \"samples\": [\n          37.8,\n          88.8\n        ],\n        \"semantic_type\": \"\",\n        \"description\": \"\"\n      }\n    },\n    {\n      \"column\": \"7\",\n      \"properties\": {\n        \"dtype\": \"number\",\n        \"std\": 2.030214697771033,\n        \"min\": 1.1296,\n        \"max\": 10.7103,\n        \"num_unique_values\": 338,\n        \"samples\": [\n          1.9142,\n          1.6582\n        ],\n        \"semantic_type\": \"\",\n        \"description\": \"\"\n      }\n    },\n    {\n      \"column\": \"8\",\n      \"properties\": {\n        \"dtype\": \"number\",\n        \"std\": 8.698360453797207,\n        \"min\": 1.0,\n        \"max\": 24.0,\n        \"num_unique_values\": 9,\n        \"samples\": [\n          8.0,\n          2.0\n        ],\n        \"semantic_type\": \"\",\n        \"description\": \"\"\n      }\n    },\n    {\n      \"column\": \"9\",\n      \"properties\": {\n        \"dtype\": \"number\",\n        \"std\": 166.37454262751075,\n        \"min\": 188.0,\n        \"max\": 711.0,\n        \"num_unique_values\": 62,\n        \"samples\": [\n          329.0,\n          337.0\n        ],\n        \"semantic_type\": \"\",\n        \"description\": \"\"\n      }\n    },\n    {\n      \"column\": \"10\",\n      \"properties\": {\n        \"dtype\": \"number\",\n        \"std\": 2.2003818211189334,\n        \"min\": 12.6,\n        \"max\": 22.0,\n        \"num_unique_values\": 46,\n        \"samples\": [\n          21.1,\n          18.0\n        ],\n        \"semantic_type\": \"\",\n        \"description\": \"\"\n      }\n    },\n    {\n      \"column\": \"11\",\n      \"properties\": {\n        \"dtype\": \"number\",\n        \"std\": 94.11114780831178,\n        \"min\": 0.32,\n        \"max\": 396.9,\n        \"num_unique_values\": 286,\n        \"samples\": [\n          359.29,\n          392.18\n        ],\n        \"semantic_type\": \"\",\n        \"description\": \"\"\n      }\n    },\n    {\n      \"column\": \"12\",\n      \"properties\": {\n        \"dtype\": \"number\",\n        \"std\": 7.254544811560666,\n        \"min\": 1.73,\n        \"max\": 37.97,\n        \"num_unique_values\": 371,\n        \"samples\": [\n          11.64,\n          6.58\n        ],\n        \"semantic_type\": \"\",\n        \"description\": \"\"\n      }\n    }\n  ]\n}"
            }
          },
          "metadata": {},
          "execution_count": 3
        }
      ]
    },
    {
      "cell_type": "code",
      "source": [
        "## Let's look at shape of the data\n",
        "df_train_x.shape"
      ],
      "metadata": {
        "colab": {
          "base_uri": "https://localhost:8080/"
        },
        "id": "YHQkHSrnshGn",
        "outputId": "0f89b210-08d5-4449-c395-34eca033868e"
      },
      "execution_count": 4,
      "outputs": [
        {
          "output_type": "execute_result",
          "data": {
            "text/plain": [
              "(404, 13)"
            ]
          },
          "metadata": {},
          "execution_count": 4
        }
      ]
    },
    {
      "cell_type": "markdown",
      "metadata": {
        "id": "sDl1bkKjbbGw"
      },
      "source": [
        "# Part 1: Impact of Changing Model Architecture\n",
        "\n",
        "In this section, we will be comparing a simple single-layer baseline model with two other models having a different network topology."
      ]
    },
    {
      "cell_type": "markdown",
      "metadata": {
        "id": "z82OOouVaVrt"
      },
      "source": [
        "## a) Baseline model [2 points]\n",
        "\n",
        "Use Keras to develop a baseline neural network model that has **one single fully-connected hidden layer with the same number of neurons as input features (i.e. 13 neurons).**\n",
        "\n",
        "Make sure to **standardize** your features (i.e. subtract mean and divide by standard deviation) before training your model. You can also perform any other data-preprocessing that you deem necessary.\n",
        "\n",
        "- Note: No activation function is used for the output layer because it is a regression problem and we are interested in predicting numerical values directly without transformation.\n",
        "\n",
        "- The ADAM optimization algorithm should be used to optimize mean squared error loss function.\n",
        "\n",
        "- Plot learning curves and report on both training and validation performance."
      ]
    },
    {
      "cell_type": "markdown",
      "source": [
        "Baseline Model Architecture:\n",
        "Input(13 features)-->Dense(13, activation=\"relu\")-->Dense(1)"
      ],
      "metadata": {
        "id": "lgqMWRETwzAY"
      }
    },
    {
      "cell_type": "markdown",
      "source": [
        "Summary of Steps:\n",
        "\n",
        "1- Load dataset.\n",
        "\n",
        "2- Split into train/val/test.\n",
        "\n",
        "3- Standardize features.\n",
        "\n",
        "4- Build model: Input → Dense(13, relu) → Dense(1).\n",
        "\n",
        "5- Compile with Adam + MSE.\n",
        "\n",
        "6- Train model with training data.\n",
        "\n",
        "7- Plot learning curves.\n",
        "\n",
        "8- Report train/validation MSE.\n",
        "\n",
        "9- Evaluate the model on the test set."
      ],
      "metadata": {
        "id": "mJ4ObH5Fi5Tp"
      }
    },
    {
      "cell_type": "code",
      "source": [
        "# Additional Data preprocessing\n",
        "# Convert y to 1D array\n",
        "train_y = df_train_y.iloc[:,0]\n",
        "test_y = df_test_y.iloc[:,0]\n",
        "test_X = np.array(df_test_x)\n",
        "\n",
        "\n",
        "# Split the training sets to training + validation\n",
        "train_X, val_X, train_y, val_y = train_test_split(df_train_x, train_y, test_size=0.2, random_state=42)"
      ],
      "metadata": {
        "id": "GDTmReBCa0bu"
      },
      "execution_count": 5,
      "outputs": []
    },
    {
      "cell_type": "code",
      "source": [
        "# Hint : to make it easier, you may try to standardize your data upfront\n",
        "## Neural networks train better when input data is standardized. This ensures each feature has mean 0 and std 1. We have to make sure split happens before standardization.\n",
        "from sklearn.preprocessing import StandardScaler\n",
        "scaler = StandardScaler()\n",
        "X_train_scaled = scaler.fit_transform(train_X)\n",
        "X_val_scaled = scaler.transform(val_X)\n",
        "X_test_scaled = scaler.transform(test_X)"
      ],
      "metadata": {
        "id": "6PgAwae1wxpM",
        "colab": {
          "base_uri": "https://localhost:8080/"
        },
        "outputId": "777125cd-ed00-4634-ce61-0a8a923c5509"
      },
      "execution_count": 6,
      "outputs": [
        {
          "output_type": "stream",
          "name": "stderr",
          "text": [
            "/usr/local/lib/python3.12/dist-packages/sklearn/utils/validation.py:2739: UserWarning: X does not have valid feature names, but StandardScaler was fitted with feature names\n",
            "  warnings.warn(\n"
          ]
        }
      ]
    },
    {
      "cell_type": "code",
      "source": [
        "# be sure to comment on your results for each and every question, describing not just\n",
        "# the what, but the 'how' and 'why' where possible, to demonstrate your understanding of course content"
      ],
      "metadata": {
        "id": "RsGSwgc-a1kb"
      },
      "execution_count": null,
      "outputs": []
    },
    {
      "cell_type": "code",
      "source": [
        "# Let's Build the Baseline Keras Model\n",
        "model = Sequential([\n",
        "    Dense(13, activation = \"relu\", input_shape=(13,)),\n",
        "    Dense(1) #as this is a regression model we don't need any activation functions\n",
        "])"
      ],
      "metadata": {
        "colab": {
          "base_uri": "https://localhost:8080/"
        },
        "id": "gWIaPxnmpMz-",
        "outputId": "54a5d6f2-efd2-40da-ae27-aff745bd4f48"
      },
      "execution_count": 7,
      "outputs": [
        {
          "output_type": "stream",
          "name": "stderr",
          "text": [
            "/usr/local/lib/python3.12/dist-packages/keras/src/layers/core/dense.py:93: UserWarning: Do not pass an `input_shape`/`input_dim` argument to a layer. When using Sequential models, prefer using an `Input(shape)` object as the first layer in the model instead.\n",
            "  super().__init__(activity_regularizer=activity_regularizer, **kwargs)\n"
          ]
        }
      ]
    },
    {
      "cell_type": "code",
      "source": [
        "# Compile the keras Model\n",
        "model.compile(optimizer = \"adam\", loss = \"mse\", metrics = [\"mse\"])"
      ],
      "metadata": {
        "id": "rnuICZoYrq2F"
      },
      "execution_count": 8,
      "outputs": []
    },
    {
      "cell_type": "code",
      "source": [
        "# Define the early stopping rule\n",
        "early_stop = EarlyStopping(\n",
        "    monitor = \"val_loss\",\n",
        "    patience = 10,\n",
        "    restore_best_weights=True\n",
        ")"
      ],
      "metadata": {
        "id": "73bGjf4a4zYT"
      },
      "execution_count": 9,
      "outputs": []
    },
    {
      "cell_type": "code",
      "source": [
        "# Let's train the model\n",
        "history = model.fit(\n",
        "    X_train_scaled, train_y,\n",
        "    validation_data = (X_val_scaled, val_y),\n",
        "    epochs = 100,\n",
        "    batch_size=32,\n",
        "    callbacks=[early_stop],\n",
        "    verbose = 1\n",
        ")"
      ],
      "metadata": {
        "colab": {
          "base_uri": "https://localhost:8080/"
        },
        "id": "Phg5SP32s44L",
        "outputId": "640aa4dc-ba4b-4dff-ac33-4c869b03c37e"
      },
      "execution_count": 10,
      "outputs": [
        {
          "output_type": "stream",
          "name": "stdout",
          "text": [
            "Epoch 1/100\n",
            "\u001b[1m11/11\u001b[0m \u001b[32m━━━━━━━━━━━━━━━━━━━━\u001b[0m\u001b[37m\u001b[0m \u001b[1m1s\u001b[0m 28ms/step - loss: 565.5076 - mse: 565.5076 - val_loss: 465.6071 - val_mse: 465.6071\n",
            "Epoch 2/100\n",
            "\u001b[1m11/11\u001b[0m \u001b[32m━━━━━━━━━━━━━━━━━━━━\u001b[0m\u001b[37m\u001b[0m \u001b[1m0s\u001b[0m 10ms/step - loss: 634.8739 - mse: 634.8739 - val_loss: 459.7295 - val_mse: 459.7295\n",
            "Epoch 3/100\n",
            "\u001b[1m11/11\u001b[0m \u001b[32m━━━━━━━━━━━━━━━━━━━━\u001b[0m\u001b[37m\u001b[0m \u001b[1m0s\u001b[0m 12ms/step - loss: 584.7035 - mse: 584.7035 - val_loss: 453.8235 - val_mse: 453.8235\n",
            "Epoch 4/100\n",
            "\u001b[1m11/11\u001b[0m \u001b[32m━━━━━━━━━━━━━━━━━━━━\u001b[0m\u001b[37m\u001b[0m \u001b[1m0s\u001b[0m 11ms/step - loss: 580.7979 - mse: 580.7979 - val_loss: 447.7385 - val_mse: 447.7385\n",
            "Epoch 5/100\n",
            "\u001b[1m11/11\u001b[0m \u001b[32m━━━━━━━━━━━━━━━━━━━━\u001b[0m\u001b[37m\u001b[0m \u001b[1m0s\u001b[0m 12ms/step - loss: 546.2175 - mse: 546.2175 - val_loss: 441.4655 - val_mse: 441.4655\n",
            "Epoch 6/100\n",
            "\u001b[1m11/11\u001b[0m \u001b[32m━━━━━━━━━━━━━━━━━━━━\u001b[0m\u001b[37m\u001b[0m \u001b[1m0s\u001b[0m 11ms/step - loss: 568.4503 - mse: 568.4503 - val_loss: 434.7800 - val_mse: 434.7800\n",
            "Epoch 7/100\n",
            "\u001b[1m11/11\u001b[0m \u001b[32m━━━━━━━━━━━━━━━━━━━━\u001b[0m\u001b[37m\u001b[0m \u001b[1m0s\u001b[0m 10ms/step - loss: 523.1652 - mse: 523.1652 - val_loss: 427.9595 - val_mse: 427.9595\n",
            "Epoch 8/100\n",
            "\u001b[1m11/11\u001b[0m \u001b[32m━━━━━━━━━━━━━━━━━━━━\u001b[0m\u001b[37m\u001b[0m \u001b[1m0s\u001b[0m 11ms/step - loss: 537.3346 - mse: 537.3346 - val_loss: 420.9101 - val_mse: 420.9101\n",
            "Epoch 9/100\n",
            "\u001b[1m11/11\u001b[0m \u001b[32m━━━━━━━━━━━━━━━━━━━━\u001b[0m\u001b[37m\u001b[0m \u001b[1m0s\u001b[0m 11ms/step - loss: 522.6550 - mse: 522.6550 - val_loss: 413.4745 - val_mse: 413.4745\n",
            "Epoch 10/100\n",
            "\u001b[1m11/11\u001b[0m \u001b[32m━━━━━━━━━━━━━━━━━━━━\u001b[0m\u001b[37m\u001b[0m \u001b[1m0s\u001b[0m 11ms/step - loss: 469.7191 - mse: 469.7191 - val_loss: 406.1468 - val_mse: 406.1468\n",
            "Epoch 11/100\n",
            "\u001b[1m11/11\u001b[0m \u001b[32m━━━━━━━━━━━━━━━━━━━━\u001b[0m\u001b[37m\u001b[0m \u001b[1m0s\u001b[0m 10ms/step - loss: 474.3777 - mse: 474.3777 - val_loss: 398.4692 - val_mse: 398.4692\n",
            "Epoch 12/100\n",
            "\u001b[1m11/11\u001b[0m \u001b[32m━━━━━━━━━━━━━━━━━━━━\u001b[0m\u001b[37m\u001b[0m \u001b[1m0s\u001b[0m 9ms/step - loss: 500.9583 - mse: 500.9583 - val_loss: 390.1201 - val_mse: 390.1201\n",
            "Epoch 13/100\n",
            "\u001b[1m11/11\u001b[0m \u001b[32m━━━━━━━━━━━━━━━━━━━━\u001b[0m\u001b[37m\u001b[0m \u001b[1m0s\u001b[0m 11ms/step - loss: 504.0651 - mse: 504.0651 - val_loss: 381.7588 - val_mse: 381.7588\n",
            "Epoch 14/100\n",
            "\u001b[1m11/11\u001b[0m \u001b[32m━━━━━━━━━━━━━━━━━━━━\u001b[0m\u001b[37m\u001b[0m \u001b[1m0s\u001b[0m 11ms/step - loss: 471.5217 - mse: 471.5217 - val_loss: 373.3559 - val_mse: 373.3559\n",
            "Epoch 15/100\n",
            "\u001b[1m11/11\u001b[0m \u001b[32m━━━━━━━━━━━━━━━━━━━━\u001b[0m\u001b[37m\u001b[0m \u001b[1m0s\u001b[0m 13ms/step - loss: 450.4172 - mse: 450.4172 - val_loss: 364.7352 - val_mse: 364.7352\n",
            "Epoch 16/100\n",
            "\u001b[1m11/11\u001b[0m \u001b[32m━━━━━━━━━━━━━━━━━━━━\u001b[0m\u001b[37m\u001b[0m \u001b[1m0s\u001b[0m 11ms/step - loss: 464.7841 - mse: 464.7841 - val_loss: 356.0390 - val_mse: 356.0390\n",
            "Epoch 17/100\n",
            "\u001b[1m11/11\u001b[0m \u001b[32m━━━━━━━━━━━━━━━━━━━━\u001b[0m\u001b[37m\u001b[0m \u001b[1m0s\u001b[0m 11ms/step - loss: 453.7423 - mse: 453.7423 - val_loss: 347.0033 - val_mse: 347.0033\n",
            "Epoch 18/100\n",
            "\u001b[1m11/11\u001b[0m \u001b[32m━━━━━━━━━━━━━━━━━━━━\u001b[0m\u001b[37m\u001b[0m \u001b[1m0s\u001b[0m 9ms/step - loss: 447.1133 - mse: 447.1133 - val_loss: 337.7813 - val_mse: 337.7813\n",
            "Epoch 19/100\n",
            "\u001b[1m11/11\u001b[0m \u001b[32m━━━━━━━━━━━━━━━━━━━━\u001b[0m\u001b[37m\u001b[0m \u001b[1m0s\u001b[0m 10ms/step - loss: 425.3668 - mse: 425.3668 - val_loss: 328.5457 - val_mse: 328.5457\n",
            "Epoch 20/100\n",
            "\u001b[1m11/11\u001b[0m \u001b[32m━━━━━━━━━━━━━━━━━━━━\u001b[0m\u001b[37m\u001b[0m \u001b[1m0s\u001b[0m 10ms/step - loss: 409.2733 - mse: 409.2733 - val_loss: 318.8279 - val_mse: 318.8279\n",
            "Epoch 21/100\n",
            "\u001b[1m11/11\u001b[0m \u001b[32m━━━━━━━━━━━━━━━━━━━━\u001b[0m\u001b[37m\u001b[0m \u001b[1m0s\u001b[0m 9ms/step - loss: 390.9344 - mse: 390.9344 - val_loss: 309.2209 - val_mse: 309.2209\n",
            "Epoch 22/100\n",
            "\u001b[1m11/11\u001b[0m \u001b[32m━━━━━━━━━━━━━━━━━━━━\u001b[0m\u001b[37m\u001b[0m \u001b[1m0s\u001b[0m 9ms/step - loss: 372.3144 - mse: 372.3144 - val_loss: 300.0379 - val_mse: 300.0379\n",
            "Epoch 23/100\n",
            "\u001b[1m11/11\u001b[0m \u001b[32m━━━━━━━━━━━━━━━━━━━━\u001b[0m\u001b[37m\u001b[0m \u001b[1m0s\u001b[0m 9ms/step - loss: 365.2348 - mse: 365.2348 - val_loss: 290.8196 - val_mse: 290.8196\n",
            "Epoch 24/100\n",
            "\u001b[1m11/11\u001b[0m \u001b[32m━━━━━━━━━━━━━━━━━━━━\u001b[0m\u001b[37m\u001b[0m \u001b[1m0s\u001b[0m 9ms/step - loss: 340.6169 - mse: 340.6169 - val_loss: 281.7663 - val_mse: 281.7663\n",
            "Epoch 25/100\n",
            "\u001b[1m11/11\u001b[0m \u001b[32m━━━━━━━━━━━━━━━━━━━━\u001b[0m\u001b[37m\u001b[0m \u001b[1m0s\u001b[0m 9ms/step - loss: 343.1897 - mse: 343.1897 - val_loss: 272.6571 - val_mse: 272.6571\n",
            "Epoch 26/100\n",
            "\u001b[1m11/11\u001b[0m \u001b[32m━━━━━━━━━━━━━━━━━━━━\u001b[0m\u001b[37m\u001b[0m \u001b[1m0s\u001b[0m 11ms/step - loss: 325.4075 - mse: 325.4075 - val_loss: 263.2474 - val_mse: 263.2474\n",
            "Epoch 27/100\n",
            "\u001b[1m11/11\u001b[0m \u001b[32m━━━━━━━━━━━━━━━━━━━━\u001b[0m\u001b[37m\u001b[0m \u001b[1m0s\u001b[0m 9ms/step - loss: 329.6707 - mse: 329.6707 - val_loss: 254.1796 - val_mse: 254.1796\n",
            "Epoch 28/100\n",
            "\u001b[1m11/11\u001b[0m \u001b[32m━━━━━━━━━━━━━━━━━━━━\u001b[0m\u001b[37m\u001b[0m \u001b[1m0s\u001b[0m 11ms/step - loss: 288.5900 - mse: 288.5900 - val_loss: 245.6905 - val_mse: 245.6905\n",
            "Epoch 29/100\n",
            "\u001b[1m11/11\u001b[0m \u001b[32m━━━━━━━━━━━━━━━━━━━━\u001b[0m\u001b[37m\u001b[0m \u001b[1m0s\u001b[0m 11ms/step - loss: 291.2684 - mse: 291.2684 - val_loss: 237.0423 - val_mse: 237.0423\n",
            "Epoch 30/100\n",
            "\u001b[1m11/11\u001b[0m \u001b[32m━━━━━━━━━━━━━━━━━━━━\u001b[0m\u001b[37m\u001b[0m \u001b[1m0s\u001b[0m 10ms/step - loss: 268.0363 - mse: 268.0363 - val_loss: 229.0529 - val_mse: 229.0529\n",
            "Epoch 31/100\n",
            "\u001b[1m11/11\u001b[0m \u001b[32m━━━━━━━━━━━━━━━━━━━━\u001b[0m\u001b[37m\u001b[0m \u001b[1m0s\u001b[0m 9ms/step - loss: 268.4263 - mse: 268.4263 - val_loss: 220.9418 - val_mse: 220.9418\n",
            "Epoch 32/100\n",
            "\u001b[1m11/11\u001b[0m \u001b[32m━━━━━━━━━━━━━━━━━━━━\u001b[0m\u001b[37m\u001b[0m \u001b[1m0s\u001b[0m 14ms/step - loss: 244.2341 - mse: 244.2341 - val_loss: 213.3619 - val_mse: 213.3619\n",
            "Epoch 33/100\n",
            "\u001b[1m11/11\u001b[0m \u001b[32m━━━━━━━━━━━━━━━━━━━━\u001b[0m\u001b[37m\u001b[0m \u001b[1m0s\u001b[0m 14ms/step - loss: 254.0126 - mse: 254.0126 - val_loss: 205.7610 - val_mse: 205.7610\n",
            "Epoch 34/100\n",
            "\u001b[1m11/11\u001b[0m \u001b[32m━━━━━━━━━━━━━━━━━━━━\u001b[0m\u001b[37m\u001b[0m \u001b[1m0s\u001b[0m 12ms/step - loss: 221.1482 - mse: 221.1482 - val_loss: 198.2961 - val_mse: 198.2961\n",
            "Epoch 35/100\n",
            "\u001b[1m11/11\u001b[0m \u001b[32m━━━━━━━━━━━━━━━━━━━━\u001b[0m\u001b[37m\u001b[0m \u001b[1m0s\u001b[0m 17ms/step - loss: 247.2666 - mse: 247.2666 - val_loss: 191.0360 - val_mse: 191.0360\n",
            "Epoch 36/100\n",
            "\u001b[1m11/11\u001b[0m \u001b[32m━━━━━━━━━━━━━━━━━━━━\u001b[0m\u001b[37m\u001b[0m \u001b[1m0s\u001b[0m 16ms/step - loss: 240.2258 - mse: 240.2258 - val_loss: 184.2694 - val_mse: 184.2694\n",
            "Epoch 37/100\n",
            "\u001b[1m11/11\u001b[0m \u001b[32m━━━━━━━━━━━━━━━━━━━━\u001b[0m\u001b[37m\u001b[0m \u001b[1m0s\u001b[0m 14ms/step - loss: 197.4256 - mse: 197.4256 - val_loss: 177.7864 - val_mse: 177.7864\n",
            "Epoch 38/100\n",
            "\u001b[1m11/11\u001b[0m \u001b[32m━━━━━━━━━━━━━━━━━━━━\u001b[0m\u001b[37m\u001b[0m \u001b[1m0s\u001b[0m 17ms/step - loss: 204.0129 - mse: 204.0129 - val_loss: 171.0968 - val_mse: 171.0968\n",
            "Epoch 39/100\n",
            "\u001b[1m11/11\u001b[0m \u001b[32m━━━━━━━━━━━━━━━━━━━━\u001b[0m\u001b[37m\u001b[0m \u001b[1m0s\u001b[0m 13ms/step - loss: 161.8577 - mse: 161.8577 - val_loss: 164.5546 - val_mse: 164.5546\n",
            "Epoch 40/100\n",
            "\u001b[1m11/11\u001b[0m \u001b[32m━━━━━━━━━━━━━━━━━━━━\u001b[0m\u001b[37m\u001b[0m \u001b[1m0s\u001b[0m 20ms/step - loss: 187.0185 - mse: 187.0185 - val_loss: 158.2827 - val_mse: 158.2827\n",
            "Epoch 41/100\n",
            "\u001b[1m11/11\u001b[0m \u001b[32m━━━━━━━━━━━━━━━━━━━━\u001b[0m\u001b[37m\u001b[0m \u001b[1m0s\u001b[0m 13ms/step - loss: 165.5786 - mse: 165.5786 - val_loss: 152.7621 - val_mse: 152.7621\n",
            "Epoch 42/100\n",
            "\u001b[1m11/11\u001b[0m \u001b[32m━━━━━━━━━━━━━━━━━━━━\u001b[0m\u001b[37m\u001b[0m \u001b[1m0s\u001b[0m 15ms/step - loss: 158.2633 - mse: 158.2633 - val_loss: 147.5660 - val_mse: 147.5660\n",
            "Epoch 43/100\n",
            "\u001b[1m11/11\u001b[0m \u001b[32m━━━━━━━━━━━━━━━━━━━━\u001b[0m\u001b[37m\u001b[0m \u001b[1m0s\u001b[0m 12ms/step - loss: 147.1937 - mse: 147.1937 - val_loss: 142.5657 - val_mse: 142.5657\n",
            "Epoch 44/100\n",
            "\u001b[1m11/11\u001b[0m \u001b[32m━━━━━━━━━━━━━━━━━━━━\u001b[0m\u001b[37m\u001b[0m \u001b[1m0s\u001b[0m 14ms/step - loss: 147.6925 - mse: 147.6925 - val_loss: 137.7444 - val_mse: 137.7444\n",
            "Epoch 45/100\n",
            "\u001b[1m11/11\u001b[0m \u001b[32m━━━━━━━━━━━━━━━━━━━━\u001b[0m\u001b[37m\u001b[0m \u001b[1m0s\u001b[0m 17ms/step - loss: 144.6704 - mse: 144.6704 - val_loss: 133.1141 - val_mse: 133.1141\n",
            "Epoch 46/100\n",
            "\u001b[1m11/11\u001b[0m \u001b[32m━━━━━━━━━━━━━━━━━━━━\u001b[0m\u001b[37m\u001b[0m \u001b[1m0s\u001b[0m 9ms/step - loss: 154.7451 - mse: 154.7451 - val_loss: 128.4261 - val_mse: 128.4261\n",
            "Epoch 47/100\n",
            "\u001b[1m11/11\u001b[0m \u001b[32m━━━━━━━━━━━━━━━━━━━━\u001b[0m\u001b[37m\u001b[0m \u001b[1m0s\u001b[0m 9ms/step - loss: 123.5245 - mse: 123.5245 - val_loss: 124.0409 - val_mse: 124.0409\n",
            "Epoch 48/100\n",
            "\u001b[1m11/11\u001b[0m \u001b[32m━━━━━━━━━━━━━━━━━━━━\u001b[0m\u001b[37m\u001b[0m \u001b[1m0s\u001b[0m 10ms/step - loss: 149.9056 - mse: 149.9056 - val_loss: 119.6219 - val_mse: 119.6219\n",
            "Epoch 49/100\n",
            "\u001b[1m11/11\u001b[0m \u001b[32m━━━━━━━━━━━━━━━━━━━━\u001b[0m\u001b[37m\u001b[0m \u001b[1m0s\u001b[0m 10ms/step - loss: 127.2021 - mse: 127.2021 - val_loss: 115.5623 - val_mse: 115.5623\n",
            "Epoch 50/100\n",
            "\u001b[1m11/11\u001b[0m \u001b[32m━━━━━━━━━━━━━━━━━━━━\u001b[0m\u001b[37m\u001b[0m \u001b[1m0s\u001b[0m 12ms/step - loss: 136.2179 - mse: 136.2179 - val_loss: 111.5352 - val_mse: 111.5352\n",
            "Epoch 51/100\n",
            "\u001b[1m11/11\u001b[0m \u001b[32m━━━━━━━━━━━━━━━━━━━━\u001b[0m\u001b[37m\u001b[0m \u001b[1m0s\u001b[0m 9ms/step - loss: 125.8408 - mse: 125.8408 - val_loss: 107.7161 - val_mse: 107.7161\n",
            "Epoch 52/100\n",
            "\u001b[1m11/11\u001b[0m \u001b[32m━━━━━━━━━━━━━━━━━━━━\u001b[0m\u001b[37m\u001b[0m \u001b[1m0s\u001b[0m 10ms/step - loss: 129.8473 - mse: 129.8473 - val_loss: 103.8008 - val_mse: 103.8008\n",
            "Epoch 53/100\n",
            "\u001b[1m11/11\u001b[0m \u001b[32m━━━━━━━━━━━━━━━━━━━━\u001b[0m\u001b[37m\u001b[0m \u001b[1m0s\u001b[0m 10ms/step - loss: 111.9386 - mse: 111.9386 - val_loss: 100.3446 - val_mse: 100.3446\n",
            "Epoch 54/100\n",
            "\u001b[1m11/11\u001b[0m \u001b[32m━━━━━━━━━━━━━━━━━━━━\u001b[0m\u001b[37m\u001b[0m \u001b[1m0s\u001b[0m 10ms/step - loss: 110.8920 - mse: 110.8920 - val_loss: 96.9746 - val_mse: 96.9746\n",
            "Epoch 55/100\n",
            "\u001b[1m11/11\u001b[0m \u001b[32m━━━━━━━━━━━━━━━━━━━━\u001b[0m\u001b[37m\u001b[0m \u001b[1m0s\u001b[0m 9ms/step - loss: 96.2316 - mse: 96.2316 - val_loss: 93.8120 - val_mse: 93.8120\n",
            "Epoch 56/100\n",
            "\u001b[1m11/11\u001b[0m \u001b[32m━━━━━━━━━━━━━━━━━━━━\u001b[0m\u001b[37m\u001b[0m \u001b[1m0s\u001b[0m 9ms/step - loss: 100.8635 - mse: 100.8635 - val_loss: 90.5684 - val_mse: 90.5684\n",
            "Epoch 57/100\n",
            "\u001b[1m11/11\u001b[0m \u001b[32m━━━━━━━━━━━━━━━━━━━━\u001b[0m\u001b[37m\u001b[0m \u001b[1m0s\u001b[0m 10ms/step - loss: 105.1594 - mse: 105.1594 - val_loss: 87.2982 - val_mse: 87.2982\n",
            "Epoch 58/100\n",
            "\u001b[1m11/11\u001b[0m \u001b[32m━━━━━━━━━━━━━━━━━━━━\u001b[0m\u001b[37m\u001b[0m \u001b[1m0s\u001b[0m 10ms/step - loss: 95.4323 - mse: 95.4323 - val_loss: 84.5209 - val_mse: 84.5209\n",
            "Epoch 59/100\n",
            "\u001b[1m11/11\u001b[0m \u001b[32m━━━━━━━━━━━━━━━━━━━━\u001b[0m\u001b[37m\u001b[0m \u001b[1m0s\u001b[0m 10ms/step - loss: 96.6958 - mse: 96.6958 - val_loss: 81.7386 - val_mse: 81.7386\n",
            "Epoch 60/100\n",
            "\u001b[1m11/11\u001b[0m \u001b[32m━━━━━━━━━━━━━━━━━━━━\u001b[0m\u001b[37m\u001b[0m \u001b[1m0s\u001b[0m 9ms/step - loss: 87.4650 - mse: 87.4650 - val_loss: 79.1052 - val_mse: 79.1052\n",
            "Epoch 61/100\n",
            "\u001b[1m11/11\u001b[0m \u001b[32m━━━━━━━━━━━━━━━━━━━━\u001b[0m\u001b[37m\u001b[0m \u001b[1m0s\u001b[0m 9ms/step - loss: 91.8212 - mse: 91.8212 - val_loss: 76.4109 - val_mse: 76.4109\n",
            "Epoch 62/100\n",
            "\u001b[1m11/11\u001b[0m \u001b[32m━━━━━━━━━━━━━━━━━━━━\u001b[0m\u001b[37m\u001b[0m \u001b[1m0s\u001b[0m 10ms/step - loss: 77.1007 - mse: 77.1007 - val_loss: 73.8840 - val_mse: 73.8840\n",
            "Epoch 63/100\n",
            "\u001b[1m11/11\u001b[0m \u001b[32m━━━━━━━━━━━━━━━━━━━━\u001b[0m\u001b[37m\u001b[0m \u001b[1m0s\u001b[0m 10ms/step - loss: 76.7634 - mse: 76.7634 - val_loss: 71.3210 - val_mse: 71.3210\n",
            "Epoch 64/100\n",
            "\u001b[1m11/11\u001b[0m \u001b[32m━━━━━━━━━━━━━━━━━━━━\u001b[0m\u001b[37m\u001b[0m \u001b[1m0s\u001b[0m 9ms/step - loss: 78.7177 - mse: 78.7177 - val_loss: 68.8642 - val_mse: 68.8642\n",
            "Epoch 65/100\n",
            "\u001b[1m11/11\u001b[0m \u001b[32m━━━━━━━━━━━━━━━━━━━━\u001b[0m\u001b[37m\u001b[0m \u001b[1m0s\u001b[0m 10ms/step - loss: 69.5726 - mse: 69.5726 - val_loss: 66.6967 - val_mse: 66.6967\n",
            "Epoch 66/100\n",
            "\u001b[1m11/11\u001b[0m \u001b[32m━━━━━━━━━━━━━━━━━━━━\u001b[0m\u001b[37m\u001b[0m \u001b[1m0s\u001b[0m 10ms/step - loss: 63.2586 - mse: 63.2586 - val_loss: 64.6992 - val_mse: 64.6992\n",
            "Epoch 67/100\n",
            "\u001b[1m11/11\u001b[0m \u001b[32m━━━━━━━━━━━━━━━━━━━━\u001b[0m\u001b[37m\u001b[0m \u001b[1m0s\u001b[0m 10ms/step - loss: 81.8484 - mse: 81.8484 - val_loss: 62.6935 - val_mse: 62.6935\n",
            "Epoch 68/100\n",
            "\u001b[1m11/11\u001b[0m \u001b[32m━━━━━━━━━━━━━━━━━━━━\u001b[0m\u001b[37m\u001b[0m \u001b[1m0s\u001b[0m 9ms/step - loss: 66.4647 - mse: 66.4647 - val_loss: 60.8340 - val_mse: 60.8340\n",
            "Epoch 69/100\n",
            "\u001b[1m11/11\u001b[0m \u001b[32m━━━━━━━━━━━━━━━━━━━━\u001b[0m\u001b[37m\u001b[0m \u001b[1m0s\u001b[0m 10ms/step - loss: 65.1217 - mse: 65.1217 - val_loss: 59.0306 - val_mse: 59.0306\n",
            "Epoch 70/100\n",
            "\u001b[1m11/11\u001b[0m \u001b[32m━━━━━━━━━━━━━━━━━━━━\u001b[0m\u001b[37m\u001b[0m \u001b[1m0s\u001b[0m 10ms/step - loss: 73.2270 - mse: 73.2270 - val_loss: 57.1154 - val_mse: 57.1154\n",
            "Epoch 71/100\n",
            "\u001b[1m11/11\u001b[0m \u001b[32m━━━━━━━━━━━━━━━━━━━━\u001b[0m\u001b[37m\u001b[0m \u001b[1m0s\u001b[0m 10ms/step - loss: 66.1345 - mse: 66.1345 - val_loss: 55.4324 - val_mse: 55.4324\n",
            "Epoch 72/100\n",
            "\u001b[1m11/11\u001b[0m \u001b[32m━━━━━━━━━━━━━━━━━━━━\u001b[0m\u001b[37m\u001b[0m \u001b[1m0s\u001b[0m 10ms/step - loss: 59.8146 - mse: 59.8146 - val_loss: 53.8545 - val_mse: 53.8545\n",
            "Epoch 73/100\n",
            "\u001b[1m11/11\u001b[0m \u001b[32m━━━━━━━━━━━━━━━━━━━━\u001b[0m\u001b[37m\u001b[0m \u001b[1m0s\u001b[0m 10ms/step - loss: 72.7269 - mse: 72.7269 - val_loss: 52.3221 - val_mse: 52.3221\n",
            "Epoch 74/100\n",
            "\u001b[1m11/11\u001b[0m \u001b[32m━━━━━━━━━━━━━━━━━━━━\u001b[0m\u001b[37m\u001b[0m \u001b[1m0s\u001b[0m 11ms/step - loss: 61.6993 - mse: 61.6993 - val_loss: 50.9297 - val_mse: 50.9297\n",
            "Epoch 75/100\n",
            "\u001b[1m11/11\u001b[0m \u001b[32m━━━━━━━━━━━━━━━━━━━━\u001b[0m\u001b[37m\u001b[0m \u001b[1m0s\u001b[0m 9ms/step - loss: 54.7298 - mse: 54.7298 - val_loss: 49.5183 - val_mse: 49.5183\n",
            "Epoch 76/100\n",
            "\u001b[1m11/11\u001b[0m \u001b[32m━━━━━━━━━━━━━━━━━━━━\u001b[0m\u001b[37m\u001b[0m \u001b[1m0s\u001b[0m 9ms/step - loss: 57.6761 - mse: 57.6761 - val_loss: 48.2243 - val_mse: 48.2243\n",
            "Epoch 77/100\n",
            "\u001b[1m11/11\u001b[0m \u001b[32m━━━━━━━━━━━━━━━━━━━━\u001b[0m\u001b[37m\u001b[0m \u001b[1m0s\u001b[0m 9ms/step - loss: 56.4896 - mse: 56.4896 - val_loss: 47.0364 - val_mse: 47.0364\n",
            "Epoch 78/100\n",
            "\u001b[1m11/11\u001b[0m \u001b[32m━━━━━━━━━━━━━━━━━━━━\u001b[0m\u001b[37m\u001b[0m \u001b[1m0s\u001b[0m 9ms/step - loss: 49.5152 - mse: 49.5152 - val_loss: 45.8762 - val_mse: 45.8762\n",
            "Epoch 79/100\n",
            "\u001b[1m11/11\u001b[0m \u001b[32m━━━━━━━━━━━━━━━━━━━━\u001b[0m\u001b[37m\u001b[0m \u001b[1m0s\u001b[0m 10ms/step - loss: 53.3896 - mse: 53.3896 - val_loss: 44.7322 - val_mse: 44.7322\n",
            "Epoch 80/100\n",
            "\u001b[1m11/11\u001b[0m \u001b[32m━━━━━━━━━━━━━━━━━━━━\u001b[0m\u001b[37m\u001b[0m \u001b[1m0s\u001b[0m 10ms/step - loss: 51.0169 - mse: 51.0169 - val_loss: 43.8201 - val_mse: 43.8201\n",
            "Epoch 81/100\n",
            "\u001b[1m11/11\u001b[0m \u001b[32m━━━━━━━━━━━━━━━━━━━━\u001b[0m\u001b[37m\u001b[0m \u001b[1m0s\u001b[0m 10ms/step - loss: 47.5832 - mse: 47.5832 - val_loss: 42.9106 - val_mse: 42.9106\n",
            "Epoch 82/100\n",
            "\u001b[1m11/11\u001b[0m \u001b[32m━━━━━━━━━━━━━━━━━━━━\u001b[0m\u001b[37m\u001b[0m \u001b[1m0s\u001b[0m 11ms/step - loss: 45.8723 - mse: 45.8723 - val_loss: 42.1146 - val_mse: 42.1146\n",
            "Epoch 83/100\n",
            "\u001b[1m11/11\u001b[0m \u001b[32m━━━━━━━━━━━━━━━━━━━━\u001b[0m\u001b[37m\u001b[0m \u001b[1m0s\u001b[0m 10ms/step - loss: 55.0412 - mse: 55.0412 - val_loss: 41.2610 - val_mse: 41.2610\n",
            "Epoch 84/100\n",
            "\u001b[1m11/11\u001b[0m \u001b[32m━━━━━━━━━━━━━━━━━━━━\u001b[0m\u001b[37m\u001b[0m \u001b[1m0s\u001b[0m 10ms/step - loss: 45.7027 - mse: 45.7027 - val_loss: 40.5357 - val_mse: 40.5357\n",
            "Epoch 85/100\n",
            "\u001b[1m11/11\u001b[0m \u001b[32m━━━━━━━━━━━━━━━━━━━━\u001b[0m\u001b[37m\u001b[0m \u001b[1m0s\u001b[0m 9ms/step - loss: 40.1031 - mse: 40.1031 - val_loss: 39.9162 - val_mse: 39.9162\n",
            "Epoch 86/100\n",
            "\u001b[1m11/11\u001b[0m \u001b[32m━━━━━━━━━━━━━━━━━━━━\u001b[0m\u001b[37m\u001b[0m \u001b[1m0s\u001b[0m 9ms/step - loss: 44.1758 - mse: 44.1758 - val_loss: 39.2994 - val_mse: 39.2994\n",
            "Epoch 87/100\n",
            "\u001b[1m11/11\u001b[0m \u001b[32m━━━━━━━━━━━━━━━━━━━━\u001b[0m\u001b[37m\u001b[0m \u001b[1m0s\u001b[0m 10ms/step - loss: 40.0071 - mse: 40.0071 - val_loss: 38.6298 - val_mse: 38.6298\n",
            "Epoch 88/100\n",
            "\u001b[1m11/11\u001b[0m \u001b[32m━━━━━━━━━━━━━━━━━━━━\u001b[0m\u001b[37m\u001b[0m \u001b[1m0s\u001b[0m 10ms/step - loss: 43.5941 - mse: 43.5941 - val_loss: 37.9942 - val_mse: 37.9942\n",
            "Epoch 89/100\n",
            "\u001b[1m11/11\u001b[0m \u001b[32m━━━━━━━━━━━━━━━━━━━━\u001b[0m\u001b[37m\u001b[0m \u001b[1m0s\u001b[0m 9ms/step - loss: 37.1550 - mse: 37.1550 - val_loss: 37.4639 - val_mse: 37.4639\n",
            "Epoch 90/100\n",
            "\u001b[1m11/11\u001b[0m \u001b[32m━━━━━━━━━━━━━━━━━━━━\u001b[0m\u001b[37m\u001b[0m \u001b[1m0s\u001b[0m 11ms/step - loss: 36.7090 - mse: 36.7090 - val_loss: 37.0217 - val_mse: 37.0217\n",
            "Epoch 91/100\n",
            "\u001b[1m11/11\u001b[0m \u001b[32m━━━━━━━━━━━━━━━━━━━━\u001b[0m\u001b[37m\u001b[0m \u001b[1m0s\u001b[0m 10ms/step - loss: 35.7493 - mse: 35.7493 - val_loss: 36.5752 - val_mse: 36.5752\n",
            "Epoch 92/100\n",
            "\u001b[1m11/11\u001b[0m \u001b[32m━━━━━━━━━━━━━━━━━━━━\u001b[0m\u001b[37m\u001b[0m \u001b[1m0s\u001b[0m 9ms/step - loss: 36.5944 - mse: 36.5944 - val_loss: 36.2196 - val_mse: 36.2196\n",
            "Epoch 93/100\n",
            "\u001b[1m11/11\u001b[0m \u001b[32m━━━━━━━━━━━━━━━━━━━━\u001b[0m\u001b[37m\u001b[0m \u001b[1m0s\u001b[0m 9ms/step - loss: 52.4963 - mse: 52.4963 - val_loss: 35.9143 - val_mse: 35.9143\n",
            "Epoch 94/100\n",
            "\u001b[1m11/11\u001b[0m \u001b[32m━━━━━━━━━━━━━━━━━━━━\u001b[0m\u001b[37m\u001b[0m \u001b[1m0s\u001b[0m 10ms/step - loss: 31.8724 - mse: 31.8724 - val_loss: 35.5514 - val_mse: 35.5514\n",
            "Epoch 95/100\n",
            "\u001b[1m11/11\u001b[0m \u001b[32m━━━━━━━━━━━━━━━━━━━━\u001b[0m\u001b[37m\u001b[0m \u001b[1m0s\u001b[0m 11ms/step - loss: 39.0452 - mse: 39.0452 - val_loss: 35.1695 - val_mse: 35.1695\n",
            "Epoch 96/100\n",
            "\u001b[1m11/11\u001b[0m \u001b[32m━━━━━━━━━━━━━━━━━━━━\u001b[0m\u001b[37m\u001b[0m \u001b[1m0s\u001b[0m 10ms/step - loss: 33.6563 - mse: 33.6563 - val_loss: 34.8720 - val_mse: 34.8720\n",
            "Epoch 97/100\n",
            "\u001b[1m11/11\u001b[0m \u001b[32m━━━━━━━━━━━━━━━━━━━━\u001b[0m\u001b[37m\u001b[0m \u001b[1m0s\u001b[0m 11ms/step - loss: 34.1600 - mse: 34.1600 - val_loss: 34.6896 - val_mse: 34.6896\n",
            "Epoch 98/100\n",
            "\u001b[1m11/11\u001b[0m \u001b[32m━━━━━━━━━━━━━━━━━━━━\u001b[0m\u001b[37m\u001b[0m \u001b[1m0s\u001b[0m 11ms/step - loss: 34.1256 - mse: 34.1256 - val_loss: 34.5338 - val_mse: 34.5338\n",
            "Epoch 99/100\n",
            "\u001b[1m11/11\u001b[0m \u001b[32m━━━━━━━━━━━━━━━━━━━━\u001b[0m\u001b[37m\u001b[0m \u001b[1m0s\u001b[0m 9ms/step - loss: 35.1403 - mse: 35.1403 - val_loss: 34.4973 - val_mse: 34.4973\n",
            "Epoch 100/100\n",
            "\u001b[1m11/11\u001b[0m \u001b[32m━━━━━━━━━━━━━━━━━━━━\u001b[0m\u001b[37m\u001b[0m \u001b[1m0s\u001b[0m 9ms/step - loss: 40.5078 - mse: 40.5078 - val_loss: 34.3817 - val_mse: 34.3817\n"
          ]
        }
      ]
    },
    {
      "cell_type": "code",
      "source": [
        "# Let's plot the learning curve\n",
        "plt.plot(history.history['loss'], label='Training Loss')\n",
        "plt.plot(history.history['val_loss'], label='Validation Loss')\n",
        "plt.xlabel('Epochs')\n",
        "plt.ylabel('MSE')\n",
        "plt.title('Learning Curve Model 1')\n",
        "plt.legend()\n",
        "plt.show()\n"
      ],
      "metadata": {
        "colab": {
          "base_uri": "https://localhost:8080/",
          "height": 472
        },
        "id": "wyuTnSsEwZ0r",
        "outputId": "b41394d9-1d1d-43b2-e8ab-f9397b829360"
      },
      "execution_count": 11,
      "outputs": [
        {
          "output_type": "display_data",
          "data": {
            "text/plain": [
              "<Figure size 640x480 with 1 Axes>"
            ],
            "image/png": "[encoded data removed]"
          },
          "metadata": {}
        }
      ]
    },
    {
      "cell_type": "code",
      "source": [
        "# Let's evaluate the model\n",
        "test_mse = model.evaluate(X_test_scaled,test_y, verbose = 0)\n",
        "print(test_mse)"
      ],
      "metadata": {
        "colab": {
          "base_uri": "https://localhost:8080/"
        },
        "id": "qI3Faeh-wZYE",
        "outputId": "f9ed5c1a-637d-4f0f-fb0f-28486e9c6f8c"
      },
      "execution_count": 12,
      "outputs": [
        {
          "output_type": "stream",
          "name": "stdout",
          "text": [
            "[42.0129280090332, 42.0129280090332]\n"
          ]
        }
      ]
    },
    {
      "cell_type": "markdown",
      "metadata": {
        "id": "2JimscX-Zb7T"
      },
      "source": [
        "## b) Deeper Network [1 point]\n",
        "\n",
        "Construct and evaluate a model with 2 dense layers having a smaller number of neurons (e.g. 16, 8)."
      ]
    },
    {
      "cell_type": "code",
      "execution_count": null,
      "metadata": {
        "id": "ha6iU4_WKjJE"
      },
      "outputs": [],
      "source": [
        "# your code here, use as many cells as you need\n",
        "\n",
        "# be sure to comment on your results for each and every question, describing not just\n",
        "# the what, but the 'how' and 'why' where possible, to demonstrate your understanding of\n",
        "# course content\n"
      ]
    },
    {
      "cell_type": "code",
      "source": [
        "# Let's Build the Keras Model with 2 dense layers\n",
        "model2 = Sequential([\n",
        "    Dense(16, activation = \"relu\", input_shape=(13,)),\n",
        "    Dense(8, activation = \"relu\"),\n",
        "    Dense(1)\n",
        "])"
      ],
      "metadata": {
        "colab": {
          "base_uri": "https://localhost:8080/"
        },
        "id": "b5e9DG1Q8XdS",
        "outputId": "f9af8198-1aa4-41a2-be9a-72de761d4f75"
      },
      "execution_count": 13,
      "outputs": [
        {
          "output_type": "stream",
          "name": "stderr",
          "text": [
            "/usr/local/lib/python3.12/dist-packages/keras/src/layers/core/dense.py:93: UserWarning: Do not pass an `input_shape`/`input_dim` argument to a layer. When using Sequential models, prefer using an `Input(shape)` object as the first layer in the model instead.\n",
            "  super().__init__(activity_regularizer=activity_regularizer, **kwargs)\n"
          ]
        }
      ]
    },
    {
      "cell_type": "code",
      "source": [
        "# Compile the keras Model2\n",
        "model2.compile(optimizer = \"adam\", loss = \"mse\", metrics = [\"mse\"])"
      ],
      "metadata": {
        "id": "jaPDQpcDCsyG"
      },
      "execution_count": 14,
      "outputs": []
    },
    {
      "cell_type": "code",
      "source": [
        "# Let's train the model2\n",
        "history2 = model2.fit(\n",
        "    X_train_scaled, train_y,\n",
        "    validation_data = (X_val_scaled, val_y),\n",
        "    epochs = 100,\n",
        "    batch_size=32,\n",
        "    callbacks=[early_stop],\n",
        "    verbose = 1\n",
        ")"
      ],
      "metadata": {
        "colab": {
          "base_uri": "https://localhost:8080/"
        },
        "id": "dEhWL-ooCtZu",
        "outputId": "28536486-4d7f-4dae-a952-9891aa032327"
      },
      "execution_count": 15,
      "outputs": [
        {
          "output_type": "stream",
          "name": "stdout",
          "text": [
            "Epoch 1/100\n",
            "\u001b[1m11/11\u001b[0m \u001b[32m━━━━━━━━━━━━━━━━━━━━\u001b[0m\u001b[37m\u001b[0m \u001b[1m1s\u001b[0m 27ms/step - loss: 571.1758 - mse: 571.1758 - val_loss: 437.3235 - val_mse: 437.3235\n",
            "Epoch 2/100\n",
            "\u001b[1m11/11\u001b[0m \u001b[32m━━━━━━━━━━━━━━━━━━━━\u001b[0m\u001b[37m\u001b[0m \u001b[1m0s\u001b[0m 10ms/step - loss: 562.6190 - mse: 562.6190 - val_loss: 425.8260 - val_mse: 425.8260\n",
            "Epoch 3/100\n",
            "\u001b[1m11/11\u001b[0m \u001b[32m━━━━━━━━━━━━━━━━━━━━\u001b[0m\u001b[37m\u001b[0m \u001b[1m0s\u001b[0m 9ms/step - loss: 562.6371 - mse: 562.6371 - val_loss: 414.2307 - val_mse: 414.2307\n",
            "Epoch 4/100\n",
            "\u001b[1m11/11\u001b[0m \u001b[32m━━━━━━━━━━━━━━━━━━━━\u001b[0m\u001b[37m\u001b[0m \u001b[1m0s\u001b[0m 9ms/step - loss: 545.1145 - mse: 545.1145 - val_loss: 402.2029 - val_mse: 402.2029\n",
            "Epoch 5/100\n",
            "\u001b[1m11/11\u001b[0m \u001b[32m━━━━━━━━━━━━━━━━━━━━\u001b[0m\u001b[37m\u001b[0m \u001b[1m0s\u001b[0m 9ms/step - loss: 532.6335 - mse: 532.6335 - val_loss: 389.4250 - val_mse: 389.4250\n",
            "Epoch 6/100\n",
            "\u001b[1m11/11\u001b[0m \u001b[32m━━━━━━━━━━━━━━━━━━━━\u001b[0m\u001b[37m\u001b[0m \u001b[1m0s\u001b[0m 9ms/step - loss: 503.7929 - mse: 503.7929 - val_loss: 375.2649 - val_mse: 375.2649\n",
            "Epoch 7/100\n",
            "\u001b[1m11/11\u001b[0m \u001b[32m━━━━━━━━━━━━━━━━━━━━\u001b[0m\u001b[37m\u001b[0m \u001b[1m0s\u001b[0m 9ms/step - loss: 484.4592 - mse: 484.4592 - val_loss: 359.5409 - val_mse: 359.5409\n",
            "Epoch 8/100\n",
            "\u001b[1m11/11\u001b[0m \u001b[32m━━━━━━━━━━━━━━━━━━━━\u001b[0m\u001b[37m\u001b[0m \u001b[1m0s\u001b[0m 10ms/step - loss: 472.2169 - mse: 472.2169 - val_loss: 342.3266 - val_mse: 342.3266\n",
            "Epoch 9/100\n",
            "\u001b[1m11/11\u001b[0m \u001b[32m━━━━━━━━━━━━━━━━━━━━\u001b[0m\u001b[37m\u001b[0m \u001b[1m0s\u001b[0m 11ms/step - loss: 480.6811 - mse: 480.6811 - val_loss: 322.9937 - val_mse: 322.9937\n",
            "Epoch 10/100\n",
            "\u001b[1m11/11\u001b[0m \u001b[32m━━━━━━━━━━━━━━━━━━━━\u001b[0m\u001b[37m\u001b[0m \u001b[1m0s\u001b[0m 9ms/step - loss: 446.1599 - mse: 446.1599 - val_loss: 301.6380 - val_mse: 301.6380\n",
            "Epoch 11/100\n",
            "\u001b[1m11/11\u001b[0m \u001b[32m━━━━━━━━━━━━━━━━━━━━\u001b[0m\u001b[37m\u001b[0m \u001b[1m0s\u001b[0m 9ms/step - loss: 396.9445 - mse: 396.9445 - val_loss: 278.7248 - val_mse: 278.7248\n",
            "Epoch 12/100\n",
            "\u001b[1m11/11\u001b[0m \u001b[32m━━━━━━━━━━━━━━━━━━━━\u001b[0m\u001b[37m\u001b[0m \u001b[1m0s\u001b[0m 9ms/step - loss: 356.6445 - mse: 356.6445 - val_loss: 254.6122 - val_mse: 254.6122\n",
            "Epoch 13/100\n",
            "\u001b[1m11/11\u001b[0m \u001b[32m━━━━━━━━━━━━━━━━━━━━\u001b[0m\u001b[37m\u001b[0m \u001b[1m0s\u001b[0m 9ms/step - loss: 351.0938 - mse: 351.0938 - val_loss: 230.1883 - val_mse: 230.1883\n",
            "Epoch 14/100\n",
            "\u001b[1m11/11\u001b[0m \u001b[32m━━━━━━━━━━━━━━━━━━━━\u001b[0m\u001b[37m\u001b[0m \u001b[1m0s\u001b[0m 9ms/step - loss: 312.6875 - mse: 312.6875 - val_loss: 205.4509 - val_mse: 205.4509\n",
            "Epoch 15/100\n",
            "\u001b[1m11/11\u001b[0m \u001b[32m━━━━━━━━━━━━━━━━━━━━\u001b[0m\u001b[37m\u001b[0m \u001b[1m0s\u001b[0m 9ms/step - loss: 252.2921 - mse: 252.2921 - val_loss: 182.4665 - val_mse: 182.4665\n",
            "Epoch 16/100\n",
            "\u001b[1m11/11\u001b[0m \u001b[32m━━━━━━━━━━━━━━━━━━━━\u001b[0m\u001b[37m\u001b[0m \u001b[1m0s\u001b[0m 9ms/step - loss: 212.3367 - mse: 212.3367 - val_loss: 160.9505 - val_mse: 160.9505\n",
            "Epoch 17/100\n",
            "\u001b[1m11/11\u001b[0m \u001b[32m━━━━━━━━━━━━━━━━━━━━\u001b[0m\u001b[37m\u001b[0m \u001b[1m0s\u001b[0m 11ms/step - loss: 200.9604 - mse: 200.9604 - val_loss: 140.9895 - val_mse: 140.9895\n",
            "Epoch 18/100\n",
            "\u001b[1m11/11\u001b[0m \u001b[32m━━━━━━━━━━━━━━━━━━━━\u001b[0m\u001b[37m\u001b[0m \u001b[1m0s\u001b[0m 10ms/step - loss: 168.0341 - mse: 168.0341 - val_loss: 123.2450 - val_mse: 123.2450\n",
            "Epoch 19/100\n",
            "\u001b[1m11/11\u001b[0m \u001b[32m━━━━━━━━━━━━━━━━━━━━\u001b[0m\u001b[37m\u001b[0m \u001b[1m0s\u001b[0m 9ms/step - loss: 143.3415 - mse: 143.3415 - val_loss: 107.3324 - val_mse: 107.3324\n",
            "Epoch 20/100\n",
            "\u001b[1m11/11\u001b[0m \u001b[32m━━━━━━━━━━━━━━━━━━━━\u001b[0m\u001b[37m\u001b[0m \u001b[1m0s\u001b[0m 9ms/step - loss: 138.9366 - mse: 138.9366 - val_loss: 94.8122 - val_mse: 94.8122\n",
            "Epoch 21/100\n",
            "\u001b[1m11/11\u001b[0m \u001b[32m━━━━━━━━━━━━━━━━━━━━\u001b[0m\u001b[37m\u001b[0m \u001b[1m0s\u001b[0m 10ms/step - loss: 105.6495 - mse: 105.6495 - val_loss: 84.7357 - val_mse: 84.7357\n",
            "Epoch 22/100\n",
            "\u001b[1m11/11\u001b[0m \u001b[32m━━━━━━━━━━━━━━━━━━━━\u001b[0m\u001b[37m\u001b[0m \u001b[1m0s\u001b[0m 9ms/step - loss: 84.3225 - mse: 84.3225 - val_loss: 76.1690 - val_mse: 76.1690\n",
            "Epoch 23/100\n",
            "\u001b[1m11/11\u001b[0m \u001b[32m━━━━━━━━━━━━━━━━━━━━\u001b[0m\u001b[37m\u001b[0m \u001b[1m0s\u001b[0m 9ms/step - loss: 94.3616 - mse: 94.3616 - val_loss: 68.5245 - val_mse: 68.5245\n",
            "Epoch 24/100\n",
            "\u001b[1m11/11\u001b[0m \u001b[32m━━━━━━━━━━━━━━━━━━━━\u001b[0m\u001b[37m\u001b[0m \u001b[1m0s\u001b[0m 10ms/step - loss: 71.8649 - mse: 71.8649 - val_loss: 62.7696 - val_mse: 62.7696\n",
            "Epoch 25/100\n",
            "\u001b[1m11/11\u001b[0m \u001b[32m━━━━━━━━━━━━━━━━━━━━\u001b[0m\u001b[37m\u001b[0m \u001b[1m0s\u001b[0m 13ms/step - loss: 76.7684 - mse: 76.7684 - val_loss: 57.8266 - val_mse: 57.8266\n",
            "Epoch 26/100\n",
            "\u001b[1m11/11\u001b[0m \u001b[32m━━━━━━━━━━━━━━━━━━━━\u001b[0m\u001b[37m\u001b[0m \u001b[1m0s\u001b[0m 10ms/step - loss: 78.8451 - mse: 78.8451 - val_loss: 53.3483 - val_mse: 53.3483\n",
            "Epoch 27/100\n",
            "\u001b[1m11/11\u001b[0m \u001b[32m━━━━━━━━━━━━━━━━━━━━\u001b[0m\u001b[37m\u001b[0m \u001b[1m0s\u001b[0m 10ms/step - loss: 70.1477 - mse: 70.1477 - val_loss: 48.9199 - val_mse: 48.9199\n",
            "Epoch 28/100\n",
            "\u001b[1m11/11\u001b[0m \u001b[32m━━━━━━━━━━━━━━━━━━━━\u001b[0m\u001b[37m\u001b[0m \u001b[1m0s\u001b[0m 10ms/step - loss: 65.9372 - mse: 65.9372 - val_loss: 45.4139 - val_mse: 45.4139\n",
            "Epoch 29/100\n",
            "\u001b[1m11/11\u001b[0m \u001b[32m━━━━━━━━━━━━━━━━━━━━\u001b[0m\u001b[37m\u001b[0m \u001b[1m0s\u001b[0m 10ms/step - loss: 60.0405 - mse: 60.0405 - val_loss: 42.3987 - val_mse: 42.3987\n",
            "Epoch 30/100\n",
            "\u001b[1m11/11\u001b[0m \u001b[32m━━━━━━━━━━━━━━━━━━━━\u001b[0m\u001b[37m\u001b[0m \u001b[1m0s\u001b[0m 10ms/step - loss: 60.3499 - mse: 60.3499 - val_loss: 39.7042 - val_mse: 39.7042\n",
            "Epoch 31/100\n",
            "\u001b[1m11/11\u001b[0m \u001b[32m━━━━━━━━━━━━━━━━━━━━\u001b[0m\u001b[37m\u001b[0m \u001b[1m0s\u001b[0m 10ms/step - loss: 49.6846 - mse: 49.6846 - val_loss: 37.4970 - val_mse: 37.4970\n",
            "Epoch 32/100\n",
            "\u001b[1m11/11\u001b[0m \u001b[32m━━━━━━━━━━━━━━━━━━━━\u001b[0m\u001b[37m\u001b[0m \u001b[1m0s\u001b[0m 9ms/step - loss: 62.0434 - mse: 62.0434 - val_loss: 35.2662 - val_mse: 35.2662\n",
            "Epoch 33/100\n",
            "\u001b[1m11/11\u001b[0m \u001b[32m━━━━━━━━━━━━━━━━━━━━\u001b[0m\u001b[37m\u001b[0m \u001b[1m0s\u001b[0m 10ms/step - loss: 46.4132 - mse: 46.4132 - val_loss: 33.5437 - val_mse: 33.5437\n",
            "Epoch 34/100\n",
            "\u001b[1m11/11\u001b[0m \u001b[32m━━━━━━━━━━━━━━━━━━━━\u001b[0m\u001b[37m\u001b[0m \u001b[1m0s\u001b[0m 9ms/step - loss: 42.8384 - mse: 42.8384 - val_loss: 32.1506 - val_mse: 32.1506\n",
            "Epoch 35/100\n",
            "\u001b[1m11/11\u001b[0m \u001b[32m━━━━━━━━━━━━━━━━━━━━\u001b[0m\u001b[37m\u001b[0m \u001b[1m0s\u001b[0m 9ms/step - loss: 47.4196 - mse: 47.4196 - val_loss: 31.0142 - val_mse: 31.0142\n",
            "Epoch 36/100\n",
            "\u001b[1m11/11\u001b[0m \u001b[32m━━━━━━━━━━━━━━━━━━━━\u001b[0m\u001b[37m\u001b[0m \u001b[1m0s\u001b[0m 10ms/step - loss: 39.0950 - mse: 39.0950 - val_loss: 30.1072 - val_mse: 30.1072\n",
            "Epoch 37/100\n",
            "\u001b[1m11/11\u001b[0m \u001b[32m━━━━━━━━━━━━━━━━━━━━\u001b[0m\u001b[37m\u001b[0m \u001b[1m0s\u001b[0m 10ms/step - loss: 39.6400 - mse: 39.6400 - val_loss: 28.8878 - val_mse: 28.8878\n",
            "Epoch 38/100\n",
            "\u001b[1m11/11\u001b[0m \u001b[32m━━━━━━━━━━━━━━━━━━━━\u001b[0m\u001b[37m\u001b[0m \u001b[1m0s\u001b[0m 10ms/step - loss: 30.3797 - mse: 30.3797 - val_loss: 28.0985 - val_mse: 28.0985\n",
            "Epoch 39/100\n",
            "\u001b[1m11/11\u001b[0m \u001b[32m━━━━━━━━━━━━━━━━━━━━\u001b[0m\u001b[37m\u001b[0m \u001b[1m0s\u001b[0m 10ms/step - loss: 39.8585 - mse: 39.8585 - val_loss: 27.2233 - val_mse: 27.2233\n",
            "Epoch 40/100\n",
            "\u001b[1m11/11\u001b[0m \u001b[32m━━━━━━━━━━━━━━━━━━━━\u001b[0m\u001b[37m\u001b[0m \u001b[1m0s\u001b[0m 10ms/step - loss: 36.4242 - mse: 36.4242 - val_loss: 26.6103 - val_mse: 26.6103\n",
            "Epoch 41/100\n",
            "\u001b[1m11/11\u001b[0m \u001b[32m━━━━━━━━━━━━━━━━━━━━\u001b[0m\u001b[37m\u001b[0m \u001b[1m0s\u001b[0m 11ms/step - loss: 30.5523 - mse: 30.5523 - val_loss: 26.2081 - val_mse: 26.2081\n",
            "Epoch 42/100\n",
            "\u001b[1m11/11\u001b[0m \u001b[32m━━━━━━━━━━━━━━━━━━━━\u001b[0m\u001b[37m\u001b[0m \u001b[1m0s\u001b[0m 14ms/step - loss: 32.5689 - mse: 32.5689 - val_loss: 25.7983 - val_mse: 25.7983\n",
            "Epoch 43/100\n",
            "\u001b[1m11/11\u001b[0m \u001b[32m━━━━━━━━━━━━━━━━━━━━\u001b[0m\u001b[37m\u001b[0m \u001b[1m0s\u001b[0m 14ms/step - loss: 30.2469 - mse: 30.2469 - val_loss: 25.2211 - val_mse: 25.2211\n",
            "Epoch 44/100\n",
            "\u001b[1m11/11\u001b[0m \u001b[32m━━━━━━━━━━━━━━━━━━━━\u001b[0m\u001b[37m\u001b[0m \u001b[1m0s\u001b[0m 13ms/step - loss: 33.7329 - mse: 33.7329 - val_loss: 24.8999 - val_mse: 24.8999\n",
            "Epoch 45/100\n",
            "\u001b[1m11/11\u001b[0m \u001b[32m━━━━━━━━━━━━━━━━━━━━\u001b[0m\u001b[37m\u001b[0m \u001b[1m0s\u001b[0m 16ms/step - loss: 29.9680 - mse: 29.9680 - val_loss: 24.5792 - val_mse: 24.5792\n",
            "Epoch 46/100\n",
            "\u001b[1m11/11\u001b[0m \u001b[32m━━━━━━━━━━━━━━━━━━━━\u001b[0m\u001b[37m\u001b[0m \u001b[1m0s\u001b[0m 18ms/step - loss: 27.9406 - mse: 27.9406 - val_loss: 24.2900 - val_mse: 24.2900\n",
            "Epoch 47/100\n",
            "\u001b[1m11/11\u001b[0m \u001b[32m━━━━━━━━━━━━━━━━━━━━\u001b[0m\u001b[37m\u001b[0m \u001b[1m0s\u001b[0m 18ms/step - loss: 28.4448 - mse: 28.4448 - val_loss: 24.0849 - val_mse: 24.0849\n",
            "Epoch 48/100\n",
            "\u001b[1m11/11\u001b[0m \u001b[32m━━━━━━━━━━━━━━━━━━━━\u001b[0m\u001b[37m\u001b[0m \u001b[1m0s\u001b[0m 16ms/step - loss: 35.6825 - mse: 35.6825 - val_loss: 23.9610 - val_mse: 23.9610\n",
            "Epoch 49/100\n",
            "\u001b[1m11/11\u001b[0m \u001b[32m━━━━━━━━━━━━━━━━━━━━\u001b[0m\u001b[37m\u001b[0m \u001b[1m0s\u001b[0m 14ms/step - loss: 33.0829 - mse: 33.0829 - val_loss: 23.7504 - val_mse: 23.7504\n",
            "Epoch 50/100\n",
            "\u001b[1m11/11\u001b[0m \u001b[32m━━━━━━━━━━━━━━━━━━━━\u001b[0m\u001b[37m\u001b[0m \u001b[1m0s\u001b[0m 14ms/step - loss: 31.7000 - mse: 31.7000 - val_loss: 23.5604 - val_mse: 23.5604\n",
            "Epoch 51/100\n",
            "\u001b[1m11/11\u001b[0m \u001b[32m━━━━━━━━━━━━━━━━━━━━\u001b[0m\u001b[37m\u001b[0m \u001b[1m0s\u001b[0m 13ms/step - loss: 28.4813 - mse: 28.4813 - val_loss: 23.3136 - val_mse: 23.3136\n",
            "Epoch 52/100\n",
            "\u001b[1m11/11\u001b[0m \u001b[32m━━━━━━━━━━━━━━━━━━━━\u001b[0m\u001b[37m\u001b[0m \u001b[1m0s\u001b[0m 17ms/step - loss: 27.5393 - mse: 27.5393 - val_loss: 23.0564 - val_mse: 23.0564\n",
            "Epoch 53/100\n",
            "\u001b[1m11/11\u001b[0m \u001b[32m━━━━━━━━━━━━━━━━━━━━\u001b[0m\u001b[37m\u001b[0m \u001b[1m0s\u001b[0m 19ms/step - loss: 24.6087 - mse: 24.6087 - val_loss: 22.8087 - val_mse: 22.8087\n",
            "Epoch 54/100\n",
            "\u001b[1m11/11\u001b[0m \u001b[32m━━━━━━━━━━━━━━━━━━━━\u001b[0m\u001b[37m\u001b[0m \u001b[1m0s\u001b[0m 17ms/step - loss: 23.9074 - mse: 23.9074 - val_loss: 22.6133 - val_mse: 22.6133\n",
            "Epoch 55/100\n",
            "\u001b[1m11/11\u001b[0m \u001b[32m━━━━━━━━━━━━━━━━━━━━\u001b[0m\u001b[37m\u001b[0m \u001b[1m0s\u001b[0m 21ms/step - loss: 30.1123 - mse: 30.1123 - val_loss: 22.4517 - val_mse: 22.4517\n",
            "Epoch 56/100\n",
            "\u001b[1m11/11\u001b[0m \u001b[32m━━━━━━━━━━━━━━━━━━━━\u001b[0m\u001b[37m\u001b[0m \u001b[1m0s\u001b[0m 19ms/step - loss: 30.0901 - mse: 30.0901 - val_loss: 22.2274 - val_mse: 22.2274\n",
            "Epoch 57/100\n",
            "\u001b[1m11/11\u001b[0m \u001b[32m━━━━━━━━━━━━━━━━━━━━\u001b[0m\u001b[37m\u001b[0m \u001b[1m0s\u001b[0m 15ms/step - loss: 24.6531 - mse: 24.6531 - val_loss: 21.9631 - val_mse: 21.9631\n",
            "Epoch 58/100\n",
            "\u001b[1m11/11\u001b[0m \u001b[32m━━━━━━━━━━━━━━━━━━━━\u001b[0m\u001b[37m\u001b[0m \u001b[1m0s\u001b[0m 13ms/step - loss: 22.2499 - mse: 22.2499 - val_loss: 21.8005 - val_mse: 21.8005\n",
            "Epoch 59/100\n",
            "\u001b[1m11/11\u001b[0m \u001b[32m━━━━━━━━━━━━━━━━━━━━\u001b[0m\u001b[37m\u001b[0m \u001b[1m0s\u001b[0m 11ms/step - loss: 28.1462 - mse: 28.1462 - val_loss: 21.6995 - val_mse: 21.6995\n",
            "Epoch 60/100\n",
            "\u001b[1m11/11\u001b[0m \u001b[32m━━━━━━━━━━━━━━━━━━━━\u001b[0m\u001b[37m\u001b[0m \u001b[1m0s\u001b[0m 10ms/step - loss: 24.1088 - mse: 24.1088 - val_loss: 21.4351 - val_mse: 21.4351\n",
            "Epoch 61/100\n",
            "\u001b[1m11/11\u001b[0m \u001b[32m━━━━━━━━━━━━━━━━━━━━\u001b[0m\u001b[37m\u001b[0m \u001b[1m0s\u001b[0m 11ms/step - loss: 25.6553 - mse: 25.6553 - val_loss: 21.2532 - val_mse: 21.2532\n",
            "Epoch 62/100\n",
            "\u001b[1m11/11\u001b[0m \u001b[32m━━━━━━━━━━━━━━━━━━━━\u001b[0m\u001b[37m\u001b[0m \u001b[1m0s\u001b[0m 11ms/step - loss: 23.1473 - mse: 23.1473 - val_loss: 21.0803 - val_mse: 21.0803\n",
            "Epoch 63/100\n",
            "\u001b[1m11/11\u001b[0m \u001b[32m━━━━━━━━━━━━━━━━━━━━\u001b[0m\u001b[37m\u001b[0m \u001b[1m0s\u001b[0m 10ms/step - loss: 25.9519 - mse: 25.9519 - val_loss: 21.2261 - val_mse: 21.2261\n",
            "Epoch 64/100\n",
            "\u001b[1m11/11\u001b[0m \u001b[32m━━━━━━━━━━━━━━━━━━━━\u001b[0m\u001b[37m\u001b[0m \u001b[1m0s\u001b[0m 10ms/step - loss: 26.3162 - mse: 26.3162 - val_loss: 21.0831 - val_mse: 21.0831\n",
            "Epoch 65/100\n",
            "\u001b[1m11/11\u001b[0m \u001b[32m━━━━━━━━━━━━━━━━━━━━\u001b[0m\u001b[37m\u001b[0m \u001b[1m0s\u001b[0m 10ms/step - loss: 23.2102 - mse: 23.2102 - val_loss: 20.7115 - val_mse: 20.7115\n",
            "Epoch 66/100\n",
            "\u001b[1m11/11\u001b[0m \u001b[32m━━━━━━━━━━━━━━━━━━━━\u001b[0m\u001b[37m\u001b[0m \u001b[1m0s\u001b[0m 10ms/step - loss: 25.8427 - mse: 25.8427 - val_loss: 20.2939 - val_mse: 20.2939\n",
            "Epoch 67/100\n",
            "\u001b[1m11/11\u001b[0m \u001b[32m━━━━━━━━━━━━━━━━━━━━\u001b[0m\u001b[37m\u001b[0m \u001b[1m0s\u001b[0m 12ms/step - loss: 21.4998 - mse: 21.4998 - val_loss: 19.9504 - val_mse: 19.9504\n",
            "Epoch 68/100\n",
            "\u001b[1m11/11\u001b[0m \u001b[32m━━━━━━━━━━━━━━━━━━━━\u001b[0m\u001b[37m\u001b[0m \u001b[1m0s\u001b[0m 11ms/step - loss: 27.2627 - mse: 27.2627 - val_loss: 19.7532 - val_mse: 19.7532\n",
            "Epoch 69/100\n",
            "\u001b[1m11/11\u001b[0m \u001b[32m━━━━━━━━━━━━━━━━━━━━\u001b[0m\u001b[37m\u001b[0m \u001b[1m0s\u001b[0m 9ms/step - loss: 21.8335 - mse: 21.8335 - val_loss: 19.5253 - val_mse: 19.5253\n",
            "Epoch 70/100\n",
            "\u001b[1m11/11\u001b[0m \u001b[32m━━━━━━━━━━━━━━━━━━━━\u001b[0m\u001b[37m\u001b[0m \u001b[1m0s\u001b[0m 10ms/step - loss: 19.7053 - mse: 19.7053 - val_loss: 19.3171 - val_mse: 19.3171\n",
            "Epoch 71/100\n",
            "\u001b[1m11/11\u001b[0m \u001b[32m━━━━━━━━━━━━━━━━━━━━\u001b[0m\u001b[37m\u001b[0m \u001b[1m0s\u001b[0m 9ms/step - loss: 18.2757 - mse: 18.2757 - val_loss: 19.0989 - val_mse: 19.0989\n",
            "Epoch 72/100\n",
            "\u001b[1m11/11\u001b[0m \u001b[32m━━━━━━━━━━━━━━━━━━━━\u001b[0m\u001b[37m\u001b[0m \u001b[1m0s\u001b[0m 9ms/step - loss: 22.1404 - mse: 22.1404 - val_loss: 18.8683 - val_mse: 18.8683\n",
            "Epoch 73/100\n",
            "\u001b[1m11/11\u001b[0m \u001b[32m━━━━━━━━━━━━━━━━━━━━\u001b[0m\u001b[37m\u001b[0m \u001b[1m0s\u001b[0m 9ms/step - loss: 19.3839 - mse: 19.3839 - val_loss: 18.6428 - val_mse: 18.6428\n",
            "Epoch 74/100\n",
            "\u001b[1m11/11\u001b[0m \u001b[32m━━━━━━━━━━━━━━━━━━━━\u001b[0m\u001b[37m\u001b[0m \u001b[1m0s\u001b[0m 9ms/step - loss: 21.6857 - mse: 21.6857 - val_loss: 18.4580 - val_mse: 18.4580\n",
            "Epoch 75/100\n",
            "\u001b[1m11/11\u001b[0m \u001b[32m━━━━━━━━━━━━━━━━━━━━\u001b[0m\u001b[37m\u001b[0m \u001b[1m0s\u001b[0m 10ms/step - loss: 23.9033 - mse: 23.9033 - val_loss: 18.4450 - val_mse: 18.4450\n",
            "Epoch 76/100\n",
            "\u001b[1m11/11\u001b[0m \u001b[32m━━━━━━━━━━━━━━━━━━━━\u001b[0m\u001b[37m\u001b[0m \u001b[1m0s\u001b[0m 11ms/step - loss: 17.6196 - mse: 17.6196 - val_loss: 18.2525 - val_mse: 18.2525\n",
            "Epoch 77/100\n",
            "\u001b[1m11/11\u001b[0m \u001b[32m━━━━━━━━━━━━━━━━━━━━\u001b[0m\u001b[37m\u001b[0m \u001b[1m0s\u001b[0m 9ms/step - loss: 20.8163 - mse: 20.8163 - val_loss: 17.9026 - val_mse: 17.9026\n",
            "Epoch 78/100\n",
            "\u001b[1m11/11\u001b[0m \u001b[32m━━━━━━━━━━━━━━━━━━━━\u001b[0m\u001b[37m\u001b[0m \u001b[1m0s\u001b[0m 10ms/step - loss: 17.6062 - mse: 17.6062 - val_loss: 17.7824 - val_mse: 17.7824\n",
            "Epoch 79/100\n",
            "\u001b[1m11/11\u001b[0m \u001b[32m━━━━━━━━━━━━━━━━━━━━\u001b[0m\u001b[37m\u001b[0m \u001b[1m0s\u001b[0m 9ms/step - loss: 18.0289 - mse: 18.0289 - val_loss: 17.6184 - val_mse: 17.6184\n",
            "Epoch 80/100\n",
            "\u001b[1m11/11\u001b[0m \u001b[32m━━━━━━━━━━━━━━━━━━━━\u001b[0m\u001b[37m\u001b[0m \u001b[1m0s\u001b[0m 9ms/step - loss: 25.3263 - mse: 25.3263 - val_loss: 17.3346 - val_mse: 17.3346\n",
            "Epoch 81/100\n",
            "\u001b[1m11/11\u001b[0m \u001b[32m━━━━━━━━━━━━━━━━━━━━\u001b[0m\u001b[37m\u001b[0m \u001b[1m0s\u001b[0m 9ms/step - loss: 18.6677 - mse: 18.6677 - val_loss: 17.1363 - val_mse: 17.1363\n",
            "Epoch 82/100\n",
            "\u001b[1m11/11\u001b[0m \u001b[32m━━━━━━━━━━━━━━━━━━━━\u001b[0m\u001b[37m\u001b[0m \u001b[1m0s\u001b[0m 10ms/step - loss: 19.1011 - mse: 19.1011 - val_loss: 17.1758 - val_mse: 17.1758\n",
            "Epoch 83/100\n",
            "\u001b[1m11/11\u001b[0m \u001b[32m━━━━━━━━━━━━━━━━━━━━\u001b[0m\u001b[37m\u001b[0m \u001b[1m0s\u001b[0m 11ms/step - loss: 21.9397 - mse: 21.9397 - val_loss: 17.1078 - val_mse: 17.1078\n",
            "Epoch 84/100\n",
            "\u001b[1m11/11\u001b[0m \u001b[32m━━━━━━━━━━━━━━━━━━━━\u001b[0m\u001b[37m\u001b[0m \u001b[1m0s\u001b[0m 10ms/step - loss: 16.6096 - mse: 16.6096 - val_loss: 16.8572 - val_mse: 16.8572\n",
            "Epoch 85/100\n",
            "\u001b[1m11/11\u001b[0m \u001b[32m━━━━━━━━━━━━━━━━━━━━\u001b[0m\u001b[37m\u001b[0m \u001b[1m0s\u001b[0m 10ms/step - loss: 21.7988 - mse: 21.7988 - val_loss: 16.5997 - val_mse: 16.5997\n",
            "Epoch 86/100\n",
            "\u001b[1m11/11\u001b[0m \u001b[32m━━━━━━━━━━━━━━━━━━━━\u001b[0m\u001b[37m\u001b[0m \u001b[1m0s\u001b[0m 10ms/step - loss: 17.2143 - mse: 17.2143 - val_loss: 16.4915 - val_mse: 16.4915\n",
            "Epoch 87/100\n",
            "\u001b[1m11/11\u001b[0m \u001b[32m━━━━━━━━━━━━━━━━━━━━\u001b[0m\u001b[37m\u001b[0m \u001b[1m0s\u001b[0m 10ms/step - loss: 20.1780 - mse: 20.1780 - val_loss: 16.4396 - val_mse: 16.4396\n",
            "Epoch 88/100\n",
            "\u001b[1m11/11\u001b[0m \u001b[32m━━━━━━━━━━━━━━━━━━━━\u001b[0m\u001b[37m\u001b[0m \u001b[1m0s\u001b[0m 9ms/step - loss: 18.2927 - mse: 18.2927 - val_loss: 16.2453 - val_mse: 16.2453\n",
            "Epoch 89/100\n",
            "\u001b[1m11/11\u001b[0m \u001b[32m━━━━━━━━━━━━━━━━━━━━\u001b[0m\u001b[37m\u001b[0m \u001b[1m0s\u001b[0m 10ms/step - loss: 16.8900 - mse: 16.8900 - val_loss: 16.1072 - val_mse: 16.1072\n",
            "Epoch 90/100\n",
            "\u001b[1m11/11\u001b[0m \u001b[32m━━━━━━━━━━━━━━━━━━━━\u001b[0m\u001b[37m\u001b[0m \u001b[1m0s\u001b[0m 9ms/step - loss: 19.6008 - mse: 19.6008 - val_loss: 15.9371 - val_mse: 15.9371\n",
            "Epoch 91/100\n",
            "\u001b[1m11/11\u001b[0m \u001b[32m━━━━━━━━━━━━━━━━━━━━\u001b[0m\u001b[37m\u001b[0m \u001b[1m0s\u001b[0m 11ms/step - loss: 18.7176 - mse: 18.7176 - val_loss: 15.6660 - val_mse: 15.6660\n",
            "Epoch 92/100\n",
            "\u001b[1m11/11\u001b[0m \u001b[32m━━━━━━━━━━━━━━━━━━━━\u001b[0m\u001b[37m\u001b[0m \u001b[1m0s\u001b[0m 9ms/step - loss: 16.6518 - mse: 16.6518 - val_loss: 15.4242 - val_mse: 15.4242\n",
            "Epoch 93/100\n",
            "\u001b[1m11/11\u001b[0m \u001b[32m━━━━━━━━━━━━━━━━━━━━\u001b[0m\u001b[37m\u001b[0m \u001b[1m0s\u001b[0m 11ms/step - loss: 15.4159 - mse: 15.4159 - val_loss: 15.2624 - val_mse: 15.2624\n",
            "Epoch 94/100\n",
            "\u001b[1m11/11\u001b[0m \u001b[32m━━━━━━━━━━━━━━━━━━━━\u001b[0m\u001b[37m\u001b[0m \u001b[1m0s\u001b[0m 10ms/step - loss: 19.9112 - mse: 19.9112 - val_loss: 15.1026 - val_mse: 15.1026\n",
            "Epoch 95/100\n",
            "\u001b[1m11/11\u001b[0m \u001b[32m━━━━━━━━━━━━━━━━━━━━\u001b[0m\u001b[37m\u001b[0m \u001b[1m0s\u001b[0m 10ms/step - loss: 16.3353 - mse: 16.3353 - val_loss: 14.9665 - val_mse: 14.9665\n",
            "Epoch 96/100\n",
            "\u001b[1m11/11\u001b[0m \u001b[32m━━━━━━━━━━━━━━━━━━━━\u001b[0m\u001b[37m\u001b[0m \u001b[1m0s\u001b[0m 9ms/step - loss: 15.1919 - mse: 15.1919 - val_loss: 14.9330 - val_mse: 14.9330\n",
            "Epoch 97/100\n",
            "\u001b[1m11/11\u001b[0m \u001b[32m━━━━━━━━━━━━━━━━━━━━\u001b[0m\u001b[37m\u001b[0m \u001b[1m0s\u001b[0m 10ms/step - loss: 16.8965 - mse: 16.8965 - val_loss: 15.4316 - val_mse: 15.4316\n",
            "Epoch 98/100\n",
            "\u001b[1m11/11\u001b[0m \u001b[32m━━━━━━━━━━━━━━━━━━━━\u001b[0m\u001b[37m\u001b[0m \u001b[1m0s\u001b[0m 10ms/step - loss: 17.4834 - mse: 17.4834 - val_loss: 15.1140 - val_mse: 15.1140\n",
            "Epoch 99/100\n",
            "\u001b[1m11/11\u001b[0m \u001b[32m━━━━━━━━━━━━━━━━━━━━\u001b[0m\u001b[37m\u001b[0m \u001b[1m0s\u001b[0m 10ms/step - loss: 14.7189 - mse: 14.7189 - val_loss: 14.6764 - val_mse: 14.6764\n",
            "Epoch 100/100\n",
            "\u001b[1m11/11\u001b[0m \u001b[32m━━━━━━━━━━━━━━━━━━━━\u001b[0m\u001b[37m\u001b[0m \u001b[1m0s\u001b[0m 10ms/step - loss: 17.7046 - mse: 17.7046 - val_loss: 14.3306 - val_mse: 14.3306\n"
          ]
        }
      ]
    },
    {
      "cell_type": "code",
      "source": [
        "# Let's plot the learning curve for model 2\n",
        "plt.plot(history2.history['loss'], label='Training Loss')\n",
        "plt.plot(history2.history['val_loss'], label='Validation Loss')\n",
        "plt.xlabel('Epochs')\n",
        "plt.ylabel('MSE')\n",
        "plt.title('Learning Curve Model 2')\n",
        "plt.legend()\n",
        "plt.show()"
      ],
      "metadata": {
        "colab": {
          "base_uri": "https://localhost:8080/",
          "height": 472
        },
        "id": "R2iiI1-KDDkH",
        "outputId": "570df9ae-b0c0-44bd-e5b6-df7812615e75"
      },
      "execution_count": 16,
      "outputs": [
        {
          "output_type": "display_data",
          "data": {
            "text/plain": [
              "<Figure size 640x480 with 1 Axes>"
            ],
            "image/png": "[encoded data removed]"
          },
          "metadata": {}
        }
      ]
    },
    {
      "cell_type": "code",
      "source": [
        "# Let's evaluate the model 2\n",
        "test_mse2 = model2.evaluate(X_test_scaled,test_y, verbose = 0)\n",
        "print(test_mse2)"
      ],
      "metadata": {
        "colab": {
          "base_uri": "https://localhost:8080/"
        },
        "id": "ilxteqepDDSA",
        "outputId": "64462b57-430f-4def-f47c-bd1fd0cd3954"
      },
      "execution_count": 17,
      "outputs": [
        {
          "output_type": "stream",
          "name": "stdout",
          "text": [
            "[24.715681076049805, 24.715681076049805]\n"
          ]
        }
      ]
    },
    {
      "cell_type": "markdown",
      "metadata": {
        "id": "2f0v_F7DZoAx"
      },
      "source": [
        "## c) Wider Network [1 point]\n",
        "\n",
        "Construct and evaluate a wider model with more neurons (e.g. 32, 16)."
      ]
    },
    {
      "cell_type": "code",
      "execution_count": null,
      "metadata": {
        "id": "B9W6c2mxKhWA"
      },
      "outputs": [],
      "source": [
        "# your code here, use as many cells as you need\n",
        "\n",
        "# be sure to comment on your results for each and every question, describing not just\n",
        "# the what, but the 'how' and 'why' where possible, to demonstrate your understanding of\n",
        "# course content"
      ]
    },
    {
      "cell_type": "code",
      "source": [
        "model3 = Sequential([\n",
        "    Dense(32, activation = \"relu\", input_shape=(13,)),\n",
        "    Dense(16, activation = \"relu\"),\n",
        "    Dense(1)\n",
        "])"
      ],
      "metadata": {
        "colab": {
          "base_uri": "https://localhost:8080/"
        },
        "id": "nCtirWPIEBbp",
        "outputId": "634ac25e-c5f8-4484-d7d3-1232000cfcd3"
      },
      "execution_count": 18,
      "outputs": [
        {
          "output_type": "stream",
          "name": "stderr",
          "text": [
            "/usr/local/lib/python3.12/dist-packages/keras/src/layers/core/dense.py:93: UserWarning: Do not pass an `input_shape`/`input_dim` argument to a layer. When using Sequential models, prefer using an `Input(shape)` object as the first layer in the model instead.\n",
            "  super().__init__(activity_regularizer=activity_regularizer, **kwargs)\n"
          ]
        }
      ]
    },
    {
      "cell_type": "code",
      "source": [
        "# Compile the keras Model3\n",
        "model3.compile(optimizer = \"adam\", loss = \"mse\", metrics = [\"mse\"])"
      ],
      "metadata": {
        "id": "MEPoXMG4EBSg"
      },
      "execution_count": 19,
      "outputs": []
    },
    {
      "cell_type": "code",
      "source": [
        "# Let's train the model3\n",
        "history3 = model3.fit(\n",
        "    X_train_scaled, train_y,\n",
        "    validation_data = (X_val_scaled, val_y),\n",
        "    epochs = 100,\n",
        "    batch_size=32,\n",
        "    callbacks=[early_stop],\n",
        "    verbose = 1\n",
        ")"
      ],
      "metadata": {
        "colab": {
          "base_uri": "https://localhost:8080/"
        },
        "id": "TYny-P02EBIi",
        "outputId": "90df35c1-df0a-42aa-add5-b6f6f8afe96e"
      },
      "execution_count": 20,
      "outputs": [
        {
          "output_type": "stream",
          "name": "stdout",
          "text": [
            "Epoch 1/100\n",
            "\u001b[1m11/11\u001b[0m \u001b[32m━━━━━━━━━━━━━━━━━━━━\u001b[0m\u001b[37m\u001b[0m \u001b[1m1s\u001b[0m 25ms/step - loss: 649.5635 - mse: 649.5635 - val_loss: 448.8452 - val_mse: 448.8452\n",
            "Epoch 2/100\n",
            "\u001b[1m11/11\u001b[0m \u001b[32m━━━━━━━━━━━━━━━━━━━━\u001b[0m\u001b[37m\u001b[0m \u001b[1m0s\u001b[0m 9ms/step - loss: 588.5938 - mse: 588.5938 - val_loss: 433.5884 - val_mse: 433.5884\n",
            "Epoch 3/100\n",
            "\u001b[1m11/11\u001b[0m \u001b[32m━━━━━━━━━━━━━━━━━━━━\u001b[0m\u001b[37m\u001b[0m \u001b[1m0s\u001b[0m 9ms/step - loss: 533.2868 - mse: 533.2868 - val_loss: 415.8792 - val_mse: 415.8792\n",
            "Epoch 4/100\n",
            "\u001b[1m11/11\u001b[0m \u001b[32m━━━━━━━━━━━━━━━━━━━━\u001b[0m\u001b[37m\u001b[0m \u001b[1m0s\u001b[0m 10ms/step - loss: 528.8685 - mse: 528.8685 - val_loss: 394.8455 - val_mse: 394.8455\n",
            "Epoch 5/100\n",
            "\u001b[1m11/11\u001b[0m \u001b[32m━━━━━━━━━━━━━━━━━━━━\u001b[0m\u001b[37m\u001b[0m \u001b[1m0s\u001b[0m 10ms/step - loss: 487.9726 - mse: 487.9726 - val_loss: 370.2834 - val_mse: 370.2834\n",
            "Epoch 6/100\n",
            "\u001b[1m11/11\u001b[0m \u001b[32m━━━━━━━━━━━━━━━━━━━━\u001b[0m\u001b[37m\u001b[0m \u001b[1m0s\u001b[0m 12ms/step - loss: 421.4601 - mse: 421.4601 - val_loss: 340.4013 - val_mse: 340.4013\n",
            "Epoch 7/100\n",
            "\u001b[1m11/11\u001b[0m \u001b[32m━━━━━━━━━━━━━━━━━━━━\u001b[0m\u001b[37m\u001b[0m \u001b[1m0s\u001b[0m 10ms/step - loss: 412.7917 - mse: 412.7917 - val_loss: 306.2499 - val_mse: 306.2499\n",
            "Epoch 8/100\n",
            "\u001b[1m11/11\u001b[0m \u001b[32m━━━━━━━━━━━━━━━━━━━━\u001b[0m\u001b[37m\u001b[0m \u001b[1m0s\u001b[0m 10ms/step - loss: 369.0362 - mse: 369.0362 - val_loss: 269.9716 - val_mse: 269.9716\n",
            "Epoch 9/100\n",
            "\u001b[1m11/11\u001b[0m \u001b[32m━━━━━━━━━━━━━━━━━━━━\u001b[0m\u001b[37m\u001b[0m \u001b[1m0s\u001b[0m 9ms/step - loss: 325.3611 - mse: 325.3611 - val_loss: 233.4211 - val_mse: 233.4211\n",
            "Epoch 10/100\n",
            "\u001b[1m11/11\u001b[0m \u001b[32m━━━━━━━━━━━━━━━━━━━━\u001b[0m\u001b[37m\u001b[0m \u001b[1m0s\u001b[0m 10ms/step - loss: 278.7365 - mse: 278.7365 - val_loss: 197.1730 - val_mse: 197.1730\n",
            "Epoch 11/100\n",
            "\u001b[1m11/11\u001b[0m \u001b[32m━━━━━━━━━━━━━━━━━━━━\u001b[0m\u001b[37m\u001b[0m \u001b[1m0s\u001b[0m 9ms/step - loss: 247.8294 - mse: 247.8294 - val_loss: 162.9613 - val_mse: 162.9613\n",
            "Epoch 12/100\n",
            "\u001b[1m11/11\u001b[0m \u001b[32m━━━━━━━━━━━━━━━━━━━━\u001b[0m\u001b[37m\u001b[0m \u001b[1m0s\u001b[0m 10ms/step - loss: 193.8733 - mse: 193.8733 - val_loss: 134.2522 - val_mse: 134.2522\n",
            "Epoch 13/100\n",
            "\u001b[1m11/11\u001b[0m \u001b[32m━━━━━━━━━━━━━━━━━━━━\u001b[0m\u001b[37m\u001b[0m \u001b[1m0s\u001b[0m 9ms/step - loss: 177.2031 - mse: 177.2031 - val_loss: 110.5984 - val_mse: 110.5984\n",
            "Epoch 14/100\n",
            "\u001b[1m11/11\u001b[0m \u001b[32m━━━━━━━━━━━━━━━━━━━━\u001b[0m\u001b[37m\u001b[0m \u001b[1m0s\u001b[0m 11ms/step - loss: 141.7401 - mse: 141.7401 - val_loss: 91.4869 - val_mse: 91.4869\n",
            "Epoch 15/100\n",
            "\u001b[1m11/11\u001b[0m \u001b[32m━━━━━━━━━━━━━━━━━━━━\u001b[0m\u001b[37m\u001b[0m \u001b[1m0s\u001b[0m 9ms/step - loss: 112.3941 - mse: 112.3941 - val_loss: 77.0490 - val_mse: 77.0490\n",
            "Epoch 16/100\n",
            "\u001b[1m11/11\u001b[0m \u001b[32m━━━━━━━━━━━━━━━━━━━━\u001b[0m\u001b[37m\u001b[0m \u001b[1m0s\u001b[0m 9ms/step - loss: 105.5588 - mse: 105.5588 - val_loss: 64.9877 - val_mse: 64.9877\n",
            "Epoch 17/100\n",
            "\u001b[1m11/11\u001b[0m \u001b[32m━━━━━━━━━━━━━━━━━━━━\u001b[0m\u001b[37m\u001b[0m \u001b[1m0s\u001b[0m 9ms/step - loss: 78.5490 - mse: 78.5490 - val_loss: 54.6665 - val_mse: 54.6665\n",
            "Epoch 18/100\n",
            "\u001b[1m11/11\u001b[0m \u001b[32m━━━━━━━━━━━━━━━━━━━━\u001b[0m\u001b[37m\u001b[0m \u001b[1m0s\u001b[0m 9ms/step - loss: 79.1804 - mse: 79.1804 - val_loss: 47.5797 - val_mse: 47.5797\n",
            "Epoch 19/100\n",
            "\u001b[1m11/11\u001b[0m \u001b[32m━━━━━━━━━━━━━━━━━━━━\u001b[0m\u001b[37m\u001b[0m \u001b[1m0s\u001b[0m 9ms/step - loss: 64.2217 - mse: 64.2217 - val_loss: 41.2367 - val_mse: 41.2367\n",
            "Epoch 20/100\n",
            "\u001b[1m11/11\u001b[0m \u001b[32m━━━━━━━━━━━━━━━━━━━━\u001b[0m\u001b[37m\u001b[0m \u001b[1m0s\u001b[0m 10ms/step - loss: 57.6545 - mse: 57.6545 - val_loss: 36.3461 - val_mse: 36.3461\n",
            "Epoch 21/100\n",
            "\u001b[1m11/11\u001b[0m \u001b[32m━━━━━━━━━━━━━━━━━━━━\u001b[0m\u001b[37m\u001b[0m \u001b[1m0s\u001b[0m 15ms/step - loss: 54.1234 - mse: 54.1234 - val_loss: 32.6543 - val_mse: 32.6543\n",
            "Epoch 22/100\n",
            "\u001b[1m11/11\u001b[0m \u001b[32m━━━━━━━━━━━━━━━━━━━━\u001b[0m\u001b[37m\u001b[0m \u001b[1m0s\u001b[0m 15ms/step - loss: 51.6182 - mse: 51.6182 - val_loss: 29.5519 - val_mse: 29.5519\n",
            "Epoch 23/100\n",
            "\u001b[1m11/11\u001b[0m \u001b[32m━━━━━━━━━━━━━━━━━━━━\u001b[0m\u001b[37m\u001b[0m \u001b[1m0s\u001b[0m 13ms/step - loss: 44.4978 - mse: 44.4978 - val_loss: 27.3242 - val_mse: 27.3242\n",
            "Epoch 24/100\n",
            "\u001b[1m11/11\u001b[0m \u001b[32m━━━━━━━━━━━━━━━━━━━━\u001b[0m\u001b[37m\u001b[0m \u001b[1m0s\u001b[0m 14ms/step - loss: 32.4471 - mse: 32.4471 - val_loss: 25.7219 - val_mse: 25.7219\n",
            "Epoch 25/100\n",
            "\u001b[1m11/11\u001b[0m \u001b[32m━━━━━━━━━━━━━━━━━━━━\u001b[0m\u001b[37m\u001b[0m \u001b[1m0s\u001b[0m 16ms/step - loss: 37.1977 - mse: 37.1977 - val_loss: 24.5501 - val_mse: 24.5501\n",
            "Epoch 26/100\n",
            "\u001b[1m11/11\u001b[0m \u001b[32m━━━━━━━━━━━━━━━━━━━━\u001b[0m\u001b[37m\u001b[0m \u001b[1m0s\u001b[0m 17ms/step - loss: 30.8457 - mse: 30.8457 - val_loss: 23.7821 - val_mse: 23.7821\n",
            "Epoch 27/100\n",
            "\u001b[1m11/11\u001b[0m \u001b[32m━━━━━━━━━━━━━━━━━━━━\u001b[0m\u001b[37m\u001b[0m \u001b[1m0s\u001b[0m 14ms/step - loss: 25.2828 - mse: 25.2828 - val_loss: 23.2406 - val_mse: 23.2406\n",
            "Epoch 28/100\n",
            "\u001b[1m11/11\u001b[0m \u001b[32m━━━━━━━━━━━━━━━━━━━━\u001b[0m\u001b[37m\u001b[0m \u001b[1m0s\u001b[0m 15ms/step - loss: 32.0129 - mse: 32.0129 - val_loss: 22.7197 - val_mse: 22.7197\n",
            "Epoch 29/100\n",
            "\u001b[1m11/11\u001b[0m \u001b[32m━━━━━━━━━━━━━━━━━━━━\u001b[0m\u001b[37m\u001b[0m \u001b[1m0s\u001b[0m 17ms/step - loss: 31.8001 - mse: 31.8001 - val_loss: 22.4441 - val_mse: 22.4441\n",
            "Epoch 30/100\n",
            "\u001b[1m11/11\u001b[0m \u001b[32m━━━━━━━━━━━━━━━━━━━━\u001b[0m\u001b[37m\u001b[0m \u001b[1m0s\u001b[0m 14ms/step - loss: 26.9194 - mse: 26.9194 - val_loss: 22.2408 - val_mse: 22.2408\n",
            "Epoch 31/100\n",
            "\u001b[1m11/11\u001b[0m \u001b[32m━━━━━━━━━━━━━━━━━━━━\u001b[0m\u001b[37m\u001b[0m \u001b[1m0s\u001b[0m 13ms/step - loss: 29.1034 - mse: 29.1034 - val_loss: 22.0214 - val_mse: 22.0214\n",
            "Epoch 32/100\n",
            "\u001b[1m11/11\u001b[0m \u001b[32m━━━━━━━━━━━━━━━━━━━━\u001b[0m\u001b[37m\u001b[0m \u001b[1m0s\u001b[0m 12ms/step - loss: 27.6089 - mse: 27.6089 - val_loss: 21.9029 - val_mse: 21.9029\n",
            "Epoch 33/100\n",
            "\u001b[1m11/11\u001b[0m \u001b[32m━━━━━━━━━━━━━━━━━━━━\u001b[0m\u001b[37m\u001b[0m \u001b[1m0s\u001b[0m 21ms/step - loss: 25.4587 - mse: 25.4587 - val_loss: 21.8813 - val_mse: 21.8813\n",
            "Epoch 34/100\n",
            "\u001b[1m11/11\u001b[0m \u001b[32m━━━━━━━━━━━━━━━━━━━━\u001b[0m\u001b[37m\u001b[0m \u001b[1m0s\u001b[0m 14ms/step - loss: 27.1512 - mse: 27.1512 - val_loss: 21.6813 - val_mse: 21.6813\n",
            "Epoch 35/100\n",
            "\u001b[1m11/11\u001b[0m \u001b[32m━━━━━━━━━━━━━━━━━━━━\u001b[0m\u001b[37m\u001b[0m \u001b[1m0s\u001b[0m 15ms/step - loss: 26.2595 - mse: 26.2595 - val_loss: 21.6638 - val_mse: 21.6638\n",
            "Epoch 36/100\n",
            "\u001b[1m11/11\u001b[0m \u001b[32m━━━━━━━━━━━━━━━━━━━━\u001b[0m\u001b[37m\u001b[0m \u001b[1m0s\u001b[0m 18ms/step - loss: 29.5357 - mse: 29.5357 - val_loss: 21.6300 - val_mse: 21.6300\n",
            "Epoch 37/100\n",
            "\u001b[1m11/11\u001b[0m \u001b[32m━━━━━━━━━━━━━━━━━━━━\u001b[0m\u001b[37m\u001b[0m \u001b[1m0s\u001b[0m 15ms/step - loss: 26.7288 - mse: 26.7288 - val_loss: 21.4470 - val_mse: 21.4470\n",
            "Epoch 38/100\n",
            "\u001b[1m11/11\u001b[0m \u001b[32m━━━━━━━━━━━━━━━━━━━━\u001b[0m\u001b[37m\u001b[0m \u001b[1m0s\u001b[0m 10ms/step - loss: 20.6789 - mse: 20.6789 - val_loss: 21.3419 - val_mse: 21.3419\n",
            "Epoch 39/100\n",
            "\u001b[1m11/11\u001b[0m \u001b[32m━━━━━━━━━━━━━━━━━━━━\u001b[0m\u001b[37m\u001b[0m \u001b[1m0s\u001b[0m 9ms/step - loss: 23.8121 - mse: 23.8121 - val_loss: 21.3173 - val_mse: 21.3173\n",
            "Epoch 40/100\n",
            "\u001b[1m11/11\u001b[0m \u001b[32m━━━━━━━━━━━━━━━━━━━━\u001b[0m\u001b[37m\u001b[0m \u001b[1m0s\u001b[0m 9ms/step - loss: 22.3206 - mse: 22.3206 - val_loss: 20.9725 - val_mse: 20.9725\n",
            "Epoch 41/100\n",
            "\u001b[1m11/11\u001b[0m \u001b[32m━━━━━━━━━━━━━━━━━━━━\u001b[0m\u001b[37m\u001b[0m \u001b[1m0s\u001b[0m 10ms/step - loss: 21.2003 - mse: 21.2003 - val_loss: 20.8832 - val_mse: 20.8832\n",
            "Epoch 42/100\n",
            "\u001b[1m11/11\u001b[0m \u001b[32m━━━━━━━━━━━━━━━━━━━━\u001b[0m\u001b[37m\u001b[0m \u001b[1m0s\u001b[0m 9ms/step - loss: 20.0193 - mse: 20.0193 - val_loss: 20.7389 - val_mse: 20.7389\n",
            "Epoch 43/100\n",
            "\u001b[1m11/11\u001b[0m \u001b[32m━━━━━━━━━━━━━━━━━━━━\u001b[0m\u001b[37m\u001b[0m \u001b[1m0s\u001b[0m 9ms/step - loss: 18.6282 - mse: 18.6282 - val_loss: 20.3880 - val_mse: 20.3880\n",
            "Epoch 44/100\n",
            "\u001b[1m11/11\u001b[0m \u001b[32m━━━━━━━━━━━━━━━━━━━━\u001b[0m\u001b[37m\u001b[0m \u001b[1m0s\u001b[0m 9ms/step - loss: 18.8066 - mse: 18.8066 - val_loss: 20.1485 - val_mse: 20.1485\n",
            "Epoch 45/100\n",
            "\u001b[1m11/11\u001b[0m \u001b[32m━━━━━━━━━━━━━━━━━━━━\u001b[0m\u001b[37m\u001b[0m \u001b[1m0s\u001b[0m 9ms/step - loss: 21.5218 - mse: 21.5218 - val_loss: 19.8804 - val_mse: 19.8804\n",
            "Epoch 46/100\n",
            "\u001b[1m11/11\u001b[0m \u001b[32m━━━━━━━━━━━━━━━━━━━━\u001b[0m\u001b[37m\u001b[0m \u001b[1m0s\u001b[0m 10ms/step - loss: 21.3201 - mse: 21.3201 - val_loss: 19.8545 - val_mse: 19.8545\n",
            "Epoch 47/100\n",
            "\u001b[1m11/11\u001b[0m \u001b[32m━━━━━━━━━━━━━━━━━━━━\u001b[0m\u001b[37m\u001b[0m \u001b[1m0s\u001b[0m 9ms/step - loss: 20.5542 - mse: 20.5542 - val_loss: 19.6977 - val_mse: 19.6977\n",
            "Epoch 48/100\n",
            "\u001b[1m11/11\u001b[0m \u001b[32m━━━━━━━━━━━━━━━━━━━━\u001b[0m\u001b[37m\u001b[0m \u001b[1m0s\u001b[0m 9ms/step - loss: 18.2509 - mse: 18.2509 - val_loss: 20.0754 - val_mse: 20.0754\n",
            "Epoch 49/100\n",
            "\u001b[1m11/11\u001b[0m \u001b[32m━━━━━━━━━━━━━━━━━━━━\u001b[0m\u001b[37m\u001b[0m \u001b[1m0s\u001b[0m 9ms/step - loss: 16.3645 - mse: 16.3645 - val_loss: 19.7568 - val_mse: 19.7568\n",
            "Epoch 50/100\n",
            "\u001b[1m11/11\u001b[0m \u001b[32m━━━━━━━━━━━━━━━━━━━━\u001b[0m\u001b[37m\u001b[0m \u001b[1m0s\u001b[0m 10ms/step - loss: 19.1695 - mse: 19.1695 - val_loss: 19.4396 - val_mse: 19.4396\n",
            "Epoch 51/100\n",
            "\u001b[1m11/11\u001b[0m \u001b[32m━━━━━━━━━━━━━━━━━━━━\u001b[0m\u001b[37m\u001b[0m \u001b[1m0s\u001b[0m 9ms/step - loss: 16.0320 - mse: 16.0320 - val_loss: 19.1811 - val_mse: 19.1811\n",
            "Epoch 52/100\n",
            "\u001b[1m11/11\u001b[0m \u001b[32m━━━━━━━━━━━━━━━━━━━━\u001b[0m\u001b[37m\u001b[0m \u001b[1m0s\u001b[0m 9ms/step - loss: 22.7189 - mse: 22.7189 - val_loss: 18.9964 - val_mse: 18.9964\n",
            "Epoch 53/100\n",
            "\u001b[1m11/11\u001b[0m \u001b[32m━━━━━━━━━━━━━━━━━━━━\u001b[0m\u001b[37m\u001b[0m \u001b[1m0s\u001b[0m 9ms/step - loss: 18.7877 - mse: 18.7877 - val_loss: 18.6628 - val_mse: 18.6628\n",
            "Epoch 54/100\n",
            "\u001b[1m11/11\u001b[0m \u001b[32m━━━━━━━━━━━━━━━━━━━━\u001b[0m\u001b[37m\u001b[0m \u001b[1m0s\u001b[0m 11ms/step - loss: 20.1756 - mse: 20.1756 - val_loss: 18.4597 - val_mse: 18.4597\n",
            "Epoch 55/100\n",
            "\u001b[1m11/11\u001b[0m \u001b[32m━━━━━━━━━━━━━━━━━━━━\u001b[0m\u001b[37m\u001b[0m \u001b[1m0s\u001b[0m 9ms/step - loss: 16.1103 - mse: 16.1103 - val_loss: 17.9481 - val_mse: 17.9481\n",
            "Epoch 56/100\n",
            "\u001b[1m11/11\u001b[0m \u001b[32m━━━━━━━━━━━━━━━━━━━━\u001b[0m\u001b[37m\u001b[0m \u001b[1m0s\u001b[0m 9ms/step - loss: 19.9886 - mse: 19.9886 - val_loss: 17.7273 - val_mse: 17.7273\n",
            "Epoch 57/100\n",
            "\u001b[1m11/11\u001b[0m \u001b[32m━━━━━━━━━━━━━━━━━━━━\u001b[0m\u001b[37m\u001b[0m \u001b[1m0s\u001b[0m 10ms/step - loss: 17.3077 - mse: 17.3077 - val_loss: 17.3860 - val_mse: 17.3860\n",
            "Epoch 58/100\n",
            "\u001b[1m11/11\u001b[0m \u001b[32m━━━━━━━━━━━━━━━━━━━━\u001b[0m\u001b[37m\u001b[0m \u001b[1m0s\u001b[0m 10ms/step - loss: 15.9832 - mse: 15.9832 - val_loss: 17.0273 - val_mse: 17.0273\n",
            "Epoch 59/100\n",
            "\u001b[1m11/11\u001b[0m \u001b[32m━━━━━━━━━━━━━━━━━━━━\u001b[0m\u001b[37m\u001b[0m \u001b[1m0s\u001b[0m 9ms/step - loss: 15.9869 - mse: 15.9869 - val_loss: 16.9864 - val_mse: 16.9864\n",
            "Epoch 60/100\n",
            "\u001b[1m11/11\u001b[0m \u001b[32m━━━━━━━━━━━━━━━━━━━━\u001b[0m\u001b[37m\u001b[0m \u001b[1m0s\u001b[0m 10ms/step - loss: 17.6141 - mse: 17.6141 - val_loss: 17.0897 - val_mse: 17.0897\n",
            "Epoch 61/100\n",
            "\u001b[1m11/11\u001b[0m \u001b[32m━━━━━━━━━━━━━━━━━━━━\u001b[0m\u001b[37m\u001b[0m \u001b[1m0s\u001b[0m 10ms/step - loss: 15.7445 - mse: 15.7445 - val_loss: 16.8865 - val_mse: 16.8865\n",
            "Epoch 62/100\n",
            "\u001b[1m11/11\u001b[0m \u001b[32m━━━━━━━━━━━━━━━━━━━━\u001b[0m\u001b[37m\u001b[0m \u001b[1m0s\u001b[0m 11ms/step - loss: 14.7014 - mse: 14.7014 - val_loss: 16.6463 - val_mse: 16.6463\n",
            "Epoch 63/100\n",
            "\u001b[1m11/11\u001b[0m \u001b[32m━━━━━━━━━━━━━━━━━━━━\u001b[0m\u001b[37m\u001b[0m \u001b[1m0s\u001b[0m 10ms/step - loss: 15.6006 - mse: 15.6006 - val_loss: 17.0873 - val_mse: 17.0873\n",
            "Epoch 64/100\n",
            "\u001b[1m11/11\u001b[0m \u001b[32m━━━━━━━━━━━━━━━━━━━━\u001b[0m\u001b[37m\u001b[0m \u001b[1m0s\u001b[0m 10ms/step - loss: 19.0450 - mse: 19.0450 - val_loss: 16.9404 - val_mse: 16.9404\n",
            "Epoch 65/100\n",
            "\u001b[1m11/11\u001b[0m \u001b[32m━━━━━━━━━━━━━━━━━━━━\u001b[0m\u001b[37m\u001b[0m \u001b[1m0s\u001b[0m 9ms/step - loss: 18.4851 - mse: 18.4851 - val_loss: 16.4638 - val_mse: 16.4638\n",
            "Epoch 66/100\n",
            "\u001b[1m11/11\u001b[0m \u001b[32m━━━━━━━━━━━━━━━━━━━━\u001b[0m\u001b[37m\u001b[0m \u001b[1m0s\u001b[0m 9ms/step - loss: 17.0477 - mse: 17.0477 - val_loss: 15.9921 - val_mse: 15.9921\n",
            "Epoch 67/100\n",
            "\u001b[1m11/11\u001b[0m \u001b[32m━━━━━━━━━━━━━━━━━━━━\u001b[0m\u001b[37m\u001b[0m \u001b[1m0s\u001b[0m 9ms/step - loss: 16.2076 - mse: 16.2076 - val_loss: 15.3737 - val_mse: 15.3737\n",
            "Epoch 68/100\n",
            "\u001b[1m11/11\u001b[0m \u001b[32m━━━━━━━━━━━━━━━━━━━━\u001b[0m\u001b[37m\u001b[0m \u001b[1m0s\u001b[0m 9ms/step - loss: 14.7368 - mse: 14.7368 - val_loss: 15.2249 - val_mse: 15.2249\n",
            "Epoch 69/100\n",
            "\u001b[1m11/11\u001b[0m \u001b[32m━━━━━━━━━━━━━━━━━━━━\u001b[0m\u001b[37m\u001b[0m \u001b[1m0s\u001b[0m 9ms/step - loss: 13.8641 - mse: 13.8641 - val_loss: 14.9330 - val_mse: 14.9330\n",
            "Epoch 70/100\n",
            "\u001b[1m11/11\u001b[0m \u001b[32m━━━━━━━━━━━━━━━━━━━━\u001b[0m\u001b[37m\u001b[0m \u001b[1m0s\u001b[0m 13ms/step - loss: 12.4458 - mse: 12.4458 - val_loss: 14.6588 - val_mse: 14.6588\n",
            "Epoch 71/100\n",
            "\u001b[1m11/11\u001b[0m \u001b[32m━━━━━━━━━━━━━━━━━━━━\u001b[0m\u001b[37m\u001b[0m \u001b[1m0s\u001b[0m 10ms/step - loss: 11.3175 - mse: 11.3175 - val_loss: 14.5227 - val_mse: 14.5227\n",
            "Epoch 72/100\n",
            "\u001b[1m11/11\u001b[0m \u001b[32m━━━━━━━━━━━━━━━━━━━━\u001b[0m\u001b[37m\u001b[0m \u001b[1m0s\u001b[0m 9ms/step - loss: 15.6868 - mse: 15.6868 - val_loss: 14.1053 - val_mse: 14.1053\n",
            "Epoch 73/100\n",
            "\u001b[1m11/11\u001b[0m \u001b[32m━━━━━━━━━━━━━━━━━━━━\u001b[0m\u001b[37m\u001b[0m \u001b[1m0s\u001b[0m 10ms/step - loss: 13.2329 - mse: 13.2329 - val_loss: 14.0040 - val_mse: 14.0040\n",
            "Epoch 74/100\n",
            "\u001b[1m11/11\u001b[0m \u001b[32m━━━━━━━━━━━━━━━━━━━━\u001b[0m\u001b[37m\u001b[0m \u001b[1m0s\u001b[0m 10ms/step - loss: 13.5422 - mse: 13.5422 - val_loss: 13.8895 - val_mse: 13.8895\n",
            "Epoch 75/100\n",
            "\u001b[1m11/11\u001b[0m \u001b[32m━━━━━━━━━━━━━━━━━━━━\u001b[0m\u001b[37m\u001b[0m \u001b[1m0s\u001b[0m 9ms/step - loss: 17.1318 - mse: 17.1318 - val_loss: 13.9662 - val_mse: 13.9662\n",
            "Epoch 76/100\n",
            "\u001b[1m11/11\u001b[0m \u001b[32m━━━━━━━━━━━━━━━━━━━━\u001b[0m\u001b[37m\u001b[0m \u001b[1m0s\u001b[0m 9ms/step - loss: 15.7399 - mse: 15.7399 - val_loss: 13.9039 - val_mse: 13.9039\n",
            "Epoch 77/100\n",
            "\u001b[1m11/11\u001b[0m \u001b[32m━━━━━━━━━━━━━━━━━━━━\u001b[0m\u001b[37m\u001b[0m \u001b[1m0s\u001b[0m 11ms/step - loss: 14.5344 - mse: 14.5344 - val_loss: 13.7779 - val_mse: 13.7779\n",
            "Epoch 78/100\n",
            "\u001b[1m11/11\u001b[0m \u001b[32m━━━━━━━━━━━━━━━━━━━━\u001b[0m\u001b[37m\u001b[0m \u001b[1m0s\u001b[0m 9ms/step - loss: 15.0410 - mse: 15.0410 - val_loss: 13.6289 - val_mse: 13.6289\n",
            "Epoch 79/100\n",
            "\u001b[1m11/11\u001b[0m \u001b[32m━━━━━━━━━━━━━━━━━━━━\u001b[0m\u001b[37m\u001b[0m \u001b[1m0s\u001b[0m 9ms/step - loss: 14.3618 - mse: 14.3618 - val_loss: 14.0520 - val_mse: 14.0520\n",
            "Epoch 80/100\n",
            "\u001b[1m11/11\u001b[0m \u001b[32m━━━━━━━━━━━━━━━━━━━━\u001b[0m\u001b[37m\u001b[0m \u001b[1m0s\u001b[0m 9ms/step - loss: 15.0717 - mse: 15.0717 - val_loss: 14.0423 - val_mse: 14.0423\n",
            "Epoch 81/100\n",
            "\u001b[1m11/11\u001b[0m \u001b[32m━━━━━━━━━━━━━━━━━━━━\u001b[0m\u001b[37m\u001b[0m \u001b[1m0s\u001b[0m 9ms/step - loss: 14.6817 - mse: 14.6817 - val_loss: 13.8733 - val_mse: 13.8733\n",
            "Epoch 82/100\n",
            "\u001b[1m11/11\u001b[0m \u001b[32m━━━━━━━━━━━━━━━━━━━━\u001b[0m\u001b[37m\u001b[0m \u001b[1m0s\u001b[0m 9ms/step - loss: 13.7283 - mse: 13.7283 - val_loss: 13.7453 - val_mse: 13.7453\n",
            "Epoch 83/100\n",
            "\u001b[1m11/11\u001b[0m \u001b[32m━━━━━━━━━━━━━━━━━━━━\u001b[0m\u001b[37m\u001b[0m \u001b[1m0s\u001b[0m 9ms/step - loss: 13.5560 - mse: 13.5560 - val_loss: 13.5229 - val_mse: 13.5229\n",
            "Epoch 84/100\n",
            "\u001b[1m11/11\u001b[0m \u001b[32m━━━━━━━━━━━━━━━━━━━━\u001b[0m\u001b[37m\u001b[0m \u001b[1m0s\u001b[0m 9ms/step - loss: 15.5776 - mse: 15.5776 - val_loss: 13.5128 - val_mse: 13.5128\n",
            "Epoch 85/100\n",
            "\u001b[1m11/11\u001b[0m \u001b[32m━━━━━━━━━━━━━━━━━━━━\u001b[0m\u001b[37m\u001b[0m \u001b[1m0s\u001b[0m 13ms/step - loss: 14.0387 - mse: 14.0387 - val_loss: 13.1229 - val_mse: 13.1229\n",
            "Epoch 86/100\n",
            "\u001b[1m11/11\u001b[0m \u001b[32m━━━━━━━━━━━━━━━━━━━━\u001b[0m\u001b[37m\u001b[0m \u001b[1m0s\u001b[0m 14ms/step - loss: 12.2961 - mse: 12.2961 - val_loss: 12.7659 - val_mse: 12.7659\n",
            "Epoch 87/100\n",
            "\u001b[1m11/11\u001b[0m \u001b[32m━━━━━━━━━━━━━━━━━━━━\u001b[0m\u001b[37m\u001b[0m \u001b[1m0s\u001b[0m 13ms/step - loss: 10.6126 - mse: 10.6126 - val_loss: 12.4770 - val_mse: 12.4770\n",
            "Epoch 88/100\n",
            "\u001b[1m11/11\u001b[0m \u001b[32m━━━━━━━━━━━━━━━━━━━━\u001b[0m\u001b[37m\u001b[0m \u001b[1m0s\u001b[0m 13ms/step - loss: 13.4903 - mse: 13.4903 - val_loss: 12.5210 - val_mse: 12.5210\n",
            "Epoch 89/100\n",
            "\u001b[1m11/11\u001b[0m \u001b[32m━━━━━━━━━━━━━━━━━━━━\u001b[0m\u001b[37m\u001b[0m \u001b[1m0s\u001b[0m 13ms/step - loss: 15.3606 - mse: 15.3606 - val_loss: 12.3314 - val_mse: 12.3314\n",
            "Epoch 90/100\n",
            "\u001b[1m11/11\u001b[0m \u001b[32m━━━━━━━━━━━━━━━━━━━━\u001b[0m\u001b[37m\u001b[0m \u001b[1m0s\u001b[0m 13ms/step - loss: 12.9308 - mse: 12.9308 - val_loss: 12.1491 - val_mse: 12.1491\n",
            "Epoch 91/100\n",
            "\u001b[1m11/11\u001b[0m \u001b[32m━━━━━━━━━━━━━━━━━━━━\u001b[0m\u001b[37m\u001b[0m \u001b[1m0s\u001b[0m 17ms/step - loss: 13.3063 - mse: 13.3063 - val_loss: 12.1392 - val_mse: 12.1392\n",
            "Epoch 92/100\n",
            "\u001b[1m11/11\u001b[0m \u001b[32m━━━━━━━━━━━━━━━━━━━━\u001b[0m\u001b[37m\u001b[0m \u001b[1m0s\u001b[0m 16ms/step - loss: 10.4679 - mse: 10.4679 - val_loss: 12.5262 - val_mse: 12.5262\n",
            "Epoch 93/100\n",
            "\u001b[1m11/11\u001b[0m \u001b[32m━━━━━━━━━━━━━━━━━━━━\u001b[0m\u001b[37m\u001b[0m \u001b[1m0s\u001b[0m 13ms/step - loss: 13.1326 - mse: 13.1326 - val_loss: 12.1048 - val_mse: 12.1048\n",
            "Epoch 94/100\n",
            "\u001b[1m11/11\u001b[0m \u001b[32m━━━━━━━━━━━━━━━━━━━━\u001b[0m\u001b[37m\u001b[0m \u001b[1m0s\u001b[0m 16ms/step - loss: 11.4169 - mse: 11.4169 - val_loss: 11.7150 - val_mse: 11.7150\n",
            "Epoch 95/100\n",
            "\u001b[1m11/11\u001b[0m \u001b[32m━━━━━━━━━━━━━━━━━━━━\u001b[0m\u001b[37m\u001b[0m \u001b[1m0s\u001b[0m 15ms/step - loss: 13.4747 - mse: 13.4747 - val_loss: 11.6677 - val_mse: 11.6677\n",
            "Epoch 96/100\n",
            "\u001b[1m11/11\u001b[0m \u001b[32m━━━━━━━━━━━━━━━━━━━━\u001b[0m\u001b[37m\u001b[0m \u001b[1m0s\u001b[0m 17ms/step - loss: 10.7353 - mse: 10.7353 - val_loss: 11.5787 - val_mse: 11.5787\n",
            "Epoch 97/100\n",
            "\u001b[1m11/11\u001b[0m \u001b[32m━━━━━━━━━━━━━━━━━━━━\u001b[0m\u001b[37m\u001b[0m \u001b[1m0s\u001b[0m 16ms/step - loss: 14.3433 - mse: 14.3433 - val_loss: 11.6393 - val_mse: 11.6393\n",
            "Epoch 98/100\n",
            "\u001b[1m11/11\u001b[0m \u001b[32m━━━━━━━━━━━━━━━━━━━━\u001b[0m\u001b[37m\u001b[0m \u001b[1m0s\u001b[0m 19ms/step - loss: 10.3901 - mse: 10.3901 - val_loss: 11.5101 - val_mse: 11.5101\n",
            "Epoch 99/100\n",
            "\u001b[1m11/11\u001b[0m \u001b[32m━━━━━━━━━━━━━━━━━━━━\u001b[0m\u001b[37m\u001b[0m \u001b[1m0s\u001b[0m 18ms/step - loss: 12.9749 - mse: 12.9749 - val_loss: 11.3672 - val_mse: 11.3672\n",
            "Epoch 100/100\n",
            "\u001b[1m11/11\u001b[0m \u001b[32m━━━━━━━━━━━━━━━━━━━━\u001b[0m\u001b[37m\u001b[0m \u001b[1m0s\u001b[0m 9ms/step - loss: 14.0687 - mse: 14.0687 - val_loss: 11.4848 - val_mse: 11.4848\n"
          ]
        }
      ]
    },
    {
      "cell_type": "code",
      "source": [
        "# Let's plot the learning curve for model 3\n",
        "plt.plot(history3.history['loss'], label='Training Loss')\n",
        "plt.plot(history3.history['val_loss'], label='Validation Loss')\n",
        "plt.xlabel('Epochs')\n",
        "plt.ylabel('MSE')\n",
        "plt.title('Learning Curve Model 3')\n",
        "plt.legend()\n",
        "plt.show()"
      ],
      "metadata": {
        "colab": {
          "base_uri": "https://localhost:8080/",
          "height": 472
        },
        "id": "86OUvdP7FbKF",
        "outputId": "8bcf0722-a2ac-47f1-e115-2b4350aa086b"
      },
      "execution_count": 21,
      "outputs": [
        {
          "output_type": "display_data",
          "data": {
            "text/plain": [
              "<Figure size 640x480 with 1 Axes>"
            ],
            "image/png": "[encoded data removed]"
          },
          "metadata": {}
        }
      ]
    },
    {
      "cell_type": "code",
      "source": [
        "# Let's evaluate the model 3\n",
        "test_mse3 = model3.evaluate(X_test_scaled,test_y, verbose = 0)\n",
        "print(test_mse3)"
      ],
      "metadata": {
        "colab": {
          "base_uri": "https://localhost:8080/"
        },
        "id": "OZagZ3OwFmEs",
        "outputId": "39fab0f5-bff4-4260-a069-f0300946ee30"
      },
      "execution_count": 22,
      "outputs": [
        {
          "output_type": "stream",
          "name": "stdout",
          "text": [
            "[21.606298446655273, 21.606298446655273]\n"
          ]
        }
      ]
    },
    {
      "cell_type": "markdown",
      "metadata": {
        "id": "UfdE-QPBrOpl"
      },
      "source": [
        "# Part 2: Hyperparameter Tuning Experiments\n",
        "\n",
        "In the following experiments, you will evaluate and compare models trained with different hyperparameters. Please follow the specifications given for each model."
      ]
    },
    {
      "cell_type": "markdown",
      "metadata": {
        "id": "zXsONE-iwyEZ"
      },
      "source": [
        "## a) Model 1 [2 points]\n",
        "\n",
        "- 2 Dense layers:\n",
        "  - The first with 64 neurons using a ReLU activation function.\n",
        "  - The second with 64 neurons using a ReLU activation function.\n",
        "- Choose an appropriate output layer and activation.\n",
        "- Train model with 100 epochs and obtain cross-validated performance (e.g. with 3 cross-folds).\n",
        "- Plot both loss and mean absolute error (i.e. learning curves) for both training and validation.\n",
        "- Report MAE from CV with standard deviation."
      ]
    },
    {
      "cell_type": "code",
      "execution_count": null,
      "metadata": {
        "id": "dE-0BhtjM6Fn"
      },
      "outputs": [],
      "source": [
        "# your code here, use as many cells as you need\n",
        "\n",
        "# be sure to comment on your results for each and every question, describing not just\n",
        "# the what, but the 'how' and 'why' where possible, to demonstrate your understanding of\n",
        "# course content"
      ]
    },
    {
      "cell_type": "code",
      "source": [
        "# we have to convert our pandas dataframes to numpy array (y should be a 1D array)\n",
        "train_X = np.array(df_train_x)\n",
        "test_X = np.array(df_test_x)\n",
        "train_y = np.array(df_train_y).flatten()\n",
        "test_y = np.array(df_test_y).flatten()"
      ],
      "metadata": {
        "id": "WNtxmygkGhDN"
      },
      "execution_count": 29,
      "outputs": []
    },
    {
      "cell_type": "code",
      "source": [
        "# Standardize our data\n",
        "scaler = StandardScaler()\n",
        "X_train_scaled = scaler.fit_transform(train_X)\n",
        "X_test_scaled = scaler.transform(test_X)"
      ],
      "metadata": {
        "id": "26zNshnnHU4n"
      },
      "execution_count": 30,
      "outputs": []
    },
    {
      "cell_type": "code",
      "source": [
        "# Prepare K-Fold Cross-Validation\n",
        "kf = KFold(n_splits = 3, shuffle= True, random_state=42)\n",
        "cv_mae_scores = []\n",
        "all_histories = []"
      ],
      "metadata": {
        "id": "z_OkAyQ7GgaP"
      },
      "execution_count": 31,
      "outputs": []
    },
    {
      "cell_type": "code",
      "source": [
        "# K-Fold training loop\n",
        "for fold, (train_index, val_index) in enumerate(kf.split(X_train_scaled),1):\n",
        "  train_X_fold, val_X_fold = X_train_scaled[train_index], X_train_scaled[val_index]\n",
        "  train_y_fold, val_y_fold = train_y[train_index], train_y[val_index]\n",
        "\n",
        "  model21 = Sequential([\n",
        "    Dense(64, activation = \"relu\", input_shape=(13,)),\n",
        "    Dense(64, activation = \"relu\"),\n",
        "    Dense(1)\n",
        "])\n",
        "  model21.compile(optimizer = \"adam\", loss = \"mse\", metrics = [\"mae\"])\n",
        "\n",
        "  history21 = model21.fit(\n",
        "    train_X_fold, train_y_fold,\n",
        "    validation_data = (val_X_fold, val_y_fold),\n",
        "    epochs = 100,\n",
        "    batch_size=32,\n",
        "    verbose = 0\n",
        ")\n",
        "  # Store history for plotting\n",
        "  all_histories.append(history21)\n",
        "\n",
        "  # Evaluate on val set\n",
        "  val_mae = model21.evaluate(val_X_fold, val_y_fold, verbose = 0)[1]\n",
        "  cv_mae_scores.append(val_mae)"
      ],
      "metadata": {
        "id": "HtkXuxy-GgPT",
        "colab": {
          "base_uri": "https://localhost:8080/"
        },
        "outputId": "19b7a54e-4fb4-43c0-f78b-7ddfdb9d88df"
      },
      "execution_count": 32,
      "outputs": [
        {
          "output_type": "stream",
          "name": "stderr",
          "text": [
            "/usr/local/lib/python3.12/dist-packages/keras/src/layers/core/dense.py:93: UserWarning: Do not pass an `input_shape`/`input_dim` argument to a layer. When using Sequential models, prefer using an `Input(shape)` object as the first layer in the model instead.\n",
            "  super().__init__(activity_regularizer=activity_regularizer, **kwargs)\n"
          ]
        }
      ]
    },
    {
      "cell_type": "code",
      "source": [
        "# Let's look at the all_histories\n",
        "print(len(all_histories))   # should print 3\n",
        "print([type(h) for h in all_histories])"
      ],
      "metadata": {
        "colab": {
          "base_uri": "https://localhost:8080/"
        },
        "id": "h5RC32J7XGJl",
        "outputId": "b7ebb649-9f5c-4b61-8c62-2d6be0666a68"
      },
      "execution_count": 33,
      "outputs": [
        {
          "output_type": "stream",
          "name": "stdout",
          "text": [
            "3\n",
            "[<class 'keras.src.callbacks.history.History'>, <class 'keras.src.callbacks.history.History'>, <class 'keras.src.callbacks.history.History'>]\n"
          ]
        }
      ]
    },
    {
      "cell_type": "code",
      "source": [
        "# Let's look at the cv_mae_scores\n",
        "print(len(cv_mae_scores))   # should print 3\n",
        "print([type(h) for h in cv_mae_scores])"
      ],
      "metadata": {
        "colab": {
          "base_uri": "https://localhost:8080/"
        },
        "id": "zk-SoPJ1XGAm",
        "outputId": "11d80aae-da61-4298-f135-eb3e1be23df7"
      },
      "execution_count": 34,
      "outputs": [
        {
          "output_type": "stream",
          "name": "stdout",
          "text": [
            "3\n",
            "[<class 'float'>, <class 'float'>, <class 'float'>]\n"
          ]
        }
      ]
    },
    {
      "cell_type": "code",
      "source": [
        "#Plot both loss and mean absolute error (i.e. learning curves) for both training and validation.\n",
        "\n",
        "\n",
        "\n",
        "\n"
      ],
      "metadata": {
        "id": "prBuhSzkXFuT"
      },
      "execution_count": null,
      "outputs": []
    },
    {
      "cell_type": "code",
      "source": [],
      "metadata": {
        "id": "yYERPN5hXFhD"
      },
      "execution_count": null,
      "outputs": []
    },
    {
      "cell_type": "markdown",
      "metadata": {
        "id": "zYsP54_x2ixg"
      },
      "source": [
        "## b) Model 2 [2 points]\n",
        "\n",
        "- 2 Dense layers:\n",
        "  - The first with 128 neurons using a ReLU activation function.\n",
        "  - The second with 64 neurons using a ReLU activation function.\n",
        "- Choose an appropriate output layer and activation.\n",
        "- Train model with 100 epochs and obtain cross-validated performance (e.g. with 3 cross-folds).\n",
        "- Plot both loss and mean absolute error (i.e. learning curves) for both training and validation.\n",
        "- Report MAE from CV with standard deviation."
      ]
    },
    {
      "cell_type": "code",
      "execution_count": null,
      "metadata": {
        "id": "XklV0uGENLsw"
      },
      "outputs": [],
      "source": [
        "# your code here, use as many cells as you need\n",
        "\n",
        "# be sure to comment on your results for each and every question, describing not just\n",
        "# the what, but the 'how' and 'why' where possible, to demonstrate your understanding of\n",
        "# course content"
      ]
    },
    {
      "cell_type": "markdown",
      "metadata": {
        "id": "30A0lCy74RKe"
      },
      "source": [
        "## c) Model 3 [2 points]\n",
        "\n",
        "- Same as Model 2, but use tanh activation functions instead of relu."
      ]
    },
    {
      "cell_type": "code",
      "execution_count": null,
      "metadata": {
        "id": "UNpDFL2FNi1C"
      },
      "outputs": [],
      "source": [
        "# your code here, use as many cells as you need\n",
        "\n",
        "# be sure to comment on your results for each and every question, describing not just\n",
        "# the what, but the 'how' and 'why' where possible, to demonstrate your understanding of\n",
        "# course content"
      ]
    },
    {
      "cell_type": "markdown",
      "metadata": {
        "id": "hWXgQ1RzzPf7"
      },
      "source": [
        "## d) Model 4 [2 points]\n",
        "\n",
        "- Same as Model 2, but use the rmsprop optimizer when training."
      ]
    },
    {
      "cell_type": "code",
      "execution_count": null,
      "metadata": {
        "id": "KgtE3hhxN2oj"
      },
      "outputs": [],
      "source": [
        "# your code here, use as many cells as you need\n",
        "\n",
        "# be sure to comment on your results for each and every question, describing not just\n",
        "# the what, but the 'how' and 'why' where possible, to demonstrate your understanding of\n",
        "# course content"
      ]
    },
    {
      "cell_type": "markdown",
      "metadata": {
        "id": "8_d0KCd-zdcb"
      },
      "source": [
        "## e) Model Comparison [1 point]\n",
        "\n",
        "Which model performed best? Offer your thoughts on why the particular choice of hyperparameters led to improved performance for this model."
      ]
    },
    {
      "cell_type": "code",
      "execution_count": null,
      "metadata": {
        "id": "LBKbdEwR0EcD"
      },
      "outputs": [],
      "source": [
        "# explain WHY you think the best model was better than the rest, in terms\n",
        "# of how those hyperparameters theoretically impact the model\n",
        "\n",
        "# provide visualizations (e.g. tables or comparison plot) to support your response where possible"
      ]
    },
    {
      "cell_type": "markdown",
      "metadata": {
        "id": "7U2qAmO01FtC"
      },
      "source": [
        "NOTE: 2 additional points are awarded based on code documentation and overall clarity of work."
      ]
    },
    {
      "cell_type": "code",
      "execution_count": null,
      "metadata": {
        "id": "a25KyERpPjC0"
      },
      "outputs": [],
      "source": [
        "# We are looking for a clear explanation of results with each response. We want you to attempt to\n",
        "# explain the _how_ and _why_ behind your answers, and not just the what, do demonstrate\n",
        "# your knowledge of the concepts discussed in class. Answers should be backed up with\n",
        "# visualizations (e.g. plots, charts).\n",
        "\n",
        "# Code should be easy to follow by using sensical naming conventions for function and variable\n",
        "# names, providing useful code comments, and refactoring repeated code into re-usable functions."
      ]
    }
  ],
  "metadata": {
    "colab": {
      "provenance": []
    },
    "kernelspec": {
      "display_name": "Python 3",
      "name": "python3"
    },
    "language_info": {
      "name": "python"
    }
  },
  "nbformat": 4,
  "nbformat_minor": 0
}