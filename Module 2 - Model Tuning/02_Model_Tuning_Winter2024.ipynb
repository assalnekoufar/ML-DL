{
  "nbformat": 4,
  "nbformat_minor": 0,
  "metadata": {
    "colab": {
      "provenance": []
    },
    "kernelspec": {
      "display_name": "Python 3",
      "language": "python",
      "name": "python3"
    },
    "language_info": {
      "codemirror_mode": {
        "name": "ipython",
        "version": 3
      },
      "file_extension": ".py",
      "mimetype": "text/x-python",
      "name": "python",
      "nbconvert_exporter": "python",
      "pygments_lexer": "ipython3",
      "version": "3.7.2"
    },
    "toc-autonumbering": true,
    "toc-showcode": false,
    "toc-showmarkdowntxt": false,
    "toc-showtags": false,
    "accelerator": "GPU"
  },
  "cells": [
    {
      "cell_type": "markdown",
      "source": [
        "# Module 2 - Tuning Neural Networks\n",
        "***"
      ],
      "metadata": {
        "id": "8AQWpynNh3oT"
      }
    },
    {
      "cell_type": "markdown",
      "metadata": {
        "id": "lT-JKwTgnG5s"
      },
      "source": [
        "\n",
        "# Introduction\n",
        "\n",
        "In the last module we introduced **artificial neural networks and trained our first neural networks**.\n",
        "- These were shallow nets, with just a few hidden layers.\n",
        "\n",
        "If you need to tackle a complex problem, such as **detecting hundreds of types of objects in high-resolution images**, you may need to train a much deeper DNN:\n",
        "- perhaps with 100 layers or many more,\n",
        "- each containing hundreds of neurons,\n",
        "- linked by hundreds of thousands of connections.\n",
        "\n",
        "Training a deep DNN isn’t a walk in the park. Here are some of the problems you could run into:\n",
        "- **Vanishing/Exploding gradients problem:** This is when the gradients grow smaller and smaller, or larger and larger, when flowing backward through the DNN during training.\n",
        "\n",
        "- **Lack of training data:** You might not have enough training data for such a large network, or it might be too costly to label.\n",
        "\n",
        "- **Slow Training:** With massive neural network with million of parameters, training can take a long time, especially if you don't have access to high powered GPUs.\n",
        "\n",
        "- **Overfitting:** A model with millions of parameters would severely risk **overfitting the training set**, especially if there are not enough training instances or if they are too noisy.\n",
        "\n",
        "\n",
        "# Learning Outcomes\n",
        "\n",
        "In this module, you will:\n",
        "\n",
        "* Explore the vanishing gradient problem and some of the most popular solutions to this problem\n",
        "\n",
        "* Become familiar with various optimizers that can speed up the training of large models tremendously compared to basic gradient descent\n",
        "\n",
        "* Be introduced to a few popular regularization techniques for large neural networks\n",
        "\n",
        "* Gain an improved understanding of why and how neural networks are optimized\n",
        "\n",
        "* Understand how performance is quantified for neural networks, and how this can be used to tune them\n",
        "\n",
        "* Learn how to use manual and automated approaches for neural network parameter tuning"
      ]
    },
    {
      "cell_type": "markdown",
      "metadata": {
        "id": "yWhqtChNO-Rj"
      },
      "source": [
        "**SETUP**"
      ]
    },
    {
      "cell_type": "code",
      "metadata": {
        "id": "yqIvzZqxO-Rp",
        "colab": {
          "base_uri": "https://localhost:8080/"
        },
        "outputId": "8e816d88-c0df-4fd4-edce-b2867ed9e581"
      },
      "source": [
        "# Python ≥3.5 is required\n",
        "import sys\n",
        "assert sys.version_info >= (3, 5)\n",
        "\n",
        "# Scikit-Learn ≥0.20 is required\n",
        "import sklearn\n",
        "assert sklearn.__version__ >= \"0.20\"\n",
        "\n",
        "try:\n",
        "    # %tensorflow_version only exists in Colab.\n",
        "    %tensorflow_version 2.x\n",
        "except Exception:\n",
        "    pass\n",
        "\n",
        "# TensorFlow ≥2.0 is required\n",
        "import tensorflow as tf\n",
        "from tensorflow import keras\n",
        "assert tf.__version__ >= \"2.0\"\n",
        "\n",
        "# Common imports\n",
        "import numpy as np\n",
        "import os\n",
        "\n",
        "# to make this notebook's output stable across runs\n",
        "np.random.seed(42)\n",
        "\n",
        "# To plot pretty figures\n",
        "%matplotlib inline\n",
        "import matplotlib as mpl\n",
        "import matplotlib.pyplot as plt\n",
        "mpl.rc('axes', labelsize=14)\n",
        "mpl.rc('xtick', labelsize=12)\n",
        "mpl.rc('ytick', labelsize=12)"
      ],
      "execution_count": 5,
      "outputs": [
        {
          "output_type": "stream",
          "name": "stdout",
          "text": [
            "Colab only includes TensorFlow 2.x; %tensorflow_version has no effect.\n"
          ]
        }
      ]
    },
    {
      "cell_type": "markdown",
      "metadata": {
        "id": "8qWWdCNsdJk7"
      },
      "source": [
        "# Vanishing/Exploding Gradients Problem"
      ]
    },
    {
      "cell_type": "markdown",
      "metadata": {
        "id": "Jy1j4OqEdJk7"
      },
      "source": [
        "## Overview"
      ]
    },
    {
      "cell_type": "markdown",
      "metadata": {
        "id": "auu8RtCjO-Rt"
      },
      "source": [
        "\n",
        "As we discussed in the last module, the backpropagation algorithm works by going from the **output layer to the input layer, propagating the error gradient along the way**. Once the algorithm has computed **the gradient of the cost function with regard to each parameter in the network**, it uses these gradients to update each parameter with a Gradient Descent step.\n",
        "\n",
        "This is worth summarizing once more:\n",
        "1. **Forward Pass:**\n",
        "    - Each mini-batch is passed to the network’s input layer, which sends it to the first hidden layer. The algorithm then computes the output of all the neurons in this layer (**for every instance in the mini-batch**).\n",
        "    - The result is passed to the next layer, its output is computed and passed to the next layer, and so on until we get the output of the last layer, the output layer.\n",
        "    - This process is **exactly like making predictions,** except all intermediate results are preserved since they are needed for the backward pass.\n",
        "2. **Calculate Loss (error):**\n",
        "    - The algorithm measures the **network’s output error**; it uses a loss function that compares the desired output and the actual output of the network.\n",
        "3. **Backward Pass:**\n",
        "    - Then algorithm first computes how much each output connection contributed to the error **(the derivatives)**. This is done analytically by applying the **chain rule**, which makes this step fast and precise.\n",
        "    - The algorithm then measures how much of these error contributions came from each connection in the **layer below**, again using the chain rule, **working backward until the algorithm reaches the input layer**.\n",
        "    - This reverse pass efficiently **measures the error gradient across all the connection weights in the network** by propagating the error gradient backward through the network.\n",
        "    - Tensorflow uses reverse mode autodiff for this process (see Appendix D of the textbook).\n",
        "4.  **Gradient Descent Step:**\n",
        "    - The algorithm performs a Gradient Descent step to tweak all the connection weights in the network, using the error gradients it just computed.\n",
        "\n",
        "<div align=\"center\">\n",
        "<img src=\"https://drive.google.com/uc?id=1fQmUQBwdJeEmOqwmCEe6L4DJV29zFywB\" style=\"width:650px\">\n",
        "</div>\n"
      ]
    },
    {
      "cell_type": "markdown",
      "metadata": {
        "id": "lhFScFknO-Rt"
      },
      "source": [
        "Unfortunately, **gradients often get smaller and smaller as the algorithm progresses down to the lower layers ('lower' means closer to the inputs)**.\n",
        "- The Gradient Descent update leaves the lower layers’ connection weights virtually unchanged\n",
        "- This means that training never converges to a good solution.\n",
        "- We call this the **vanishing gradients problem.**\n",
        "\n",
        "In some cases, the opposite can happen:\n",
        "- the gradients can grow bigger and bigger until layers get insanely large weight updates and the algorithm diverges.\n",
        "- This is the **exploding gradients problem**, which surfaces in recurrent neural networks.\n",
        "\n",
        "More generally, deep neural networks suffer from **unstable gradients**:\n",
        "- Different layers may **learn at widely different speeds.**\n",
        "- This unfortunate behavior was empirically observed long ago, and it was one of the reasons deep neural networks were mostly abandoned in the early 2000s.\n"
      ]
    },
    {
      "cell_type": "markdown",
      "metadata": {
        "id": "av_wRgC8O-Ru"
      },
      "source": [
        "In 2010, Xavier Glorot and Yoshua Bengio released a breakthrough paper addressing this issue. The authors found a few suspects:\n",
        "1. The logistic sigmoid activation function\n",
        "2. The random normal weight initialization technique (a normal distribution with a mean of 0 and a standard deviation of 1).\n",
        "\n",
        "Both of these techniques were standard practice at the time, and the authors showed that in combination (using both the sigmoid activation function and random normal initialization scheme):\n",
        "- The variance of the outputs of each layer is much greater than the variance of its inputs.\n",
        "- Going forward in the network, the **variance keeps increasing after each layer until the activation function saturates at the top layers (closer to the ouput)**.\n",
        "- This saturation is actually made worse by the fact that the logistic function has a mean of 0.5, not 0 (the hyperbolic tangent function has a mean of 0 and behaves slightly better than the logistic function in deep networks)."
      ]
    },
    {
      "cell_type": "code",
      "metadata": {
        "id": "JrKjf9K4O-Ru"
      },
      "source": [
        "def logit(z):\n",
        "    return 1 / (1 + np.exp(-z))"
      ],
      "execution_count": 12,
      "outputs": []
    },
    {
      "cell_type": "code",
      "metadata": {
        "colab": {
          "base_uri": "https://localhost:8080/",
          "height": 457
        },
        "id": "B20Zi1n5O-Rx",
        "outputId": "d3d62cd4-a061-4656-fc20-73fd1bbe2879"
      },
      "source": [
        "z = np.linspace(-5, 5, 200)\n",
        "\n",
        "plt.plot([-5, 5], [0, 0], 'k-')\n",
        "plt.plot([-5, 5], [1, 1], 'k--')\n",
        "plt.plot([0, 0], [-0.2, 1.2], 'k-')\n",
        "plt.plot([-5, 5], [-3/4, 7/4], 'g--')\n",
        "plt.plot(z, logit(z), \"b-\", linewidth=2)\n",
        "props = dict(facecolor='black', shrink=0.1)\n",
        "plt.annotate('Saturating', xytext=(3.5, 0.7), xy=(5, 1), arrowprops=props, fontsize=14, ha=\"center\")\n",
        "plt.annotate('Saturating', xytext=(-3.5, 0.3), xy=(-5, 0), arrowprops=props, fontsize=14, ha=\"center\")\n",
        "plt.annotate('Linear', xytext=(2, 0.2), xy=(0, 0.5), arrowprops=props, fontsize=14, ha=\"center\")\n",
        "plt.grid(True)\n",
        "plt.title(\"Sigmoid activation function\", fontsize=14)\n",
        "plt.axis([-5, 5, -0.2, 1.2])\n",
        "plt.show()"
      ],
      "execution_count": 13,
      "outputs": [
        {
          "output_type": "display_data",
          "data": {
            "text/plain": [
              "<Figure size 640x480 with 1 Axes>"
            ],
            "image/png": "[encoded data removed]"
          },
          "metadata": {}
        }
      ]
    },
    {
      "cell_type": "markdown",
      "metadata": {
        "id": "my7l9upaO-R1"
      },
      "source": [
        "Looking at the logistic activation function above:\n",
        "- When inputs become large (negative or positive), the function saturates at 0 or 1, with a derivative extremely close to 0.\n",
        "\n",
        "<div align=\"center\">\n",
        "<img src=\"https://drive.google.com/uc?id=1d_f-NrDsv8NA9e2Ul_iJGGLDfBReWlwv\" >\n",
        "</div>\n",
        "\n",
        "\n",
        "Thus, when backpropagation kicks in **there is virtually no gradient to propagate back through the network**;\n",
        "- Per the chain rule, the **derivative with respect to a particular W matrix is the product of the partial derivatives of the layers above it**.\n",
        "- In essence, we keep **multiplying small partial derivatives by even smaller partial derivatives**\n",
        "- When we get to the bottom layers (close to the inputs), the derivatives are **too small to make meaningful changes when we perform a gradient descent step.**\n",
        "    \n",
        "  \n",
        "<div align=\"center\">\n",
        "<img src=\"https://drive.google.com/uc?id=1D-dJBdIYb6y4dKpK7NVEBYk49nilN8e4\" style=\"width:650px;height:250px;\">\n",
        "</div>\n",
        "\n",
        "\n"
      ]
    },
    {
      "cell_type": "markdown",
      "source": [
        "To illustrate this mathematically, consider the 2-layer network illustrated above (we'll treat the bias term $b$ as if it's part of the weights term $W$ for convenience). The forward propagation is given by:\n",
        "\n",
        "\n",
        "$z_{1}=W_{1}x_{1} \\rightarrow a_{1}=\\sigma(z_{1}) \\rightarrow z_{2} = W_{2}a_{1} \\rightarrow a_{2}=\\sigma(z_{2}) \\rightarrow L$\n",
        "\n",
        "\n",
        "The gradient for the last hidden layer is:\n",
        "\n",
        "\n",
        "<font size=\"5\">\n",
        "$\\frac{\\partial{L}}{\\partial{W_{2}}}=\\frac{\\partial{L}}{\\partial{a_{2}}}\\frac{\\partial{a_{2}}}{\\partial{z_{2}}}\\frac{\\partial{z_{2}}}{\\partial{W_{2}}}$\n",
        "</font>\n",
        "\n",
        "\n",
        "Note that the second term on the right-hand-side is the derivative of the activation function for this layer, which could be close to zero if $a_{2}=\\sigma(z_{2})$ was saturated.\n",
        "\n",
        "The gradient for the second-last hidden layer is:\n",
        "\n",
        "<font size=\"5\">\n",
        "$\\frac{\\partial{L}}{\\partial{W_{1}}}=\\frac{\\partial{L}}{\\partial{a_{2}}}\\frac{\\partial{a_{2}}}{\\partial{z_{2}}}\\frac{\\partial{z_{2}}}{\\partial{a_{1}}}\\frac{\\partial{a_{1}}}{\\partial{z_{1}}}\\frac{\\partial{z_{1}}}{\\partial{W_{1}}}$\n",
        "</font>\n",
        "\n",
        "\n",
        "Note that now we have BOTH the derivative of the activation from the last hidden layer $\\frac{\\partial{a_{2}}}{\\partial{z_{2}}}$ AND the current layer $\\frac{\\partial{a_{1}}}{\\partial{z_{1}}}$. So if both of these derivatives are small numbers, than the total gradient for the second last layer will be smaller than the gradient of the layer ahead of it. And this trend will continue as we backpropagate further to earlier layers in the network."
      ],
      "metadata": {
        "id": "tOseiB-xjgml"
      }
    },
    {
      "cell_type": "markdown",
      "metadata": {
        "id": "9Fra6BwEl9qV"
      },
      "source": [
        "To further illustrate this problem, we will develop a simple model that takes in a `layer` parameter, and dynamically updates the graph with the specified number of dense layers.\n",
        "\n",
        "We then extract the value of the weight gradients at the *first layer*. As you will see, **when the number of layers gets larger, the value of the gradients at the *first* layer gets smaller and smaller.**"
      ]
    },
    {
      "cell_type": "code",
      "metadata": {
        "colab": {
          "base_uri": "https://localhost:8080/"
        },
        "id": "fhyXa1MXl9qY",
        "outputId": "63f6d783-fd59-4dcc-9a19-719b35ebb09f"
      },
      "source": [
        "import tensorflow as tf\n",
        "\n",
        "def mnist_fashion_clean(print_shapes=True):\n",
        "    fashion_mnist = tf.keras.datasets.fashion_mnist\n",
        "    (X_train_full, y_train_full), (X_test, y_test) = fashion_mnist.load_data()\n",
        "\n",
        "    X_valid, X_train = X_train_full[:5000] / 255., X_train_full[5000:] / 255.\n",
        "    y_valid, y_train = y_train_full[:5000], y_train_full[5000:]\n",
        "    X_test = X_test / 255.\n",
        "    # Convert types\n",
        "    X_train = X_train.astype('float32')\n",
        "    X_valid = X_valid.astype('float32')\n",
        "    X_test = X_test.astype('float32')\n",
        "    if print_shapes:\n",
        "        print(\"X_trian:\", X_train.shape)\n",
        "        print(\"X_valid:\", X_valid.shape)\n",
        "        print(\"X_test:\", X_test.shape)\n",
        "        print(\"X_train stats:\",X_train.mean(), X_train.std())\n",
        "        print(\"X_valid stats:\",X_valid.mean(), X_valid.std())\n",
        "        print(\"X_test stats:\",X_test.mean(), X_test.std())\n",
        "    return X_train, X_valid, X_test, y_train, y_valid, y_test\n",
        "\n",
        "X_train, X_valid, X_test, y_train, y_valid, y_test = mnist_fashion_clean()"
      ],
      "execution_count": 14,
      "outputs": [
        {
          "output_type": "stream",
          "name": "stdout",
          "text": [
            "X_trian: (55000, 28, 28)\n",
            "X_valid: (5000, 28, 28)\n",
            "X_test: (10000, 28, 28)\n",
            "X_train stats: 0.28603044 0.35290107\n",
            "X_valid stats: 0.2861465 0.35437852\n",
            "X_test stats: 0.28684944 0.3524442\n"
          ]
        }
      ]
    },
    {
      "cell_type": "code",
      "metadata": {
        "colab": {
          "base_uri": "https://localhost:8080/"
        },
        "id": "Rb5tvk8-O-R6",
        "outputId": "682f89a0-ee91-432e-e6b5-b8eeb983e503"
      },
      "source": [
        "from tensorflow.keras.layers import Input, Flatten, Dense\n",
        "from tensorflow.keras.models import Model\n",
        "import tensorflow as tf\n",
        "import numpy as np\n",
        "\n",
        "tf.keras.backend.clear_session()\n",
        "np.random.seed(42)\n",
        "tf.random.set_seed(42)\n",
        "\n",
        "def layer1_gradients(layers, n_neurons=32, activation='sigmoid',\n",
        "                     init='random_normal', verbose=True, return_grad=False):\n",
        "    \"\"\"Function for printing average L1 Gradient Values\"\"\"\n",
        "    # Build Model\n",
        "    inp = Input(shape=(28,28))\n",
        "    X = Flatten()(inp)\n",
        "    for l in range(layers):\n",
        "        X = Dense(n_neurons, activation=activation, kernel_initializer=init)(X)\n",
        "    out = Dense(10, activation=\"softmax\")(X)\n",
        "\n",
        "    # Compile Model\n",
        "    model = Model(inputs=inp, outputs=out)\n",
        "\n",
        "    # Get Layer L-1 output (using Model instead of K.function)\n",
        "    get_layer_L = Model(inputs=model.input, outputs=model.layers[-1].output)\n",
        "    out_vals = get_layer_L(X_train)   # directly pass data\n",
        "\n",
        "    # Calculate gradients of first layer\n",
        "    with tf.GradientTape() as tape:\n",
        "        y_preds = model(X_train)\n",
        "        model_loss = tf.keras.losses.sparse_categorical_crossentropy(y_train, y_preds)\n",
        "    model_gradients = tape.gradient(model_loss, model.trainable_variables)\n",
        "\n",
        "    L1_grad = np.mean(np.abs(model_gradients[0]))\n",
        "    LL_grad = np.mean(np.abs(model_gradients[-1]))\n",
        "\n",
        "    if verbose:\n",
        "        print(f\"L={layers}  \",\n",
        "              \"Layer_1 Mean Gradient: {:.7f}  \".format(L1_grad),\n",
        "              \"Layer_L Mean Gradient: {:.2f}  \".format(LL_grad),\n",
        "              \"Layer_L Output Mean: {:.2f}  \".format(out_vals.numpy().max(axis=1).mean())\n",
        "             )\n",
        "    if return_grad:\n",
        "        return L1_grad\n",
        "\n",
        "\n",
        "for i in range(3,10):\n",
        "    layer1_gradients(i)\n"
      ],
      "execution_count": 18,
      "outputs": [
        {
          "output_type": "stream",
          "name": "stdout",
          "text": [
            "L=3   Layer_1 Mean Gradient: 0.9903818   Layer_L Mean Gradient: 2587.86   Layer_L Output Mean: 0.22  \n",
            "L=4   Layer_1 Mean Gradient: 0.0523101   Layer_L Mean Gradient: 1631.66   Layer_L Output Mean: 0.17  \n",
            "L=5   Layer_1 Mean Gradient: 0.0036633   Layer_L Mean Gradient: 3294.37   Layer_L Output Mean: 0.25  \n",
            "L=6   Layer_1 Mean Gradient: 0.0004412   Layer_L Mean Gradient: 2379.23   Layer_L Output Mean: 0.18  \n",
            "L=7   Layer_1 Mean Gradient: 0.0000201   Layer_L Mean Gradient: 1457.13   Layer_L Output Mean: 0.20  \n",
            "L=8   Layer_1 Mean Gradient: 0.0000013   Layer_L Mean Gradient: 2371.26   Layer_L Output Mean: 0.19  \n",
            "L=9   Layer_1 Mean Gradient: 0.0000002   Layer_L Mean Gradient: 4758.84   Layer_L Output Mean: 0.35  \n"
          ]
        }
      ]
    },
    {
      "cell_type": "markdown",
      "source": [
        "So we see from the above that the mean gradient in the first layer rapidly shrinks as we add more layers. Next, let's view the impact this actually has on model performance. We will train a model and display its learning curves, for different numbers of layers. Note that we're using `sigmoid` as the activation function for all the hidden layers, and random normal initialization for the weights."
      ],
      "metadata": {
        "id": "I2DKBo1okTOu"
      }
    },
    {
      "cell_type": "code",
      "source": [],
      "metadata": {
        "id": "8hHl6w90xIAZ"
      },
      "execution_count": null,
      "outputs": []
    },
    {
      "cell_type": "code",
      "source": [],
      "metadata": {
        "id": "L9MpPe19xHjV"
      },
      "execution_count": null,
      "outputs": []
    },
    {
      "cell_type": "code",
      "source": [],
      "metadata": {
        "id": "q1_V4CIV68Oq"
      },
      "execution_count": null,
      "outputs": []
    },
    {
      "cell_type": "code",
      "metadata": {
        "id": "0mx6OUJzO-SD"
      },
      "source": [
        "from tensorflow.keras.layers import Input, Flatten, Dense\n",
        "from tensorflow.keras.models import Model\n",
        "import tensorflow.keras.backend as K\n",
        "import matplotlib.pyplot as plt\n",
        "from time import time\n",
        "K.clear_session()\n",
        "np.random.seed(42)\n",
        "tf.random.set_seed(42)\n",
        "\n",
        "def layer1_gradients_train(layers, n_neurons=32, activation='sigmoid', init='random_normal', epochs=100):\n",
        "    \"\"\"Function for printing average L1 Gradient Values and training the model\"\"\"\n",
        "    optimizer = tf.keras.optimizers.Adam(lr=0.01)\n",
        "    inp = Input(shape=(28,28))\n",
        "    # Build Model\n",
        "    X = Flatten()(inp)\n",
        "    for l in range(layers):\n",
        "        X = Dense(n_neurons, activation=activation, kernel_initializer=init)(X)\n",
        "    out = Dense(10, activation=\"softmax\")(X)\n",
        "    model = Model(inputs=[inp], outputs=[out])\n",
        "    get_layer_L = K.function([model.input], [model.layers[-1].output])\n",
        "    # Training step function\n",
        "    def step(real_x, real_y, verbose=False):\n",
        "        with tf.GradientTape() as tape:\n",
        "            y_preds = model(X_train)\n",
        "            model_loss = tf.keras.losses.sparse_categorical_crossentropy(y_train, y_preds)\n",
        "        model_gradients = tape.gradient(model_loss, model.trainable_variables)\n",
        "        out = get_layer_L([X_train])\n",
        "        L1_grad = np.mean(np.abs(model_gradients[0]))\n",
        "        LL_grad = np.mean(np.abs(model_gradients[-1]))\n",
        "        if verbose:\n",
        "            print(f\"L={len(model.layers)//2}  \",\n",
        "                  \"Layer_1 Mean Gradient: {:.7f}  \".format(L1_grad),\n",
        "                  \"Layer_L Mean Gradient: {:.2f}  \".format(LL_grad),\n",
        "                  \"Layer_L Output Mean: {:.2f}  \".format(out[0].max(axis=1).mean())\n",
        "                 )\n",
        "        # Update model parameters\n",
        "        optimizer.apply_gradients(zip(model_gradients, model.trainable_variables))\n",
        "        return np.mean(model_loss)\n",
        "    losses = []\n",
        "    accs = []\n",
        "    verbose=False\n",
        "    for epoch in range(epochs):\n",
        "        if epoch%10==0:\n",
        "            print(\"EPOCH \", epoch)\n",
        "            verbose=True\n",
        "        loss = step(X_train, y_train, verbose=verbose)\n",
        "        verbose=False\n",
        "        losses.append(loss)\n",
        "        preds = model.predict(X_test)\n",
        "        acc = sum(preds.argmax(axis=1)==y_test)/len(preds)\n",
        "        accs.append(acc)\n",
        "\n",
        "    print(\"FINAL LOSS:\", loss, \"FINAL ACCURACY:\", acc)\n",
        "    plt.plot(losses, label='losses')\n",
        "    plt.plot(accs, label='accs')\n",
        "    plt.legend()"
      ],
      "execution_count": null,
      "outputs": []
    },
    {
      "cell_type": "code",
      "metadata": {
        "id": "58MtDGKtO-SG"
      },
      "source": [
        "# train for 2 hidden layers\n",
        "# (NOTE : TAKES A FEW MINUTES!)\n",
        "tf.autograph.set_verbosity(0)\n",
        "layer1_gradients_train(2)"
      ],
      "execution_count": null,
      "outputs": []
    },
    {
      "cell_type": "code",
      "metadata": {
        "id": "qQEi5VUFO-SJ"
      },
      "source": [
        "# train for 4 hidden layers\n",
        "layer1_gradients_train(4)"
      ],
      "execution_count": null,
      "outputs": []
    },
    {
      "cell_type": "code",
      "metadata": {
        "id": "T3IhSzKcO-SM"
      },
      "source": [
        "# training the same model for 6 hidden layers,\n",
        "# I think you get the point! Model performance suffers due to vanishing gradients\n",
        "layer1_gradients_train(6)"
      ],
      "execution_count": null,
      "outputs": []
    },
    {
      "cell_type": "markdown",
      "metadata": {
        "id": "wt8weYwUdJlA"
      },
      "source": [
        "## Xavier (Glorot) and He Initialization\n"
      ]
    },
    {
      "cell_type": "markdown",
      "metadata": {
        "id": "L1znh27vO-SP"
      },
      "source": [
        "\n",
        "To address this issue, Glorot and Bengio proposed two solutions:\n",
        "1. The variance of the outputs of each layer should be equal to the variance of its inputs\n",
        "2. The gradients should have equal variance before and after flowing through a layer in reverse direction\n",
        "\n",
        "\n",
        "It is actually **not possible to guarantee both unless the layer has an equal number of input and output connections**. However the authors proposed a good compromise that has proven to work very well in practice: **Xavier or Glorot Initialization**.\n",
        "\n",
        "To immplement Glorot initialization, randomly initialize connections weights according to the equation below, where `n_inputs` and `n_outputs` are the number of input and output connections for the layer whose weights are being initialized:\n",
        "- *Normal distribution* with mean of 0 and standard deviation of  $\\sigma=\\sqrt{\\frac{2}{\\text{n_inputs + n_outputs}}}$\n",
        "\n",
        "    or\n",
        "\n",
        "- *Uniform distribution* with between $-r$ and $r$ where $r=\\sqrt{\\frac{6}{\\text{n_inputs + n_outputs}}}$\n",
        "\n",
        "\n",
        "Using the Xavier initialization strategy can **speed up training considerably**, and it is one of the tricks that has led to the current success of Deep Learning.\n",
        "\n",
        "Some recent papers have provided **similar strategies for different activation functions**, as shown in the table below. The initialization strategy for the ReLU activation function (and its variants, including the ELU activation described shortly) is sometimes called **He initialization** (after the last name of its author).\n",
        "\n",
        "<div align=\"center\">\n",
        "<img src=\"https://drive.google.com/uc?id=1DKpYt6EwjcM6ELUsfn72PNyfEWutXW6Q\" style=\"width:500px;\">\n",
        "</div>\n"
      ]
    },
    {
      "cell_type": "code",
      "metadata": {
        "id": "EBOrcmrDO-SQ"
      },
      "source": [
        "fan_in = 784 # Number of inputs (features)\n",
        "fan_out = 1 # Number of neurons\n",
        "fan_avg = (fan_in+fan_out)/2.0\n",
        "\n",
        "glorot_sigma = np.sqrt(1/fan_avg)\n",
        "\n",
        "X = np.random.normal(size=(1,fan_in))\n",
        "print(\"Input shape:\", X.shape)\n",
        "print(\"Glorot Sigma:\", glorot_sigma)\n",
        "\n",
        "def sigmoid(z):\n",
        "    return 1 / (1 + np.exp(-z))\n",
        "\n",
        "W_random = np.random.normal(loc=0, scale=1, size=(fan_in, fan_out))\n",
        "random_out_Z = X.dot(W_random)\n",
        "random_out_A = sigmoid(random_out_Z)\n",
        "print(\"\\nRandom Output Z:\", random_out_Z)\n",
        "print(\"Random Output A:\", random_out_A)\n",
        "\n",
        "W_glorot = np.random.normal(loc=0, scale=glorot_sigma, size=(fan_in, fan_out))\n",
        "glorot_out_Z = X.dot(W_glorot)\n",
        "glorot_out_A = sigmoid(glorot_out_Z)\n",
        "print(\"\\nGlorot Output Z:\", glorot_out_Z)\n",
        "print(\"Glorot Output A:\", glorot_out_A)"
      ],
      "execution_count": null,
      "outputs": []
    },
    {
      "cell_type": "markdown",
      "metadata": {
        "id": "vkNmVGK-O-SS"
      },
      "source": [
        "Here is the fundamental intuition:\n",
        "- By **scaling the weights** based on the number of inputs and outputs, we are ensuring that the output of the linear activation will be **within a range such that the non-linear activation is not saturated**."
      ]
    },
    {
      "cell_type": "code",
      "metadata": {
        "id": "BEqTwlSlO-ST"
      },
      "source": [
        "# when initializing our weights, ideally we want a layer's activation\n",
        "# to start near the middle of its range (0.5 for a sigmoid),\n",
        "# to avoid saturation; below, we randomly generate our weights 1000 times,\n",
        "# and show histograms of the possible activations obtained under different\n",
        "# weight initialization schemes\n",
        "\n",
        "fan_in = 784 # Number of inputs\n",
        "fan_out = 32 # Number of neurons\n",
        "\n",
        "def sigmoid(z):\n",
        "    return 1 / (1 + np.exp(-z))\n",
        "\n",
        "glorot_means = []\n",
        "random_means = []\n",
        "glorot_vars = []\n",
        "random_vars = []\n",
        "\n",
        "X = np.random.normal(size=(1,fan_in))\n",
        "\n",
        "for i in range(1000):\n",
        "    fan_avg = (fan_in+fan_out)/2.0\n",
        "    glorot_sigma = np.sqrt(1/fan_avg)\n",
        "    W_glorot = np.random.normal(loc=0, scale = glorot_sigma, size=(fan_in, fan_out))\n",
        "    W_random = np.random.normal(loc=0, scale = 1, size=(fan_in, fan_out))\n",
        "    glorot_out = sigmoid(X.dot(W_glorot))\n",
        "    random_out = sigmoid(X.dot(W_random))\n",
        "    glorot_means.append(glorot_out.mean())\n",
        "    random_means.append(random_out.mean())\n",
        "    glorot_vars.append(glorot_out.var())\n",
        "    random_vars.append(random_out.var())\n",
        "\n",
        "print(\"Random Output Variance:\", np.mean(random_vars))\n",
        "print(\"Glorot Output Variance:\", np.mean(glorot_vars))\n",
        "\n",
        "plt.hist(glorot_means, bins=100, alpha=0.5, label='glorot')\n",
        "plt.hist(random_means, bins=100, alpha=0.5, label='random_normal')\n",
        "plt.legend()\n",
        "\n",
        "plt.show()"
      ],
      "execution_count": null,
      "outputs": []
    },
    {
      "cell_type": "markdown",
      "source": [
        "The histograms above show that, with random normal initialization of weights, we are more likely to produce an initial activation that is in the 'saturating' region of our activation function, where the derivative (and therefore gradient update) will be small."
      ],
      "metadata": {
        "id": "xLilFMzRnFwf"
      }
    },
    {
      "cell_type": "code",
      "metadata": {
        "id": "FRlEDK0xO-SW"
      },
      "source": [
        "# let's take a look at the different initializers available\n",
        "from tensorflow import keras\n",
        "[name for name in dir(keras.initializers) if not name.startswith(\"_\")]"
      ],
      "execution_count": null,
      "outputs": []
    },
    {
      "cell_type": "markdown",
      "metadata": {
        "id": "CZEyzkCCO-Sc"
      },
      "source": [
        "By default, Keras uses `GlorotUniform`.\n",
        "\n",
        "When creating a layer, you can change this to He initialization by setting `kernel_initializer=\"he_uniform\"` or `kernel_initializer=\"he_normal\"` like this:"
      ]
    },
    {
      "cell_type": "code",
      "metadata": {
        "id": "JT-e8iewO-Sd"
      },
      "source": [
        "keras.layers.Dense(10, activation=\"relu\", kernel_initializer=\"he_normal\")"
      ],
      "execution_count": null,
      "outputs": []
    },
    {
      "cell_type": "markdown",
      "metadata": {
        "id": "0tX-QTqrO-Sg"
      },
      "source": [
        "If you want He initialization with a uniform distribution but based on `fan avg` rather than `fan in` , you can use the `VarianceScaling` initializer like this:"
      ]
    },
    {
      "cell_type": "code",
      "metadata": {
        "id": "ErX3mXr1O-Sh"
      },
      "source": [
        "init = keras.initializers.VarianceScaling(scale=2., mode='fan_avg', distribution='uniform')\n",
        "keras.layers.Dense(10, activation=\"relu\", kernel_initializer=init)"
      ],
      "execution_count": null,
      "outputs": []
    },
    {
      "cell_type": "markdown",
      "source": [
        "Now let's plot the Layer_1 mean gradient as a function of number of hidden layers (N) for different initialization and activation function strategies."
      ],
      "metadata": {
        "id": "l0sS4SBHnr-M"
      }
    },
    {
      "cell_type": "code",
      "metadata": {
        "id": "9aFm8FGlO-Sj"
      },
      "source": [
        "K.clear_session()\n",
        "np.random.seed(23)\n",
        "tf.random.set_seed(23)\n",
        "\n",
        "rn_grads_sig = []\n",
        "he_grads_sig = []\n",
        "gx_grads_sig = []\n",
        "rn_grads = []\n",
        "he_grads = []\n",
        "gx_grads = []\n",
        "for i in range(1,10):\n",
        "    rn_grads_sig.append(layer1_gradients(i, return_grad=True, activation='sigmoid', init='random_normal', verbose=False))\n",
        "    gx_grads_sig.append(layer1_gradients(i, return_grad=True, activation='sigmoid', init='glorot_normal', verbose=False))\n",
        "    he_grads_sig.append(layer1_gradients(i, return_grad=True, activation='sigmoid', init='he_uniform', verbose=False))\n",
        "    rn_grads.append(layer1_gradients(i, return_grad=True, activation='relu', init='random_normal', verbose=False))\n",
        "    gx_grads.append(layer1_gradients(i, return_grad=True, activation='relu', init='glorot_normal', verbose=False))\n",
        "    he_grads.append(layer1_gradients(i, return_grad=True, activation='relu', init=keras.initializers.VarianceScaling(scale=2, mode='fan_avg', distribution='uniform'), verbose=False))"
      ],
      "execution_count": null,
      "outputs": []
    },
    {
      "cell_type": "code",
      "metadata": {
        "id": "xTo8f-VBO-Sm"
      },
      "source": [
        "plt.plot(rn_grads_sig, label='rn_sig')\n",
        "plt.plot(he_grads_sig, label='he_sig')\n",
        "plt.plot(gx_grads_sig, label='gx_sig')\n",
        "plt.plot(rn_grads , label='rn_relu')\n",
        "plt.plot(he_grads , label='he_relu')\n",
        "plt.plot(gx_grads , label='gx_relu')\n",
        "plt.xlabel('N Layers')\n",
        "plt.title('Mean Absolute Gradient of L1')\n",
        "plt.legend()\n",
        "plt.show()"
      ],
      "execution_count": null,
      "outputs": []
    },
    {
      "cell_type": "markdown",
      "metadata": {
        "id": "V1Von8nvl9ql"
      },
      "source": [
        "As we can see, the layer one gradients suffer from saturation to a much lesser degree when glorot initializtion is applied.\n",
        "- This affect will change based on the data and activation function you choose\n",
        "- In general **Xavier/Glorot is the best place to start** (or He initialization if you are using ReLU or ReLU relatives).\n",
        "\n",
        "To hammer this point home, let's train a bunch of models using different initialization strategies and observe how the accuracy changes on each iteration (using ReLU as our base activation function):\n",
        "- To do this, we create a wrapper function that creates a simple feedforward network with **5 layers**.\n",
        "- We will include `activation` and `initializer` parameters so we can test multiple models."
      ]
    },
    {
      "cell_type": "code",
      "metadata": {
        "id": "t0jh42aOl9qm"
      },
      "source": [
        "from tensorflow.keras import layers\n",
        "\n",
        "# Initialize simple_model function\n",
        "def simple_model(initializer, activation='relu'): # Use relu as base activation function\n",
        "    return tf.keras.Sequential([layers.Flatten(),\n",
        "                                layers.Dense(32, activation, input_shape=(784,), kernel_initializer=initializer),\n",
        "                                layers.Dense(32, activation, kernel_initializer=initializer),\n",
        "                                layers.Dense(32, activation, kernel_initializer=initializer),\n",
        "                                layers.Dense(32, activation, kernel_initializer=initializer),\n",
        "                                layers.Dense(10, activation='softmax', kernel_initializer=tf.keras.initializers.glorot_normal())])"
      ],
      "execution_count": null,
      "outputs": []
    },
    {
      "cell_type": "markdown",
      "metadata": {
        "id": "pHKtc1rol9qu"
      },
      "source": [
        "**Zeros initialization**\n",
        "\n",
        "In the last module, we mentioned that if we set all of our weights to zeros before our first iteration of backpropagation, your neural network won't be able to converge at all:\n",
        "- Using 'zeros initialization' will cause all of the hidden units to be **completely identical (symmetric)**\n",
        "    - they will compute exactly the same function.\n",
        "- On each gradient descent iteration **all of the hidden units will always have the same update values**:\n",
        "    - if all hidden units remain the same we won't get any additional value from having multiple neurons (thus defeating the purpose of using a neural network)!\n",
        "\n",
        "Let's demonstrate this below:"
      ]
    },
    {
      "cell_type": "code",
      "metadata": {
        "id": "TSnSRmckO-Ss"
      },
      "source": [
        "X_train, X_valid, X_test, y_train, y_valid, y_test = mnist_fashion_clean()"
      ],
      "execution_count": null,
      "outputs": []
    },
    {
      "cell_type": "code",
      "metadata": {
        "id": "NsItP5HXO-Sv"
      },
      "source": [
        "# Set params\n",
        "init = tf.keras.initializers.Zeros()\n",
        "activate = 'relu'\n",
        "\n",
        "# Run model\n",
        "optimizer = tf.keras.optimizers.SGD(0.01)\n",
        "model_ze = simple_model(init, activate)\n",
        "model_ze.compile(optimizer=optimizer, loss='sparse_categorical_crossentropy', metrics=['accuracy'])\n",
        "model_ze.fit(X_train, y_train, epochs=10, batch_size=3200, validation_data=(X_valid, y_valid))"
      ],
      "execution_count": null,
      "outputs": []
    },
    {
      "cell_type": "code",
      "metadata": {
        "id": "5Q1HpomcO-Sy"
      },
      "source": [
        "ws = model_ze.get_weights()\n",
        "ws[4]"
      ],
      "execution_count": null,
      "outputs": []
    },
    {
      "cell_type": "code",
      "metadata": {
        "id": "PPUWk51EO-S1"
      },
      "source": [
        "# Set all layers to different values\n",
        "# But each layer's neurons are the exact same\n",
        "for i in range(len(ws)):\n",
        "    ws[i] += 0.2* np.random.rand()\n",
        "#     ws[i] = np.random.random(size=(ws[i].shape))*0.1 # Random init\n",
        "\n",
        "model_ze.set_weights(ws)\n",
        "model_ze.fit(X_train, y_train, epochs=10, batch_size=3200, validation_data=(X_valid, y_valid))"
      ],
      "execution_count": null,
      "outputs": []
    },
    {
      "cell_type": "code",
      "metadata": {
        "id": "C91Q5hRhO-S3"
      },
      "source": [
        "model_ze.get_weights()[2]"
      ],
      "execution_count": null,
      "outputs": []
    },
    {
      "cell_type": "markdown",
      "metadata": {
        "id": "GMRpwTU9l9qx"
      },
      "source": [
        "**Random Normal Initialization**"
      ]
    },
    {
      "cell_type": "code",
      "metadata": {
        "id": "HFMPxPaSl9qx"
      },
      "source": [
        "# Set params\n",
        "init = tf.keras.initializers.RandomNormal()\n",
        "activate = 'relu'\n",
        "\n",
        "# Run model\n",
        "optimizer = tf.keras.optimizers.SGD(0.01)\n",
        "model_rn = simple_model(init, activate)\n",
        "model_rn.compile(optimizer=optimizer, loss='sparse_categorical_crossentropy', metrics=['accuracy'])\n",
        "model_rn.fit(X_train, y_train, epochs=10, batch_size=3200, validation_data=(X_test, y_test))"
      ],
      "execution_count": null,
      "outputs": []
    },
    {
      "cell_type": "markdown",
      "metadata": {
        "id": "lL2xkAeRl9q0"
      },
      "source": [
        "**Glorot Normal Initialization (Xavier Initialization)**"
      ]
    },
    {
      "cell_type": "code",
      "metadata": {
        "id": "vdPfOJ8Vl9q1"
      },
      "source": [
        "# Set params\n",
        "init = tf.keras.initializers.glorot_uniform()\n",
        "activate = 'relu'\n",
        "\n",
        "# Run model\n",
        "optimizer = tf.keras.optimizers.SGD(0.01)\n",
        "model_xa = simple_model(init, activate)\n",
        "model_xa.compile(optimizer=optimizer, loss='sparse_categorical_crossentropy', metrics=['accuracy'])\n",
        "model_xa.fit(X_train, y_train, epochs=10, batch_size=3200, validation_data=(X_test, y_test))"
      ],
      "execution_count": null,
      "outputs": []
    },
    {
      "cell_type": "markdown",
      "metadata": {
        "id": "-5-Q4eeUl9q3"
      },
      "source": [
        "**He Initialization**"
      ]
    },
    {
      "cell_type": "code",
      "metadata": {
        "id": "Qk-z713Al9q3"
      },
      "source": [
        "# Set params\n",
        "init = tf.keras.initializers.he_uniform()\n",
        "activate = 'relu'\n",
        "\n",
        "# Run model\n",
        "optimizer = tf.keras.optimizers.SGD(0.01)\n",
        "model_he = simple_model(init, activate)\n",
        "model_he.compile(optimizer=optimizer, loss='sparse_categorical_crossentropy', metrics=['accuracy'])\n",
        "model_he.fit(X_train, y_train, epochs=10, batch_size=3200, validation_data=(X_test, y_test))"
      ],
      "execution_count": null,
      "outputs": []
    },
    {
      "cell_type": "code",
      "metadata": {
        "id": "Byxk_mC75rt4"
      },
      "source": [
        "model_he.summary()"
      ],
      "execution_count": null,
      "outputs": []
    },
    {
      "cell_type": "code",
      "metadata": {
        "id": "zosCr_GDO-TD"
      },
      "source": [
        "# This demonstrates how we would retrieve the name of the initilization method\n",
        "# from an already-built model. Note that internally, Keras refers to \"He\n",
        "# Initialization\" as 'HeUniform'\"\n",
        "model_he.get_config()['layers'][2]['config']['kernel_initializer']['class_name']"
      ],
      "execution_count": null,
      "outputs": []
    },
    {
      "cell_type": "markdown",
      "source": [
        "Now let's compare the different validation accuracies!"
      ],
      "metadata": {
        "id": "89T6eYycoTng"
      }
    },
    {
      "cell_type": "code",
      "metadata": {
        "id": "kGgsc6aSl9q5"
      },
      "source": [
        "for model in [model_ze, model_rn, model_xa, model_he]:\n",
        "    accuracy = model.history.history['val_accuracy']\n",
        "    initializer = model.get_config()['layers'][2]['config']['kernel_initializer']['class_name']\n",
        "    plt.plot(accuracy, label=initializer)\n",
        "\n",
        "plt.legend()\n",
        "plt.xlabel('Epoch')\n",
        "plt.ylabel('Validation Accuracy')\n",
        "plt.show()"
      ],
      "execution_count": null,
      "outputs": []
    },
    {
      "cell_type": "markdown",
      "metadata": {
        "id": "-oUE_zXWl9q8"
      },
      "source": [
        "**NOTE:** `VarianceScaling` is another name for He initialization.\n",
        "\n",
        "Look at that! Our model accuracy after 10 epochs actually goes up significantly from epoch to epoch when we use the \"Glorot uniform\" and \"He uniform\" initializations.\n",
        "\n",
        "This makes sense, as the **gradient updates are more effectively transfered through to the initial layers**, thus speeding up training.\n",
        "- Note that VarianceScaling (He initialization) is optimized specifically for ReLU activation functions, which explains why it performs the best here (we are using ReLU activation functions).\n",
        "\n",
        "You are encouraged to experiment with different activation functions and initialization strategies to see if you can improve training accuracy even further!\n",
        "\n",
        "You may even want to train for more epochs and see how that effects the model."
      ]
    },
    {
      "cell_type": "markdown",
      "metadata": {
        "id": "2edjRu8-O-TI"
      },
      "source": [
        "## Nonsaturating Activation Functions"
      ]
    },
    {
      "cell_type": "markdown",
      "metadata": {
        "id": "4SXnxKw8dJlE"
      },
      "source": [
        "\n",
        "As mentioned above, one of the insights in the 2010 paper by Glorot and Bengio was that the problems with unstable gradients were in part due to a **poor choice of activation function** (which was mainly the sigmoid function at the time).\n",
        "- It turns out that other activation functions behave much better in deep neural networks in particular, **the ReLU activation function**.\n",
        "\n",
        "As mentioned in the last module, the advantages of Relu are that:\n",
        "- it does not saturate for positive values\n",
        "- it is fast to compute"
      ]
    },
    {
      "cell_type": "code",
      "metadata": {
        "id": "_zNOqX7BO-TJ"
      },
      "source": [
        "# let's plot the values and derivatives of the Sigmoid,\n",
        "# Tanh, and ReLU activation functions\n",
        "\n",
        "def sigmoid(z):\n",
        "    return 1 / (1 + np.exp(-z))\n",
        "\n",
        "def relu(z):\n",
        "    return np.maximum(0, z)\n",
        "\n",
        "def derivative(f, z, eps=0.000001):\n",
        "    return (f(z + eps) - f(z - eps))/(2 * eps)\n",
        "z = np.linspace(-5, 5, 200)\n",
        "\n",
        "plt.figure(figsize=(11,4))\n",
        "plt.subplot(121)\n",
        "plt.plot(z, sigmoid(z), \"g--\", linewidth=2, label=\"Sigmoid\")\n",
        "plt.plot(z, np.tanh(z), \"b-\", linewidth=2, label=\"Tanh\")\n",
        "plt.plot(z, relu(z), \"m-.\", linewidth=2, label=\"ReLU\")\n",
        "plt.grid(True)\n",
        "plt.legend(loc=\"center right\", fontsize=14)\n",
        "plt.title(\"Activation functions\", fontsize=14)\n",
        "plt.axis([-5, 5, -1.2, 1.2])\n",
        "\n",
        "plt.subplot(122)\n",
        "plt.plot(0, 0, \"ro\", markersize=5)\n",
        "plt.plot(0, 0, \"rx\", markersize=10)\n",
        "plt.plot(z, derivative(sigmoid, z), \"g--\", linewidth=2, label=\"Sigmoid\")\n",
        "plt.plot(z, derivative(np.tanh, z), \"b-\", linewidth=2, label=\"Tanh\")\n",
        "plt.plot(z, derivative(relu, z), \"m-.\", linewidth=2, label=\"ReLU\")\n",
        "plt.grid(True)\n",
        "#plt.legend(loc=\"center right\", fontsize=14)\n",
        "plt.title(\"Derivatives\", fontsize=14)\n",
        "plt.axis([-5, 5, -0.2, 1.2])\n",
        "\n",
        "plt.show()"
      ],
      "execution_count": null,
      "outputs": []
    },
    {
      "cell_type": "markdown",
      "metadata": {
        "id": "MPLzCIAhO-TM"
      },
      "source": [
        "However, Relu also comes with some potential issues:\n",
        "- It suffers from a problem known as the **dying ReLUs**:\n",
        "    - During training, some neurons effectively “die,” meaning they stop outputting anything other than 0.\n",
        "    - In some cases, you may find that half of your network’s neurons are dead, especially if you used a large learning rate.\n",
        "- A neuron dies when its **weights get tweaked in such a way that the weighted sum of its inputs are negative for all instances in the training set.** If the weighted sum $(w_{1}x_{1} + w_{2}x_{2} + \\cdots)$ is always negative, then $\\text{ReLU}(z)$ is always zero.\n",
        "-  Furthermore, the gradient of the ReLU function is also zero when its input is negative, and therefore its value will not be updated during Gradient Descent (you are adding zero to zero).\n",
        "- When this happens, the output of ReLU gets stuck at zero, and the neuron is effectively 'dead'."
      ]
    },
    {
      "cell_type": "markdown",
      "metadata": {
        "id": "py9mx6NadJlF"
      },
      "source": [
        "### Leaky ReLU"
      ]
    },
    {
      "cell_type": "markdown",
      "metadata": {
        "id": "Wae6StTGO-TN"
      },
      "source": [
        "\n",
        "To solve this problem, you may want to use a variant of the ReLU function, such as the **leaky ReLU**.\n",
        "- $LeakyReLU_{\\alpha}(z) = max( \\alpha (z) , z )$\n",
        "\n",
        "The hyperparameter $\\alpha$ defines how much the function “leaks”:\n",
        "- It is the slope of the function for z < 0 and is typically set to 0.01.\n",
        "- This small slope ensures that leaky ReLUs never die; **they can go into a long coma, but they have a chance to eventually wake up.**\n",
        "\n",
        "A 2015 paper compared several variants of the ReLU activation function, and one of its conclusions was that the **leaky variants always outperformed the strict ReLU activation function**:\n",
        "- In fact, setting α = 0.2 (a huge leak) seemed to result in better performance than α = 0.01 (a small leak).\n",
        "- The paper also evaluated the randomized leaky ReLU (RReLU), where α is picked randomly in a given range during training and is fixed to an average value during testing.\n",
        "- RReLU also performed fairly well and seemed to act as a regularizer (reducing the risk of overfitting the training set).\n",
        "- The paper evaluated the parametric leaky ReLU (PReLU), where α is authorized to be learned during training\n",
        "    - $\\alpha$ becomes a parameter that can be modified by backpropagation like any other parameter.\n",
        "    - PReLU was reported to strongly outperform ReLU on large image datasets, but on smaller datasets it runs the risk of overfitting the training set.\n"
      ]
    },
    {
      "cell_type": "code",
      "metadata": {
        "id": "GD_bqS8oO-TO"
      },
      "source": [
        "# let's plot Leaky ReLU and its derivative to see what they look like:\n",
        "\n",
        "# Plot the sigmoid function\n",
        "z = np.linspace(-5, 5, 200)\n",
        "\n",
        "# high alpha for visualization purposes\n",
        "def leaky_relu(z, alpha=0.1):\n",
        "    return np.where(z < 0, alpha*z,z)\n",
        "\n",
        "def leaky_relu_gradient(z, alpha=0.1):\n",
        "    return np.where(z < 0, alpha,1)\n",
        "\n",
        "\n",
        "plt.plot([0, 0], [-5, 5], 'k--')\n",
        "plt.plot([-5, 5], [0, 0], 'k--')\n",
        "plt.plot(z, leaky_relu(z), \"b-\", linewidth=2, label='Activation')\n",
        "plt.plot(z, leaky_relu_gradient(z), \"g-\", linewidth=2, label='Derivative')\n",
        "plt.legend()\n",
        "plt.grid(True)\n",
        "plt.title(\"Leaky ReLU (α=0.1) Activation & Derivative\", fontsize=14)\n",
        "plt.axis([-5,5, -0.5, 3])\n",
        "plt.xlabel('WX+b')\n",
        "plt.ylabel('Activation & Derivative')\n",
        "plt.show()"
      ],
      "execution_count": null,
      "outputs": []
    },
    {
      "cell_type": "code",
      "metadata": {
        "id": "uyeeCOVFO-TS"
      },
      "source": [
        "# aside: what are the different types of activation functions available in Keras?\n",
        "[m for m in dir(keras.activations) if not m.startswith(\"_\")]"
      ],
      "execution_count": null,
      "outputs": []
    },
    {
      "cell_type": "code",
      "metadata": {
        "id": "4OPT8yu5O-TU"
      },
      "source": [
        "# what are the different \"flavours\" of ReLU available?\n",
        "[m for m in dir(keras.layers) if \"relu\" in m.lower()]"
      ],
      "execution_count": null,
      "outputs": []
    },
    {
      "cell_type": "markdown",
      "metadata": {
        "id": "Ko2-kuiAO-TX"
      },
      "source": [
        "Let's train a neural network on Fashion MNIST using the Leaky ReLU:"
      ]
    },
    {
      "cell_type": "code",
      "metadata": {
        "id": "gODvKSW5O-TY"
      },
      "source": [
        "tf.random.set_seed(42)\n",
        "np.random.seed(42)\n",
        "\n",
        "model = keras.models.Sequential([\n",
        "    keras.layers.Flatten(input_shape=[28, 28]),\n",
        "    keras.layers.Dense(300, kernel_initializer=\"he_normal\"),\n",
        "    keras.layers.LeakyReLU(),\n",
        "    keras.layers.Dense(100, kernel_initializer=\"he_normal\"),\n",
        "    keras.layers.LeakyReLU(),\n",
        "    keras.layers.Dense(10, activation=\"softmax\")\n",
        "])\n",
        "\n",
        "model.summary()"
      ],
      "execution_count": null,
      "outputs": []
    },
    {
      "cell_type": "code",
      "metadata": {
        "id": "JEBKpxgVO-Ta"
      },
      "source": [
        "model.compile(loss=\"sparse_categorical_crossentropy\", optimizer=keras.optimizers.SGD(lr=1e-3), metrics=[\"accuracy\"])"
      ],
      "execution_count": null,
      "outputs": []
    },
    {
      "cell_type": "code",
      "metadata": {
        "id": "lJtYbVHjO-Tc"
      },
      "source": [
        "history = model.fit(X_train, y_train, epochs=10, validation_data=(X_valid, y_valid))"
      ],
      "execution_count": null,
      "outputs": []
    },
    {
      "cell_type": "markdown",
      "metadata": {
        "id": "-MNVupMZO-Tf"
      },
      "source": [
        "Now let's try PReLU:"
      ]
    },
    {
      "cell_type": "code",
      "metadata": {
        "id": "s4_-g4wEO-Tf"
      },
      "source": [
        "# note: we will not necessarily see an improvement here;\n",
        "# this is just demonstrating how to use PReLU\n",
        "\n",
        "tf.random.set_seed(42)\n",
        "np.random.seed(42)\n",
        "\n",
        "model = keras.models.Sequential([\n",
        "    keras.layers.Flatten(input_shape=[28, 28]),\n",
        "    keras.layers.Dense(300, kernel_initializer=\"he_normal\"),\n",
        "    keras.layers.PReLU(),\n",
        "    keras.layers.Dense(100, kernel_initializer=\"he_normal\"),\n",
        "    keras.layers.PReLU(),\n",
        "    keras.layers.Dense(10, activation=\"softmax\")\n",
        "])\n",
        "\n",
        "model.summary()"
      ],
      "execution_count": null,
      "outputs": []
    },
    {
      "cell_type": "code",
      "metadata": {
        "id": "79dp_LEKO-Tj"
      },
      "source": [
        "model.compile(loss=\"sparse_categorical_crossentropy\", optimizer=keras.optimizers.SGD(lr=1e-3), metrics=[\"accuracy\"])"
      ],
      "execution_count": null,
      "outputs": []
    },
    {
      "cell_type": "code",
      "metadata": {
        "id": "OgRCo0iJO-Tm"
      },
      "source": [
        "history = model.fit(X_train, y_train, epochs=10, validation_data=(X_valid, y_valid))"
      ],
      "execution_count": null,
      "outputs": []
    },
    {
      "cell_type": "markdown",
      "metadata": {
        "id": "PXH_IZhjO-To"
      },
      "source": [
        "### ELU"
      ]
    },
    {
      "cell_type": "markdown",
      "metadata": {
        "id": "m9Ith3AEl9rF"
      },
      "source": [
        "Soon after the ReLU was proposed, a 2015 paper by *Djork-Arné Clevert et al*. proposed a new activation function called the **exponential linear unit (ELU)** that outperformed all the ReLU variants in their experiments; training time was reduced and the neural network performed better on the test set.\n",
        "\n",
        "$$f(z) = \\left \\{\t\\begin{array}{rcl}\t\\alpha (exp(z) - 1) & \\mbox{for} & z \\le 0\\\\ z & \\mbox{for} & z > 0\\end{array} \\right.$$\n",
        "\n",
        "We have plotted the function as well as it's derivative below:"
      ]
    },
    {
      "cell_type": "code",
      "metadata": {
        "id": "VHn1k58cl9rG"
      },
      "source": [
        "# Plot the sigmoid function\n",
        "z = np.linspace(-5, 5, 200)\n",
        "\n",
        "# high alpha for visualization purposes\n",
        "def elu(z, alpha=1):\n",
        "    return np.where(z < 0, alpha*(np.exp(z)-1),z)\n",
        "\n",
        "def elu_gradient(z, alpha=1):\n",
        "    return np.where(z < 0, alpha*np.exp(z),1)\n",
        "\n",
        "plt.plot([0, 0], [-5, 5], 'k--')\n",
        "plt.plot([-5, 5], [0, 0], 'k--')\n",
        "plt.plot(z, elu(z), \"b-\", linewidth=2, label='Activation')\n",
        "plt.plot(z, elu_gradient(z), \"g-\", linewidth=2, label='Derivative')\n",
        "plt.legend()\n",
        "plt.grid(True)\n",
        "plt.title(\"ELU (α=1) Activation & Derivative\", fontsize=14)\n",
        "plt.axis([-5,5, -2, 3])\n",
        "plt.xlabel('WX+b')\n",
        "plt.ylabel('Activation & Derivative')\n",
        "plt.show()"
      ],
      "execution_count": null,
      "outputs": []
    },
    {
      "cell_type": "markdown",
      "metadata": {
        "id": "GwTRWZ4JO-Ts"
      },
      "source": [
        "The ELU activation function looks a lot like the ReLU function, with a few major differences:\n",
        "- The hyperparameter α defines **the value that the ELU function approaches when z is a large negative number**. It is usually set to 1.\n",
        "- If α is equal to 1 then the function is **smooth everywhere**, including around z = 0, which helps speed up Gradient Descent since it **does not bounce as much to the left and right of z = 0.**\n",
        "- It takes on negative values when z < 0, which allows the unit to have an **average output closer to 0 and helps alleviate the vanishing gradients problem**.\n",
        "- Furterhmore, it has a **nonzero gradient for z < 0**, which avoids the dead neurons problem.\n",
        "\n",
        "The main drawback of the ELU activation function is that it is slower to compute than the ReLU function and its variants (due to the use of the exponential function).\n",
        "- Its faster convergence rate during training compensates for that slow computation, but still, **at test time an ELU network will be slower than a ReLU network.**\n",
        "\n",
        "Implementing ELU in TensorFlow is trivial, just specify the activation function when building each layer:"
      ]
    },
    {
      "cell_type": "code",
      "metadata": {
        "id": "1T9AQHFNO-Ts"
      },
      "source": [
        "keras.layers.Dense(10, activation=\"elu\")"
      ],
      "execution_count": null,
      "outputs": []
    },
    {
      "cell_type": "code",
      "metadata": {
        "id": "mmOKb8ZKO-Tv"
      },
      "source": [
        "# ?keras.layers.ELU"
      ],
      "execution_count": null,
      "outputs": []
    },
    {
      "cell_type": "markdown",
      "metadata": {
        "id": "PJ1rjTl6O-Tx"
      },
      "source": [
        "### SELU"
      ]
    },
    {
      "cell_type": "markdown",
      "metadata": {
        "id": "4Pz_K4RpO-Tx"
      },
      "source": [
        "This activation function was proposed in this [great paper](https://arxiv.org/pdf/1706.02515.pdf) by Günter Klambauer, Thomas Unterthiner and Andreas Mayr, published in June 2017:\n",
        "\n",
        "During training, a neural network composed exclusively of a stack of dense layers using the SELU activation function and LeCun initialization will **self-normalize**:\n",
        "- The output of each layer will tend to **preserve the same mean and variance during training**, which solves the vanishing/exploding gradients problem.\n",
        "- As a result, this activation function outperforms the other activation functions very significantly for such neural nets, so you should really try it out.\n",
        "\n",
        "Unfortunately, the self-normalizing property of the SELU activation function is easily broken:\n",
        "- **You cannot use ℓ<sub>1</sub> or ℓ<sub>2</sub> regularization, regular dropout, max-norm, skip connections or other non-sequential topologies (so recurrent neural networks won't self-normalize).**\n",
        "- However, in practice it works quite well with sequential CNNs."
      ]
    },
    {
      "cell_type": "code",
      "metadata": {
        "id": "xAUwU41wO-Tx"
      },
      "source": [
        "from scipy.special import erfc\n",
        "\n",
        "# alpha and scale to self normalize with mean 0 and standard deviation 1\n",
        "# (see equation 14 in the paper):\n",
        "alpha_0_1 = -np.sqrt(2 / np.pi) / (erfc(1/np.sqrt(2)) * np.exp(1/2) - 1)\n",
        "scale_0_1 = (1 - erfc(1 / np.sqrt(2)) * np.sqrt(np.e)) * np.sqrt(2 * np.pi) * (2 * erfc(np.sqrt(2))*np.e**2 + np.pi*erfc(1/np.sqrt(2))**2*np.e - 2*(2+np.pi)*erfc(1/np.sqrt(2))*np.sqrt(np.e)+np.pi+2)**(-1/2)"
      ],
      "execution_count": null,
      "outputs": []
    },
    {
      "cell_type": "code",
      "metadata": {
        "id": "M3UfTmNjO-Tz"
      },
      "source": [
        "def selu(z, scale=scale_0_1, alpha=alpha_0_1):\n",
        "    return scale * elu(z, alpha)"
      ],
      "execution_count": null,
      "outputs": []
    },
    {
      "cell_type": "code",
      "metadata": {
        "id": "UrmW3tT8O-T2"
      },
      "source": [
        "plt.plot(z, selu(z), \"b-\", linewidth=2)\n",
        "plt.plot([-5, 5], [0, 0], 'k-')\n",
        "plt.plot([-5, 5], [-1.758, -1.758], 'k--')\n",
        "plt.plot([0, 0], [-2.2, 3.2], 'k-')\n",
        "plt.grid(True)\n",
        "plt.title(\"SELU activation function\", fontsize=14)\n",
        "plt.axis([-5, 5, -2.2, 3.2])\n",
        "plt.show()"
      ],
      "execution_count": null,
      "outputs": []
    },
    {
      "cell_type": "markdown",
      "metadata": {
        "id": "5Ta3F9eAO-T5"
      },
      "source": [
        "By default, the SELU hyperparameters (`scale` and `alpha`) are tuned in such a way that the mean output of each neuron remains close to 0, and the standard deviation remains close to 1 (assuming the inputs are standardized with mean 0 and standard deviation 1 too). Using this activation function, even a 1,000 layer deep neural network preserves roughly mean 0 and standard deviation 1 across all layers, avoiding the exploding/vanishing gradients problem:"
      ]
    },
    {
      "cell_type": "code",
      "metadata": {
        "id": "w1WH7_JaO-T5"
      },
      "source": [
        "np.random.seed(42)\n",
        "Z = np.random.normal(size=(500, 100)) # standardized inputs\n",
        "for layer in range(1000):\n",
        "    W = np.random.normal(size=(100, 100), scale=np.sqrt(1 / 100)) # LeCun initialization\n",
        "    Z = selu(np.dot(Z, W))\n",
        "    if layer % 100 == 0:\n",
        "        means = np.mean(Z, axis=0).mean()\n",
        "        stds = np.std(Z, axis=0).mean()\n",
        "        print(\"Layer {}: mean {:.2f}, std deviation {:.2f}\".format(layer, means, stds))"
      ],
      "execution_count": null,
      "outputs": []
    },
    {
      "cell_type": "markdown",
      "metadata": {
        "id": "F9cXDnOsO-T9"
      },
      "source": [
        "Using SELU is easy:"
      ]
    },
    {
      "cell_type": "code",
      "metadata": {
        "id": "OGOKFRdiO-T9"
      },
      "source": [
        "keras.layers.Dense(10, activation=\"selu\",\n",
        "                   kernel_initializer=\"lecun_normal\")"
      ],
      "execution_count": null,
      "outputs": []
    },
    {
      "cell_type": "markdown",
      "metadata": {
        "id": "OSDDc7qCO-UB"
      },
      "source": [
        "Let's create a neural net for Fashion MNIST with 100 hidden layers, using the SELU activation function:"
      ]
    },
    {
      "cell_type": "code",
      "metadata": {
        "id": "WoPX2tMqO-UD"
      },
      "source": [
        "np.random.seed(42)\n",
        "tf.random.set_seed(42)"
      ],
      "execution_count": null,
      "outputs": []
    },
    {
      "cell_type": "code",
      "metadata": {
        "id": "WXboYYwlO-UF",
        "colab": {
          "base_uri": "https://localhost:8080/"
        },
        "outputId": "5aad26bd-4923-4523-c39e-78c441b971a4"
      },
      "source": [
        "model = keras.models.Sequential()\n",
        "model.add(keras.layers.Flatten(input_shape=[28, 28]))\n",
        "model.add(keras.layers.Dense(300, activation=\"selu\",\n",
        "                             kernel_initializer=\"lecun_normal\"))\n",
        "for layer in range(99):\n",
        "    model.add(keras.layers.Dense(100, activation=\"selu\",\n",
        "                                 kernel_initializer=\"lecun_normal\"))\n",
        "model.add(keras.layers.Dense(10, activation=\"softmax\"))"
      ],
      "execution_count": 10,
      "outputs": [
        {
          "output_type": "stream",
          "name": "stderr",
          "text": [
            "/usr/local/lib/python3.12/dist-packages/keras/src/layers/reshaping/flatten.py:37: UserWarning: Do not pass an `input_shape`/`input_dim` argument to a layer. When using Sequential models, prefer using an `Input(shape)` object as the first layer in the model instead.\n",
            "  super().__init__(**kwargs)\n"
          ]
        }
      ]
    },
    {
      "cell_type": "code",
      "metadata": {
        "id": "gfkCoLUyO-UH",
        "colab": {
          "base_uri": "https://localhost:8080/",
          "height": 351
        },
        "outputId": "0e90c21f-cd7b-4ade-c94b-5651ef3dce13"
      },
      "source": [
        "model.compile(loss=\"sparse_categorical_crossentropy\",\n",
        "              optimizer=keras.optimizers.SGD(lr=1e-3),\n",
        "              metrics=[\"accuracy\"])"
      ],
      "execution_count": 11,
      "outputs": [
        {
          "output_type": "error",
          "ename": "ValueError",
          "evalue": "Argument(s) not recognized: {'lr': 0.001}",
          "traceback": [
            "\u001b[0;31m---------------------------------------------------------------------------\u001b[0m",
            "\u001b[0;31mValueError\u001b[0m                                Traceback (most recent call last)",
            "\u001b[0;32m/tmp/ipython-input-1938397096.py\u001b[0m in \u001b[0;36m<cell line: 0>\u001b[0;34m()\u001b[0m\n\u001b[1;32m      1\u001b[0m model.compile(loss=\"sparse_categorical_crossentropy\",\n\u001b[0;32m----> 2\u001b[0;31m               \u001b[0moptimizer\u001b[0m\u001b[0;34m=\u001b[0m\u001b[0mkeras\u001b[0m\u001b[0;34m.\u001b[0m\u001b[0moptimizers\u001b[0m\u001b[0;34m.\u001b[0m\u001b[0mSGD\u001b[0m\u001b[0;34m(\u001b[0m\u001b[0mlr\u001b[0m\u001b[0;34m=\u001b[0m\u001b[0;36m1e-3\u001b[0m\u001b[0;34m)\u001b[0m\u001b[0;34m,\u001b[0m\u001b[0;34m\u001b[0m\u001b[0;34m\u001b[0m\u001b[0m\n\u001b[0m\u001b[1;32m      3\u001b[0m               metrics=[\"accuracy\"])\n",
            "\u001b[0;32m/usr/local/lib/python3.12/dist-packages/keras/src/optimizers/sgd.py\u001b[0m in \u001b[0;36m__init__\u001b[0;34m(self, learning_rate, momentum, nesterov, weight_decay, clipnorm, clipvalue, global_clipnorm, use_ema, ema_momentum, ema_overwrite_frequency, loss_scale_factor, gradient_accumulation_steps, name, **kwargs)\u001b[0m\n\u001b[1;32m     58\u001b[0m         \u001b[0;34m**\u001b[0m\u001b[0mkwargs\u001b[0m\u001b[0;34m,\u001b[0m\u001b[0;34m\u001b[0m\u001b[0;34m\u001b[0m\u001b[0m\n\u001b[1;32m     59\u001b[0m     ):\n\u001b[0;32m---> 60\u001b[0;31m         super().__init__(\n\u001b[0m\u001b[1;32m     61\u001b[0m             \u001b[0mlearning_rate\u001b[0m\u001b[0;34m=\u001b[0m\u001b[0mlearning_rate\u001b[0m\u001b[0;34m,\u001b[0m\u001b[0;34m\u001b[0m\u001b[0;34m\u001b[0m\u001b[0m\n\u001b[1;32m     62\u001b[0m             \u001b[0mname\u001b[0m\u001b[0;34m=\u001b[0m\u001b[0mname\u001b[0m\u001b[0;34m,\u001b[0m\u001b[0;34m\u001b[0m\u001b[0;34m\u001b[0m\u001b[0m\n",
            "\u001b[0;32m/usr/local/lib/python3.12/dist-packages/keras/src/backend/tensorflow/optimizer.py\u001b[0m in \u001b[0;36m__init__\u001b[0;34m(self, *args, **kwargs)\u001b[0m\n\u001b[1;32m     19\u001b[0m \u001b[0;32mclass\u001b[0m \u001b[0mTFOptimizer\u001b[0m\u001b[0;34m(\u001b[0m\u001b[0mKerasAutoTrackable\u001b[0m\u001b[0;34m,\u001b[0m \u001b[0mbase_optimizer\u001b[0m\u001b[0;34m.\u001b[0m\u001b[0mBaseOptimizer\u001b[0m\u001b[0;34m)\u001b[0m\u001b[0;34m:\u001b[0m\u001b[0;34m\u001b[0m\u001b[0;34m\u001b[0m\u001b[0m\n\u001b[1;32m     20\u001b[0m     \u001b[0;32mdef\u001b[0m \u001b[0m__init__\u001b[0m\u001b[0;34m(\u001b[0m\u001b[0mself\u001b[0m\u001b[0;34m,\u001b[0m \u001b[0;34m*\u001b[0m\u001b[0margs\u001b[0m\u001b[0;34m,\u001b[0m \u001b[0;34m**\u001b[0m\u001b[0mkwargs\u001b[0m\u001b[0;34m)\u001b[0m\u001b[0;34m:\u001b[0m\u001b[0;34m\u001b[0m\u001b[0;34m\u001b[0m\u001b[0m\n\u001b[0;32m---> 21\u001b[0;31m         \u001b[0msuper\u001b[0m\u001b[0;34m(\u001b[0m\u001b[0;34m)\u001b[0m\u001b[0;34m.\u001b[0m\u001b[0m__init__\u001b[0m\u001b[0;34m(\u001b[0m\u001b[0;34m*\u001b[0m\u001b[0margs\u001b[0m\u001b[0;34m,\u001b[0m \u001b[0;34m**\u001b[0m\u001b[0mkwargs\u001b[0m\u001b[0;34m)\u001b[0m\u001b[0;34m\u001b[0m\u001b[0;34m\u001b[0m\u001b[0m\n\u001b[0m\u001b[1;32m     22\u001b[0m         \u001b[0mself\u001b[0m\u001b[0;34m.\u001b[0m\u001b[0m_distribution_strategy\u001b[0m \u001b[0;34m=\u001b[0m \u001b[0mtf\u001b[0m\u001b[0;34m.\u001b[0m\u001b[0mdistribute\u001b[0m\u001b[0;34m.\u001b[0m\u001b[0mget_strategy\u001b[0m\u001b[0;34m(\u001b[0m\u001b[0;34m)\u001b[0m\u001b[0;34m\u001b[0m\u001b[0;34m\u001b[0m\u001b[0m\n\u001b[1;32m     23\u001b[0m \u001b[0;34m\u001b[0m\u001b[0m\n",
            "\u001b[0;32m/usr/local/lib/python3.12/dist-packages/keras/src/optimizers/base_optimizer.py\u001b[0m in \u001b[0;36m__init__\u001b[0;34m(self, learning_rate, weight_decay, clipnorm, clipvalue, global_clipnorm, use_ema, ema_momentum, ema_overwrite_frequency, loss_scale_factor, gradient_accumulation_steps, name, **kwargs)\u001b[0m\n\u001b[1;32m     88\u001b[0m             )\n\u001b[1;32m     89\u001b[0m         \u001b[0;32mif\u001b[0m \u001b[0mkwargs\u001b[0m\u001b[0;34m:\u001b[0m\u001b[0;34m\u001b[0m\u001b[0;34m\u001b[0m\u001b[0m\n\u001b[0;32m---> 90\u001b[0;31m             \u001b[0;32mraise\u001b[0m \u001b[0mValueError\u001b[0m\u001b[0;34m(\u001b[0m\u001b[0;34mf\"Argument(s) not recognized: {kwargs}\"\u001b[0m\u001b[0;34m)\u001b[0m\u001b[0;34m\u001b[0m\u001b[0;34m\u001b[0m\u001b[0m\n\u001b[0m\u001b[1;32m     91\u001b[0m \u001b[0;34m\u001b[0m\u001b[0m\n\u001b[1;32m     92\u001b[0m         \u001b[0;32mif\u001b[0m \u001b[0mname\u001b[0m \u001b[0;32mis\u001b[0m \u001b[0;32mNone\u001b[0m\u001b[0;34m:\u001b[0m\u001b[0;34m\u001b[0m\u001b[0;34m\u001b[0m\u001b[0m\n",
            "\u001b[0;31mValueError\u001b[0m: Argument(s) not recognized: {'lr': 0.001}"
          ]
        }
      ]
    },
    {
      "cell_type": "markdown",
      "metadata": {
        "id": "qOSzTzyKO-UJ"
      },
      "source": [
        "Now let's train it. Do not forget to scale the inputs to mean 0 and standard deviation 1:"
      ]
    },
    {
      "cell_type": "code",
      "metadata": {
        "id": "QpIydoFBO-UJ"
      },
      "source": [
        "pixel_means = X_train.mean(axis=0, keepdims=True)\n",
        "pixel_stds = X_train.std(axis=0, keepdims=True)\n",
        "X_train_scaled = (X_train - pixel_means) / pixel_stds\n",
        "X_valid_scaled = (X_valid - pixel_means) / pixel_stds\n",
        "X_test_scaled = (X_test - pixel_means) / pixel_stds"
      ],
      "execution_count": null,
      "outputs": []
    },
    {
      "cell_type": "code",
      "metadata": {
        "id": "KG2rrxdvO-UM"
      },
      "source": [
        "history = model.fit(X_train_scaled, y_train, epochs=5,\n",
        "                    validation_data=(X_valid_scaled, y_valid))"
      ],
      "execution_count": null,
      "outputs": []
    },
    {
      "cell_type": "markdown",
      "metadata": {
        "id": "OC3OnT9oO-UR"
      },
      "source": [
        "Now look at what happens if we try to use the ReLU activation function instead:"
      ]
    },
    {
      "cell_type": "code",
      "metadata": {
        "id": "Gi-UkaOEO-UR"
      },
      "source": [
        "np.random.seed(42)\n",
        "tf.random.set_seed(42)"
      ],
      "execution_count": null,
      "outputs": []
    },
    {
      "cell_type": "code",
      "metadata": {
        "id": "uMmRVUyeO-UU"
      },
      "source": [
        "model = keras.models.Sequential()\n",
        "model.add(keras.layers.Flatten(input_shape=[28, 28]))\n",
        "model.add(keras.layers.Dense(300, activation=\"relu\", kernel_initializer=\"he_normal\"))\n",
        "for layer in range(99):\n",
        "    model.add(keras.layers.Dense(100, activation=\"relu\", kernel_initializer=\"he_normal\"))\n",
        "model.add(keras.layers.Dense(10, activation=\"softmax\"))"
      ],
      "execution_count": null,
      "outputs": []
    },
    {
      "cell_type": "code",
      "metadata": {
        "id": "2gk-NGHaO-UX"
      },
      "source": [
        "model.compile(loss=\"sparse_categorical_crossentropy\",\n",
        "              optimizer=keras.optimizers.SGD(lr=1e-3),\n",
        "              metrics=[\"accuracy\"])"
      ],
      "execution_count": null,
      "outputs": []
    },
    {
      "cell_type": "code",
      "metadata": {
        "id": "7vxZisAcO-UZ"
      },
      "source": [
        "history = model.fit(X_train_scaled, y_train, epochs=5,\n",
        "                    validation_data=(X_valid_scaled, y_valid))"
      ],
      "execution_count": null,
      "outputs": []
    },
    {
      "cell_type": "markdown",
      "metadata": {
        "id": "zjpuXqA_O-Ub"
      },
      "source": [
        "Not great at all, we suffered from the vanishing/exploding gradients problem."
      ]
    },
    {
      "cell_type": "markdown",
      "metadata": {
        "id": "KhjbnJCFdJlJ"
      },
      "source": [
        "### Choosing an Activation Function"
      ]
    },
    {
      "cell_type": "markdown",
      "metadata": {
        "id": "FFm1dbmbO-Uc"
      },
      "source": [
        "\n",
        "\n",
        "So, which activation functions should you use for the **hidden layers** of your deep neural network? The short answer is: it will usually vary from dataset to dataset and the type of architecture you choose. **However, this trend generally holds:**\n",
        "\n",
        "- ELU > leaky ReLU > ReLU > tanh > sigmoid\n",
        "- If you don’t want to tweak yet another hyperparameter, you may just use the default α values suggested earlier **(0.01 for the leaky ReLU, and 1 for ELU)**.\n",
        "\n",
        "**NOTE:** Because ReLU is the most used activation function (by far), many libraries and hardware accelerators provide ReLU-specific optimizations; therefore, if speed is your priority, ReLU might still be the best choice.\n",
        "\n",
        "For more information, here is a great post of 6 common activation functions: https://mlfromscratch.com/activation-functions-explained/#/\n"
      ]
    },
    {
      "cell_type": "markdown",
      "metadata": {
        "id": "gXQrHqA8l9rK"
      },
      "source": [
        "### Exercise: `he_init` and `elu`\n",
        "Let's try and put the `elu` function to the test and see how it compares to our results above. Start with He initialization, but feel free to try out other combinations to get the best accuracy within 10 epochs. Leverage the exisiting `simple_model` function to perform your tests. You can also try out the `layer1_gradients` function using the `elu` activtion to see how it affects L1 gradients *(make sure to load a smaller dataset with this function, as it will take too long with the full MNSIT dataset).*\n",
        "\n",
        "Optional: Try to do the same for `SELU` activation function as well"
      ]
    },
    {
      "cell_type": "code",
      "metadata": {
        "id": "jYCxScKXKS8v"
      },
      "source": [
        "#your work here"
      ],
      "execution_count": null,
      "outputs": []
    },
    {
      "cell_type": "code",
      "metadata": {
        "id": "kIqZ_RTpKS8x"
      },
      "source": [
        "#your work here"
      ],
      "execution_count": null,
      "outputs": []
    },
    {
      "cell_type": "code",
      "metadata": {
        "id": "HS2w1fG7KS8z"
      },
      "source": [
        "#extra workspace if needed"
      ],
      "execution_count": null,
      "outputs": []
    },
    {
      "cell_type": "code",
      "metadata": {
        "id": "EKfY3EwuPtIW"
      },
      "source": [],
      "execution_count": null,
      "outputs": []
    },
    {
      "cell_type": "markdown",
      "metadata": {
        "id": "M056yNI6l9rQ"
      },
      "source": [
        "#### Solution"
      ]
    },
    {
      "cell_type": "code",
      "metadata": {
        "id": "4dJMtVcEl9rQ"
      },
      "source": [
        "# Set params\n",
        "activate = 'elu'\n",
        "init = tf.keras.initializers.he_uniform()\n",
        "\n",
        "# Run model\n",
        "optimizer = tf.keras.optimizers.SGD(0.01)\n",
        "model_he_elu = simple_model(init, activate)\n",
        "model_he_elu.compile(optimizer=optimizer, loss='sparse_categorical_crossentropy', metrics=['accuracy'])\n",
        "model_he_elu.fit(X_train, y_train, epochs=10, batch_size=3200, validation_data=(X_test, y_test))"
      ],
      "execution_count": null,
      "outputs": []
    },
    {
      "cell_type": "code",
      "metadata": {
        "id": "TLsbb-qGl9rS"
      },
      "source": [
        "for model in [model_ze, model_rn, model_xa, model_he, model_he_elu]:\n",
        "    init = model.get_config()['layers'][2]['config']['kernel_initializer']['class_name']\n",
        "    act = model.get_config()['layers'][2]['config']['activation']\n",
        "    plt.plot(model.history.history['val_accuracy'], label = init+\"_\"+act)\n",
        "\n",
        "plt.legend()\n",
        "plt.xlabel('Epoch')\n",
        "plt.ylabel('Validation Accuracy')\n",
        "plt.show()"
      ],
      "execution_count": null,
      "outputs": []
    },
    {
      "cell_type": "markdown",
      "metadata": {
        "id": "2iuRCPWFl9rU"
      },
      "source": [
        "It looks like, when using He initialization (VarianceScaling), the `elu` activation function produces better results! Again, **the combination will always vary based on the dataset you are running your model on**, so there is no hard and fast rule for choosing the right initialization and activation parameters. The only option is to experiment!"
      ]
    },
    {
      "cell_type": "markdown",
      "metadata": {
        "id": "mRWbM2SIdJlK"
      },
      "source": [
        "## Batch Normalization\n"
      ]
    },
    {
      "cell_type": "markdown",
      "metadata": {
        "id": "jO32sT-PO-Uc"
      },
      "source": [
        "\n",
        "While using He Initialization along with ELU can reduce vanishing/exploding gradient issues at the beginning of training, **it doesn't guarantee that these won't come back at a later point in the training process.**\n",
        "\n",
        "This is largely because as the training process progresses from epoch to epoch, the **distribution of each layer's inputs can change significantly as the parameters of the previous layers change (this is called [the internal covariate shift problem](https://arxiv.org/pdf/1805.11604.pdf)**). To address this issue, researches came up with a technique called **Batch Normalization:**\n",
        "\n",
        "Batch normalization layers are added in the model just before (or after) the activation function of each layer. The operation consists of two main steps:\n",
        " 1. **Zero-centering the inputs:**\n",
        "     - In order to zero-center and normalize the inputs **the algorithm needs to estimate the mean and standard deviation of the inputs.**\n",
        "     - It does so by evaluating the **mean** and **standard deviation** of the inputs over the **current mini-batch** (hence the name “Batch Normalization”).\n",
        " 2. **Scaling and shifting:**\n",
        "     - The zero-centered inputs are then **scaled** and **shifted** using two new **learnable** parameters per layer (one for scaling and one for shifting).\n",
        "     - In other words, batch normalization lets the model learn the **optimal scale and mean of the inputs for each layer**.\n",
        "\n",
        "Mathematically these steps can be broken down as follows:\n",
        "\n",
        "<div style=\"text-align:justify;font-size:150%\"> 1. Calculate Mean:  $\\mu_B=\\frac{1}{m_B} \\sum\\limits_{i=1}^{m_B}X^i$ </div>\n",
        "<div style=\"text-align:justify;font-size:150%\"> 2. Calculate StDev:   $\\sigma_B^2=\\frac{1}{m_B} \\sum\\limits_{i=1}^{m_B}(X^i-\\mu_B)^2$ </div>\n",
        "<div style=\"text-align:justify;font-size:150%\"> 3. Zero Centre:     $X^i=\\frac{X^i-\\mu_B}{\\sqrt{\\sigma_B^2 + \\epsilon}}$ </div>\n",
        "<div style=\"text-align:justify;font-size:150%\"> 4. Scale & Shift: $Z^i=\\gamma \\otimes X^i + \\beta$ </div>\n",
        "<br>\n",
        "\n",
        "\n",
        "Where:\n",
        "- $\\mu_B$ is the empirical mean, evaluated over the entire mini-batch\n",
        "- $\\sigma_B$ is the empirical standard deviation, also evaluated over the entire mini-batch\n",
        "- $m_B$ is the number of instances in the mini-batch\n",
        "- $X^i$ is the **zero-centred and normalized** input\n",
        "- $\\gamma$ is the  **trainable** scaling paremeter for the layer\n",
        "- $\\beta$ is the **trainable** shifting parameter (offset) for the layer.\n",
        "- $\\epsilon$ is a tiny number to avoid division by zero (typically $10^{-3}$). This is called a *smoothing term.*\n",
        "- $Z^i$ is the output of the batch norm operation: **a scaled and shifted version of the inputs**\n",
        "\n",
        "If this process looks familiar, because we are simply performing a standard scaling operation that we typically perform on our input data **(plus the scaling and shifting component)**.\n",
        "- We are taking the standard scaling methods we would normally apply to our raw data, and applying it to the inputs at each layer!"
      ]
    },
    {
      "cell_type": "markdown",
      "metadata": {
        "id": "NCobeKfbO-Uc"
      },
      "source": [
        "**Training vs Testing**\n",
        "\n",
        "So during training, BN standardizes its inputs, then rescales and offsets them. During training, things get a little more complicated:\n",
        "- There is no mini batch to compute the empirical mean and standard deviation during testing\n",
        "- Once solution is to simply use the **whole training set's mean and standard deviation**. That makes sense, as **you want to scale and shift the testing data the exact same way you scale and shift the training data.**\n",
        "\n",
        "However, most implementations of Batch Normalization estimate these final statistics (mean and standard deviation) **during training** by using a moving average. This is what Keras does automatically when you use the BatchNormalization layer.\n",
        "\n",
        "To sum up, four parameter vectors are learned in each batch-normalized layer:\n",
        "- Trainable params (are learned through regular backpropagation):\n",
        "    - γ (the output scale vector)\n",
        "    - β (the output offset vector)\n",
        "- Non-trainable params (estimated using an exponential moving average):\n",
        "    - μ (the final input mean vector)\n",
        "    - σ (the final input standard deviation vector)\n",
        "\n",
        "**NOTE:** μ and σ are estimated during training, but they are **used only after training** (to replace the batch input means and standard deviations in the equations above ).\n",
        "\n",
        "**Advantages of BatchNormalization:**\n",
        "\n",
        "Ioffe and Szegedy demonstrated that Batch Normalization considerably improved all the deep neural networks they experimented with:\n",
        "- Huge **improvement in the ImageNet** classification task (ImageNet is a large database of images classified into many classes, commonly used to evaluate computer vision systems).\n",
        "- The **vanishing gradients problem was strongly reduced**, to the point that they could use saturating activation functions such as the tanh and even the logistic activation function.\n",
        "- Networks were also much **less sensitive to the weight initialization**.\n",
        "- The authors were able to use much **larger learning rates**, significantly speeding up the learning process.\n",
        "    - Applied to a state-of-the-art image classification model, Batch Normalization achieves the same accuracy with **14 times fewer training steps**, and beats the original model by a significant margin.\n",
        "- Batch Normalization also acts like a regularizer, **reducing the need for other regularization techniques (such as dropout, described later)**.\n",
        "\n",
        "**Disadvantages of BatchNormalization:**\n",
        "\n",
        "- Batch Normalization does add some complexity to the model (although it can remove the need for normalizing the input data).\n",
        "- There is a runtime penalty: the neural network makes **slower predictions due to the extra computations required at each layer**.\n",
        "    - Fortunately, it’s often possible to **fuse the BN layer with the previous layer, after training, thereby avoiding the runtime penalty**.\n",
        "    - This is done by updating the previous layer’s weights and biases so that it directly produces outputs of the appropriate scale and offset.\n"
      ]
    },
    {
      "cell_type": "markdown",
      "metadata": {
        "id": "9kdwh9vSdJlK"
      },
      "source": [
        "### Implementing Batch Normalization with Keras\n"
      ]
    },
    {
      "cell_type": "markdown",
      "metadata": {
        "id": "vT1WvCiWO-Ud"
      },
      "source": [
        "As with most things with Keras, implementing Batch Normalization is simple and intuitive:\n",
        "- Just add a BatchNormalization layer **before or after each hidden layer’s activation function**.\n",
        "- You can also **add a BN layer as the first layer in your model** so there is no need to scale your inputs."
      ]
    },
    {
      "cell_type": "code",
      "metadata": {
        "id": "pWYShRSTO-Ue"
      },
      "source": [
        "# Add batchnorm AFTER activtion function (after each layer)\n",
        "model = keras.models.Sequential([\n",
        "    keras.layers.Flatten(input_shape=[28, 28]),\n",
        "    keras.layers.BatchNormalization(),\n",
        "    keras.layers.Dense(300, activation=\"relu\"),\n",
        "    keras.layers.BatchNormalization(),\n",
        "    keras.layers.Dense(100, activation=\"relu\"),\n",
        "    keras.layers.BatchNormalization(),\n",
        "    keras.layers.Dense(10, activation=\"softmax\")\n",
        "])"
      ],
      "execution_count": null,
      "outputs": []
    },
    {
      "cell_type": "code",
      "metadata": {
        "id": "AJ1gidWsO-Ug"
      },
      "source": [
        "model.summary()"
      ],
      "execution_count": null,
      "outputs": []
    },
    {
      "cell_type": "markdown",
      "metadata": {
        "id": "1-SkKgQzO-Uh"
      },
      "source": [
        "As you can see, each BN layer adds four parameters per input: γ , β , μ , and σ:\n",
        "- The first BN layer adds 3,136 parameters, which is **4 × 784**\n",
        "- The last two parameters, μ and σ , are the moving averages; they are **not affected by backpropagation, so Keras calls them “non-trainable”**"
      ]
    },
    {
      "cell_type": "code",
      "metadata": {
        "id": "dBnDmd8FO-Ui"
      },
      "source": [
        "(784*4 + 300*4 + 100*4)/2"
      ],
      "execution_count": null,
      "outputs": []
    },
    {
      "cell_type": "markdown",
      "metadata": {
        "id": "icEF95-VO-Uk"
      },
      "source": [
        "Let’s look at the parameters of the first BN layer. Two are trainable (by backpropagation), and two are not:\n"
      ]
    },
    {
      "cell_type": "code",
      "metadata": {
        "id": "4gg1OLwjO-Uk"
      },
      "source": [
        "bn1 = model.layers[1]\n",
        "len(bn1.variables)"
      ],
      "execution_count": null,
      "outputs": []
    },
    {
      "cell_type": "code",
      "metadata": {
        "id": "DRfDXgnmO-Um"
      },
      "source": [
        "[(var.name, var.trainable) for var in bn1.variables]"
      ],
      "execution_count": null,
      "outputs": []
    },
    {
      "cell_type": "code",
      "metadata": {
        "id": "khUQObFXO-Uq"
      },
      "source": [
        "model.compile(loss=\"sparse_categorical_crossentropy\",\n",
        "              optimizer=keras.optimizers.SGD(lr=1e-3),\n",
        "              metrics=[\"accuracy\"])"
      ],
      "execution_count": null,
      "outputs": []
    },
    {
      "cell_type": "code",
      "metadata": {
        "id": "Kqh02nJcO-Ur"
      },
      "source": [
        "history = model.fit(X_train, y_train, epochs=10,\n",
        "                    validation_data=(X_valid, y_valid))"
      ],
      "execution_count": null,
      "outputs": []
    },
    {
      "cell_type": "markdown",
      "metadata": {
        "id": "FXobMxHzO-Uu"
      },
      "source": [
        "The authors of the BN paper argued in favor of adding the BN layers **before the activation functions, rather than after (as we just did)**:\n",
        "- There is some debate about this, as which is preferable seems to depend on the task you can experiment with this too to see which option works best on your dataset.\n",
        "\n",
        "To add the BN layers before the activation functions, you must **remove the activation function from the hidden layers and add them as separate layers after the BN layers.**\n",
        "\n",
        "Moreover, since a Batch Normalization layer includes **one offset parameter per input**, you can remove the bias term from the previous layer (just pass `use_bias=False` when creating it).\n"
      ]
    },
    {
      "cell_type": "code",
      "metadata": {
        "id": "sfn5f4AkO-Uu"
      },
      "source": [
        "model = keras.models.Sequential([\n",
        "    keras.layers.Flatten(input_shape=[28, 28]),\n",
        "    keras.layers.BatchNormalization(),\n",
        "    keras.layers.Dense(300, use_bias=False), #activtion=None\n",
        "    keras.layers.BatchNormalization(),\n",
        "    keras.layers.Activation(\"relu\"),\n",
        "    keras.layers.Dense(100, use_bias=False), #activtion=None\n",
        "    keras.layers.Activation(\"relu\"),\n",
        "    keras.layers.BatchNormalization(),\n",
        "    keras.layers.Dense(10, activation=\"softmax\")\n",
        "])"
      ],
      "execution_count": null,
      "outputs": []
    },
    {
      "cell_type": "code",
      "metadata": {
        "id": "lMAai_-xO-Uw"
      },
      "source": [
        "model.compile(loss=\"sparse_categorical_crossentropy\",\n",
        "              optimizer=keras.optimizers.SGD(lr=1e-3),\n",
        "              metrics=[\"accuracy\"])"
      ],
      "execution_count": null,
      "outputs": []
    },
    {
      "cell_type": "code",
      "metadata": {
        "id": "T5JghIWVO-Uy"
      },
      "source": [
        "history = model.fit(X_train, y_train, epochs=10,\n",
        "                    validation_data=(X_valid, y_valid))"
      ],
      "execution_count": null,
      "outputs": []
    },
    {
      "cell_type": "markdown",
      "metadata": {
        "id": "mBCRHiUXO-U0"
      },
      "source": [
        "### Turning Batch Normalization Layers"
      ]
    },
    {
      "cell_type": "code",
      "metadata": {
        "id": "avCTX8yWO-U0"
      },
      "source": [
        "# Let's check out the BatchNormalization `init` signature:\n",
        "?keras.layers.BatchNormalization.__init__"
      ],
      "execution_count": null,
      "outputs": []
    },
    {
      "cell_type": "markdown",
      "metadata": {
        "id": "RNS4dFlmO-U2"
      },
      "source": [
        "\n",
        "As you can see, the BatchNormalization class has quite a few hyperparameters you can tweak. While the defaults will generally work fine, there are two you may need to adjust: `momentum` and `axis`.\n",
        "\n",
        "`Momentum`:\n",
        "\n",
        "This hyperparameter is used by the `BatchNormalization` layer when it updates the **exponential moving averages**:\n",
        "- Given a new value $v$ (i.e., a new vector of input means or standard deviations computed over the current batch), the layer updates the running average using the following equation:\n",
        "    - $\\mathbf{\\hat{V}}=\\mathbf{\\hat{V}} \\cdot momentum + \\mathbf{V} \\cdot  (1-momentum)$\n",
        "- A good momentum value is typically close to 1; for example, 0.9, 0.99, or 0.999 (you want more 9s for larger datasets and smaller mini-batches).\n",
        "\n",
        "`Axis`:\n",
        "\n",
        "This hyperparameter determines **which axis should be normalized:**\n",
        "- It defaults to –1, meaning that by default it will **normalize the last axis (using the means and standard deviations computed across the other axes).**\n",
        "- When the input batch is 2D (i.e., the batch shape is [ batch size, features ]), this means that each input feature will be normalized based on the mean and standard deviation computed across all the instances in the batch.\n",
        "- In our model above, if we remove Flatten layer, then the input batches will be 3D, with shape [ batch size, height, width ]; therefore, **the BN layer will compute 28 means and 28 standard deviations** (1 per column of pixels, computed across all instances in the batch and across all rows in the column).\n"
      ]
    },
    {
      "cell_type": "markdown",
      "metadata": {
        "id": "cdh8cbkUO-U2"
      },
      "source": [
        "## Gradient Clipping\n"
      ]
    },
    {
      "cell_type": "markdown",
      "metadata": {
        "id": "G860DffodJlM"
      },
      "source": [
        "\n",
        "We will talk more about the \"exploding gradient problem\" when we discuss Recursive Neural Networks. For now, it suffices to mention that, should you encounter exploding gradients, one popular mitigation technique is to **clip the gradients during backpropagation so that they never exceed some threshold**.\n",
        "- This technique is most often used in **recurrent neural networks**, as Batch Normalization is tricky to use in RNNs.\n",
        "- For other types of networks, **BN is usually sufficient**.\n",
        "\n",
        "In Keras, implementing Gradient Clipping is just a matter of setting the `clipvalue` or `clipnorm` argument when creating an optimizer, like this:"
      ]
    },
    {
      "cell_type": "code",
      "metadata": {
        "id": "iZDYdXV-O-U3"
      },
      "source": [
        "optimizer = keras.optimizers.SGD(clipvalue=1.0)"
      ],
      "execution_count": null,
      "outputs": []
    },
    {
      "cell_type": "code",
      "metadata": {
        "id": "EySt2_g3O-U5"
      },
      "source": [
        "optimizer = keras.optimizers.SGD(clipnorm=1.0)"
      ],
      "execution_count": null,
      "outputs": []
    },
    {
      "cell_type": "markdown",
      "metadata": {
        "id": "015d9_jlO-U6"
      },
      "source": [
        "This optimizer will **clip every component of the gradient vector to a value between –1.0 and 1.0.**\n",
        "- This means that all the partial derivatives of the loss (with regard to each and every trainable parameter) will be clipped between –1.0 and 1.0."
      ]
    },
    {
      "cell_type": "markdown",
      "metadata": {
        "id": "eesX8WbKdJlR"
      },
      "source": [
        "# Faster Optimizers"
      ]
    },
    {
      "cell_type": "markdown",
      "metadata": {
        "id": "_D1cyUFqdJlS"
      },
      "source": [
        "## Oveview"
      ]
    },
    {
      "cell_type": "markdown",
      "metadata": {
        "id": "bhIRuKcQO-Vi"
      },
      "source": [
        "\n",
        "For neural networks, the loss functions we are trying to optimize can be incredibly complex surfaces with many local minima. For some examples, see Figures 1(a) and 4(a) in this paper: https://proceedings.neurips.cc/paper/2018/file/a41b3bb3e6b050b6c9067c67f663b915-Paper.pdf\n",
        "\n",
        "Training a very large deep neural network can therefore be painfully slow. So far we have seen three ways to speed up training (and reach a better solution):\n",
        "- applying a good initialization strategy for the connection weights,\n",
        "- using a good activation function,\n",
        "- using Batch Normalization,\n",
        "\n",
        "Another huge speed boost comes from using a **faster optimizer than the regular Gradient Descent optimizer**. In this section we will present the most popular algorithms:\n",
        "- momentum optimization,\n",
        "- Nesterov Accelerated Gradient,\n",
        "- AdaGrad,\n",
        "- RMSProp,\n",
        "- Adam and Nadam optimization .\n",
        "\n",
        "However, before we jump into the optimizers, we will quickly cover the concept of **exponentially weighted averages**, a key concept in advanced deep learning optimization methods."
      ]
    },
    {
      "cell_type": "markdown",
      "metadata": {
        "id": "LWDnmC6lHc0q"
      },
      "source": [
        "## Exponentially Weighted Averages"
      ]
    },
    {
      "cell_type": "markdown",
      "metadata": {
        "id": "vJBkGtdqHc0r"
      },
      "source": [
        "If we collected daily temperature data throughout the year, it might look something like this:\n",
        "  ```\n",
        "  t(1) = 40\n",
        "  t(2) = 49\n",
        "  t(3) = 45\n",
        "  ...\n",
        "  t(180) = 60\n",
        "  ...\n",
        "  ```\n",
        "This data is naturally low in the winter and high in the summer. It may look extremely noisy if we just plot the strict daily values. Let's try that:"
      ]
    },
    {
      "cell_type": "code",
      "metadata": {
        "colab": {
          "base_uri": "https://localhost:8080/",
          "height": 486
        },
        "id": "I4iQWWlAHc0s",
        "outputId": "9744f4e0-0641-4321-b27a-32003b9df6cd"
      },
      "source": [
        "import numpy as np\n",
        "import matplotlib.pyplot as plt\n",
        "\n",
        "# Plot NOISY temp data\n",
        "np.random.seed(42)\n",
        "m = 100\n",
        "X = np.linspace(0,m,m)\n",
        "y = (-(X-m/2)**2) + (2000) + (np.random.rand(m)*m*15)\n",
        "plt.figure(figsize=(14,8))\n",
        "plt.plot(X, y,\"b-\", label = \"raw trend\")\n",
        "plt.plot(X, y,\"r.\")\n",
        "plt.legend()\n",
        "plt.show()"
      ],
      "execution_count": null,
      "outputs": [
        {
          "output_type": "display_data",
          "data": {
            "text/plain": [
              "<Figure size 1008x576 with 1 Axes>"
            ],
            "image/png": "[encoded data removed]"
          },
          "metadata": {
            "needs_background": "light"
          }
        }
      ]
    },
    {
      "cell_type": "markdown",
      "metadata": {
        "id": "9PN8bz4iHc0x"
      },
      "source": [
        "For prediction purposes, or for simply more clear visualizations, we may want to smooth out this trend line. To do this, we can compute the **exponentially weighted averages** (ewa) as follows:\n",
        "\n",
        "$$\\mathbf{V_t}=\\beta\\cdot \\mathbf{V_{t-1}} + (1-\\beta)\\cdot\\theta_t$$\n",
        "\n",
        "where:\n",
        "- $\\mathbf{V_t}$ represents the exponentially weighted average at timestep $t$\n",
        "- $\\beta$ acts as a smoothing parameter, and effectively determines over how many timesteps we'd like to average our values\n",
        "- $\\theta_t$ is the raw output value at timestep $t$ (e.g. temperature)\n",
        "\n",
        "It can be shown mathematically that for any value of $\\beta$, you will be effectively averaging your values over *approximately* $\\frac{1}{1-\\beta}$ timesteps. For example:\n",
        "- $\\beta$ = 0.9 will average last 10 entries\n",
        "- $\\beta$ = 0.98 will average last 50 entries\n",
        "- $\\beta$ = 0.5 will average last 2 entries\n",
        "\n",
        "Let's implement this function with our temperature data and see what it looks like. Note that we have also divided each weighted average value by a **bias correction** term of $(1-\\beta^t)$. This helps adjust the values at earlier timesteps as $\\mathbf{V_0}=0$, and thus the bias of the weighted averages is shifted (in this case, downwards). Feel free to play around with the parameters, turning the bias correction term on and off, to see how the results are adjusted:"
      ]
    },
    {
      "cell_type": "code",
      "metadata": {
        "colab": {
          "base_uri": "https://localhost:8080/",
          "height": 503
        },
        "id": "m0saq14UHc0x",
        "outputId": "16096e05-d0fa-438d-a8a4-b6cf45184956"
      },
      "source": [
        "# Create ewa function\n",
        "def EWA(Y, beta, correct_bias=True):\n",
        "    updates = []\n",
        "    v=0\n",
        "    for t,y in enumerate(Y):\n",
        "        v = beta*v + (1-beta)*y\n",
        "        v_bias = v/(1-beta**(t+1)) # Bias correction\n",
        "        updates.append(v_bias if correct_bias else v)\n",
        "    return updates\n",
        "\n",
        "# Plot noisey data and smoothed data\n",
        "np.random.seed(42)\n",
        "m = 100\n",
        "X = np.linspace(0,m,m)\n",
        "y = (-(X-m/2)**2) + (2000) + (np.random.rand(m)*m*15)\n",
        "plt.figure(figsize=(14,8))\n",
        "plt.plot(X, y,\"b-\", label = \"raw trend\")\n",
        "plt.plot(X, EWA(y,0.9), \"g-\", label = \"EWA: B=0.9\")\n",
        "plt.plot(X, EWA(y,0.7), \"y-\", label = \"EWA: B=0.7\")\n",
        "\n",
        "plt.plot(X, y,\"r.\")\n",
        "plt.legend()"
      ],
      "execution_count": null,
      "outputs": [
        {
          "output_type": "execute_result",
          "data": {
            "text/plain": [
              "<matplotlib.legend.Legend at 0x7f2bcf304210>"
            ]
          },
          "metadata": {},
          "execution_count": 75
        },
        {
          "output_type": "display_data",
          "data": {
            "text/plain": [
              "<Figure size 1008x576 with 1 Axes>"
            ],
            "image/png": "[encoded data removed]"
          },
          "metadata": {
            "needs_background": "light"
          }
        }
      ]
    },
    {
      "cell_type": "markdown",
      "metadata": {
        "id": "o5QirkmmHc00"
      },
      "source": [
        "Look at that beautiful smooth trend line! Now that we understand exponentially weighted averages, let's see how they are applied to optimization methods."
      ]
    },
    {
      "cell_type": "markdown",
      "metadata": {
        "id": "zhZHXVTydJlS"
      },
      "source": [
        "## Momentum optimization"
      ]
    },
    {
      "cell_type": "markdown",
      "metadata": {
        "id": "ATIA4ZsWHc01"
      },
      "source": [
        "\n",
        "\n",
        "Imagine a bowling ball rolling down a gentle slope on a smooth surface: it will start out slowly, but it will quickly pick up momentum until it eventually reaches terminal velocity (if there is some friction or air resistance). This is the very simple idea behind **momentum optimization**.\n",
        "\n",
        "Recall that Gradient Descent simply updates the weights $\\theta$ by directly subtracting the **gradient of the cost function with respect to the weights** $\\triangledown_\\theta J(\\theta)$ multiplied by the learning rate $\\eta$.\n",
        "- The equation is: $\\theta \\leftarrow \\theta – \\eta \\triangledown_\\theta J(\\theta)$, and it does **not take into consideration the values of earlier gradients**.\n",
        "- If the local gradient is tiny, training goes very slowly.\n",
        "\n",
        "In contrast, momentum optimization takes previous gradients into consideration by calculating the **exponentially weighted average** (called the momentum vector) as it backpropagates through the layers. Mathematically, this can be presented as follows:\n",
        "\n",
        "**1. Update momentum vector ($\\mathbf{m}$):**\n",
        "\n",
        "- $\\mathbf{m_t}=\\beta\\cdot\\mathbf{m_{t-1}} + (1-\\beta)\\cdot \\triangledown_\\theta J(\\theta_t)$\n",
        "\n",
        "**2. Update weights ($\\theta$):**\n",
        "\n",
        "- $\\theta_t=\\theta_{t-1} - \\eta\\cdot\\mathbf{m_t}$\n",
        "\n",
        "Where:\n",
        "- $\\eta$ is the learning rate\n",
        "- $\\triangledown_\\theta J(\\theta)$ is the gradient of the cost function with resepect to $\\theta$\n",
        "- $\\beta$ is the momentum hyperparameter, which effectively determines **how many of the previous iterations' gradients to take into consideration.** It must be set between 0 (high friction) and 1 (no friction). A typical momentum value is 0.9. You can easily see that if momentum is set to zero, then we have plain old gradient descent.\n",
        "- $\\mathbf{m}$ is the momentum vector\n",
        "\n",
        "Note that in practice, people don't bother implementing **bias correction** with momentum. Here is pseudo code:\n",
        "\n",
        "```python\n",
        "beta = 0.9\n",
        "lr=0.01\n",
        "for _ in num_iterations:\n",
        "    dw = compute_gradients(x, y) # calculate gradients\n",
        "    momentum = beta * momentum + (1-beta) * dw # update momentum vector\n",
        "    w = w - lr * momentum # update weights\n",
        "```"
      ]
    },
    {
      "cell_type": "markdown",
      "metadata": {
        "id": "QmjvvsukHc01"
      },
      "source": [
        "So why does momentum tend to work better than plain old gradient descent?\n",
        "- With Stochastic Gradient Descent (SGD), we are computing the gradient of the loss function over sub samples of the training data (mini-batches). This means that we are going to see **a lot of volatility with our weight updates, and we will not always be pushing the parameters in the optimal direction**.\n",
        "    - In essence, the gradients are 'noisy', just like the temperature data above.\n",
        "-That said, **exponentially weighed averages can provide us a better estimate of the derivate of the full training set than our noisy mini-batch calculations.**\n",
        "\n",
        "The other reason lies in **ravines:**\n",
        "- A ravine is an area of a parabola where the **surface curves much more steeply in one dimension than in another.**\n",
        "- We want to get down to the minima, but for that we have to move through the ravine. This region is what is called **pathological curvature:**\n",
        "\n",
        "<img src=\"https://drive.google.com/uc?id=1ee3wZiX-cpDFgSpYYYcU2GzR-tILfIBH\" style=\"width:450px;height:250px;\">\n",
        "\n",
        "It's not very hard to get the hang of what is going on in here:\n",
        "- Gradient descent is **bouncing along the ridges of the ravine**, and moving a lot slower towards the minima. This is because the surface at the ridge curves much more steeply in the direction of w1.\n",
        "- Ravines are common near local minimas in deep learning and SGD has troubles navigating them.\n",
        "- SGD will tend to oscillate across the narrow ravine since the negative gradient will point down one of the steep sides rather than along the ravine towards the optimum.\n",
        "\n",
        "With momentum optimization, **the momentum term increases for dimensions whose gradients point in the same directions** and **reduces updates for dimensions whose gradients change directions**, thus accumulating \"momentum\" on the optimal path along the ravine. This allows momentum optimization to escape from plateaus much faster than Gradient Descent. This is illustrated in the image below:  \n",
        "\n",
        "<img src=\"https://drive.google.com/uc?id=1TkwFOg4B_48j3g0Jg66WYbNvrHgmeGf_\" style=\"width:700px;height:250px;\">\n",
        "\n",
        "\n",
        "**NOTE:** Due to the momentum, the optimizer may overshoot a bit, then come back, overshoot again, and oscillate like this many times before stabilizing at the minimum. This is one of the reasons why it is good to have a bit of friction in the system (a $\\beta$ value of around 0.9): it gets rid of these oscillations and thus speeds up convergence.\n",
        "\n",
        "\n",
        "We can implement momentum optimization by changing the optimizer argument in our `model.compile` function as follows:\n"
      ]
    },
    {
      "cell_type": "code",
      "metadata": {
        "id": "ng_FcTnyO-Vo",
        "colab": {
          "base_uri": "https://localhost:8080/"
        },
        "outputId": "647ef242-e171-482b-bc5d-0fec6c28ced6"
      },
      "source": [
        "optimizer = keras.optimizers.SGD(lr=0.001, momentum=0.9, nesterov=True)"
      ],
      "execution_count": null,
      "outputs": [
        {
          "output_type": "stream",
          "name": "stderr",
          "text": [
            "/usr/local/lib/python3.7/dist-packages/keras/optimizer_v2/gradient_descent.py:102: UserWarning: The `lr` argument is deprecated, use `learning_rate` instead.\n",
            "  super(SGD, self).__init__(name, **kwargs)\n"
          ]
        }
      ]
    },
    {
      "cell_type": "markdown",
      "metadata": {
        "id": "GYBWRcLIHc02"
      },
      "source": [
        "\n",
        "**NOTE:** we have set the `nesterov` argument to `True`. This implements the **Nesterov Accelerated Gradient (NAG)** method, which simply measures the gradient of the cost function not at the local position, but slightly ahead in the direction of the momentum. The only difference is that the gradient is measured at $\\theta+\\beta\\mathbf{m}$ instead of $\\theta$.\n",
        "- This small tweak works because in general **the momentum vector will be pointing in the right direction** (i.e., toward the optimum), so it will be slightly more accurate to use the gradient measured a bit further in that direction rather than using the gradient at the original position.\n",
        "- In general, **NAG ends up being significantly faster than regular momentum optimization.**\n",
        "\n"
      ]
    },
    {
      "cell_type": "markdown",
      "metadata": {
        "id": "J711jk6cdJlT"
      },
      "source": [
        "## AdaGrad\n"
      ]
    },
    {
      "cell_type": "markdown",
      "metadata": {
        "id": "GDe1g9TdO-Vq"
      },
      "source": [
        "\n",
        "The AdaGrad optimizer is similar to the momentum algorithm, in that it tends to find a more direct path to the global minimum as compared to \"vanilla\" or plain old gradient descent. However, it does so by trying to solve the problem of **widely varying gradient magnitudes**.\n",
        "- Some gradients may be tiny and others may be huge, which can result in a very difficult problem trying to find a **single global learning rate for the algorithm.**\n",
        "\n",
        "This is sometimes called the elongated bowl problem:\n",
        "- **Gradient descent starts by quickly going down the steepest slope, then slowly goes down the bottom of the valley.**\n",
        "- It's worth noting that **we can’t simply solve this problem by increasing the learning rate**.\n",
        "    - The steps we take with large gradients will be even bigger, which may result in divergence.\n",
        "\n",
        "The AdaGrad algorithm attempts to solve this problem by **scaling down the gradient vector along the steepest dimension, and increasing the gradient vectors along the flattest dimensions.**\n",
        "\n",
        "To do this, AdaGrad first accumulates the squared gradients into vector $\\mathbf{s}$. **The algorithm then uses the root of this vector to scale the update vector** ($\\eta\\cdot\\triangledown_\\theta J(\\theta_t)$. If the cost function is steep along the $i^{th}$ dimension, then $\\mathbf{s^i}$ will get larger and larger at each iteration. This process can be represented mathematically as follows:\n",
        "\n",
        "**1. Accumulate squared gradient vector ($\\mathbf{s}$):**\n",
        "\n",
        "- $\\mathbf{s_t}=\\mathbf{s_{t-1}} + (\\triangledown_\\theta J(\\theta_t))^2$\n",
        "\n",
        "**2. Update weights ($\\theta$):**\n",
        "\n",
        "- $\\theta_t=\\theta_{t-1} - \\eta \\cdot\\triangledown_\\theta J(\\theta_t) \\oslash \\sqrt{s_t+\\epsilon}$\n",
        "\n",
        "The notation is similar to that of the momentum equations above, however here we are **not** taking a moving average:\n",
        "- We are simply accumulating squared gradient values,\n",
        "- And we are **dividing the learning rate by the $\\sqrt{\\mathbf{s_t}}$ (this is what adjusts the value of the updates based on the previous gradients size or steepness).** You can think of this as an **Adaptive Learning Rate**.\n",
        "- Note that in order to ensure that we are not dividing by zero, we add a small value $\\epsilon$ (e.g. `epsilon = 10^-8`) to $\\mathbf{s_t}$.\n",
        "\n",
        "For additional clarity, the process can be represented in pseudo code as follows:\n",
        "\n",
        "```python\n",
        "grads_squared = 0\n",
        "lr=0.01\n",
        "epsilon = 1e-08\n",
        "for _ in num_iterations:\n",
        "    dw = compute_gradients(x, y)\n",
        "    grads_squared += grads_squared + dw * dw # element wise multiplication (squaring gradients)\n",
        "    w = w - (lr / np.sqrt(grads_squared+epslion)) * dw\n",
        "```\n",
        "\n",
        "As you can tell, the algorithm is almost identical to Gradient Descent, but with one big difference:\n",
        "- **the gradient vector is scaled down by a factor of `np.sqrt(s+ϵ)`.**  \n",
        "- This algorithm **decays the learning rate, but it does so faster for steep dimensions than for dimensions with gentler slopes.**\n",
        "- This is called an **adaptive learning rate.** It helps point the resulting updates more directly toward the global optimum.\n",
        "- One additional benefit is that it requires much less tuning of the learning rate hyperparameter $\\eta$.\n",
        "\n",
        "\n",
        "<img src=\"https://drive.google.com/uc?id=1iJMsIjUnzaXUkh5GvU8Ya_u06T_OaMMX\" style=\"width:500px;\">\n",
        "\n",
        "\n",
        "We can implement AdaGrad optimization simply by changing the optimizer argument in our `model.compile` function as follows:"
      ]
    },
    {
      "cell_type": "code",
      "metadata": {
        "id": "La60vh5WO-Vr",
        "colab": {
          "base_uri": "https://localhost:8080/"
        },
        "outputId": "51876c2d-8815-42e1-b945-91617c102f55"
      },
      "source": [
        "optimizer = keras.optimizers.Adagrad(lr=0.001)"
      ],
      "execution_count": null,
      "outputs": [
        {
          "output_type": "stream",
          "name": "stderr",
          "text": [
            "/usr/local/lib/python3.7/dist-packages/keras/optimizer_v2/adagrad.py:74: UserWarning: The `lr` argument is deprecated, use `learning_rate` instead.\n",
            "  super(Adagrad, self).__init__(name, **kwargs)\n"
          ]
        }
      ]
    },
    {
      "cell_type": "markdown",
      "metadata": {
        "id": "wQhpNOowO-Vs"
      },
      "source": [
        "AdaGrad frequently performs well for simple quadratic problems, but **it often stops too early when training neural networks.**\n",
        "- The learning rate gets scaled down so much that the algorithm ends up stopping entirely before reaching the global optimum."
      ]
    },
    {
      "cell_type": "markdown",
      "metadata": {
        "id": "lMNoxRZvdJlT"
      },
      "source": [
        "## RMSProp"
      ]
    },
    {
      "cell_type": "markdown",
      "metadata": {
        "id": "IU7cSO4aO-Vs"
      },
      "source": [
        "\n",
        "Although AdaGrad slows down a bit too soon and ends up never converging to the global optimum, the RMSProp algorithm fixes this by **accumulating only the gradients from the most recent iterations** (as opposed to all the gradients from the beginning of training).\n",
        "- RMSprop takes the *exponentially weighted average* of the squared gradients at every step (the RMS in RMSprop stands for *root mean squared*).\n",
        "- This is the same as the momentum vector, but we are simply squaring the gradients.\n",
        "- We then use the root of this vector to scale the update vector ($\\eta\\cdot\\triangledown_\\theta J(\\theta_t)$, just as we did with AdaGrad.\n",
        "\n",
        "This can be represented mathematically as follows:\n",
        "\n",
        "**1. Update squared gradient vector ($\\mathbf{m}$):**\n",
        "\n",
        "- $\\mathbf{s_t}=\\beta\\cdot\\mathbf{s_{t-1}} + (1-\\beta)\\cdot (\\triangledown_\\theta J(\\theta_t))^2$\n",
        "\n",
        "**2. Update weights ($\\theta$):**\n",
        "\n",
        "- $\\theta_t=\\theta_{t-1} - \\eta \\cdot\\triangledown_\\theta J(\\theta_t) \\oslash \\sqrt{s_t+\\epsilon}$\n",
        "\n",
        "The notation is similar to that of the momentum equations, we have just squared the gradients in the first equation, and replaced the momentum vector $\\mathbf{m}$ with the squared gradient vector $\\mathbf{s}$. For additional clarity, the process can be represented in pseudo code as follows:\n",
        "```python\n",
        "grads_squared = 0\n",
        "beta = 0.9\n",
        "lr=0.01\n",
        "epsilon = 1e-08\n",
        "for _ in num_iterations:\n",
        "    dw = compute_gradients(x, y)\n",
        "    grads_squared = beta * grads_squared + (1-beta) * dw * dw # element wise multiplication (squaring gradients)\n",
        "    w = w - (lr / np.sqrt(grads_squared+epslion)) * dw\n",
        "```\n",
        "Just as we did with AdaGrad, what we are effectively doing here is:\n",
        "- *increasing* the updates for small gradients\n",
        "- *decreasing* the updates for large gradients\n",
        "\n",
        "The key difference with RMSProp however is that we use the exponential average so that our gradients don't increase or decrease too quickly. **This adjustment helps a great deal with saddle points and plateaus.**\n",
        "\n",
        "We can implement RMSprop optimization simply by changing the optimizer argument in our `model.compile` function as follows:"
      ]
    },
    {
      "cell_type": "code",
      "metadata": {
        "id": "NZ5vQ5itO-Vs",
        "colab": {
          "base_uri": "https://localhost:8080/"
        },
        "outputId": "e087a8c9-2383-4e35-9c2a-915cc3c3ffd3"
      },
      "source": [
        "optimizer = keras.optimizers.RMSprop(lr=0.001, rho=0.9)"
      ],
      "execution_count": null,
      "outputs": [
        {
          "output_type": "stream",
          "name": "stderr",
          "text": [
            "/usr/local/lib/python3.7/dist-packages/keras/optimizer_v2/rmsprop.py:130: UserWarning: The `lr` argument is deprecated, use `learning_rate` instead.\n",
            "  super(RMSprop, self).__init__(name, **kwargs)\n"
          ]
        }
      ]
    },
    {
      "cell_type": "markdown",
      "metadata": {
        "id": "adLIhi3hO-Vv"
      },
      "source": [
        "In  the `RMSprop` function, `rho` represents the exponentially weighted average decay factor ($\\beta$)."
      ]
    },
    {
      "cell_type": "markdown",
      "metadata": {
        "id": "thK8VWa1dJlU"
      },
      "source": [
        "## Adam Optimization"
      ]
    },
    {
      "cell_type": "markdown",
      "metadata": {
        "id": "GzdIWpNfO-Vw"
      },
      "source": [
        "\n",
        "\n",
        "Adam, which stands for **adaptive moment estimation**, combines the ideas of **Momentum optimization and RMSProp:**\n",
        "- just like Momentum optimization it keeps track of an exponentially decaying average of past gradients,\n",
        "- and just like RMSProp it keeps track of an exponentially decaying average of past *squared* gradients.\n",
        "\n",
        "Since Adam is an adaptive learning rate algorithm (like RMSProp and AdaGrad), it requires **less tuning of the learning rate** hyperparameter $\\eta$. You can often use the default value $\\eta = 0.001$, making Adam even easier to use than Gradient Descent.\n",
        "\n",
        "The algorithm can be represented mathematically as follows:\n",
        "\n",
        "\n",
        "**1. Update momentum ($\\mathbf{m}$) and squared gradients vectors ($\\mathbf{s}$) :**\n",
        "\n",
        "- $\\mathbf{m_t}=\\beta_1\\cdot\\mathbf{m_{t-1}} + (1-\\beta_1)\\cdot \\triangledown_\\theta J(\\theta_t)$\n",
        "\n",
        "- $\\mathbf{s_t}=\\beta_2\\cdot\\mathbf{s_{t-1}} + (1-\\beta_2)\\cdot (\\triangledown_\\theta J(\\theta_t))^2$\n",
        "\n",
        "**2. Adjust bias:**\n",
        "\n",
        "\n",
        "- $\\mathbf{m_t} = \\frac{\\mathbf{m_t}}{1-\\beta_1^t}$\n",
        "- $\\mathbf{s_t} = \\frac{\\mathbf{s_t}}{1-\\beta_2^t}$\n",
        "\n",
        "**2. Update weights ($\\theta$):**\n",
        "\n",
        "- $\\theta_t=\\theta_{t-1} - \\eta \\cdot\\mathbf{m_t} \\oslash \\sqrt{s_t+\\epsilon}$\n",
        "\n",
        "Again, the parameters are very similar to what we saw with momentum and RMSprop, however we have added $\\beta_1$ and $\\beta_2$, as we apply separate decay factors to each component.\n",
        "- The momentum decay hyperparameter $\\beta_1$ is typically initialized to 0.9,\n",
        "- the scaling decay hyperparameter $\\beta_2$ is often initialized to 0.999.\n",
        "\n",
        "The smoothing term ϵ is usually initialized to a tiny number such as 10e–8. We also adjust the $\\mathbf{m_t}$ and $\\mathbf{s_t}$ for bias (as explained in the exponentially weighted average section above), which is commonly done with Adam.\n",
        "\n",
        "Here is the pseudo code:\n",
        "\n",
        "```python\n",
        "grads_squared = 0\n",
        "beta1 = 0.9\n",
        "beta2 = 0.99\n",
        "lr=0.01\n",
        "epsilon = 1e-08\n",
        "for i in range(1, num_iterations+1):\n",
        "    # Caclulate gradient\n",
        "    dw = compute_gradients(x, y)\n",
        "    # Calculate momentum and RMSprop averages\n",
        "    grads_momentum = beta1 * grads_momentum + (1-beta1) * dw\n",
        "    grads_squared = beta2 * grads_squared + (1-beta2) * dw * dw\n",
        "    # Fix bias\n",
        "    grads_momentum = grads_momentum / (1 - beta1**i)\n",
        "    grads_squared = grads_squared / (1 - beta2**i\n",
        "    # Make updates\n",
        "    w = w - (lr / np.sqrt(grads_squared+epslion)) * grads_momentum # Make updates\n",
        "```\n",
        "\n",
        "We can implement momentum optimization simply by changing the optimizer argument in our `model.compile` function as follows:"
      ]
    },
    {
      "cell_type": "code",
      "metadata": {
        "id": "EFTjWH3UO-Vw",
        "colab": {
          "base_uri": "https://localhost:8080/"
        },
        "outputId": "226b60ae-067c-4cb5-88fc-14e577f397cc"
      },
      "source": [
        "optimizer = keras.optimizers.Adam(lr=0.001, beta_1=0.9, beta_2=0.999)"
      ],
      "execution_count": null,
      "outputs": [
        {
          "output_type": "stream",
          "name": "stderr",
          "text": [
            "/usr/local/lib/python3.7/dist-packages/keras/optimizer_v2/adam.py:105: UserWarning: The `lr` argument is deprecated, use `learning_rate` instead.\n",
            "  super(Adam, self).__init__(name, **kwargs)\n"
          ]
        }
      ]
    },
    {
      "cell_type": "markdown",
      "metadata": {
        "id": "gIpgJO3FO-Vx"
      },
      "source": [
        "Since Adam is an **adaptive learning rate algorithm (like AdaGrad and RMSProp),** it requires less tuning of the learning rate hyperparameter $\\eta$.\n",
        "- You can often use the default value η = 0.001, making Adam even easier to use than Gradient Descent.\n",
        "\n",
        "For more information on Adam, check out this excellent blog post: https://towardsdatascience.com/adam-latest-trends-in-deep-learning-optimization-6be9a291375c"
      ]
    },
    {
      "cell_type": "markdown",
      "metadata": {
        "id": "ld1mFX3rdJlU"
      },
      "source": [
        "## Adamax"
      ]
    },
    {
      "cell_type": "markdown",
      "metadata": {
        "id": "HnzYOGi6O-Vx"
      },
      "source": [
        "\n",
        "\n",
        "Notice that in step 2 of Adam equations above, the algo accumulates the squares of the gradients in $s$ (with a greater weight for more recent weights). Then Adam scales down the parameter updates by the square root of $s$.\n",
        "- In short, Adam scales down the parameter updates by the $\\iota_2$ norm of the time-decayed gradients **(recall that the ℓ2 norm is the square root of the sum of squares).**\n",
        "- AdaMax, introduced in the same paper as Adam, replaces the ℓ2 norm with the ℓ ∞ norm (a fancy way of saying the max).\n",
        "- Specifically, it replaces the ℓ2 norm with $\\mathbf{s_t}=max(\\beta_2\\mathbf{s_{t-1}}, \\triangledown_\\theta J(\\theta_t))$, and it scales down the gradient updates by a factor of $s$ , which is just **the max of the time-decayed gradients**.\n",
        "\n",
        "In practice, this can make AdaMax more stable than Adam, but it really depends on the dataset, and **in general Adam performs better**. So, this is just one more optimizer you can try if you experience problems with Adam on some task.\n"
      ]
    },
    {
      "cell_type": "code",
      "metadata": {
        "id": "_DkjTifiO-Vx",
        "colab": {
          "base_uri": "https://localhost:8080/"
        },
        "outputId": "e89964e6-9a4d-485b-864b-887fca29829c"
      },
      "source": [
        "optimizer = keras.optimizers.Adamax(lr=0.001, beta_1=0.9, beta_2=0.999)"
      ],
      "execution_count": null,
      "outputs": [
        {
          "output_type": "stream",
          "name": "stderr",
          "text": [
            "/usr/local/lib/python3.7/dist-packages/keras/optimizer_v2/adamax.py:90: UserWarning: The `lr` argument is deprecated, use `learning_rate` instead.\n",
            "  super(Adamax, self).__init__(name, **kwargs)\n"
          ]
        }
      ]
    },
    {
      "cell_type": "markdown",
      "metadata": {
        "id": "NXcDTU98dJlU"
      },
      "source": [
        "## Nadam"
      ]
    },
    {
      "cell_type": "markdown",
      "metadata": {
        "id": "hP5PHWsbO-Vy"
      },
      "source": [
        "\n",
        "\n",
        "Nadam optimization is Adam optimization **plus the Nesterov trick**, so it will often converge slightly faster than Adam.\n",
        "\n",
        "In his report introducing this technique , the researcher Timothy Dozat compares many different optimizers on various tasks and finds that Nadam generally outperforms Adam but is sometimes outperformed by RMSProp."
      ]
    },
    {
      "cell_type": "code",
      "metadata": {
        "id": "z78kIIQ8O-Vy",
        "colab": {
          "base_uri": "https://localhost:8080/"
        },
        "outputId": "da82aef9-5c93-4e52-8603-cef70c27abc8"
      },
      "source": [
        "optimizer = keras.optimizers.Nadam(lr=0.001, beta_1=0.9, beta_2=0.999)"
      ],
      "execution_count": null,
      "outputs": [
        {
          "output_type": "stream",
          "name": "stderr",
          "text": [
            "/usr/local/lib/python3.7/dist-packages/keras/optimizer_v2/nadam.py:73: UserWarning: The `lr` argument is deprecated, use `learning_rate` instead.\n",
            "  super(Nadam, self).__init__(name, **kwargs)\n"
          ]
        }
      ]
    },
    {
      "cell_type": "markdown",
      "metadata": {
        "id": "PE8BIq9ZO-Vz"
      },
      "source": [
        "## Choosing an optimizer"
      ]
    },
    {
      "cell_type": "markdown",
      "metadata": {
        "id": "ZWZQqrjCO-Vz"
      },
      "source": [
        "The following table compares all the optimizers we’ve discussed so far (* is bad, ** is average, and *** is good):\n",
        "\n",
        "<img src=\"https://drive.google.com/uc?id=1Jlm4yGAUHNfIIv0bgLPfee_VfvHploE4\" style=\"width:600px\">\n"
      ]
    },
    {
      "cell_type": "code",
      "metadata": {
        "colab": {
          "base_uri": "https://localhost:8080/"
        },
        "id": "tksk70fQO-V1",
        "outputId": "642db7b6-4fda-4efe-841b-ef11c11d6418"
      },
      "source": [
        "X_train, X_valid, X_test, y_train, y_valid, y_test = mnist_fashion_clean()"
      ],
      "execution_count": null,
      "outputs": [
        {
          "output_type": "stream",
          "name": "stdout",
          "text": [
            "X_trian: (55000, 28, 28)\n",
            "X_valid: (5000, 28, 28)\n",
            "X_test: (10000, 28, 28)\n",
            "X_train stats: 0.28603044 0.35290107\n",
            "X_valid stats: 0.2861465 0.35437852\n",
            "X_test stats: 0.28684944 0.3524442\n"
          ]
        }
      ]
    },
    {
      "cell_type": "code",
      "metadata": {
        "colab": {
          "base_uri": "https://localhost:8080/",
          "height": 460
        },
        "id": "fe20xVKYO-V2",
        "outputId": "62ac761a-8dd2-4950-9211-02bb8521fde2"
      },
      "source": [
        "# let's compare these different optimizers and see what we get!\n",
        "\n",
        "\"\"\"NOTE: running all models should take 2-3 minutes.\"\"\"\n",
        "from time import time\n",
        "\n",
        "# Build simple sequence model\n",
        "def build_model():\n",
        "    return keras.models.Sequential([\n",
        "        keras.layers.Flatten(input_shape=[28, 28]),\n",
        "#         keras.layers.BatchNormalization(),\n",
        "        keras.layers.Dense(300, activation=\"relu\", kernel_initializer='random_normal'),\n",
        "#         keras.layers.BatchNormalization(),\n",
        "        keras.layers.Dense(100, activation=\"relu\", kernel_initializer='random_normal'),\n",
        "#         keras.layers.BatchNormalization(),\n",
        "        keras.layers.Dense(10, activation=\"softmax\")\n",
        "    ])\n",
        "\n",
        "# Set optimizers\n",
        "op0 = tf.keras.optimizers.SGD(lr=0.001) # Standard SGD\n",
        "op1 = tf.keras.optimizers.SGD(lr=0.001, momentum=0.9, nesterov=True)\n",
        "op2 = tf.keras.optimizers.Adagrad(lr=0.001)\n",
        "op3 = tf.keras.optimizers.RMSprop(lr=0.001, rho=0.9, epsilon=1e-8)\n",
        "op4 = tf.keras.optimizers.Adam(lr=0.001, beta_1=0.9, beta_2=0.999)\n",
        "\n",
        "# Run models\n",
        "results = {}\n",
        "for optimizer, name in [(op0, 'VanillaSGD'), (op1, 'Momentum'),(op2,'AdaGrad'), (op3, 'RMS'),(op4, \"Adam\")]:\n",
        "    print(\"Running {} model...\".format(name))\n",
        "    model = build_model()\n",
        "    t0 = time()\n",
        "    model.compile(optimizer=optimizer, loss='sparse_categorical_crossentropy', metrics=['accuracy'])\n",
        "    out = model.fit(X_train, y_train, epochs=25, batch_size=3200, validation_data=(X_valid, y_valid), verbose=0) #turn off verbosity\n",
        "    print(\"Training complete in {:.2f} seconds\".format(time()-t0))\n",
        "    results[name] = out.history['val_accuracy']\n",
        "    plt.plot(out.history['val_accuracy'], label=name)\n",
        "\n",
        "plt.ylabel('Validation Accuracy')\n",
        "plt.xlabel('Epoch')\n",
        "plt.legend()\n",
        "plt.show()"
      ],
      "execution_count": null,
      "outputs": [
        {
          "output_type": "stream",
          "name": "stdout",
          "text": [
            "Running VanillaSGD model...\n",
            "Training complete in 5.53 seconds\n",
            "Running Momentum model...\n",
            "Training complete in 5.55 seconds\n",
            "Running AdaGrad model...\n",
            "Training complete in 5.52 seconds\n",
            "Running RMS model...\n",
            "Training complete in 4.86 seconds\n",
            "Running Adam model...\n",
            "Training complete in 5.57 seconds\n"
          ]
        },
        {
          "output_type": "display_data",
          "data": {
            "text/plain": [
              "<Figure size 432x288 with 1 Axes>"
            ],
            "image/png": "[encoded data removed]"
          },
          "metadata": {
            "needs_background": "light"
          }
        }
      ]
    },
    {
      "cell_type": "code",
      "metadata": {
        "id": "hrMVNw78XizE"
      },
      "source": [],
      "execution_count": null,
      "outputs": []
    },
    {
      "cell_type": "markdown",
      "metadata": {
        "id": "LKowmrYEHc1J"
      },
      "source": [
        "## Exercise: Adam Optimizer\n",
        "Try running Momentum, RMSprop, and Adam for a 20 to 30 epochs. Do you see a different in the accuracy at a certain point?"
      ]
    },
    {
      "cell_type": "code",
      "metadata": {
        "colab": {
          "base_uri": "https://localhost:8080/"
        },
        "id": "RJkUddFaa8oU",
        "outputId": "7ed78fb3-1e77-4c46-a806-d5e8dd4726d9"
      },
      "source": [
        "# Initialize simple_model function\n",
        "def simple_model_bn(initializer='he_normal', activation='relu'): # Use relu as base activation function\n",
        "    return tf.keras.Sequential([layers.Flatten(input_shape=(28,28,)),\n",
        "                                layers.Dense(32, activation=None, kernel_initializer=initializer),\n",
        "                                layers.BatchNormalization(trainable=True, scale=True, center=True), # Add BatchNorm\n",
        "                                layers.Activation(activation), # Add relu activation layer\n",
        "                                layers.Dense(32, activation=None, kernel_initializer=initializer),\n",
        "                                layers.BatchNormalization(trainable=True, scale=True, center=True), # Add BatchNorm\n",
        "                                layers.Activation(activation), # Add relu activation layer\n",
        "                                layers.Dense(32, activation=None, kernel_initializer=initializer),\n",
        "                                layers.BatchNormalization(trainable=True, scale=True, center=True), # Add BatchNorm\n",
        "                                layers.Activation(activation), # Add relu activation layer\n",
        "                                layers.Dense(32, activation=None, kernel_initializer=initializer),\n",
        "                                layers.BatchNormalization(trainable=True, scale=True, center=True), # Add BatchNorm\n",
        "                                layers.Activation(activation), # Add relu activation layer\n",
        "                                layers.Dense(10, activation='softmax', kernel_initializer=tf.keras.initializers.glorot_normal())])\n",
        "print(\"Model WITH BatchNorm\")\n",
        "simple_model_bn().summary()"
      ],
      "execution_count": null,
      "outputs": [
        {
          "output_type": "stream",
          "name": "stdout",
          "text": [
            "Model WITH BatchNorm\n",
            "Model: \"sequential_16\"\n",
            "_________________________________________________________________\n",
            " Layer (type)                Output Shape              Param #   \n",
            "=================================================================\n",
            " flatten_70 (Flatten)        (None, 784)               0         \n",
            "                                                                 \n",
            " dense_580 (Dense)           (None, 32)                25120     \n",
            "                                                                 \n",
            " batch_normalization_6 (Batc  (None, 32)               128       \n",
            " hNormalization)                                                 \n",
            "                                                                 \n",
            " activation_2 (Activation)   (None, 32)                0         \n",
            "                                                                 \n",
            " dense_581 (Dense)           (None, 32)                1056      \n",
            "                                                                 \n",
            " batch_normalization_7 (Batc  (None, 32)               128       \n",
            " hNormalization)                                                 \n",
            "                                                                 \n",
            " activation_3 (Activation)   (None, 32)                0         \n",
            "                                                                 \n",
            " dense_582 (Dense)           (None, 32)                1056      \n",
            "                                                                 \n",
            " batch_normalization_8 (Batc  (None, 32)               128       \n",
            " hNormalization)                                                 \n",
            "                                                                 \n",
            " activation_4 (Activation)   (None, 32)                0         \n",
            "                                                                 \n",
            " dense_583 (Dense)           (None, 32)                1056      \n",
            "                                                                 \n",
            " batch_normalization_9 (Batc  (None, 32)               128       \n",
            " hNormalization)                                                 \n",
            "                                                                 \n",
            " activation_5 (Activation)   (None, 32)                0         \n",
            "                                                                 \n",
            " dense_584 (Dense)           (None, 10)                330       \n",
            "                                                                 \n",
            "=================================================================\n",
            "Total params: 29,130\n",
            "Trainable params: 28,874\n",
            "Non-trainable params: 256\n",
            "_________________________________________________________________\n"
          ]
        }
      ]
    },
    {
      "cell_type": "code",
      "metadata": {
        "colab": {
          "base_uri": "https://localhost:8080/",
          "height": 412
        },
        "id": "KZY1QYZkHc1K",
        "outputId": "0f606b36-ef2b-404e-a32c-a3b014d2813b"
      },
      "source": [
        "%%time\n",
        "\"\"\"NOTE: running all models should take 2-3 minutes.\"\"\"\n",
        "\n",
        "# Set params\n",
        "init = tf.keras.initializers.random_normal()\n",
        "activate = 'relu'\n",
        "\n",
        "# Set optimizers\n",
        "op0 = tf.keras.optimizers.SGD(lr=0.01) # Standard SGD\n",
        "op1 = tf.keras.optimizers.SGD(lr=0.01, momentum=0.9, nesterov=True)\n",
        "op2 = tf.keras.optimizers.Adagrad(lr=0.01)\n",
        "op3 = tf.keras.optimizers.RMSprop(lr=0.01, rho=0.9, epsilon=1e-8)\n",
        "op4 = tf.keras.optimizers.Adam(lr=0.01, beta_1=0.9, beta_2=0.999)\n",
        "\n",
        "# Run models\n",
        "results = {}\n",
        "for optimizer, name in [(op0, 'VanillaSGD'), (op1, 'Momentum'),(op2,'AdaGrad'), (op3, 'RMS'),(op4, \"Adam\")]:\n",
        "    print(\"Running {} model...\".format(name))\n",
        "    model = simple_model_bn(init, activate)\n",
        "    model.compile(optimizer=optimizer, loss='sparse_categorical_crossentropy', metrics=['accuracy'])\n",
        "    out = model.fit(X_train, y_train, epochs=25, batch_size=3200, validation_data=(X_test, y_test), verbose=0) #turn off verbosity\n",
        "    results[name] = out.history['val_accuracy']\n",
        "    plt.plot(out.history['val_accuracy'], label=name)\n",
        "\n",
        "plt.ylabel('Validation Accuracy')\n",
        "plt.xlabel('Epoch')\n",
        "plt.legend()\n",
        "plt.show()"
      ],
      "execution_count": null,
      "outputs": [
        {
          "output_type": "stream",
          "name": "stdout",
          "text": [
            "Running VanillaSGD model...\n",
            "Running Momentum model...\n",
            "Running AdaGrad model...\n",
            "Running RMS model...\n",
            "Running Adam model...\n"
          ]
        },
        {
          "output_type": "display_data",
          "data": {
            "text/plain": [
              "<Figure size 432x288 with 1 Axes>"
            ],
            "image/png": "[encoded data removed]"
          },
          "metadata": {
            "needs_background": "light"
          }
        },
        {
          "output_type": "stream",
          "name": "stdout",
          "text": [
            "CPU times: user 44.4 s, sys: 1.99 s, total: 46.4 s\n",
            "Wall time: 45 s\n"
          ]
        }
      ]
    },
    {
      "cell_type": "markdown",
      "metadata": {
        "id": "zAysTFzMHc1Q"
      },
      "source": [
        "As we can see from the above exercise, Adam seems to converge faster than the AdaGrad and RMS prop. While your results will always depend on the type of model you are building, as well as the data itself, in general **Adam will more quickly and efficiently find the global minimum of your loss function.**"
      ]
    },
    {
      "cell_type": "markdown",
      "metadata": {
        "id": "N4sMWUc_-0wH"
      },
      "source": [
        "## Learning Rate Scheduling\n",
        "\n",
        "Now that we have a solid handle on deep learning optimizers and how to implement them, we are going to discuss one final topic to help you refine model training: **learning rate scheduling.**\n",
        "\n",
        "Finding a good learning rate can be tricky:\n",
        "- If you set it way too high, training may actually diverge\n",
        "- If you set it too low, training will eventually converge to the optimum, but it will take a very long time.\n",
        "- If you set it slightly too high, it will make progress very quickly at first, but it will end up dancing around the optimum, never settling down (unless you use an adaptive learning rate optimization algorithm such as AdaGrad, RMSProp, or Adam, but even then it may take time to settle). **If you have a limited computing budget, you may have to interrupt training before it has converged properly, yielding a suboptimal solution.**\n",
        "\n",
        "\n",
        "<img src=\"https://drive.google.com/uc?id=1sX6qriDfcLBJjIw85EuWgDEb53vY1gFI\">\n",
        "\n",
        "Image source: University of Waterloo\n",
        "\n",
        "Image description: Model training performance based on different learning rate schedules. Note that this is a generalization, and your results will always depend on the data and model architecture.\n",
        "\n",
        "The ideal learning rate will learn quickly and converge to good solution. However, you can do better than a constant learning rate: **if you start with a high learning rate and then reduce it once it stops making fast progress, you can reach a good solution faster than with the optimal constant learning rate.**\n",
        "\n"
      ]
    },
    {
      "cell_type": "markdown",
      "metadata": {
        "id": "Y0fGKwpWHc1R"
      },
      "source": [
        "There are many different strategies to reduce the learning rate during training. **These strategies are called learning schedules**, the most common of which are:\n",
        "\n",
        "- **Exponential scheduling:**\n",
        "  - Set the learning rate to a function of the iteration number $t: \\eta_t = \\eta_0 \\cdot 0.1^{\\frac{t}{s}}$.\n",
        "    - This works great, but it requires tuning $\\eta_0$ and $s$. The learning rate will drop by a factor of 10 every s steps.\n",
        "\n",
        "\n",
        "- **Power scheduling:**\n",
        "    - Set the learning rate to a function of the iteration number $t: \\eta_t = \\eta_0 / (1+\\frac{t}{s})^{c}$\n",
        "    - $η_0$ is the initial learning rate and $s$ represents the number of steps. The hyperparameter $c$ is typically set to 1.\n",
        "    - The learning rate drops at each step. After $s$ steps, it is down to $η_0 / 2$. After $s$ more steps, it is down to $η_0 / 3$, then it goes down to $η_0 / 4$, then $η_0 / 5$, and so on.\n",
        "    - As you can see, this schedule first drops quickly, then more and more slowly. Of course, power scheduling requires tuning $η_0$ and $s$ (and possibly $c$ ).\n",
        "    \n",
        "    \n",
        "- **Piecewise constant learning rate:**\n",
        "    - The learning rate reduces based on predefined update steps. For example, set the learning rate to $\\eta_0 = 0.01$ at first, then to $\\eta_1 = 0.001$ after 50 epochs.\n",
        "    - Although this solution can work very well, it often requires fiddling around to figure out the right learning rates and when to use them.\n",
        "\n",
        "\n",
        "- **Performance scheduling:**\n",
        "    - Measure the validation error every N steps and reduce the learning rate by a factor of $\\lambda$ when the error stops dropping.\n",
        "\n",
        "\n",
        "- **1cycle scheduling:**\n",
        "    - Contrary to the other approaches, 1cycle (introduced in a 2018 paper by Leslie Smith) starts by increasing the initial learning rate $η_0$ , growing linearly up to $η_1$ halfway through training.\n",
        "    - Then it decreases the learning rate linearly down to $η_0$ again during the second half of training, finishing the last few epochs by dropping the rate down by several orders of magnitude (still linearly).\n",
        "    - The maximum learning rate $η_1$ is chosen using the same approach we used to find the optimal learning rate, and the initial learning rate $η_0$ is chosen to be roughly 10 times lower.\n",
        "    - When using a momentum, we start with a high momentum first (e.g., 0.95), then drop it down to a lower momentum during the first half of training (e.g., down to 0.85, linearly), and then bring it back up to the maximum value (e.g., 0.95) during the second half of training, finishing the last few epochs with that maximum value.\n",
        "    - Smith did many experiments showing that this approach was often able to speed up training considerably and reach better performance. For example, on the popular CIFAR10 image dataset, this approach reached 91.9% validation accuracy in just 100 epochs, instead of 90.3% accuracy in 800 epochs through a standard approach (with the same neural network architecture ).\n",
        "\n",
        "\n",
        "A 2013 paper by Andrew Senior et al. compared the performance of some of the most popular learning schedules when training deep neural networks for speech recognition using Momentum optimization. The authors concluded that, in this setting, both performance scheduling and exponential scheduling performed well, **but they favored exponential scheduling because it is simpler to implement, is easy to tune, and converged slightly faster to the optimal solution.**"
      ]
    },
    {
      "cell_type": "markdown",
      "metadata": {
        "id": "O2ukbWdrWXZo"
      },
      "source": [
        "## Exponential Scheduling"
      ]
    },
    {
      "cell_type": "markdown",
      "metadata": {
        "id": "ur0CtY61O-V7"
      },
      "source": [
        "\n",
        "Exponential scheduling and piecewise scheduling are quite simple too:\n",
        "- You first need to define a function that takes the **current epoch and returns the learning rate.**"
      ]
    },
    {
      "cell_type": "markdown",
      "metadata": {
        "id": "x6bbERznO-V7"
      },
      "source": [
        "```lr = lr0 * 0.1**(epoch / s)```"
      ]
    },
    {
      "cell_type": "code",
      "metadata": {
        "id": "1ZdDhbm-AYSy"
      },
      "source": [
        "n_epochs=50"
      ],
      "execution_count": null,
      "outputs": []
    },
    {
      "cell_type": "code",
      "metadata": {
        "id": "5jBA1HyRO-V8"
      },
      "source": [
        "def exponential_decay_fn(epoch):\n",
        "    return 0.01 * 0.1**(epoch / 20)"
      ],
      "execution_count": null,
      "outputs": []
    },
    {
      "cell_type": "markdown",
      "metadata": {
        "id": "mbxb2hTEO-V9"
      },
      "source": [
        "If you do not want to hardcode η 0 and s , you can create a function that returns a **configured function**:"
      ]
    },
    {
      "cell_type": "code",
      "metadata": {
        "id": "Q1w0PDZpO-V9"
      },
      "source": [
        "def exponential_decay(lr0, s):\n",
        "    def exponential_decay_fn(epoch):\n",
        "        return lr0 * 0.1**(epoch / s)\n",
        "    return exponential_decay_fn\n",
        "\n",
        "exponential_decay_fn = exponential_decay(lr0=0.01, s=20)"
      ],
      "execution_count": null,
      "outputs": []
    },
    {
      "cell_type": "markdown",
      "metadata": {
        "id": "BKCMYV8yO-V-"
      },
      "source": [
        "Next, create a `LearningRateScheduler` callback, giving it the schedule function, and pass this callback to the `fit()` method. The `LearningRateScheduler` will update the optimizer’s `learning_rate` attribute at the **beginning of each epoch**.\n",
        "\n"
      ]
    },
    {
      "cell_type": "code",
      "metadata": {
        "id": "9RZnjoI8O-V_"
      },
      "source": [
        "# Pass this into model.compile in the callbacks arg\n",
        "lr_scheduler = tf.keras.callbacks.LearningRateScheduler(exponential_decay_fn)"
      ],
      "execution_count": null,
      "outputs": []
    },
    {
      "cell_type": "code",
      "metadata": {
        "id": "xiYHe44TO-WA",
        "colab": {
          "base_uri": "https://localhost:8080/",
          "height": 303
        },
        "outputId": "996dc866-4894-4879-b284-82bd04dd6ff1"
      },
      "source": [
        "epochs = np.arange(n_epochs)\n",
        "lrs = exponential_decay_fn(epochs)\n",
        "\n",
        "plt.plot(epochs, lrs, \"o-\")\n",
        "plt.axis([0, n_epochs - 1, 0, 0.011])\n",
        "plt.xlabel(\"Epoch\")\n",
        "plt.ylabel(\"Learning Rate\")\n",
        "plt.title(\"Exponential Scheduling\", fontsize=14)\n",
        "plt.grid(True)\n",
        "plt.show()"
      ],
      "execution_count": null,
      "outputs": [
        {
          "output_type": "display_data",
          "data": {
            "text/plain": [
              "<Figure size 432x288 with 1 Axes>"
            ],
            "image/png": "[encoded data removed]"
          },
          "metadata": {
            "needs_background": "light"
          }
        }
      ]
    },
    {
      "cell_type": "markdown",
      "metadata": {
        "id": "Tes8DZVuO-WB"
      },
      "source": [
        "If you want to update the learning rate at each iteration rather than at each epoch, you must write your own callback class:"
      ]
    },
    {
      "cell_type": "code",
      "source": [
        "# building a custom callback for iteration-based scheduling\n",
        "# (as opposed to the built-in epoch-based scheduling)\n",
        "K = keras.backend\n",
        "\n",
        "class ExponentialDecay(keras.callbacks.Callback):\n",
        "    def __init__(self, s=40000):\n",
        "        super().__init__()\n",
        "        self.s = s\n",
        "\n",
        "    def on_batch_begin(self, batch, logs=None):\n",
        "        # Note: the `batch` argument is reset at each epoch\n",
        "        lr = K.get_value(self.model.optimizer.lr)\n",
        "        K.set_value(self.model.optimizer.lr, lr * 0.1**(1 / s))\n",
        "\n",
        "    def on_epoch_end(self, epoch, logs=None):\n",
        "        logs = logs or {}\n",
        "        logs['lr'] = K.get_value(self.model.optimizer.lr)"
      ],
      "metadata": {
        "id": "BzlikiYoB5b8"
      },
      "execution_count": null,
      "outputs": []
    },
    {
      "cell_type": "code",
      "metadata": {
        "id": "QSgW3tCLO-WC",
        "colab": {
          "base_uri": "https://localhost:8080/"
        },
        "outputId": "f8c7210b-1fcb-43b5-8d68-847258084a66"
      },
      "source": [
        "# in the code below, we build and train a model using\n",
        "# exponential learning rate scheduling\n",
        "\n",
        "model = keras.models.Sequential([\n",
        "    keras.layers.Flatten(input_shape=[28, 28]),\n",
        "    keras.layers.Dense(300, activation=\"selu\", kernel_initializer=\"lecun_normal\"),\n",
        "    keras.layers.Dense(100, activation=\"selu\", kernel_initializer=\"lecun_normal\"),\n",
        "    keras.layers.Dense(10, activation=\"softmax\")\n",
        "])\n",
        "lr0 = 0.01\n",
        "optimizer = keras.optimizers.Nadam(learning_rate=lr0)\n",
        "model.compile(loss=\"sparse_categorical_crossentropy\", optimizer=optimizer, metrics=[\"accuracy\"])\n",
        "n_epochs = 25\n",
        "\n",
        "s = 20 * len(X_train) // 32 # number of steps in 20 epochs (batch size = 32)\n",
        "exp_decay = ExponentialDecay(s)\n",
        "history = model.fit(X_train, y_train, epochs=n_epochs,\n",
        "                    validation_data=(X_valid, y_valid),\n",
        "                    callbacks=[exp_decay])"
      ],
      "execution_count": null,
      "outputs": [
        {
          "output_type": "stream",
          "name": "stdout",
          "text": [
            "Epoch 1/25\n",
            "1719/1719 [==============================] - 9s 5ms/step - loss: 0.6981 - accuracy: 0.7741 - val_loss: 0.8349 - val_accuracy: 0.7454 - lr: 0.0089\n",
            "Epoch 2/25\n",
            "1719/1719 [==============================] - 8s 5ms/step - loss: 0.5140 - accuracy: 0.8252 - val_loss: 0.4198 - val_accuracy: 0.8584 - lr: 0.0079\n",
            "Epoch 3/25\n",
            "1719/1719 [==============================] - 8s 5ms/step - loss: 0.4436 - accuracy: 0.8471 - val_loss: 0.5615 - val_accuracy: 0.8248 - lr: 0.0071\n",
            "Epoch 4/25\n",
            "1719/1719 [==============================] - 9s 5ms/step - loss: 0.4077 - accuracy: 0.8598 - val_loss: 0.3829 - val_accuracy: 0.8754 - lr: 0.0063\n",
            "Epoch 5/25\n",
            "1719/1719 [==============================] - 9s 5ms/step - loss: 0.3778 - accuracy: 0.8701 - val_loss: 0.3902 - val_accuracy: 0.8664 - lr: 0.0056\n",
            "Epoch 6/25\n",
            "1719/1719 [==============================] - 9s 5ms/step - loss: 0.3512 - accuracy: 0.8793 - val_loss: 0.3528 - val_accuracy: 0.8814 - lr: 0.0050\n",
            "Epoch 7/25\n",
            "1719/1719 [==============================] - 9s 5ms/step - loss: 0.3297 - accuracy: 0.8859 - val_loss: 0.3605 - val_accuracy: 0.8798 - lr: 0.0045\n",
            "Epoch 8/25\n",
            "1719/1719 [==============================] - 8s 5ms/step - loss: 0.3084 - accuracy: 0.8916 - val_loss: 0.4027 - val_accuracy: 0.8604 - lr: 0.0040\n",
            "Epoch 9/25\n",
            "1719/1719 [==============================] - 8s 5ms/step - loss: 0.2928 - accuracy: 0.8961 - val_loss: 0.3627 - val_accuracy: 0.8838 - lr: 0.0035\n",
            "Epoch 10/25\n",
            "1719/1719 [==============================] - 8s 5ms/step - loss: 0.2780 - accuracy: 0.9010 - val_loss: 0.3608 - val_accuracy: 0.8870 - lr: 0.0032\n",
            "Epoch 11/25\n",
            "1719/1719 [==============================] - 8s 5ms/step - loss: 0.2648 - accuracy: 0.9043 - val_loss: 0.3649 - val_accuracy: 0.8850 - lr: 0.0028\n",
            "Epoch 12/25\n",
            "1719/1719 [==============================] - 8s 5ms/step - loss: 0.2499 - accuracy: 0.9085 - val_loss: 0.3630 - val_accuracy: 0.8844 - lr: 0.0025\n",
            "Epoch 13/25\n",
            "1719/1719 [==============================] - 8s 5ms/step - loss: 0.2382 - accuracy: 0.9129 - val_loss: 0.3709 - val_accuracy: 0.8900 - lr: 0.0022\n",
            "Epoch 14/25\n",
            "1719/1719 [==============================] - 9s 5ms/step - loss: 0.2251 - accuracy: 0.9170 - val_loss: 0.3602 - val_accuracy: 0.8862 - lr: 0.0020\n",
            "Epoch 15/25\n",
            "1719/1719 [==============================] - 8s 5ms/step - loss: 0.2142 - accuracy: 0.9209 - val_loss: 0.3505 - val_accuracy: 0.8942 - lr: 0.0018\n",
            "Epoch 16/25\n",
            "1719/1719 [==============================] - 8s 5ms/step - loss: 0.2065 - accuracy: 0.9226 - val_loss: 0.3717 - val_accuracy: 0.8914 - lr: 0.0016\n",
            "Epoch 17/25\n",
            "1719/1719 [==============================] - 8s 5ms/step - loss: 0.1970 - accuracy: 0.9265 - val_loss: 0.3957 - val_accuracy: 0.8880 - lr: 0.0014\n",
            "Epoch 18/25\n",
            "1719/1719 [==============================] - 9s 5ms/step - loss: 0.1889 - accuracy: 0.9299 - val_loss: 0.3753 - val_accuracy: 0.8992 - lr: 0.0013\n",
            "Epoch 19/25\n",
            "1719/1719 [==============================] - 9s 5ms/step - loss: 0.1806 - accuracy: 0.9324 - val_loss: 0.3859 - val_accuracy: 0.8960 - lr: 0.0011\n",
            "Epoch 20/25\n",
            "1719/1719 [==============================] - 8s 5ms/step - loss: 0.1723 - accuracy: 0.9353 - val_loss: 0.3784 - val_accuracy: 0.8948 - lr: 9.9967e-04\n",
            "Epoch 21/25\n",
            "1719/1719 [==============================] - 7s 4ms/step - loss: 0.1650 - accuracy: 0.9381 - val_loss: 0.3941 - val_accuracy: 0.8984 - lr: 8.9094e-04\n",
            "Epoch 22/25\n",
            "1719/1719 [==============================] - 8s 5ms/step - loss: 0.1604 - accuracy: 0.9390 - val_loss: 0.4164 - val_accuracy: 0.8976 - lr: 7.9404e-04\n",
            "Epoch 23/25\n",
            "1719/1719 [==============================] - 7s 4ms/step - loss: 0.1545 - accuracy: 0.9428 - val_loss: 0.3962 - val_accuracy: 0.8992 - lr: 7.0767e-04\n",
            "Epoch 24/25\n",
            "1719/1719 [==============================] - 7s 4ms/step - loss: 0.1485 - accuracy: 0.9445 - val_loss: 0.4022 - val_accuracy: 0.9034 - lr: 6.3071e-04\n",
            "Epoch 25/25\n",
            "1719/1719 [==============================] - 7s 4ms/step - loss: 0.1438 - accuracy: 0.9467 - val_loss: 0.4280 - val_accuracy: 0.9000 - lr: 5.6211e-04\n"
          ]
        }
      ]
    },
    {
      "cell_type": "code",
      "metadata": {
        "id": "9iTKkQNnO-WE"
      },
      "source": [
        "n_steps = n_epochs * len(X_train) // 32\n",
        "steps = np.arange(n_steps)\n",
        "lrs = lr0 * 0.1**(steps / s)"
      ],
      "execution_count": null,
      "outputs": []
    },
    {
      "cell_type": "code",
      "metadata": {
        "id": "GnAwUzpqO-WH",
        "scrolled": true,
        "colab": {
          "base_uri": "https://localhost:8080/",
          "height": 303
        },
        "outputId": "817e1b6c-eea9-41eb-f386-f79c9df04059"
      },
      "source": [
        "plt.plot(steps, lrs, \"-\", linewidth=2)\n",
        "plt.axis([0, n_steps - 1, 0, lr0 * 1.1])\n",
        "plt.xlabel(\"Batch\")\n",
        "plt.ylabel(\"Learning Rate\")\n",
        "plt.title(\"Exponential Scheduling (per batch)\", fontsize=14)\n",
        "plt.grid(True)\n",
        "plt.show()"
      ],
      "execution_count": null,
      "outputs": [
        {
          "output_type": "display_data",
          "data": {
            "text/plain": [
              "<Figure size 432x288 with 1 Axes>"
            ],
            "image/png": "[encoded data removed]"
          },
          "metadata": {
            "needs_background": "light"
          }
        }
      ]
    },
    {
      "cell_type": "markdown",
      "metadata": {
        "id": "eWBzbDx5EV68"
      },
      "source": [
        "Aslo we can use `Keras Scheduler` for implementing `Exponential Scheduling`."
      ]
    },
    {
      "cell_type": "code",
      "metadata": {
        "id": "OOWsSSw1Emed"
      },
      "source": [
        "initial_learning_rate = 0.1\n",
        "lr_schedule = tf.keras.optimizers.schedules.ExponentialDecay(\n",
        "    initial_learning_rate,\n",
        "    decay_steps=100000,\n",
        "    decay_rate=0.96,\n",
        "    staircase=True)\n",
        "\n",
        "model = keras.models.Sequential([\n",
        "    keras.layers.Flatten(input_shape=[28, 28]),\n",
        "    keras.layers.Dense(300, activation=\"selu\", kernel_initializer=\"lecun_normal\"),\n",
        "    keras.layers.Dense(100, activation=\"selu\", kernel_initializer=\"lecun_normal\"),\n",
        "    keras.layers.Dense(10, activation=\"softmax\")\n",
        "])\n",
        "\n",
        "model.compile(optimizer=tf.keras.optimizers.SGD(learning_rate=lr_schedule),\n",
        "              loss='sparse_categorical_crossentropy',\n",
        "              metrics=['accuracy'])\n",
        "\n"
      ],
      "execution_count": null,
      "outputs": []
    },
    {
      "cell_type": "code",
      "metadata": {
        "colab": {
          "base_uri": "https://localhost:8080/"
        },
        "id": "wLEoh3HTEmiP",
        "outputId": "dbb842a8-25b0-45ff-c0c7-55b62f48ce8b"
      },
      "source": [
        "history = model.fit(X_train, y_train, epochs=n_epochs,validation_data=(X_valid, y_valid))"
      ],
      "execution_count": null,
      "outputs": [
        {
          "output_type": "stream",
          "name": "stdout",
          "text": [
            "Epoch 1/25\n",
            "1719/1719 [==============================] - 5s 3ms/step - loss: 0.5822 - accuracy: 0.7947 - val_loss: 0.5993 - val_accuracy: 0.7804\n",
            "Epoch 2/25\n",
            "1719/1719 [==============================] - 5s 3ms/step - loss: 0.4264 - accuracy: 0.8420 - val_loss: 0.3810 - val_accuracy: 0.8622\n",
            "Epoch 3/25\n",
            "1719/1719 [==============================] - 5s 3ms/step - loss: 0.3857 - accuracy: 0.8587 - val_loss: 0.5424 - val_accuracy: 0.7994\n",
            "Epoch 4/25\n",
            "1719/1719 [==============================] - 5s 3ms/step - loss: 0.3638 - accuracy: 0.8665 - val_loss: 0.3512 - val_accuracy: 0.8722\n",
            "Epoch 5/25\n",
            "1719/1719 [==============================] - 6s 3ms/step - loss: 0.3461 - accuracy: 0.8726 - val_loss: 0.3458 - val_accuracy: 0.8702\n",
            "Epoch 6/25\n",
            "1719/1719 [==============================] - 5s 3ms/step - loss: 0.3284 - accuracy: 0.8791 - val_loss: 0.3616 - val_accuracy: 0.8754\n",
            "Epoch 7/25\n",
            "1719/1719 [==============================] - 5s 3ms/step - loss: 0.3188 - accuracy: 0.8823 - val_loss: 0.3511 - val_accuracy: 0.8726\n",
            "Epoch 8/25\n",
            "1719/1719 [==============================] - 5s 3ms/step - loss: 0.3098 - accuracy: 0.8854 - val_loss: 0.4015 - val_accuracy: 0.8544\n",
            "Epoch 9/25\n",
            "1719/1719 [==============================] - 5s 3ms/step - loss: 0.3008 - accuracy: 0.8873 - val_loss: 0.3323 - val_accuracy: 0.8780\n",
            "Epoch 10/25\n",
            "1719/1719 [==============================] - 5s 3ms/step - loss: 0.2958 - accuracy: 0.8886 - val_loss: 0.3615 - val_accuracy: 0.8704\n",
            "Epoch 11/25\n",
            "1719/1719 [==============================] - 5s 3ms/step - loss: 0.2862 - accuracy: 0.8928 - val_loss: 0.3321 - val_accuracy: 0.8850\n",
            "Epoch 12/25\n",
            "1719/1719 [==============================] - 5s 3ms/step - loss: 0.2769 - accuracy: 0.8952 - val_loss: 0.3439 - val_accuracy: 0.8774\n",
            "Epoch 13/25\n",
            "1719/1719 [==============================] - 5s 3ms/step - loss: 0.2734 - accuracy: 0.8975 - val_loss: 0.3320 - val_accuracy: 0.8834\n",
            "Epoch 14/25\n",
            "1719/1719 [==============================] - 5s 3ms/step - loss: 0.2667 - accuracy: 0.8995 - val_loss: 0.4250 - val_accuracy: 0.8432\n",
            "Epoch 15/25\n",
            "1719/1719 [==============================] - 5s 3ms/step - loss: 0.2617 - accuracy: 0.9018 - val_loss: 0.3829 - val_accuracy: 0.8658\n",
            "Epoch 16/25\n",
            "1719/1719 [==============================] - 5s 3ms/step - loss: 0.2590 - accuracy: 0.9035 - val_loss: 0.3495 - val_accuracy: 0.8754\n",
            "Epoch 17/25\n",
            "1719/1719 [==============================] - 5s 3ms/step - loss: 0.2515 - accuracy: 0.9056 - val_loss: 0.3996 - val_accuracy: 0.8642\n",
            "Epoch 18/25\n",
            "1719/1719 [==============================] - 5s 3ms/step - loss: 0.2484 - accuracy: 0.9054 - val_loss: 0.3483 - val_accuracy: 0.8820\n",
            "Epoch 19/25\n",
            "1719/1719 [==============================] - 5s 3ms/step - loss: 0.2430 - accuracy: 0.9087 - val_loss: 0.3206 - val_accuracy: 0.8876\n",
            "Epoch 20/25\n",
            "1719/1719 [==============================] - 5s 3ms/step - loss: 0.2391 - accuracy: 0.9099 - val_loss: 0.3975 - val_accuracy: 0.8676\n",
            "Epoch 21/25\n",
            "1719/1719 [==============================] - 5s 3ms/step - loss: 0.2345 - accuracy: 0.9120 - val_loss: 0.3833 - val_accuracy: 0.8754\n",
            "Epoch 22/25\n",
            "1719/1719 [==============================] - 5s 3ms/step - loss: 0.2307 - accuracy: 0.9131 - val_loss: 0.3754 - val_accuracy: 0.8834\n",
            "Epoch 23/25\n",
            "1719/1719 [==============================] - 5s 3ms/step - loss: 0.2273 - accuracy: 0.9132 - val_loss: 0.3530 - val_accuracy: 0.8846\n",
            "Epoch 24/25\n",
            "1719/1719 [==============================] - 5s 3ms/step - loss: 0.2215 - accuracy: 0.9163 - val_loss: 0.3662 - val_accuracy: 0.8830\n",
            "Epoch 25/25\n",
            "1719/1719 [==============================] - 5s 3ms/step - loss: 0.2173 - accuracy: 0.9186 - val_loss: 0.3771 - val_accuracy: 0.8876\n"
          ]
        }
      ]
    },
    {
      "cell_type": "markdown",
      "metadata": {
        "id": "v2JJ9VbBCP66"
      },
      "source": [
        "# Avoiding Overfitting through Regularization"
      ]
    },
    {
      "cell_type": "markdown",
      "source": [
        "Deep neural networks typically have tens of thousands of parameters, sometimes even millions. This gives them an incredible amount of freedom and means they can fit a huge variety of complex datasets. But this great flexibility also makes the network prone to overfitting the training set. **We need regularization**.\n",
        "\n",
        "In this section we will examine popular regularization techniques for neural networks:\n",
        "- early stopping\n",
        "- ℓ 1 and ℓ 2 regularization,\n",
        "- dropout,\n",
        "- and max-norm regularization."
      ],
      "metadata": {
        "id": "JlKGX54jC-CP"
      }
    },
    {
      "cell_type": "markdown",
      "metadata": {
        "id": "4HS2TjzCKaoH"
      },
      "source": [
        "\n",
        "\n",
        "## Early Stopping\n",
        "A problem with training neural networks is in the choice of the number of training epochs to use. Too many epochs can lead to overfitting of the training dataset, whereas too few may result in an underfit model. Early stopping is a method that allows you to specify an arbitrary large number of training epochs and stop training once the model performance stops improving on a hold out validation dataset.\n",
        "\n",
        "Keras supports the early stopping of training via a callback called `EarlyStopping`. This callback allows you to **specify the performance measure to monitor and the trigger that will stop the training process.** Let's take a quick look at the initialization (init) signature:\n",
        "```python\n",
        "from tensorflow.keras.callbacks import EarlyStopping\n",
        "EarlyStopping(monitor='val_loss',\n",
        "              min_delta=0,\n",
        "              patience=0,\n",
        "              verbose=0,\n",
        "              mode='auto',\n",
        "              baseline=None,\n",
        "              restore_best_weights=False)\n",
        "```\n",
        "Let's dig into these arguments:\n",
        "- `monitor`: Select the metric or quantity to be monitored.\n",
        "- `min_delta`: Minimum change in the monitored quantity to qualify as an improvement (i.e., an absolute change of less than `min_delta`, will count as no improvement)\n",
        "- `patience`: Number of epochs with no improvement after which training will be stopped.\n",
        "- `verbose`: verbosity mode; to discover the training epoch on which training was stopped, set this argument to 1.\n",
        "- `mode`: One of `{\"auto\", \"min\", \"max\"}`. In `min` mode, training will stop when the quantity monitored has stopped decreasing; in `max` mode it will stop when the quantity monitored has stopped increasing; in `auto` mode, the direction is automatically inferred from the name of the monitored quantity.\n",
        "- `baseline`: Baseline value for the monitored quantity. Training will stop if the model doesn't show improvement over the baseline.\n",
        "- `restore_best_weights`: Whether to restore model weights from the epoch with the best value of the monitored quantity. If False, the model weights obtained at the last step of training are used.\n",
        "\n",
        "Most of these arguments are self-explanatory, so lets try incorporating EarlyStopping into a model. We will use the `make_moons` dataset with extra noise and only 100 samples so it is easy to overfit (for demonstration purposes). Take a look at the data below:"
      ]
    },
    {
      "cell_type": "code",
      "metadata": {
        "colab": {
          "base_uri": "https://localhost:8080/",
          "height": 337
        },
        "id": "0IUMc7QmKaoI",
        "outputId": "891eb41f-5814-4f4f-9984-1782113c6dcb"
      },
      "source": [
        "from sklearn.datasets import make_moons\n",
        "import matplotlib.pyplot as plt\n",
        "\n",
        "# Generate 2d classification dataset\n",
        "X, y = make_moons(n_samples=100, noise=0.2, random_state=1)\n",
        "plt.scatter(X[:,0], X[:,1], c=y)\n",
        "plt.show()\n",
        "\n",
        "# split into train and test\n",
        "n_train = 50\n",
        "X_train, X_test = X[:n_train, :], X[n_train:, :]\n",
        "y_train, y_test = y[:n_train], y[n_train:]\n",
        "\n",
        "# Check shapes\n",
        "print('X_train:',X_train.shape)\n",
        "print('y_train:',y_train.shape)\n",
        "print('X_test:',X_test.shape)\n",
        "print('y_test:',y_test.shape)"
      ],
      "execution_count": null,
      "outputs": [
        {
          "output_type": "display_data",
          "data": {
            "text/plain": [
              "<Figure size 432x288 with 1 Axes>"
            ],
            "image/png": "[encoded data removed]"
          },
          "metadata": {
            "needs_background": "light"
          }
        },
        {
          "output_type": "stream",
          "name": "stdout",
          "text": [
            "X_train: (50, 2)\n",
            "y_train: (50,)\n",
            "X_test: (50, 2)\n",
            "y_test: (50,)\n"
          ]
        }
      ]
    },
    {
      "cell_type": "code",
      "metadata": {
        "id": "-MWZVnuIKaoT"
      },
      "source": [
        "# Import tf and keras\n",
        "import tensorflow as tf\n",
        "from tensorflow.keras.models import Sequential\n",
        "from tensorflow.keras.layers import Dense"
      ],
      "execution_count": null,
      "outputs": []
    },
    {
      "cell_type": "code",
      "metadata": {
        "colab": {
          "base_uri": "https://localhost:8080/",
          "height": 320
        },
        "id": "KhhIb3dHKaoW",
        "outputId": "1a85d546-9108-4e62-badf-c142af3f04ed"
      },
      "source": [
        "%%time\n",
        "# Note this code block should take around 1 minute to run\n",
        "\n",
        "# define model\n",
        "model = Sequential()\n",
        "model.add(Dense(500, input_dim=2, activation='relu'))\n",
        "model.add(Dense(1, activation='sigmoid'))\n",
        "model.compile(loss='binary_crossentropy', optimizer='adam', metrics=['accuracy'])\n",
        "\n",
        "# fit model\n",
        "history = model.fit(X_train, y_train, validation_data=(X_test, y_test), epochs=2000, verbose=0)\n",
        "\n",
        "# evaluate the model\n",
        "_, train_acc = model.evaluate(X_train, y_train, verbose=0)\n",
        "_, test_acc = model.evaluate(X_test, y_test, verbose=0)\n",
        "print('Train: %.3f, Test: %.3f' % (train_acc, test_acc))\n",
        "\n",
        "# plot training history\n",
        "plt.plot(history.history['loss'], label='train')\n",
        "plt.plot(history.history['val_loss'], label='validation')\n",
        "plt.legend()\n",
        "plt.show()"
      ],
      "execution_count": null,
      "outputs": [
        {
          "output_type": "stream",
          "name": "stdout",
          "text": [
            "Train: 1.000, Test: 0.920\n"
          ]
        },
        {
          "output_type": "display_data",
          "data": {
            "text/plain": [
              "<Figure size 432x288 with 1 Axes>"
            ],
            "image/png": "[encoded data removed]"
          },
          "metadata": {
            "needs_background": "light"
          }
        },
        {
          "output_type": "stream",
          "name": "stdout",
          "text": [
            "CPU times: user 54.8 s, sys: 4.66 s, total: 59.4 s\n",
            "Wall time: 53.6 s\n"
          ]
        }
      ]
    },
    {
      "cell_type": "markdown",
      "metadata": {
        "id": "hb4nNhO7Kaob"
      },
      "source": [
        "We can see that  our model reaches a global minimum on test loss at around **600 epochs**, after which it begins to overfit the test data. As such, let's implement early stopping and run this again! We will monitor the `val_loss` with a `patience` value of 200 epochs, and set `restore_best_weights` to `True`:"
      ]
    },
    {
      "cell_type": "code",
      "metadata": {
        "id": "6_rRkGx9Kaoc"
      },
      "source": [
        "# Import EarlyStopping function\n",
        "from tensorflow.keras.callbacks import EarlyStopping"
      ],
      "execution_count": null,
      "outputs": []
    },
    {
      "cell_type": "code",
      "metadata": {
        "colab": {
          "base_uri": "https://localhost:8080/",
          "height": 355
        },
        "id": "fOobsNzvKaog",
        "outputId": "4ecd9dce-53b3-4eb1-a512-7cf2f32a55de"
      },
      "source": [
        "%%time\n",
        "# Note this code block should take around 1 minute to run\n",
        "\n",
        "# Reset the model\n",
        "model = Sequential()\n",
        "model.add(Dense(500, input_dim=2, activation='relu'))\n",
        "model.add(Dense(1, activation='sigmoid'))\n",
        "model.compile(loss='binary_crossentropy', optimizer='adam', metrics=['accuracy'])\n",
        "\n",
        "# Add early stopping\n",
        "es = EarlyStopping(monitor='val_loss', mode='min', patience=200, restore_best_weights=True, verbose=1)\n",
        "\n",
        "# fit model\n",
        "history = model.fit(X_train, y_train, validation_data=(X_test, y_test), epochs=2000, callbacks=[es], verbose=0)\n",
        "\n",
        "# evaluate the model\n",
        "_, train_acc = model.evaluate(X_train, y_train, verbose=0)\n",
        "_, test_acc = model.evaluate(X_test, y_test, verbose=0)\n",
        "print('Train: %.3f, Test: %.3f' % (train_acc, test_acc))\n",
        "\n",
        "# plot training history\n",
        "plt.plot(history.history['loss'], label='train')\n",
        "plt.plot(history.history['val_loss'], label='validation')\n",
        "plt.legend()\n",
        "plt.show()"
      ],
      "execution_count": null,
      "outputs": [
        {
          "output_type": "stream",
          "name": "stdout",
          "text": [
            "Restoring model weights from the end of the best epoch: 561.\n",
            "Epoch 761: early stopping\n",
            "Train: 1.000, Test: 0.920\n"
          ]
        },
        {
          "output_type": "display_data",
          "data": {
            "text/plain": [
              "<Figure size 432x288 with 1 Axes>"
            ],
            "image/png": "[encoded data removed]"
          },
          "metadata": {
            "needs_background": "light"
          }
        },
        {
          "output_type": "stream",
          "name": "stdout",
          "text": [
            "CPU times: user 22.2 s, sys: 1.93 s, total: 24.2 s\n",
            "Wall time: 21.3 s\n"
          ]
        }
      ]
    },
    {
      "cell_type": "markdown",
      "metadata": {
        "id": "yfEpxfdRKaok"
      },
      "source": [
        "Note that because we had the `restore_best_weights` argument in our callback set to true, our model automatically reverts to the best performing weights. That said, if you are training your model for many hours and want to automatically save the best model when a global minimum is reached, you can do so by adding a `ModelCheckpoint` callback into the fit function:\n",
        "```python\n",
        "mc = ModelCheckpoint('best_model.h5', monitor='val_acc', mode='max', verbose=1, save_best_only=True)\n",
        "```\n",
        "The code is very simple (and similar to the EarlyStopping callback), so we won't dig into it anymore here. However, feel free to apply it to your own models, especially if you are planning on training a very large model for many hours."
      ]
    },
    {
      "cell_type": "markdown",
      "metadata": {
        "id": "geLg2SqqKaok"
      },
      "source": [
        "<a id=\"L1_and_L2_Regularization\"></a>\n",
        "## L1 and L2 Regularization\n",
        "\n",
        "Although early stopping works very well in practice, you can usually get much higher performance out of your network by combining it with other regularization techniques; **the most common of these techniques is L1/L2 regularization.** You have covered L1 and L2 regularization in the pre-requisite ML course, so we won't go into details here. The main difference when applying regularization to neural nets (as opposed to a simple linear regression, for example) is that you apply L1 and L2 to each layer individually.\n",
        "\n",
        "The `tf.keras.regularizers` module and the `activity_regularizer` argument in most `tf.keras.layer` classes makes applying regularization to individual layers very easy. `tf.keras.regularizers` supports three different regularization techniques, each provided as a class:\n",
        "- `l1`: Activity is calculated as the sum of absolute values.\n",
        "- `l2`: Activity is calculated as the sum of the squared values.\n",
        "- `l1_l2`: Activity is calculated as the sum of absolute and sum of the squared values.\n",
        "\n",
        "Each of the `l1` and `l2` regularizers takes a single hyperparameter that controls the amount that each activity contributes to the sum. The l1_l2 regularizer takes two hyperparameters, one for each of the L1 and L2 methods:\n",
        "\n",
        "```python\n",
        "# import regularizers\n",
        "from tensorflow.keras.regularizers import l1, l2, l1_l2\n",
        "# instantiate regularizers\n",
        "reg_l1 = l1(0.001)\n",
        "reg_l2 = l1(0.001)\n",
        "reg_l1l2 = l1_l2(0.001, 0.001)\n",
        "```\n",
        "To add the above regularizers to you models, you have two options:\n",
        "\n",
        "1. Apply regularization PRE activation\n",
        "```python\n",
        "...\n",
        "model.add(Dense(32, activation=None, activity_regularizer=l1(0.001)))\n",
        "model.add(Activation('relu')\n",
        "...\n",
        "```\n",
        "1. Apply regularization POST activation\n",
        "```python\n",
        "...\n",
        "model.add(Dense(32, activation='relu', activity_regularizer=l1(0.001)))\n",
        "...\n",
        "```\n",
        "\n",
        "**PRE activation is probably the preferred usage of activation regularization**, for the model to learn to take activations to a true zero value in conjunction with the rectified linear activation function. Nevertheless, you should test out both methods to see which one works best with your model architecture and dataset.\n",
        "\n",
        "Let's test out these regularizers on the 'make_circles' dataset below. Just as we did in the EarlyStopping example, we will use a small sample size (100 observations with a 30/70 split) so that the model is likely to overfit the data. Hopefully our L1/L2 regularizers will step in to save the day!"
      ]
    },
    {
      "cell_type": "code",
      "metadata": {
        "colab": {
          "base_uri": "https://localhost:8080/",
          "height": 337
        },
        "id": "FdwAKUdwKaom",
        "outputId": "d186f600-d616-48b5-eaa4-ba6a7d81ea0e"
      },
      "source": [
        "from sklearn.datasets import make_circles\n",
        "\n",
        "# Generate 2d classification dataset\n",
        "X, y = make_circles(n_samples=100, noise=0.1, random_state=1)\n",
        "plt.scatter(X[:,0], X[:,1], c=y)\n",
        "plt.show()\n",
        "\n",
        "# split into train and test\n",
        "n_train = 30\n",
        "X_train, X_test = X[:n_train, :], X[n_train:, :]\n",
        "y_train, y_test = y[:n_train], y[n_train:]\n",
        "\n",
        "# Check shapes\n",
        "print('X_train:',X_train.shape)\n",
        "print('y_train:',y_train.shape)\n",
        "print('X_test:',X_test.shape)\n",
        "print('y_test:',y_test.shape)"
      ],
      "execution_count": null,
      "outputs": [
        {
          "output_type": "display_data",
          "data": {
            "text/plain": [
              "<Figure size 432x288 with 1 Axes>"
            ],
            "image/png": "[encoded data removed]"
          },
          "metadata": {
            "needs_background": "light"
          }
        },
        {
          "output_type": "stream",
          "name": "stdout",
          "text": [
            "X_train: (30, 2)\n",
            "y_train: (30,)\n",
            "X_test: (70, 2)\n",
            "y_test: (70,)\n"
          ]
        }
      ]
    },
    {
      "cell_type": "markdown",
      "source": [
        "Model without Regularization:"
      ],
      "metadata": {
        "id": "5giNHFGvDq2f"
      }
    },
    {
      "cell_type": "code",
      "metadata": {
        "colab": {
          "base_uri": "https://localhost:8080/",
          "height": 320
        },
        "id": "SbANOLGzKaop",
        "outputId": "2aa10948-4aa2-4d66-f2ac-37bb89a377aa"
      },
      "source": [
        "%%time\n",
        "# Note this code block should take around 1 minute to run\n",
        "\n",
        "# define model\n",
        "model = Sequential()\n",
        "model.add(Dense(500, input_dim=2, activation='relu'))\n",
        "model.add(Dense(1, activation='sigmoid'))\n",
        "model.compile(loss='binary_crossentropy', optimizer='adam', metrics=['accuracy'])\n",
        "\n",
        "# fit model\n",
        "history = model.fit(X_train, y_train, validation_data=(X_test, y_test), epochs=2000, verbose=0)\n",
        "\n",
        "# evaluate the model\n",
        "_, train_acc = model.evaluate(X_train, y_train, verbose=0)\n",
        "_, test_acc = model.evaluate(X_test, y_test, verbose=0)\n",
        "print('Train: %.3f, Test: %.3f' % (train_acc, test_acc))\n",
        "\n",
        "# plot training history\n",
        "plt.plot(history.history['loss'], label='train')\n",
        "plt.plot(history.history['val_loss'], label='test')\n",
        "plt.legend()\n",
        "plt.show()"
      ],
      "execution_count": null,
      "outputs": [
        {
          "output_type": "stream",
          "name": "stdout",
          "text": [
            "Train: 1.000, Test: 0.771\n"
          ]
        },
        {
          "output_type": "display_data",
          "data": {
            "text/plain": [
              "<Figure size 432x288 with 1 Axes>"
            ],
            "image/png": "[encoded data removed]"
          },
          "metadata": {
            "needs_background": "light"
          }
        },
        {
          "output_type": "stream",
          "name": "stdout",
          "text": [
            "CPU times: user 51.3 s, sys: 4.41 s, total: 55.7 s\n",
            "Wall time: 50.8 s\n"
          ]
        }
      ]
    },
    {
      "cell_type": "markdown",
      "metadata": {
        "id": "ic44IklbKaot"
      },
      "source": [
        "Once again, we the see the model is overfitting the training data. Lets add regularization and see if it makes a difference; we will use l1_l2 below, but as always you are encouraged to try out multiple approaches to find one that best fits your data and objectives."
      ]
    },
    {
      "cell_type": "code",
      "metadata": {
        "id": "uUtgGrmeKaou"
      },
      "source": [
        "# Import regularizers and activation layer\n",
        "from tensorflow.keras.regularizers import l1, l2, l1_l2\n",
        "from tensorflow.keras.layers import Activation"
      ],
      "execution_count": null,
      "outputs": []
    },
    {
      "cell_type": "markdown",
      "source": [
        "Model with both L1 and L2 regularization"
      ],
      "metadata": {
        "id": "LJmval__DwR0"
      }
    },
    {
      "cell_type": "code",
      "metadata": {
        "colab": {
          "base_uri": "https://localhost:8080/",
          "height": 320
        },
        "id": "fSB_gHjWKaox",
        "outputId": "1bedb1ff-a479-4e42-9d59-38c5a975ed64"
      },
      "source": [
        "%%time\n",
        "# Note this code block should take around 1 minute to run\n",
        "\n",
        "reg_l1l2 = l1_l2(0.005, 0.005)\n",
        "\n",
        "# define model\n",
        "model = Sequential()\n",
        "model.add(Dense(500, input_dim=2, activation=None, activity_regularizer=reg_l1l2))\n",
        "model.add(Activation('relu'))\n",
        "model.add(Dense(1, activation='sigmoid'))\n",
        "model.compile(loss='binary_crossentropy', optimizer='adam', metrics=['accuracy'])\n",
        "\n",
        "# fit model\n",
        "history = model.fit(X_train, y_train, validation_data=(X_test, y_test), epochs=2000, verbose=0)\n",
        "\n",
        "# evaluate the model\n",
        "_, train_acc = model.evaluate(X_train, y_train, verbose=0)\n",
        "_, test_acc = model.evaluate(X_test, y_test, verbose=0)\n",
        "print('Train: %.3f, Test: %.3f' % (train_acc, test_acc))\n",
        "\n",
        "# plot training history\n",
        "plt.plot(history.history['loss'], label='train')\n",
        "plt.plot(history.history['val_loss'], label='test')\n",
        "plt.legend()\n",
        "plt.show()"
      ],
      "execution_count": null,
      "outputs": [
        {
          "output_type": "stream",
          "name": "stdout",
          "text": [
            "Train: 0.967, Test: 0.786\n"
          ]
        },
        {
          "output_type": "display_data",
          "data": {
            "text/plain": [
              "<Figure size 432x288 with 1 Axes>"
            ],
            "image/png": "[encoded data removed]"
          },
          "metadata": {
            "needs_background": "light"
          }
        },
        {
          "output_type": "stream",
          "name": "stdout",
          "text": [
            "CPU times: user 52.6 s, sys: 4.66 s, total: 57.2 s\n",
            "Wall time: 1min 22s\n"
          ]
        }
      ]
    },
    {
      "cell_type": "markdown",
      "metadata": {
        "id": "j_eu6tF0Kapi"
      },
      "source": [
        "Not bad! The l1_l2 regularization seems to prevent model from overfitting, and the test accuracy values seem to level off at about epoch 1000. Again, we decided to use l1_l2 regulatization, but every model and dataset is different so its up to you to experiment and find the right combination for your use case."
      ]
    },
    {
      "cell_type": "markdown",
      "metadata": {
        "id": "sRLMuHdyKapj"
      },
      "source": [
        "<a id=\"Dropout\"></a>\n",
        "## Dropout\n",
        "The most popular regularization technique for deep learning is arguably **Dropout**, a method proposed by Geoffry Hinton in 2012 and further detailed in a paper by Nitish Srivastava in 2014. The technique has proven to improve accuracy for a wide variety of model architectures; even state-of-the-art neural networks often get a 1–2% accuracy boost simply by adding dropout. Despite this success, the algorithm itself is surprisingly simple:\n",
        "- At every training step, every neuron (including the input neurons **but excluding the output neurons**) has a probability $p$ of being temporarily “dropped out,” meaning it will be ignored during this training step, but it may be active during the next step.\n",
        "- The hyperparameter $p$ is called the dropout rate, and it is typically set to 50%. After training, neurons **do NOT get dropped anymore.**\n",
        "\n",
        "<img src=\"https://drive.google.com/uc?id=1ZRnNkV1qSFvZPDW4ZDfXtjfvEoLw-DUr\" style=\"width:600px;height:250px;\">\n",
        "\n",
        "Image source: University of Waterloo\n",
        "\n",
        "Image Description: A basic representation of dropout regularization as applied to a standard feedforward neural network\n",
        "\n",
        "The essential intuition here is that **neurons trained with dropout cannot co-adapt with their neighboring neurons; they have to be as useful as possible on their own.** They also cannot rely excessively on just a few input neurons; they must pay attention to each of their input neurons. They end up being less sensitive to slight changes in the inputs. In the end you get a more robust network that generalizes better.\n",
        "\n",
        "Another way to understand the power of dropout is to realize that a unique neural network is generated at each training step. Since each neuron can be either present or absent, there is a total of $2^N$ possible networks (where $N$ is the total number of droppable neurons). This means that it is extremely unlikely that the same neural network will be sampled twice. Once you have run 10,000 training steps, you have essentially **trained 10,000 different neural networks** (each with just one training instance). These neural networks are obviously not independent as they share many of their weights, but they are nevertheless all different. The resulting neural network can be seen as an **averaging ensemble of all these smaller neural networks.**\n",
        "\n"
      ]
    },
    {
      "cell_type": "markdown",
      "metadata": {
        "id": "ph41CD9WKapk"
      },
      "source": [
        "**NOTE:** There is one small but important technical detail:\n",
        "- Suppose the dropout rate $p = 50$. This means during testing, a neuron will be connected to twice as many input neurons as it was (on average) during training (remember - all neurons are used during testing)\n",
        "- To compensate for this fact, we need to multiply each neuron’s input connection weights by 0.5 after training. If we don’t, each neuron will get a total input signal roughly twice as large as what the network was trained on, and it is unlikely to perform well.\n",
        "- The general rule is: **multiply each input connection weight by the keep probability $(1-p)$ after training.**\n",
        "\n",
        "We can implement dropout for each individual layer in keras using the `tf.keras.layers.Dropout` layer as follows:\n",
        "\n",
        "```python\n",
        "# example of dropout between fully connected layers\n",
        "from tensorflow.keras.layers import Dense\n",
        "from tensorflow.keras.layers import Dropout\n",
        "...\n",
        "model.add(Dropout(rate=0.8, input_shape=(784,)))\n",
        "model.add(Dense(32))\n",
        "model.add(Dropout(rate=0.5))\n",
        "model.add(Dense(1))\n",
        "```\n",
        "\n",
        "Note that we add a `Dropout` layer just as we would add another `Dense` or `Activation` layer, and we use the `rate` argument to specify the 'keep probability' $p$ (the probability a neuron will **remain on**). We also apply a 20% dropout rate (80% keep probability) to the input layer, by specifying `input_shape` in the first dropout layer.\n",
        "\n",
        "Let's test out dropout! Here we will use the 3 dimensional 'make_s_curve' dataset:"
      ]
    },
    {
      "cell_type": "code",
      "metadata": {
        "colab": {
          "base_uri": "https://localhost:8080/",
          "height": 317
        },
        "id": "VTxoKKwXKapk",
        "outputId": "da88c84f-02d8-4569-fc7f-b4456edf446d"
      },
      "source": [
        "from sklearn.datasets import make_s_curve\n",
        "from tensorflow.keras.utils import to_categorical\n",
        "from mpl_toolkits.mplot3d import axes3d, Axes3D\n",
        "import pandas as pd\n",
        "\n",
        "# Generate 2d classification dataset\n",
        "X, y = make_s_curve(100, noise=0.3, random_state=1)\n",
        "# Transform data to multi-class\n",
        "y = pd.cut(y, bins=3, labels=[0,1,2])\n",
        "y = to_categorical(y)\n",
        "\n",
        "ax = plt.axes(projection='3d')\n",
        "ax.scatter3D(X[:,0], X[:,1], X[:,2], c=y, cmap='Greens');\n",
        "ax.view_init(20,20)\n",
        "plt.show()\n",
        "\n",
        "# split into train and test\n",
        "n_train = 30\n",
        "X_train, X_test = X[:n_train, :], X[n_train:, :]\n",
        "y_train, y_test = y[:n_train], y[n_train:]\n",
        "\n",
        "# Check shapes\n",
        "print('X_train:',X_train.shape)\n",
        "print('y_train:',y_train.shape)\n",
        "print('X_test:',X_test.shape)\n",
        "print('y_test:',y_test.shape)"
      ],
      "execution_count": null,
      "outputs": [
        {
          "output_type": "display_data",
          "data": {
            "text/plain": [
              "<Figure size 432x288 with 1 Axes>"
            ],
            "image/png": "[encoded data removed]"
          },
          "metadata": {
            "needs_background": "light"
          }
        },
        {
          "output_type": "stream",
          "name": "stdout",
          "text": [
            "X_train: (30, 3)\n",
            "y_train: (30, 3)\n",
            "X_test: (70, 3)\n",
            "y_test: (70, 3)\n"
          ]
        }
      ]
    },
    {
      "cell_type": "markdown",
      "source": [
        "Without Dropout:\n"
      ],
      "metadata": {
        "id": "YLXzsb36EGDo"
      }
    },
    {
      "cell_type": "code",
      "metadata": {
        "colab": {
          "base_uri": "https://localhost:8080/",
          "height": 320
        },
        "id": "zFBGIpLIKapq",
        "outputId": "3cb4b1db-6277-4f51-db40-0b14baee5ece"
      },
      "source": [
        "%%time\n",
        "# Note this code block should take around 1 minute to run\n",
        "\n",
        "# define model\n",
        "model = Sequential()\n",
        "model.add(Dense(500, input_dim=3, activation='relu'))\n",
        "model.add(Dense(3, activation='softmax'))\n",
        "model.compile(loss='categorical_crossentropy', optimizer='adam', metrics=['accuracy'])\n",
        "\n",
        "# fit model\n",
        "history = model.fit(X_train, y_train, validation_data=(X_test, y_test), epochs=2000, verbose=0)\n",
        "\n",
        "# evaluate the model\n",
        "_, train_acc = model.evaluate(X_train, y_train, verbose=0)\n",
        "_, test_acc = model.evaluate(X_test, y_test, verbose=0)\n",
        "print('Train: %.3f, Test: %.3f' % (train_acc, test_acc))\n",
        "\n",
        "# plot training history\n",
        "plt.plot(history.history['loss'], label='train')\n",
        "plt.plot(history.history['val_loss'], label='test')\n",
        "plt.legend()\n",
        "plt.show()"
      ],
      "execution_count": null,
      "outputs": [
        {
          "output_type": "stream",
          "name": "stdout",
          "text": [
            "Train: 1.000, Test: 0.829\n"
          ]
        },
        {
          "output_type": "display_data",
          "data": {
            "text/plain": [
              "<Figure size 432x288 with 1 Axes>"
            ],
            "image/png": "[encoded data removed]"
          },
          "metadata": {
            "needs_background": "light"
          }
        },
        {
          "output_type": "stream",
          "name": "stdout",
          "text": [
            "CPU times: user 48.4 s, sys: 4.62 s, total: 53 s\n",
            "Wall time: 1min 22s\n"
          ]
        }
      ]
    },
    {
      "cell_type": "code",
      "metadata": {
        "id": "FgIL63u_Kapw"
      },
      "source": [
        "# Import dropout\n",
        "from tensorflow.keras.layers import Dropout"
      ],
      "execution_count": null,
      "outputs": []
    },
    {
      "cell_type": "markdown",
      "source": [
        "With dropout:"
      ],
      "metadata": {
        "id": "7IjHXaB8EJq-"
      }
    },
    {
      "cell_type": "code",
      "metadata": {
        "colab": {
          "base_uri": "https://localhost:8080/",
          "height": 320
        },
        "id": "04hDDFs9Kapy",
        "outputId": "20c42809-dfa7-4880-ce49-b61cadc71f24"
      },
      "source": [
        "%%time\n",
        "# Note this code block should take around 1 minute to run\n",
        "\n",
        "# define model\n",
        "model = Sequential()\n",
        "model.add(Dropout(rate=0.5)) # Dropout input neurons\n",
        "model.add(Dense(500, input_dim=3, activation='relu'))\n",
        "model.add(Dropout(rate=0.8)) # Dropout hidden neurons\n",
        "model.add(Dense(3, activation='softmax'))\n",
        "model.compile(loss='categorical_crossentropy', optimizer='adam', metrics=['accuracy'])\n",
        "\n",
        "# fit model\n",
        "history = model.fit(X_train, y_train, validation_data=(X_test, y_test), epochs=2000, verbose=0)\n",
        "\n",
        "# evaluate the model\n",
        "_, train_acc = model.evaluate(X_train, y_train, verbose=0)\n",
        "_, test_acc = model.evaluate(X_test, y_test, verbose=0)\n",
        "print('Train: %.3f, Test: %.3f' % (train_acc, test_acc))\n",
        "\n",
        "# plot training history\n",
        "plt.plot(history.history['loss'], label='train')\n",
        "plt.plot(history.history['val_loss'], label='test')\n",
        "plt.legend()\n",
        "plt.show()"
      ],
      "execution_count": null,
      "outputs": [
        {
          "output_type": "stream",
          "name": "stdout",
          "text": [
            "Train: 0.967, Test: 0.786\n"
          ]
        },
        {
          "output_type": "display_data",
          "data": {
            "text/plain": [
              "<Figure size 432x288 with 1 Axes>"
            ],
            "image/png": "[encoded data removed]"
          },
          "metadata": {
            "needs_background": "light"
          }
        },
        {
          "output_type": "stream",
          "name": "stdout",
          "text": [
            "CPU times: user 48.7 s, sys: 4.77 s, total: 53.4 s\n",
            "Wall time: 1min 22s\n"
          ]
        }
      ]
    },
    {
      "cell_type": "markdown",
      "metadata": {
        "id": "qZd7gdBhKap1"
      },
      "source": [
        "As we can see, dropout seems to prevent the model from overfitting. The volatility in the training accuracy is due to the fact that we are effectively running a different model on each iteration."
      ]
    },
    {
      "cell_type": "markdown",
      "metadata": {
        "id": "T_60IHox__6n"
      },
      "source": [
        "### Exercise\n",
        "\n",
        "Following fashion_mnist dataset from Keras Dataset is loaded and reshaped."
      ]
    },
    {
      "cell_type": "code",
      "metadata": {
        "id": "3lXnGwLD__6n"
      },
      "source": [
        "from tensorflow.keras.datasets import fashion_mnist\n",
        "\n",
        "(x_train, y_train), (x_test, y_test) = fashion_mnist.load_data()\n",
        "\n",
        "# Reshaping data\n",
        "num_pixels = x_train.shape[1] * x_train.shape[2]\n",
        "x_train = x_train.reshape((x_train.shape[0], num_pixels)).astype('float32') /255\n",
        "x_test = x_test.reshape((x_test.shape[0], num_pixels)).astype('float32')/ 255\n"
      ],
      "execution_count": null,
      "outputs": []
    },
    {
      "cell_type": "markdown",
      "metadata": {
        "id": "jELJ5Dm4__6n"
      },
      "source": [
        "Try to build a deep learning model and also use `Dropout Layer` to regularize"
      ]
    },
    {
      "cell_type": "code",
      "metadata": {
        "id": "aGxg4rL3__6n"
      },
      "source": [
        "#your work here\n",
        "\n",
        "\n"
      ],
      "execution_count": null,
      "outputs": []
    },
    {
      "cell_type": "code",
      "metadata": {
        "id": "pf-N1ViP__6n"
      },
      "source": [
        "#your work here"
      ],
      "execution_count": null,
      "outputs": []
    },
    {
      "cell_type": "markdown",
      "metadata": {
        "id": "NRc_kdsv__6n"
      },
      "source": [
        "#### Solution"
      ]
    },
    {
      "cell_type": "code",
      "metadata": {
        "colab": {
          "base_uri": "https://localhost:8080/"
        },
        "id": "u-fQ1ZOv__6o",
        "outputId": "1a2f6ddb-ad3a-4a8e-bf61-6f350a0ec61e"
      },
      "source": [
        "# define model\n",
        "model = Sequential()\n",
        "model.add(Dropout(rate=0.5)) # Dropout hidden neurons\n",
        "model.add(Dense(500, input_dim=x_train.shape[1], activation='relu'))\n",
        "model.add(Dropout(rate=0.5)) # Dropout hidden neurons\n",
        "model.add(Dense(200, input_dim=x_train.shape[1], activation='relu'))\n",
        "model.add(Dropout(rate=0.5)) # Dropout hidden neurons\n",
        "model.add(Dense(40, input_dim=x_train.shape[1], activation='relu'))\n",
        "model.add(Dense(max(max(y_train), max(y_test))+1, activation='softmax'))\n",
        "model.compile(loss='sparse_categorical_crossentropy',  optimizer='adam', metrics=['accuracy'])\n",
        "\n",
        "# fit model\n",
        "model.fit(x_train, y_train, validation_data=(x_test, y_test),batch_size=1000, epochs=10)"
      ],
      "execution_count": null,
      "outputs": [
        {
          "output_type": "stream",
          "name": "stdout",
          "text": [
            "Epoch 1/10\n",
            "60/60 [==============================] - 1s 8ms/step - loss: 1.2679 - accuracy: 0.5264 - val_loss: 0.7025 - val_accuracy: 0.7231\n",
            "Epoch 2/10\n",
            "60/60 [==============================] - 0s 6ms/step - loss: 0.7429 - accuracy: 0.7196 - val_loss: 0.5847 - val_accuracy: 0.7720\n",
            "Epoch 3/10\n",
            "60/60 [==============================] - 0s 5ms/step - loss: 0.6503 - accuracy: 0.7608 - val_loss: 0.5302 - val_accuracy: 0.8131\n",
            "Epoch 4/10\n",
            "60/60 [==============================] - 0s 6ms/step - loss: 0.5960 - accuracy: 0.7800 - val_loss: 0.4992 - val_accuracy: 0.8216\n",
            "Epoch 5/10\n",
            "60/60 [==============================] - 0s 5ms/step - loss: 0.5658 - accuracy: 0.7923 - val_loss: 0.4808 - val_accuracy: 0.8271\n",
            "Epoch 6/10\n",
            "60/60 [==============================] - 0s 5ms/step - loss: 0.5451 - accuracy: 0.7989 - val_loss: 0.4550 - val_accuracy: 0.8333\n",
            "Epoch 7/10\n",
            "60/60 [==============================] - 0s 5ms/step - loss: 0.5323 - accuracy: 0.8043 - val_loss: 0.4472 - val_accuracy: 0.8404\n",
            "Epoch 8/10\n",
            "60/60 [==============================] - 0s 6ms/step - loss: 0.5166 - accuracy: 0.8094 - val_loss: 0.4452 - val_accuracy: 0.8388\n",
            "Epoch 9/10\n",
            "60/60 [==============================] - 0s 5ms/step - loss: 0.5062 - accuracy: 0.8164 - val_loss: 0.4311 - val_accuracy: 0.8428\n",
            "Epoch 10/10\n",
            "60/60 [==============================] - 0s 6ms/step - loss: 0.4976 - accuracy: 0.8171 - val_loss: 0.4269 - val_accuracy: 0.8467\n"
          ]
        },
        {
          "output_type": "execute_result",
          "data": {
            "text/plain": [
              "<keras.callbacks.History at 0x7f2bce0f3890>"
            ]
          },
          "metadata": {},
          "execution_count": 112
        }
      ]
    },
    {
      "cell_type": "markdown",
      "metadata": {
        "id": "B_HW0c76Kap2"
      },
      "source": [
        "<a id=\"Other_Regularization_Techniques\"></a>\n",
        "## Other Tuning Techniques"
      ]
    },
    {
      "cell_type": "markdown",
      "metadata": {
        "id": "UJqN39YmKap3"
      },
      "source": [
        "So far in this section of the module, we have learned about the early stopping, L1/L2, and dropout regularization techniques. In most cases, these will be sufficient for training your deep neural network models. However there are a couple of other techniques that you should be aware of: **max-norm regularization** and **data augmentation**.\n",
        "\n",
        "### Max-norm Regularization\n",
        "\n",
        "- This technique constrains the weight sizes of the incoming connections in each layer such that $\\left\\|w\\right\\| ≤ r$, where $r$ is the max-norm hyperparameter and $\\left\\|w\\right\\|$ is the l2 norm of the weight parameters. Reducing r increases the amount of regularization and helps reduce overfitting. Max-norm regularization can also help alleviate the vanishing/exploding gradients problems (particularly if you are using batch normalization).\n",
        "\n",
        "\n",
        "- You can implement max-norm fairly easily with keras using the `tensorflow.keras.constraints.MaxNorm` function. The code may look something like this:\n",
        "    \n",
        "```python\n",
        "from tensorflow.keras.constraints import MaxNorm\n",
        "...\n",
        "mn = MaxNorm(max_value=3)\n",
        "model.add(Dense(32, activation='relu', kernel_constraint=mn))\n",
        "...\n",
        "```\n",
        "### Data Augmentation\n",
        "\n",
        "Once your evaluation metric, model, and other associated methods are selected (your full end-to-end framework), it can be run and, potentially, improved. Your first inclination will likely be to alter some aspect of your end-to-end pipeline and examine the resulting effect on performance, but a reasonable first question is, would more data have helped?\n",
        "\n",
        "If performance of your model on your training data is poor, it is likely that this training data is not being used effectively, so there may be little reason to collect additional data. In this case it may be beneficial to begin altering the model size (e.g. adding layers or units to each layer), adjusting the learning rate, etc. If none of these show any effect, quality of the training data may be the issue (too noisy, wrong inputs, etc), so collecting \"better\" data may be more of an immediate need that simply collecting more data.\n",
        "\n",
        "Alternately, if the performance on the training set is good, but the performance on the test set is poor, gathering additional data should be highly effective in improving performance. If obtaining additional labeled data is feasible, this should be considered first. In some applications however adding data may not be possible, and so another alternative is to reduce the model size (e.g. adjusting the weight or decay coefficients) or adding/strengthening regularization.\n",
        "\n",
        "Data augmentation is one the ways that cab help you. It consists of generating new training instances from existing ones, artificially boosting the size of your training set; this technique (if done properly) will likely help reduce overfitting. This is particularly common for audio and image classification problems. The trick here is to generate realistic training instances; ideally, a human should NOT be able to tell generated images apart from original images. Adding Gaussian white noise to expand a dataset, for instance, is very common practice; Keras actually has a ```GaussianNoise``` layer so that you can easily incorporate this method into your existing models (check out the documentation [here](https://keras.io/layers/noise/#gaussiannoise))\n",
        "\n",
        "\n",
        "For image classification problems (or really almost any machine vision problem), you can also try **slightly shifting, rotating, and resizing every picture in the training set by various amounts and adding the resulting pictures to the training set.** This forces the model to be more tolerant to the position, orientation, and size of the objects in the picture you are trying to classify. By combining these transformations you can greatly increase the size of your training set. The Keras ```ImageDataGenerator``` is built specifically for these sorts of image preprocessing tasks; you can find the documentation on the Keras website [here]([https://keras.io/preprocessing/image/)."
      ]
    },
    {
      "cell_type": "markdown",
      "metadata": {
        "id": "_NhbrL1p__6o"
      },
      "source": [
        "###  Default Baseline Models  "
      ]
    },
    {
      "cell_type": "markdown",
      "metadata": {
        "id": "a922hYJN__6o"
      },
      "source": [
        "Once you have a sense of the evaluation metrics you'd like to use, the next option should be the choice of machine learning method. While neural networks will allow you to solve a host of unique learning problems, they may be overkill for others. If your problem can be solved with a simple linear model, there may be no need to introduce unnecessary complexity. However, if your problem involves object recognition, speech recognition, translation, or something similar, it is often best to begin with a simple deep learning model, adding complexity based on performance.\n",
        "\n",
        "Selection of deep learning model will depend on the nature of the problem addressed, for example:\n",
        "\n",
        "| Type of Input | Suggested Model |\n",
        "|------------------|------------------------|\n",
        "| Fixed-size vectors | Feedforward network with fully connected layers |\n",
        "| Known topological structure (e.g. images) | Convolutional nework |\n",
        "| Sequence | Gated recurrent net (LSTM or GRU)** |\n",
        "\n",
        "** Transformers recently over performed RNN models for number of sequence processing tasks"
      ]
    },
    {
      "cell_type": "markdown",
      "metadata": {
        "id": "nMQztisPEheb"
      },
      "source": [
        "#  Selecting hyperparameters"
      ]
    },
    {
      "cell_type": "markdown",
      "metadata": {
        "id": "cGVRmGyQEheb"
      },
      "source": [
        "A hyperparameter for a model typically has the following characteristics:\n",
        "\n",
        "1. It is external to the model itself, and can not be estimated by the model itself\n",
        "2. It is set before the model begins learning\n",
        "3. It can be tuned to improve performance of the model\n",
        "\n",
        "Hyperparameters can be selected either manually or in an automated way. If selecting them manually, the practitioner should have a good understanding of what they do and how they affect model performance. Automatic methods for hyperparameter selection typically require less knowledge of the function of these hyperparameters, but require additional computational time as they are often found through permutation. An overall description of both manual and automatic hyperparameter selection methods is described below."
      ]
    },
    {
      "cell_type": "markdown",
      "metadata": {
        "id": "bzDMyG1FEheb"
      },
      "source": [
        "## Manual tuning"
      ]
    },
    {
      "cell_type": "markdown",
      "metadata": {
        "id": "VTXniiHMEheb"
      },
      "source": [
        "The figure below highlights both over-fitting and generalization error [generalization error](https://en.wikipedia.org/wiki/Generalization_error).\n",
        "\n",
        "<img src=\"https://drive.google.com/uc?id=1F3lQLQSBIPr6ItuC8RgQt9FvVbeuBOWa\">\n",
        "\n",
        "[Source: [wikipedia.org](https://en.wikipedia.org/wiki/Generalization_error#/media/File:RegressionOverfitting.png)]"
      ]
    },
    {
      "cell_type": "markdown",
      "metadata": {
        "id": "TDkEuESHEhec"
      },
      "source": [
        "The goal of manual tuning is to reduce the generalization error, adjusting the complexity of the model to match the complexity of the task, as evaluated based on external data. The ability of a model to contain complexity is known as its **capacity**. Model capacity is affected by three things:\n",
        "\n",
        "1. The complexity of the model (e.g. adding hidden layers will increase model capacity)\n",
        "2. The ability of the model to minimize the cost function\n",
        "3. The degree to which the cost function and training method regularize the model\n",
        "\n",
        "More intricate models will have greater capacity, but that capacity will result in over-fitting without appropriate cost and regularization functions."
      ]
    },
    {
      "cell_type": "markdown",
      "metadata": {
        "id": "tVp-GCC8Ehec"
      },
      "source": [
        "<img src=\"https://drive.google.com/uc?id=1a3wwcPyV8-AlXJ6HHOIAq88vaN6_B53U\">"
      ]
    },
    {
      "cell_type": "markdown",
      "metadata": {
        "id": "bZC5GJoJEhec"
      },
      "source": [
        "As you've seen previously, generalization error tends to follow this same U-shaped pattern when plotted against the value of hyperparameters. One extreme corresponds to low capacity & high generalization error (under-fitting), while the other extreme corresponds to high capacity & also high generalization error (over-fitting).\n",
        "\n",
        "For some hyperparameters (e.g. number of hidden units in a layer), over-fitting occurs when the value is high, while for others over-fitting occurs when the value is low (e.g. weight decay coefficient). Additionally, some hyperparameters may be discrete or binary, and so may not be able to provide information on the entire curve."
      ]
    },
    {
      "cell_type": "markdown",
      "metadata": {
        "id": "SvZMBC00Ehec"
      },
      "source": [
        "A summary of key tunable parameters is shown in the table below (adapted from Goodfellow, Bengio & Courville).\n",
        "\n",
        "|Hyperparameter     |  Increases Capacity When | Reason     | Caveats|\n",
        "|-------------------|--------------------------|------------|--------|\n",
        "|Number of hidden units | Increased | Increasing the number of hidden units increases the representational capacity of the model | Increasing the number of hidden units increases both the time and memory cost of essentially every operation on the model|\n",
        "|Learning rate | Tuned optimally | An improper learning rate, whether too high or too low, results in a model with low effective capacity due to optimization failure | |\n",
        "|Implicitly zero padding | Increased | Adding implicit zeros before convolution keeps the representation size large. | Increases time and memory cost of most operations |\n",
        "|Weight decay coefficient | Decreased | Decreasing the weight decay coefficient frees the model parameters to become larger | |\n",
        "|Dropout rate | Decreased | Dropping units less often gives the units more opportunities to \"conspire\" with each other to fit the training set | |"
      ]
    },
    {
      "cell_type": "markdown",
      "metadata": {
        "id": "sFeSXgmsEhec"
      },
      "source": [
        "## Automated Tuning"
      ]
    },
    {
      "cell_type": "markdown",
      "metadata": {
        "id": "9jxNrJIGEhec"
      },
      "source": [
        "While neural networks can often perform well with only a few manually tuned hyperparameters, there could potentially be dozens of hyperparameters that can be optimized for a given problem. This is both a major advantage, and disadvantage of neural networks over other classes of algorithms. Often these adjustments can be incremental when beginning from a strong starting point, but it can be the case that default values are not known or can not be easily estimated. In these cases it is useful to have an automated method to identify these hyperparameter values. Note that this is in and of itself an optimization problem, and as such uses an objective function (i.e. budget, memory, etc). Below are some common methods for automated selection of hyperparameter values. For a more detailed review, see [Bergstra & Bengio (2012)](http://www.jmlr.org/papers/volume13/bergstra12a/bergstra12a.pdf).\n",
        "\n",
        "\n"
      ]
    },
    {
      "cell_type": "markdown",
      "metadata": {
        "id": "9HHP6PE7Ehed"
      },
      "source": [
        "You can find the list of known hyperparameter tuning tools below.  \n",
        "\n",
        "* <a href=\"https://github.com/keras-team/keras-tuner\">Keras Tuner</a>\n",
        "    An easy-to-use hyperparameter optimization library Google made for Keras models, with a hosted service for visualization and analysis.\n",
        "* <a href=\"https://github.com/hyperopt/hyperopt\">Hyperopt</a>\n",
        "    A popular Python library for optimizing over all sorts of complex search spaces (including real values, such as the learning rate, and discrete values, such as the number of layers).\n",
        "*  <a href=\"https://github.com/maxpumperla/hyperas\">Hyperas</a> <a href=\"https://github.com/Avsecz/kopt\">kopt</a>, or <a href=\"https://github.com/autonomio/talos\">Talos</a>\n",
        "    Optimizing hyperparameters for Keras model (the first two are based on Hyperopt).\n",
        "* <a href=\"https://scikit-optimize.github.io/\">Scikit-Optimize</a> (skopt)\n",
        "    A general-purpose optimization library. The <code>BayesSearchCV</code> class performs Bayesian optimization using an interface similar to <code>GridSearchCV</code>\n",
        "* <a href=\"https://github.com/JasperSnoek/spearmint\">Spearmint</a>\n",
        "    A Bayesian optimization library.\n",
        "* <a href=\"https://github.com/zygmuntz/hyperband\">Hyperband</a>\n",
        "    A fast hyperparameter tuning library based on the recent <a href=\"https://homl.info/hyperband\">Hyperband paper</a><sup><a data-type=\"noteref\" id=\"idm46263513051448-marker\" href=\"https://learning.oreilly.com/library/view/hands-on-machine-learning/9781492032632/ch10.html#idm46263513051448\">22</a></sup> by Lisha Li et al.\n",
        "* <a href=\"https://github.com/rsteca/sklearn-deap\">Sklearn-Deap</a>\n",
        "    A hyperparameter optimization library based on evolutionary algorithms, with a <code>GridSearchCV</code>-like interface.\n",
        "* <a href=\"https://arimo.com/\">Arimo</a>\n",
        "* <a href=\"https://sigopt.com/\">SigOpt</a>\n",
        "* <a href=\"http://oscar.calldesk.ai/\">Oscar</a>\n"
      ]
    },
    {
      "cell_type": "markdown",
      "metadata": {
        "id": "jd99FvX5Ehec"
      },
      "source": [
        "### Grid search"
      ]
    },
    {
      "cell_type": "markdown",
      "metadata": {
        "id": "HKgVrpNREhec"
      },
      "source": [
        "When deciding on parameters, it would seem to be a good strategy to just systematically try combinations of parameters in a grid-like search. In a **grid search**, a small set of finite values are pre-selected covering the range of possible values of a given hyperparameter. These parameter combinations are then permuted, and the model evaluated. For example, for two parameters, you could try ten different values of each in a 10 x 10 grid. The pre-selection of hyperparameter values at regular intervals differentiates the grid search from a random search. Some notes about using a grid search:\n",
        "\n",
        "- When performing a grid search, values are typically set on a logarithmic scale (e.g. 0.001, 0.01, 0.1, 1)\n",
        "- When a \"good\" parameter value is identified, the grid size is typically contained and re-run, centered around the good parameter\n",
        "- Due to the high computational cost, grid search typically is not optimal when there are more than 3 hyperparameters being optimized ($O(n^{m})$ for *m* parameters with *n* values\n",
        "\n",
        "How many tests would you need to do to try 10 different values of a million parameters, not uncommon in a neural net?"
      ]
    },
    {
      "cell_type": "markdown",
      "metadata": {
        "id": "UN8VJiUAEhed"
      },
      "source": [
        "####  Example\n",
        "\n",
        "(Warning: these cells take a while to evaluate!)"
      ]
    },
    {
      "cell_type": "markdown",
      "metadata": {
        "id": "9kEU6rabEhed"
      },
      "source": [
        "Tuning Batch Size & Number of Epochs (based on tutorial found <a href=\"https://machinelearningmastery.com/grid-search-hyperparameters-deep-learning-models-python-keras/\">here</a>)"
      ]
    },
    {
      "cell_type": "code",
      "metadata": {
        "id": "E92ab6PjEhed",
        "colab": {
          "base_uri": "https://localhost:8080/"
        },
        "outputId": "7e93855e-2b5c-491e-f512-f63342aa73a8"
      },
      "source": [
        "# Load libraries\n",
        "import numpy as np\n",
        "from tensorflow.keras import models\n",
        "from tensorflow.keras import layers\n",
        "from tensorflow.keras import optimizers\n",
        "from tensorflow.keras.wrappers.scikit_learn import KerasClassifier\n",
        "from sklearn.model_selection import GridSearchCV\n",
        "from sklearn.datasets import make_classification\n",
        "from sklearn.model_selection import GridSearchCV, RandomizedSearchCV\n",
        "from datetime import datetime\n",
        "\n",
        "\n",
        "print(str(datetime.now()))\n",
        "\n",
        "# Set random seed\n",
        "np.random.seed(0)\n",
        "\n",
        "# Number of features\n",
        "number_of_features = 10\n",
        "\n",
        "# Generate features matrix and target vector\n",
        "features, target = make_classification(n_samples = 10000,\n",
        "                                       n_features = number_of_features,\n",
        "                                       n_informative = 3,\n",
        "                                       n_redundant = 0,\n",
        "                                       n_classes = 2,\n",
        "                                       weights = [.5, .5],\n",
        "                                       random_state = 0)\n",
        "\n",
        "# Function to create model, required for KerasClassifier\n",
        "def create_model():\n",
        "    # create model\n",
        "    model = models.Sequential()\n",
        "    model.add(layers.Dense(12, input_dim=number_of_features, activation='relu'))\n",
        "    model.add(layers.Dense(1, activation='sigmoid'))\n",
        "\n",
        "    # Compile model\n",
        "    model.compile(loss='binary_crossentropy', optimizer='adam', metrics=['accuracy'])\n",
        "    return model\n",
        "\n",
        "# create model\n",
        "model = KerasClassifier(build_fn=create_model, verbose=0)\n",
        "\n",
        "# define the grid search parameters\n",
        "batch_size = [10, 20, 40, 60, 80, 100]\n",
        "epochs = [10, 50, 100]\n",
        "param_grid = dict(batch_size=batch_size, epochs=epochs)\n",
        "grid = GridSearchCV(estimator=model, param_grid=param_grid, n_jobs=-1)\n",
        "grid_result = grid.fit(features, target)\n",
        "\n",
        "# summarize results\n",
        "print(\"Best: %f using %s\" % (grid_result.best_score_, grid_result.best_params_))\n",
        "means = grid_result.cv_results_['mean_test_score']\n",
        "stds = grid_result.cv_results_['std_test_score']\n",
        "params = grid_result.cv_results_['params']\n",
        "for mean, stdev, param in zip(means, stds, params):\n",
        "    print(\"%f (%f) with: %r\" % (mean, stdev, param))\n",
        "\n",
        "print(str(datetime.now()))"
      ],
      "execution_count": null,
      "outputs": [
        {
          "output_type": "stream",
          "name": "stdout",
          "text": [
            "2022-09-27 03:18:57.051677\n"
          ]
        },
        {
          "output_type": "stream",
          "name": "stderr",
          "text": [
            "/usr/local/lib/python3.7/dist-packages/ipykernel_launcher.py:42: DeprecationWarning: KerasClassifier is deprecated, use Sci-Keras (https://github.com/adriangb/scikeras) instead. See https://www.adriangb.com/scikeras/stable/migration.html for help migrating.\n",
            "/usr/local/lib/python3.7/dist-packages/joblib/externals/loky/process_executor.py:705: UserWarning: A worker stopped while some jobs were given to the executor. This can be caused by a too short worker timeout or by a memory leak.\n",
            "  \"timeout or by a memory leak.\", UserWarning\n"
          ]
        },
        {
          "output_type": "stream",
          "name": "stdout",
          "text": [
            "Best: 0.952900 using {'batch_size': 10, 'epochs': 50}\n",
            "0.947800 (0.003429) with: {'batch_size': 10, 'epochs': 10}\n",
            "0.952900 (0.003200) with: {'batch_size': 10, 'epochs': 50}\n",
            "0.952700 (0.003172) with: {'batch_size': 10, 'epochs': 100}\n",
            "0.947100 (0.003023) with: {'batch_size': 20, 'epochs': 10}\n",
            "0.950200 (0.002750) with: {'batch_size': 20, 'epochs': 50}\n",
            "0.951300 (0.004895) with: {'batch_size': 20, 'epochs': 100}\n",
            "0.943600 (0.004329) with: {'batch_size': 40, 'epochs': 10}\n",
            "0.948700 (0.003265) with: {'batch_size': 40, 'epochs': 50}\n",
            "0.951100 (0.003541) with: {'batch_size': 40, 'epochs': 100}\n",
            "0.940400 (0.005380) with: {'batch_size': 60, 'epochs': 10}\n",
            "0.950400 (0.002596) with: {'batch_size': 60, 'epochs': 50}\n",
            "0.949900 (0.003499) with: {'batch_size': 60, 'epochs': 100}\n",
            "0.934300 (0.006608) with: {'batch_size': 80, 'epochs': 10}\n",
            "0.949500 (0.003674) with: {'batch_size': 80, 'epochs': 50}\n",
            "0.950200 (0.003385) with: {'batch_size': 80, 'epochs': 100}\n",
            "0.934500 (0.002966) with: {'batch_size': 100, 'epochs': 10}\n",
            "0.950200 (0.002315) with: {'batch_size': 100, 'epochs': 50}\n",
            "0.949200 (0.004389) with: {'batch_size': 100, 'epochs': 100}\n",
            "2022-09-27 03:55:29.303049\n"
          ]
        }
      ]
    },
    {
      "cell_type": "markdown",
      "metadata": {
        "id": "Yq5vPXFJEhed"
      },
      "source": [
        "Comparative random search of the same parameter space"
      ]
    },
    {
      "cell_type": "code",
      "metadata": {
        "id": "7Vqi6DW1Ehed",
        "colab": {
          "base_uri": "https://localhost:8080/"
        },
        "outputId": "d07b6459-0c2a-4698-9650-40ae6e92c417"
      },
      "source": [
        "print(str(datetime.now()))\n",
        "grid = RandomizedSearchCV(estimator=model, param_distributions=param_grid)\n",
        "grid_result = grid.fit(features, target)\n",
        "\n",
        "# summarize results\n",
        "print(\"Best: %f using %s\" % (grid_result.best_score_, grid_result.best_params_))\n",
        "means = grid_result.cv_results_['mean_test_score']\n",
        "stds = grid_result.cv_results_['std_test_score']\n",
        "params = grid_result.cv_results_['params']\n",
        "for mean, stdev, param in zip(means, stds, params):\n",
        "    print(\"%f (%f) with: %r\" % (mean, stdev, param))\n",
        "print(str(datetime.now()))"
      ],
      "execution_count": null,
      "outputs": [
        {
          "output_type": "stream",
          "name": "stdout",
          "text": [
            "2022-09-27 03:55:29.317844\n",
            "Best: 0.952100 using {'epochs': 100, 'batch_size': 10}\n",
            "0.949400 (0.003153) with: {'epochs': 50, 'batch_size': 10}\n",
            "0.942500 (0.003391) with: {'epochs': 10, 'batch_size': 40}\n",
            "0.951300 (0.003829) with: {'epochs': 100, 'batch_size': 40}\n",
            "0.950300 (0.002943) with: {'epochs': 50, 'batch_size': 60}\n",
            "0.950300 (0.003140) with: {'epochs': 100, 'batch_size': 80}\n",
            "0.949700 (0.003356) with: {'epochs': 50, 'batch_size': 20}\n",
            "0.952100 (0.002709) with: {'epochs': 100, 'batch_size': 10}\n",
            "0.947400 (0.004116) with: {'epochs': 50, 'batch_size': 100}\n",
            "0.949200 (0.003311) with: {'epochs': 100, 'batch_size': 100}\n",
            "0.942700 (0.003628) with: {'epochs': 10, 'batch_size': 60}\n",
            "2022-09-27 04:28:23.776383\n"
          ]
        }
      ]
    },
    {
      "cell_type": "markdown",
      "metadata": {
        "id": "3896v7cMEhec"
      },
      "source": [
        "### Random search"
      ]
    },
    {
      "cell_type": "markdown",
      "metadata": {
        "id": "xDnpWHliEhec"
      },
      "source": [
        "A less computationally expensive alternative to a grid search is a **random search**. In a random search, a marginal distribution is specified for each hyperparameter (e.g. Bernouli for binary variables). Hyperparameter values are then sampled from each distribution without any binning or discretizing. As for a grid search, once the hyperparameter values have been selected, the model is evaluated. Since multiple hyperparameter values are being modified simultaneously, random search tends to find effective solutions much more quickly than a grid search.\n",
        "\n",
        "**Random search vs grid search**<br>\n",
        "A schematic highlighting the differences between random and grid searches is shown below (originally from [Bergstra & Bengio (2012)](http://www.jmlr.org/papers/volume13/bergstra12a/bergstra12a.pdf))."
      ]
    },
    {
      "cell_type": "markdown",
      "metadata": {
        "id": "IZ29PaXpEhec"
      },
      "source": [
        "<img src='https://drive.google.com/uc?id=1noGPjeYdOyYe24p_Hway18y7uaWHSCJ_'>"
      ]
    },
    {
      "cell_type": "markdown",
      "metadata": {
        "id": "G01-MUWGEhec"
      },
      "source": [
        "The figure above shows 9 trials of both a grid search (left) and random search (right) for values of 2 hyperparameters with low dimensionality. The grid search on the left uses three possible discritized values for each of the 2 hyperparameters, while the random search on the right uses no binning/discritization. The effect of each hyperparameter on model performance can be seen in the green (for the parameter on the x-axis) and the yellow (for the parameter on the y-axis) plots, with one parameter having a much greater impact on model performance (green or x-axis). In the 9 trials, the grid search only attempts 3 distinct values of any given hyperparameter, while the random search provides much more information on the location of an optimal value."
      ]
    },
    {
      "cell_type": "markdown",
      "metadata": {
        "id": "bRPTku4vGRGz"
      },
      "source": [
        "#### Example"
      ]
    },
    {
      "cell_type": "markdown",
      "metadata": {
        "id": "xQIS0JRvl_sZ"
      },
      "source": [
        "The Keras Tuner is a library that helps you pick the optimal set of hyperparameters for your TensorFlow program. The first step to work with Keras Tuner is install and import the Keras Tuner. You can install the package by using following command."
      ]
    },
    {
      "cell_type": "code",
      "metadata": {
        "colab": {
          "base_uri": "https://localhost:8080/"
        },
        "id": "9Dz4ZB0Zl015",
        "outputId": "8c1b937d-a095-46a7-ccbf-c7282c2871da"
      },
      "source": [
        "!pip install -q -U keras-tuner"
      ],
      "execution_count": null,
      "outputs": [
        {
          "output_type": "stream",
          "name": "stdout",
          "text": [
            "\u001b[K     |████████████████████████████████| 135 kB 8.0 MB/s \n",
            "\u001b[K     |████████████████████████████████| 1.6 MB 63.3 MB/s \n",
            "\u001b[?25h"
          ]
        }
      ]
    },
    {
      "cell_type": "code",
      "metadata": {
        "id": "MJDrRoFjl6H8"
      },
      "source": [
        "import keras_tuner as kt"
      ],
      "execution_count": null,
      "outputs": []
    },
    {
      "cell_type": "markdown",
      "metadata": {
        "id": "merxGJRerU8N"
      },
      "source": [
        "In this example, you will use the Keras Tuner to find the best hyperparameters for a machine learning model that classifies images of clothing from the Fashion MNIST dataset."
      ]
    },
    {
      "cell_type": "code",
      "metadata": {
        "id": "nk-tm7Hqo6_b"
      },
      "source": [
        "(img_train, label_train), (img_test, label_test) = tf.keras.datasets.fashion_mnist.load_data()"
      ],
      "execution_count": null,
      "outputs": []
    },
    {
      "cell_type": "markdown",
      "metadata": {
        "id": "n7SxV-1IrbNN"
      },
      "source": [
        "Following we are normalizing pixel values between 0 and 1"
      ]
    },
    {
      "cell_type": "code",
      "metadata": {
        "id": "SjURKL7No66T"
      },
      "source": [
        "img_train = img_train.astype('float32') / 255.0\n",
        "img_test = img_test.astype('float32') / 255.0"
      ],
      "execution_count": null,
      "outputs": []
    },
    {
      "cell_type": "markdown",
      "metadata": {
        "id": "8puh0aZir7jz"
      },
      "source": [
        "When you build a model for hypertuning, you also define the hyperparameter search space in addition to the model architecture.You can define a hypermodel through two approaches:\n",
        "\n",
        "* By using a model builder function\n",
        "* By subclassing the HyperModel class of the Keras Tuner API\n",
        "\n",
        "Following we are building a builder function"
      ]
    },
    {
      "cell_type": "code",
      "metadata": {
        "id": "tIrTZp4Yo6wN"
      },
      "source": [
        "def model_builder(hp):\n",
        "  model = keras.Sequential()\n",
        "  model.add(keras.layers.Flatten(input_shape=(28, 28)))\n",
        "\n",
        "  # Tune the number of units in the first Dense layer\n",
        "  # Choose an optimal value between 32-512\n",
        "  hp_units = hp.Int('units', min_value=32, max_value=512, step=32)\n",
        "  model.add(keras.layers.Dense(units=hp_units, activation='relu'))\n",
        "  model.add(keras.layers.Dense(10))\n",
        "\n",
        "  # Tune the learning rate for the optimizer\n",
        "  # Choose an optimal value from 0.01, 0.001, or 0.0001\n",
        "  hp_learning_rate = hp.Choice('learning_rate', values=[1e-2, 1e-3, 1e-4])\n",
        "\n",
        "  model.compile(optimizer=keras.optimizers.Adam(learning_rate=hp_learning_rate),\n",
        "                loss=keras.losses.SparseCategoricalCrossentropy(from_logits=True),\n",
        "                metrics=['accuracy'])\n",
        "\n",
        "  return model"
      ],
      "execution_count": null,
      "outputs": []
    },
    {
      "cell_type": "code",
      "metadata": {
        "id": "jed_peUro6gK"
      },
      "source": [
        "tuner = kt.RandomSearch(\n",
        "    model_builder,\n",
        "    objective='val_loss',\n",
        "    max_trials=5)"
      ],
      "execution_count": null,
      "outputs": []
    },
    {
      "cell_type": "code",
      "metadata": {
        "colab": {
          "base_uri": "https://localhost:8080/"
        },
        "id": "FVlI-hPto6cm",
        "outputId": "01e54a9a-2952-4ed3-fa14-203cd01717bf"
      },
      "source": [
        "tuner.search(img_train, label_train, epochs=5, validation_data=(img_test, label_test))\n",
        "best_model = tuner.get_best_models()[0]"
      ],
      "execution_count": null,
      "outputs": [
        {
          "output_type": "stream",
          "name": "stdout",
          "text": [
            "Trial 5 Complete [00h 00m 42s]\n",
            "val_loss: 0.4073510468006134\n",
            "\n",
            "Best val_loss So Far: 0.3565041124820709\n",
            "Total elapsed time: 00h 02m 57s\n"
          ]
        }
      ]
    },
    {
      "cell_type": "markdown",
      "source": [
        "### Random Search"
      ],
      "metadata": {
        "id": "Vxdre9Wqo6Uy"
      }
    },
    {
      "cell_type": "markdown",
      "metadata": {
        "id": "xURITe86Ehed"
      },
      "source": [
        "Random Search is a parallelizable algorithm that is in our favor but the problem is that for high dimensional data it is very slow and inefficient. In Random Search we might be spending time/resources on configurations which have poor performance even from the start. So why not identify these poor configurations from the start and remove them from our search space? This approach is called **Successive Halving**.\n",
        "\n",
        "The idea behind the original Successive Halving algorithm follows directly from its name: uniformly allocate a budget (training time, CPU cycles or ...) to a set of hyperparameter configurations, evaluate the performance of all configurations, throw out the worst half, and repeat until one configuration remains. The algorithm allocates exponentially more resources to more promising configurations.\n",
        "\n",
        "<img src=\"https://scikit-learn.org/stable/_images/sphx_glr_plot_successive_halving_iterations_001.png\">\n",
        "\n",
        "\n",
        "Unfortunately, SuccessiveHalving requires the number of configurations $n$ as an input to the algorithm. Given some finite budget $B$, $B/n$ resources are allocated on average across the configurations. However, we might face two situations;\n",
        "\n",
        "* With big $n$ (many configurations) we will have a small average training time. Some of the configurations might not be performing very well at the beginning but have better overall results. You can see an example below;\n",
        "\n",
        "<img src='https://drive.google.com/uc?id=1_Juq136YyLXz6EpDenJ0PDiPmL5JHTgp'>\n",
        "\n",
        "\n",
        "* With a small number of configurations and having longer average training times. However, with the small number, you will miss many configurations which they might perform better.\n",
        "\n",
        "\n",
        "\n",
        "[**Hyperband**](https://arxiv.org/pdf/1603.06560.pdf) addresses this “$n$ versus $B/n$” problem by considering several possible values of $n$ for a fixed B. The other way to look into it is by performing a grid search over the feasible value of $n$. Hyperband has two main parts;\n",
        "\n",
        "\n",
        "* the inner loop invokes SuccessiveHalving for fixed values of $n$(number of configurations) and $r$ (resource)\n",
        "\n",
        "* the outer loop iterates over different values of $n$ and $r$\n",
        "\n",
        "\n",
        "The way to use Hyperband with `Keras Tuner` is easy. As you see in the following example you can `Hyperband` class from `Keras Tuner` package.  \n",
        "\n",
        "\n",
        "\n",
        "\n",
        "\n",
        "\n"
      ]
    },
    {
      "cell_type": "code",
      "metadata": {
        "id": "_0yDBy2L9OCA"
      },
      "source": [
        "tuner = kt.Hyperband(model_builder,\n",
        "                     objective='val_accuracy',\n",
        "                     max_epochs=10,\n",
        "                     factor=3,\n",
        "                     directory='my_dir',\n",
        "                     project_name='intro_to_kt')"
      ],
      "execution_count": null,
      "outputs": []
    },
    {
      "cell_type": "markdown",
      "metadata": {
        "id": "otOlrNcrYSPB"
      },
      "source": [
        "There are two parameters which are important to pass when you can Hyperband.\n",
        "\n",
        "  * **max_epochs**: the maximum number of epochs to train one model. It is recommended to set this to a value slightly higher than the expected epochs to convergence for your largest Model, and to use early stopping during training (for example, via tf.keras.callbacks.EarlyStopping).\n",
        "\n",
        "* **factor**: the reduction factor for the number of epochs and number of models for each outer loop. Its default value is 3."
      ]
    },
    {
      "cell_type": "code",
      "metadata": {
        "colab": {
          "base_uri": "https://localhost:8080/",
          "height": 641
        },
        "id": "DCmv7lG49Wsa",
        "outputId": "d1725d44-d5d8-4982-be26-df2829849ec5"
      },
      "source": [
        "tuner.search(img_train, label_train, epochs=5, validation_data=(img_test, label_test))\n",
        "best_model = tuner.get_best_models()[0]"
      ],
      "execution_count": null,
      "outputs": [
        {
          "output_type": "stream",
          "name": "stdout",
          "text": [
            "Trial 27 Complete [00h 00m 51s]\n",
            "val_accuracy: 0.8791999816894531\n",
            "\n",
            "Best val_accuracy So Far: 0.8791999816894531\n",
            "Total elapsed time: 00h 08m 34s\n",
            "\n",
            "Search: Running Trial #28\n",
            "\n",
            "Value             |Best Value So Far |Hyperparameter\n",
            "96                |480               |units\n",
            "0.0001            |0.0001            |learning_rate\n",
            "10                |10                |tuner/epochs\n",
            "0                 |0                 |tuner/initial_epoch\n",
            "0                 |0                 |tuner/bracket\n",
            "0                 |0                 |tuner/round\n",
            "\n",
            "Epoch 1/10\n",
            "1599/1875 [========================>.....] - ETA: 0s - loss: 0.7791 - accuracy: 0.7496"
          ]
        },
        {
          "output_type": "error",
          "ename": "KeyboardInterrupt",
          "evalue": "ignored",
          "traceback": [
            "\u001b[0;31m---------------------------------------------------------------------------\u001b[0m",
            "\u001b[0;31mKeyboardInterrupt\u001b[0m                         Traceback (most recent call last)",
            "\u001b[0;32m<ipython-input-123-dcf9cda41de7>\u001b[0m in \u001b[0;36m<module>\u001b[0;34m\u001b[0m\n\u001b[0;32m----> 1\u001b[0;31m \u001b[0mtuner\u001b[0m\u001b[0;34m.\u001b[0m\u001b[0msearch\u001b[0m\u001b[0;34m(\u001b[0m\u001b[0mimg_train\u001b[0m\u001b[0;34m,\u001b[0m \u001b[0mlabel_train\u001b[0m\u001b[0;34m,\u001b[0m \u001b[0mepochs\u001b[0m\u001b[0;34m=\u001b[0m\u001b[0;36m5\u001b[0m\u001b[0;34m,\u001b[0m \u001b[0mvalidation_data\u001b[0m\u001b[0;34m=\u001b[0m\u001b[0;34m(\u001b[0m\u001b[0mimg_test\u001b[0m\u001b[0;34m,\u001b[0m \u001b[0mlabel_test\u001b[0m\u001b[0;34m)\u001b[0m\u001b[0;34m)\u001b[0m\u001b[0;34m\u001b[0m\u001b[0;34m\u001b[0m\u001b[0m\n\u001b[0m\u001b[1;32m      2\u001b[0m \u001b[0mbest_model\u001b[0m \u001b[0;34m=\u001b[0m \u001b[0mtuner\u001b[0m\u001b[0;34m.\u001b[0m\u001b[0mget_best_models\u001b[0m\u001b[0;34m(\u001b[0m\u001b[0;34m)\u001b[0m\u001b[0;34m[\u001b[0m\u001b[0;36m0\u001b[0m\u001b[0;34m]\u001b[0m\u001b[0;34m\u001b[0m\u001b[0;34m\u001b[0m\u001b[0m\n",
            "\u001b[0;32m/usr/local/lib/python3.7/dist-packages/keras_tuner/engine/base_tuner.py\u001b[0m in \u001b[0;36msearch\u001b[0;34m(self, *fit_args, **fit_kwargs)\u001b[0m\n\u001b[1;32m    181\u001b[0m \u001b[0;34m\u001b[0m\u001b[0m\n\u001b[1;32m    182\u001b[0m             \u001b[0mself\u001b[0m\u001b[0;34m.\u001b[0m\u001b[0mon_trial_begin\u001b[0m\u001b[0;34m(\u001b[0m\u001b[0mtrial\u001b[0m\u001b[0;34m)\u001b[0m\u001b[0;34m\u001b[0m\u001b[0;34m\u001b[0m\u001b[0m\n\u001b[0;32m--> 183\u001b[0;31m             \u001b[0mresults\u001b[0m \u001b[0;34m=\u001b[0m \u001b[0mself\u001b[0m\u001b[0;34m.\u001b[0m\u001b[0mrun_trial\u001b[0m\u001b[0;34m(\u001b[0m\u001b[0mtrial\u001b[0m\u001b[0;34m,\u001b[0m \u001b[0;34m*\u001b[0m\u001b[0mfit_args\u001b[0m\u001b[0;34m,\u001b[0m \u001b[0;34m**\u001b[0m\u001b[0mfit_kwargs\u001b[0m\u001b[0;34m)\u001b[0m\u001b[0;34m\u001b[0m\u001b[0;34m\u001b[0m\u001b[0m\n\u001b[0m\u001b[1;32m    184\u001b[0m             \u001b[0;31m# `results` is None indicates user updated oracle in `run_trial()`.\u001b[0m\u001b[0;34m\u001b[0m\u001b[0;34m\u001b[0m\u001b[0;34m\u001b[0m\u001b[0m\n\u001b[1;32m    185\u001b[0m             \u001b[0;32mif\u001b[0m \u001b[0mresults\u001b[0m \u001b[0;32mis\u001b[0m \u001b[0;32mNone\u001b[0m\u001b[0;34m:\u001b[0m\u001b[0;34m\u001b[0m\u001b[0;34m\u001b[0m\u001b[0m\n",
            "\u001b[0;32m/usr/local/lib/python3.7/dist-packages/keras_tuner/tuners/hyperband.py\u001b[0m in \u001b[0;36mrun_trial\u001b[0;34m(self, trial, *fit_args, **fit_kwargs)\u001b[0m\n\u001b[1;32m    382\u001b[0m             \u001b[0mfit_kwargs\u001b[0m\u001b[0;34m[\u001b[0m\u001b[0;34m\"epochs\"\u001b[0m\u001b[0;34m]\u001b[0m \u001b[0;34m=\u001b[0m \u001b[0mhp\u001b[0m\u001b[0;34m.\u001b[0m\u001b[0mvalues\u001b[0m\u001b[0;34m[\u001b[0m\u001b[0;34m\"tuner/epochs\"\u001b[0m\u001b[0;34m]\u001b[0m\u001b[0;34m\u001b[0m\u001b[0;34m\u001b[0m\u001b[0m\n\u001b[1;32m    383\u001b[0m             \u001b[0mfit_kwargs\u001b[0m\u001b[0;34m[\u001b[0m\u001b[0;34m\"initial_epoch\"\u001b[0m\u001b[0;34m]\u001b[0m \u001b[0;34m=\u001b[0m \u001b[0mhp\u001b[0m\u001b[0;34m.\u001b[0m\u001b[0mvalues\u001b[0m\u001b[0;34m[\u001b[0m\u001b[0;34m\"tuner/initial_epoch\"\u001b[0m\u001b[0;34m]\u001b[0m\u001b[0;34m\u001b[0m\u001b[0;34m\u001b[0m\u001b[0m\n\u001b[0;32m--> 384\u001b[0;31m         \u001b[0;32mreturn\u001b[0m \u001b[0msuper\u001b[0m\u001b[0;34m(\u001b[0m\u001b[0mHyperband\u001b[0m\u001b[0;34m,\u001b[0m \u001b[0mself\u001b[0m\u001b[0;34m)\u001b[0m\u001b[0;34m.\u001b[0m\u001b[0mrun_trial\u001b[0m\u001b[0;34m(\u001b[0m\u001b[0mtrial\u001b[0m\u001b[0;34m,\u001b[0m \u001b[0;34m*\u001b[0m\u001b[0mfit_args\u001b[0m\u001b[0;34m,\u001b[0m \u001b[0;34m**\u001b[0m\u001b[0mfit_kwargs\u001b[0m\u001b[0;34m)\u001b[0m\u001b[0;34m\u001b[0m\u001b[0;34m\u001b[0m\u001b[0m\n\u001b[0m\u001b[1;32m    385\u001b[0m \u001b[0;34m\u001b[0m\u001b[0m\n\u001b[1;32m    386\u001b[0m     \u001b[0;32mdef\u001b[0m \u001b[0m_build_model\u001b[0m\u001b[0;34m(\u001b[0m\u001b[0mself\u001b[0m\u001b[0;34m,\u001b[0m \u001b[0mhp\u001b[0m\u001b[0;34m)\u001b[0m\u001b[0;34m:\u001b[0m\u001b[0;34m\u001b[0m\u001b[0;34m\u001b[0m\u001b[0m\n",
            "\u001b[0;32m/usr/local/lib/python3.7/dist-packages/keras_tuner/engine/tuner.py\u001b[0m in \u001b[0;36mrun_trial\u001b[0;34m(self, trial, *args, **kwargs)\u001b[0m\n\u001b[1;32m    293\u001b[0m             \u001b[0mcallbacks\u001b[0m\u001b[0;34m.\u001b[0m\u001b[0mappend\u001b[0m\u001b[0;34m(\u001b[0m\u001b[0mmodel_checkpoint\u001b[0m\u001b[0;34m)\u001b[0m\u001b[0;34m\u001b[0m\u001b[0;34m\u001b[0m\u001b[0m\n\u001b[1;32m    294\u001b[0m             \u001b[0mcopied_kwargs\u001b[0m\u001b[0;34m[\u001b[0m\u001b[0;34m\"callbacks\"\u001b[0m\u001b[0;34m]\u001b[0m \u001b[0;34m=\u001b[0m \u001b[0mcallbacks\u001b[0m\u001b[0;34m\u001b[0m\u001b[0;34m\u001b[0m\u001b[0m\n\u001b[0;32m--> 295\u001b[0;31m             \u001b[0mobj_value\u001b[0m \u001b[0;34m=\u001b[0m \u001b[0mself\u001b[0m\u001b[0;34m.\u001b[0m\u001b[0m_build_and_fit_model\u001b[0m\u001b[0;34m(\u001b[0m\u001b[0mtrial\u001b[0m\u001b[0;34m,\u001b[0m \u001b[0;34m*\u001b[0m\u001b[0margs\u001b[0m\u001b[0;34m,\u001b[0m \u001b[0;34m**\u001b[0m\u001b[0mcopied_kwargs\u001b[0m\u001b[0;34m)\u001b[0m\u001b[0;34m\u001b[0m\u001b[0;34m\u001b[0m\u001b[0m\n\u001b[0m\u001b[1;32m    296\u001b[0m \u001b[0;34m\u001b[0m\u001b[0m\n\u001b[1;32m    297\u001b[0m             \u001b[0mhistories\u001b[0m\u001b[0;34m.\u001b[0m\u001b[0mappend\u001b[0m\u001b[0;34m(\u001b[0m\u001b[0mobj_value\u001b[0m\u001b[0;34m)\u001b[0m\u001b[0;34m\u001b[0m\u001b[0;34m\u001b[0m\u001b[0m\n",
            "\u001b[0;32m/usr/local/lib/python3.7/dist-packages/keras_tuner/engine/tuner.py\u001b[0m in \u001b[0;36m_build_and_fit_model\u001b[0;34m(self, trial, *args, **kwargs)\u001b[0m\n\u001b[1;32m    220\u001b[0m         \u001b[0mhp\u001b[0m \u001b[0;34m=\u001b[0m \u001b[0mtrial\u001b[0m\u001b[0;34m.\u001b[0m\u001b[0mhyperparameters\u001b[0m\u001b[0;34m\u001b[0m\u001b[0;34m\u001b[0m\u001b[0m\n\u001b[1;32m    221\u001b[0m         \u001b[0mmodel\u001b[0m \u001b[0;34m=\u001b[0m \u001b[0mself\u001b[0m\u001b[0;34m.\u001b[0m\u001b[0m_try_build\u001b[0m\u001b[0;34m(\u001b[0m\u001b[0mhp\u001b[0m\u001b[0;34m)\u001b[0m\u001b[0;34m\u001b[0m\u001b[0;34m\u001b[0m\u001b[0m\n\u001b[0;32m--> 222\u001b[0;31m         \u001b[0mresults\u001b[0m \u001b[0;34m=\u001b[0m \u001b[0mself\u001b[0m\u001b[0;34m.\u001b[0m\u001b[0mhypermodel\u001b[0m\u001b[0;34m.\u001b[0m\u001b[0mfit\u001b[0m\u001b[0;34m(\u001b[0m\u001b[0mhp\u001b[0m\u001b[0;34m,\u001b[0m \u001b[0mmodel\u001b[0m\u001b[0;34m,\u001b[0m \u001b[0;34m*\u001b[0m\u001b[0margs\u001b[0m\u001b[0;34m,\u001b[0m \u001b[0;34m**\u001b[0m\u001b[0mkwargs\u001b[0m\u001b[0;34m)\u001b[0m\u001b[0;34m\u001b[0m\u001b[0;34m\u001b[0m\u001b[0m\n\u001b[0m\u001b[1;32m    223\u001b[0m         tuner_utils.validate_trial_results(\n\u001b[1;32m    224\u001b[0m             \u001b[0mresults\u001b[0m\u001b[0;34m,\u001b[0m \u001b[0mself\u001b[0m\u001b[0;34m.\u001b[0m\u001b[0moracle\u001b[0m\u001b[0;34m.\u001b[0m\u001b[0mobjective\u001b[0m\u001b[0;34m,\u001b[0m \u001b[0;34m\"HyperModel.fit()\"\u001b[0m\u001b[0;34m\u001b[0m\u001b[0;34m\u001b[0m\u001b[0m\n",
            "\u001b[0;32m/usr/local/lib/python3.7/dist-packages/keras_tuner/engine/hypermodel.py\u001b[0m in \u001b[0;36mfit\u001b[0;34m(self, hp, model, *args, **kwargs)\u001b[0m\n\u001b[1;32m    138\u001b[0m             \u001b[0mIf\u001b[0m \u001b[0;32mreturn\u001b[0m \u001b[0ma\u001b[0m \u001b[0mfloat\u001b[0m\u001b[0;34m,\u001b[0m \u001b[0mit\u001b[0m \u001b[0mshould\u001b[0m \u001b[0mbe\u001b[0m \u001b[0mthe\u001b[0m\u001b[0;31m \u001b[0m\u001b[0;31m`\u001b[0m\u001b[0mobjective\u001b[0m\u001b[0;31m`\u001b[0m \u001b[0mvalue\u001b[0m\u001b[0;34m.\u001b[0m\u001b[0;34m\u001b[0m\u001b[0;34m\u001b[0m\u001b[0m\n\u001b[1;32m    139\u001b[0m         \"\"\"\n\u001b[0;32m--> 140\u001b[0;31m         \u001b[0;32mreturn\u001b[0m \u001b[0mmodel\u001b[0m\u001b[0;34m.\u001b[0m\u001b[0mfit\u001b[0m\u001b[0;34m(\u001b[0m\u001b[0;34m*\u001b[0m\u001b[0margs\u001b[0m\u001b[0;34m,\u001b[0m \u001b[0;34m**\u001b[0m\u001b[0mkwargs\u001b[0m\u001b[0;34m)\u001b[0m\u001b[0;34m\u001b[0m\u001b[0;34m\u001b[0m\u001b[0m\n\u001b[0m\u001b[1;32m    141\u001b[0m \u001b[0;34m\u001b[0m\u001b[0m\n\u001b[1;32m    142\u001b[0m \u001b[0;34m\u001b[0m\u001b[0m\n",
            "\u001b[0;32m/usr/local/lib/python3.7/dist-packages/keras/utils/traceback_utils.py\u001b[0m in \u001b[0;36merror_handler\u001b[0;34m(*args, **kwargs)\u001b[0m\n\u001b[1;32m     62\u001b[0m     \u001b[0mfiltered_tb\u001b[0m \u001b[0;34m=\u001b[0m \u001b[0;32mNone\u001b[0m\u001b[0;34m\u001b[0m\u001b[0;34m\u001b[0m\u001b[0m\n\u001b[1;32m     63\u001b[0m     \u001b[0;32mtry\u001b[0m\u001b[0;34m:\u001b[0m\u001b[0;34m\u001b[0m\u001b[0;34m\u001b[0m\u001b[0m\n\u001b[0;32m---> 64\u001b[0;31m       \u001b[0;32mreturn\u001b[0m \u001b[0mfn\u001b[0m\u001b[0;34m(\u001b[0m\u001b[0;34m*\u001b[0m\u001b[0margs\u001b[0m\u001b[0;34m,\u001b[0m \u001b[0;34m**\u001b[0m\u001b[0mkwargs\u001b[0m\u001b[0;34m)\u001b[0m\u001b[0;34m\u001b[0m\u001b[0;34m\u001b[0m\u001b[0m\n\u001b[0m\u001b[1;32m     65\u001b[0m     \u001b[0;32mexcept\u001b[0m \u001b[0mException\u001b[0m \u001b[0;32mas\u001b[0m \u001b[0me\u001b[0m\u001b[0;34m:\u001b[0m  \u001b[0;31m# pylint: disable=broad-except\u001b[0m\u001b[0;34m\u001b[0m\u001b[0;34m\u001b[0m\u001b[0m\n\u001b[1;32m     66\u001b[0m       \u001b[0mfiltered_tb\u001b[0m \u001b[0;34m=\u001b[0m \u001b[0m_process_traceback_frames\u001b[0m\u001b[0;34m(\u001b[0m\u001b[0me\u001b[0m\u001b[0;34m.\u001b[0m\u001b[0m__traceback__\u001b[0m\u001b[0;34m)\u001b[0m\u001b[0;34m\u001b[0m\u001b[0;34m\u001b[0m\u001b[0m\n",
            "\u001b[0;32m/usr/local/lib/python3.7/dist-packages/keras/engine/training.py\u001b[0m in \u001b[0;36mfit\u001b[0;34m(self, x, y, batch_size, epochs, verbose, callbacks, validation_split, validation_data, shuffle, class_weight, sample_weight, initial_epoch, steps_per_epoch, validation_steps, validation_batch_size, validation_freq, max_queue_size, workers, use_multiprocessing)\u001b[0m\n\u001b[1;32m   1382\u001b[0m                 _r=1):\n\u001b[1;32m   1383\u001b[0m               \u001b[0mcallbacks\u001b[0m\u001b[0;34m.\u001b[0m\u001b[0mon_train_batch_begin\u001b[0m\u001b[0;34m(\u001b[0m\u001b[0mstep\u001b[0m\u001b[0;34m)\u001b[0m\u001b[0;34m\u001b[0m\u001b[0;34m\u001b[0m\u001b[0m\n\u001b[0;32m-> 1384\u001b[0;31m               \u001b[0mtmp_logs\u001b[0m \u001b[0;34m=\u001b[0m \u001b[0mself\u001b[0m\u001b[0;34m.\u001b[0m\u001b[0mtrain_function\u001b[0m\u001b[0;34m(\u001b[0m\u001b[0miterator\u001b[0m\u001b[0;34m)\u001b[0m\u001b[0;34m\u001b[0m\u001b[0;34m\u001b[0m\u001b[0m\n\u001b[0m\u001b[1;32m   1385\u001b[0m               \u001b[0;32mif\u001b[0m \u001b[0mdata_handler\u001b[0m\u001b[0;34m.\u001b[0m\u001b[0mshould_sync\u001b[0m\u001b[0;34m:\u001b[0m\u001b[0;34m\u001b[0m\u001b[0;34m\u001b[0m\u001b[0m\n\u001b[1;32m   1386\u001b[0m                 \u001b[0mcontext\u001b[0m\u001b[0;34m.\u001b[0m\u001b[0masync_wait\u001b[0m\u001b[0;34m(\u001b[0m\u001b[0;34m)\u001b[0m\u001b[0;34m\u001b[0m\u001b[0;34m\u001b[0m\u001b[0m\n",
            "\u001b[0;32m/usr/local/lib/python3.7/dist-packages/tensorflow/python/util/traceback_utils.py\u001b[0m in \u001b[0;36merror_handler\u001b[0;34m(*args, **kwargs)\u001b[0m\n\u001b[1;32m    148\u001b[0m     \u001b[0mfiltered_tb\u001b[0m \u001b[0;34m=\u001b[0m \u001b[0;32mNone\u001b[0m\u001b[0;34m\u001b[0m\u001b[0;34m\u001b[0m\u001b[0m\n\u001b[1;32m    149\u001b[0m     \u001b[0;32mtry\u001b[0m\u001b[0;34m:\u001b[0m\u001b[0;34m\u001b[0m\u001b[0;34m\u001b[0m\u001b[0m\n\u001b[0;32m--> 150\u001b[0;31m       \u001b[0;32mreturn\u001b[0m \u001b[0mfn\u001b[0m\u001b[0;34m(\u001b[0m\u001b[0;34m*\u001b[0m\u001b[0margs\u001b[0m\u001b[0;34m,\u001b[0m \u001b[0;34m**\u001b[0m\u001b[0mkwargs\u001b[0m\u001b[0;34m)\u001b[0m\u001b[0;34m\u001b[0m\u001b[0;34m\u001b[0m\u001b[0m\n\u001b[0m\u001b[1;32m    151\u001b[0m     \u001b[0;32mexcept\u001b[0m \u001b[0mException\u001b[0m \u001b[0;32mas\u001b[0m \u001b[0me\u001b[0m\u001b[0;34m:\u001b[0m\u001b[0;34m\u001b[0m\u001b[0;34m\u001b[0m\u001b[0m\n\u001b[1;32m    152\u001b[0m       \u001b[0mfiltered_tb\u001b[0m \u001b[0;34m=\u001b[0m \u001b[0m_process_traceback_frames\u001b[0m\u001b[0;34m(\u001b[0m\u001b[0me\u001b[0m\u001b[0;34m.\u001b[0m\u001b[0m__traceback__\u001b[0m\u001b[0;34m)\u001b[0m\u001b[0;34m\u001b[0m\u001b[0;34m\u001b[0m\u001b[0m\n",
            "\u001b[0;32m/usr/local/lib/python3.7/dist-packages/tensorflow/python/eager/def_function.py\u001b[0m in \u001b[0;36m__call__\u001b[0;34m(self, *args, **kwds)\u001b[0m\n\u001b[1;32m    913\u001b[0m \u001b[0;34m\u001b[0m\u001b[0m\n\u001b[1;32m    914\u001b[0m       \u001b[0;32mwith\u001b[0m \u001b[0mOptionalXlaContext\u001b[0m\u001b[0;34m(\u001b[0m\u001b[0mself\u001b[0m\u001b[0;34m.\u001b[0m\u001b[0m_jit_compile\u001b[0m\u001b[0;34m)\u001b[0m\u001b[0;34m:\u001b[0m\u001b[0;34m\u001b[0m\u001b[0;34m\u001b[0m\u001b[0m\n\u001b[0;32m--> 915\u001b[0;31m         \u001b[0mresult\u001b[0m \u001b[0;34m=\u001b[0m \u001b[0mself\u001b[0m\u001b[0;34m.\u001b[0m\u001b[0m_call\u001b[0m\u001b[0;34m(\u001b[0m\u001b[0;34m*\u001b[0m\u001b[0margs\u001b[0m\u001b[0;34m,\u001b[0m \u001b[0;34m**\u001b[0m\u001b[0mkwds\u001b[0m\u001b[0;34m)\u001b[0m\u001b[0;34m\u001b[0m\u001b[0;34m\u001b[0m\u001b[0m\n\u001b[0m\u001b[1;32m    916\u001b[0m \u001b[0;34m\u001b[0m\u001b[0m\n\u001b[1;32m    917\u001b[0m       \u001b[0mnew_tracing_count\u001b[0m \u001b[0;34m=\u001b[0m \u001b[0mself\u001b[0m\u001b[0;34m.\u001b[0m\u001b[0mexperimental_get_tracing_count\u001b[0m\u001b[0;34m(\u001b[0m\u001b[0;34m)\u001b[0m\u001b[0;34m\u001b[0m\u001b[0;34m\u001b[0m\u001b[0m\n",
            "\u001b[0;32m/usr/local/lib/python3.7/dist-packages/tensorflow/python/eager/def_function.py\u001b[0m in \u001b[0;36m_call\u001b[0;34m(self, *args, **kwds)\u001b[0m\n\u001b[1;32m    945\u001b[0m       \u001b[0;31m# In this case we have created variables on the first call, so we run the\u001b[0m\u001b[0;34m\u001b[0m\u001b[0;34m\u001b[0m\u001b[0;34m\u001b[0m\u001b[0m\n\u001b[1;32m    946\u001b[0m       \u001b[0;31m# defunned version which is guaranteed to never create variables.\u001b[0m\u001b[0;34m\u001b[0m\u001b[0;34m\u001b[0m\u001b[0;34m\u001b[0m\u001b[0m\n\u001b[0;32m--> 947\u001b[0;31m       \u001b[0;32mreturn\u001b[0m \u001b[0mself\u001b[0m\u001b[0;34m.\u001b[0m\u001b[0m_stateless_fn\u001b[0m\u001b[0;34m(\u001b[0m\u001b[0;34m*\u001b[0m\u001b[0margs\u001b[0m\u001b[0;34m,\u001b[0m \u001b[0;34m**\u001b[0m\u001b[0mkwds\u001b[0m\u001b[0;34m)\u001b[0m  \u001b[0;31m# pylint: disable=not-callable\u001b[0m\u001b[0;34m\u001b[0m\u001b[0;34m\u001b[0m\u001b[0m\n\u001b[0m\u001b[1;32m    948\u001b[0m     \u001b[0;32melif\u001b[0m \u001b[0mself\u001b[0m\u001b[0;34m.\u001b[0m\u001b[0m_stateful_fn\u001b[0m \u001b[0;32mis\u001b[0m \u001b[0;32mnot\u001b[0m \u001b[0;32mNone\u001b[0m\u001b[0;34m:\u001b[0m\u001b[0;34m\u001b[0m\u001b[0;34m\u001b[0m\u001b[0m\n\u001b[1;32m    949\u001b[0m       \u001b[0;31m# Release the lock early so that multiple threads can perform the call\u001b[0m\u001b[0;34m\u001b[0m\u001b[0;34m\u001b[0m\u001b[0;34m\u001b[0m\u001b[0m\n",
            "\u001b[0;32m/usr/local/lib/python3.7/dist-packages/tensorflow/python/eager/function.py\u001b[0m in \u001b[0;36m__call__\u001b[0;34m(self, *args, **kwargs)\u001b[0m\n\u001b[1;32m   2955\u001b[0m        filtered_flat_args) = self._maybe_define_function(args, kwargs)\n\u001b[1;32m   2956\u001b[0m     return graph_function._call_flat(\n\u001b[0;32m-> 2957\u001b[0;31m         filtered_flat_args, captured_inputs=graph_function.captured_inputs)  # pylint: disable=protected-access\n\u001b[0m\u001b[1;32m   2958\u001b[0m \u001b[0;34m\u001b[0m\u001b[0m\n\u001b[1;32m   2959\u001b[0m   \u001b[0;34m@\u001b[0m\u001b[0mproperty\u001b[0m\u001b[0;34m\u001b[0m\u001b[0;34m\u001b[0m\u001b[0m\n",
            "\u001b[0;32m/usr/local/lib/python3.7/dist-packages/tensorflow/python/eager/function.py\u001b[0m in \u001b[0;36m_call_flat\u001b[0;34m(self, args, captured_inputs, cancellation_manager)\u001b[0m\n\u001b[1;32m   1852\u001b[0m       \u001b[0;31m# No tape is watching; skip to running the function.\u001b[0m\u001b[0;34m\u001b[0m\u001b[0;34m\u001b[0m\u001b[0;34m\u001b[0m\u001b[0m\n\u001b[1;32m   1853\u001b[0m       return self._build_call_outputs(self._inference_function.call(\n\u001b[0;32m-> 1854\u001b[0;31m           ctx, args, cancellation_manager=cancellation_manager))\n\u001b[0m\u001b[1;32m   1855\u001b[0m     forward_backward = self._select_forward_and_backward_functions(\n\u001b[1;32m   1856\u001b[0m         \u001b[0margs\u001b[0m\u001b[0;34m,\u001b[0m\u001b[0;34m\u001b[0m\u001b[0;34m\u001b[0m\u001b[0m\n",
            "\u001b[0;32m/usr/local/lib/python3.7/dist-packages/tensorflow/python/eager/function.py\u001b[0m in \u001b[0;36mcall\u001b[0;34m(self, ctx, args, cancellation_manager)\u001b[0m\n\u001b[1;32m    502\u001b[0m               \u001b[0minputs\u001b[0m\u001b[0;34m=\u001b[0m\u001b[0margs\u001b[0m\u001b[0;34m,\u001b[0m\u001b[0;34m\u001b[0m\u001b[0;34m\u001b[0m\u001b[0m\n\u001b[1;32m    503\u001b[0m               \u001b[0mattrs\u001b[0m\u001b[0;34m=\u001b[0m\u001b[0mattrs\u001b[0m\u001b[0;34m,\u001b[0m\u001b[0;34m\u001b[0m\u001b[0;34m\u001b[0m\u001b[0m\n\u001b[0;32m--> 504\u001b[0;31m               ctx=ctx)\n\u001b[0m\u001b[1;32m    505\u001b[0m         \u001b[0;32melse\u001b[0m\u001b[0;34m:\u001b[0m\u001b[0;34m\u001b[0m\u001b[0;34m\u001b[0m\u001b[0m\n\u001b[1;32m    506\u001b[0m           outputs = execute.execute_with_cancellation(\n",
            "\u001b[0;32m/usr/local/lib/python3.7/dist-packages/tensorflow/python/eager/execute.py\u001b[0m in \u001b[0;36mquick_execute\u001b[0;34m(op_name, num_outputs, inputs, attrs, ctx, name)\u001b[0m\n\u001b[1;32m     53\u001b[0m     \u001b[0mctx\u001b[0m\u001b[0;34m.\u001b[0m\u001b[0mensure_initialized\u001b[0m\u001b[0;34m(\u001b[0m\u001b[0;34m)\u001b[0m\u001b[0;34m\u001b[0m\u001b[0;34m\u001b[0m\u001b[0m\n\u001b[1;32m     54\u001b[0m     tensors = pywrap_tfe.TFE_Py_Execute(ctx._handle, device_name, op_name,\n\u001b[0;32m---> 55\u001b[0;31m                                         inputs, attrs, num_outputs)\n\u001b[0m\u001b[1;32m     56\u001b[0m   \u001b[0;32mexcept\u001b[0m \u001b[0mcore\u001b[0m\u001b[0;34m.\u001b[0m\u001b[0m_NotOkStatusException\u001b[0m \u001b[0;32mas\u001b[0m \u001b[0me\u001b[0m\u001b[0;34m:\u001b[0m\u001b[0;34m\u001b[0m\u001b[0;34m\u001b[0m\u001b[0m\n\u001b[1;32m     57\u001b[0m     \u001b[0;32mif\u001b[0m \u001b[0mname\u001b[0m \u001b[0;32mis\u001b[0m \u001b[0;32mnot\u001b[0m \u001b[0;32mNone\u001b[0m\u001b[0;34m:\u001b[0m\u001b[0;34m\u001b[0m\u001b[0;34m\u001b[0m\u001b[0m\n",
            "\u001b[0;31mKeyboardInterrupt\u001b[0m: "
          ]
        }
      ]
    },
    {
      "cell_type": "code",
      "source": [
        "# note: the above was deliberately interrupted to halt the param search"
      ],
      "metadata": {
        "id": "VodBvs_YPwIk"
      },
      "execution_count": null,
      "outputs": []
    },
    {
      "cell_type": "markdown",
      "metadata": {
        "id": "wHLVHholEhed"
      },
      "source": [
        "#  Debugging strategies\n",
        "\n",
        "When model performance is poor, it can often be difficult to determine if there was a bug in the code itself, or there was improper construction of the model. Similarly, unrealistically high performance may also indicate an error in the code or model setup that should be addressed. Further complementing this difficulty, machine learning models can be adaptive, meaning they can achieve reasonable performance even when one component of the model is broken. For these reasons, debugging strategies for neural networks typically either use a very simplified test case (where the outcome could be easily determined and verified), or test each of the individual components in isolation.\n",
        "\n",
        "These are important tasks to consider when debugging a neural network model:\n",
        "\n",
        "- **Visualize the model output:** Select a random subset of model predictions and manually examine for accuracy. If possible, identify where the model misclassified inputs and examine if this was due to a systematic error.\n",
        "- **Fit a small and/or well-characterized dataset:** If model performance is difference than that expected, it's possible a software or implementation issue is the cause. It's often useful to use a simplified implementation of your model to verify that results match your expectation."
      ]
    },
    {
      "cell_type": "markdown",
      "metadata": {
        "id": "-ES31-wSsLrN"
      },
      "source": [
        "# References\n",
        "\n",
        "Géron, A. (2017). Chapter 11: Training Deep Neural Nets in Hands-On Machine Learning with Scikit-Learn and TensorFlow O’Reilly Media http://shop.oreilly.com/product/0636920052289.do![image.png](attachment:image.png)\n",
        "\n",
        "TensorFlow documentation and tutorials: https://www.tensorflow.org/tutorials\n",
        "\n",
        "Keras documentation and tutorials: https://keras.io/\n",
        "\n",
        "Scikit-learn: https://scikit-learn.org/"
      ]
    },
    {
      "cell_type": "code",
      "metadata": {
        "id": "5CpWVKaiiVKQ"
      },
      "source": [],
      "execution_count": null,
      "outputs": []
    }
  ]
}