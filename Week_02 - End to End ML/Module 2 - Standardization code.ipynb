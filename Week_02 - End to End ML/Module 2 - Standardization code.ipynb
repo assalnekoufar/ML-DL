{
  "nbformat": 4,
  "nbformat_minor": 0,
  "metadata": {
    "colab": {
      "name": "Module 2 - Standardization code.ipynb",
      "provenance": []
    },
    "kernelspec": {
      "name": "python3",
      "display_name": "Python 3"
    }
  },
  "cells": [
    {
      "cell_type": "markdown",
      "metadata": {
        "id": "Fvs3HlTqCI3s"
      },
      "source": [
        "## In this code, we explore normalizationa nd standadization techniques in Python"
      ]
    },
    {
      "cell_type": "markdown",
      "metadata": {
        "id": "mGBFAQ7GCZEG"
      },
      "source": [
        "# Mix-Max Normalization"
      ]
    },
    {
      "cell_type": "code",
      "metadata": {
        "id": "rD3dgAEf9pJx",
        "outputId": "f00a35a2-d774-4292-de3a-7301f4ae3c24",
        "colab": {
          "base_uri": "https://localhost:8080/"
        }
      },
      "source": [
        "# Lerts assume here is our dataset\n",
        "x = [[0],[50],[100]]\n",
        "x"
      ],
      "execution_count": 1,
      "outputs": [
        {
          "output_type": "execute_result",
          "data": {
            "text/plain": [
              "[[0], [50], [100]]"
            ]
          },
          "metadata": {},
          "execution_count": 1
        }
      ]
    },
    {
      "cell_type": "code",
      "metadata": {
        "id": "_URBfbFT9q3K",
        "outputId": "baf29b81-5f12-440a-87c6-c83ad58a3b4c",
        "colab": {
          "base_uri": "https://localhost:8080/"
        }
      },
      "source": [
        "#import MinMaxscaler\n",
        "from sklearn.preprocessing import MinMaxScaler\n",
        "\n",
        "#create scaler object\n",
        "scaler = MinMaxScaler()\n",
        "\n",
        "# fit scaler object\n",
        "scaler.fit(x)\n",
        "\n",
        "#now, we can transform x using the trained/fitted scaler\n",
        "x_scaled = scaler.transform(x)\n",
        "print(x_scaled)"
      ],
      "execution_count": 2,
      "outputs": [
        {
          "output_type": "stream",
          "name": "stdout",
          "text": [
            "[[0. ]\n",
            " [0.5]\n",
            " [1. ]]\n"
          ]
        }
      ]
    },
    {
      "cell_type": "markdown",
      "metadata": {
        "id": "_RmNDGljCgHg"
      },
      "source": [
        "# Standardization or Standard Scaling"
      ]
    },
    {
      "cell_type": "code",
      "metadata": {
        "id": "PfCD8ki69xu6",
        "outputId": "fbb388e0-dc99-4d18-929d-5173c43ec9ed",
        "colab": {
          "base_uri": "https://localhost:8080/"
        }
      },
      "source": [
        "# Assume x is our data\n",
        "x = [[0],[50],[100]]\n",
        "x"
      ],
      "execution_count": 3,
      "outputs": [
        {
          "output_type": "execute_result",
          "data": {
            "text/plain": [
              "[[0], [50], [100]]"
            ]
          },
          "metadata": {},
          "execution_count": 3
        }
      ]
    },
    {
      "cell_type": "code",
      "metadata": {
        "id": "x3H1NPsc99sg",
        "outputId": "8b452382-899e-476f-fb2e-28ea5d9c2ba5",
        "colab": {
          "base_uri": "https://localhost:8080/"
        }
      },
      "source": [
        "# import StandardScaler\n",
        "from sklearn.preprocessing import StandardScaler\n",
        "\n",
        "# create StandardScaler as standardscaler object\n",
        "StandardScaler = StandardScaler()\n",
        "\n",
        "# fit_transform newly created StandardScaler object using our dataset\n",
        "x_ss = StandardScaler.fit_transform(x)\n",
        "x_ss"
      ],
      "execution_count": 4,
      "outputs": [
        {
          "output_type": "execute_result",
          "data": {
            "text/plain": [
              "array([[-1.22474487],\n",
              "       [ 0.        ],\n",
              "       [ 1.22474487]])"
            ]
          },
          "metadata": {},
          "execution_count": 4
        }
      ]
    },
    {
      "cell_type": "code",
      "metadata": {
        "id": "j9s9h8w9-qlt",
        "outputId": "48b69124-5bcf-4468-e838-50a7ffba37a0",
        "colab": {
          "base_uri": "https://localhost:8080/"
        }
      },
      "source": [
        "#lets verify if promise of standard scaling is fulfilled.\n",
        "# Scaled dataset should have mean of 0 and sd of 1\n",
        "import numpy as np\n",
        "print(\"mean is:\", np.mean(x_ss), \"and sd is:\", np.std(x_ss))\n"
      ],
      "execution_count": 5,
      "outputs": [
        {
          "output_type": "stream",
          "name": "stdout",
          "text": [
            "mean is: 0.0 and sd is: 0.9999999999999999\n"
          ]
        }
      ]
    },
    {
      "cell_type": "code",
      "metadata": {
        "id": "4DpnAIxaAa93"
      },
      "source": [],
      "execution_count": null,
      "outputs": []
    }
  ]
}